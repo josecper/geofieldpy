{
 "cells": [
  {
   "cell_type": "code",
   "execution_count": 1,
   "metadata": {
    "collapsed": false
   },
   "outputs": [],
   "source": [
    "import numpy\n",
    "import scipy\n",
    "import geofield\n",
    "import xyzfield\n",
    "from xyzfield import xyzfieldv,xyzplot\n",
    "from matplotlib import pyplot"
   ]
  },
  {
   "cell_type": "code",
   "execution_count": 3,
   "metadata": {
    "collapsed": false
   },
   "outputs": [],
   "source": [
    "chaos=geofield.ChaosData(\"../data/CHAOS5X/gauss_coeff_chaos5x.dat\")"
   ]
  },
  {
   "cell_type": "code",
   "execution_count": null,
   "metadata": {
    "collapsed": false
   },
   "outputs": [],
   "source": [
    "sw=geofield.SwarmData(\"../data/SW_OPER_MCO_SHA_2F_20131107T000000_20150611T000000_0101.DBL\")"
   ]
  },
  {
   "cell_type": "code",
   "execution_count": null,
   "metadata": {
    "collapsed": false
   },
   "outputs": [],
   "source": [
    "sw.g[0,:,:].shape"
   ]
  },
  {
   "cell_type": "code",
   "execution_count": 5,
   "metadata": {
    "collapsed": true
   },
   "outputs": [],
   "source": [
    "t=scipy.linspace(1997.0,2016.0,250)"
   ]
  },
  {
   "cell_type": "code",
   "execution_count": null,
   "metadata": {
    "collapsed": false
   },
   "outputs": [],
   "source": [
    "phiv=scipy.linspace(-scipy.pi,scipy.pi,150);thetav=scipy.linspace(0.01,scipy.pi-0.01,150)"
   ]
  },
  {
   "cell_type": "code",
   "execution_count": null,
   "metadata": {
    "collapsed": true
   },
   "outputs": [],
   "source": [
    "pyplot.close(\"all\")"
   ]
  },
  {
   "cell_type": "code",
   "execution_count": null,
   "metadata": {
    "collapsed": false
   },
   "outputs": [],
   "source": [
    "vtimes,secular=chaos.secularvariation(t,interval=0.5,phiv=phiv,thetav=thetav,rparam=1.0)"
   ]
  },
  {
   "cell_type": "code",
   "execution_count": null,
   "metadata": {
    "collapsed": false
   },
   "outputs": [],
   "source": [
    "secular.shape"
   ]
  },
  {
   "cell_type": "code",
   "execution_count": null,
   "metadata": {
    "collapsed": false
   },
   "outputs": [],
   "source": [
    "#todo lo rede sosiale\n",
    "for time,i in zip(vtimes,range(secular.shape[0])):\n",
    "    f=xyzfield.xyzcontour(thetav, phiv,\n",
    "                          secular[i,0,:,:],secular[i,1,:,:],secular[i,2,:,:],\n",
    "                          vmin=-150,vmax=150,\n",
    "                          time=time,\n",
    "                          string=\"d{0}/dt at {1} (Earth Surface)\")\n",
    "    f.savefig(\"sec_frame{0:03d}.png\".format(i), format=\"png\")\n",
    "    pyplot.close(f)"
   ]
  },
  {
   "cell_type": "code",
   "execution_count": null,
   "metadata": {
    "collapsed": false
   },
   "outputs": [],
   "source": [
    "vtimes,acc=chaos.secularacceleration(t,interval=0.5,phiv=phiv,thetav=thetav,rparam=1.0)"
   ]
  },
  {
   "cell_type": "code",
   "execution_count": null,
   "metadata": {
    "collapsed": false
   },
   "outputs": [],
   "source": [
    "#todo lo rede sosiale\n",
    "for time,i in zip(vtimes,range(acc.shape[0])):\n",
    "    f=xyzfield.xyzcontour(thetav, phiv,\n",
    "                          acc[i,0,:,:],acc[i,1,:,:],acc[i,2,:,:],\n",
    "                          vmin=-15,vmax=15,\n",
    "                          time=time,\n",
    "                          string=\"d²{0}/dt² at {1} (Earth Surface)\")\n",
    "    f.savefig(\"acc_frame{0:03d}.png\".format(i), format=\"png\")\n",
    "    pyplot.close(f)"
   ]
  },
  {
   "cell_type": "code",
   "execution_count": null,
   "metadata": {
    "collapsed": false
   },
   "outputs": [],
   "source": [
    "i=1; f=xyzfield.xyzcontour(thetav, phiv,\n",
    "                          secular[i,0,:,:],secular[i,1,:,:],secular[i,2,:,:],\n",
    "                          vmin=-100,vmax=100,\n",
    "                          time=t[1],\n",
    "                          string=\"d{0}/dt at {1}\")\n",
    "pyplot.show(f)"
   ]
  },
  {
   "cell_type": "code",
   "execution_count": null,
   "metadata": {
    "collapsed": false
   },
   "outputs": [],
   "source": [
    "# j e r k 2 0 1 4\n",
    "thetav=numpy.array([numpy.deg2rad(90-40.96)])\n",
    "phiv=numpy.array([numpy.deg2rad(-0.333)])\n",
    "\n",
    "vtimes,secular=chaos.secularvariation(t,interval=0.5,phiv=phiv,thetav=thetav)\n",
    "\n",
    "pl=pyplot.plot(vtimes,secular[:,1],\"k\")\n",
    "\n",
    "pyplot.gca().get_xaxis().get_major_formatter().set_useOffset(False)\n",
    "pyplot.ylabel(\"dY/dt (nT/yr)\")\n",
    "pyplot.show()"
   ]
  },
  {
   "cell_type": "code",
   "execution_count": null,
   "metadata": {
    "collapsed": true
   },
   "outputs": [],
   "source": [
    "# j e r k 2 0 1 4 a c c e l e r a t i o n\n",
    "thetav=numpy.array([numpy.deg2rad(90-40.96)])\n",
    "phiv=numpy.array([numpy.deg2rad(-0.333)])\n",
    "\n",
    "vtimes,acc=chaos.secularacceleration(t,interval=0.5,phiv=phiv,thetav=thetav)\n",
    "\n",
    "pl=pyplot.plot(vtimes,acc[:,1],\"r\")\n",
    "pyplot.gca().get_xaxis().get_major_formatter().set_useOffset(False)\n",
    "pyplot.ylabel(\"dY/dt (nT/yr)\")\n",
    "pyplot.show()"
   ]
  },
  {
   "cell_type": "code",
   "execution_count": 6,
   "metadata": {
    "collapsed": false
   },
   "outputs": [],
   "source": [
    "# j e r k ~ ~ p l o t\n",
    "\n",
    "thetav=numpy.array([numpy.deg2rad(90-40.96)])\n",
    "phiv=numpy.array([numpy.deg2rad(-0.333)])\n",
    "\n",
    "vtimes,secular=chaos.secularvariation(t,interval=0.5,phiv=phiv,thetav=thetav)\n",
    "vtimes,acc=chaos.secularacceleration(t,interval=0.5,phiv=phiv,thetav=thetav)\n",
    "\n",
    "fig, ax1 = pyplot.subplots()\n",
    "ax1.plot(vtimes,secular[:,1],\"k\")\n",
    "ax1.get_xaxis().get_major_formatter().set_useOffset(False)\n",
    "ax1.set_ylabel(\"Secular Variation (nT/yr)\")\n",
    "ax1.set_xbound(lower=vtimes[0],upper=vtimes[-1])\n",
    "\n",
    "ax2=ax1.twinx()\n",
    "ax2.plot(vtimes,acc[:,1],\"r\")\n",
    "ax2.hold(True)\n",
    "ax2.plot((2014.0, 2014.0), (10, -10), 'g--')\n",
    "ax2.hold(False)\n",
    "ax2.set_ylabel('Secular Acceleration (nT/yr²)', color='r')\n",
    "ax2.set_xbound(lower=vtimes[0],upper=vtimes[-1])\n",
    "ymax=numpy.max(numpy.abs(acc[:,1]))*1.25\n",
    "ax2.set_ybound(lower=-ymax, upper=ymax)\n",
    "\n",
    "pyplot.show(fig)\n",
    "pyplot.close(fig)\n"
   ]
  },
  {
   "cell_type": "code",
   "execution_count": null,
   "metadata": {
    "collapsed": false
   },
   "outputs": [],
   "source": [
    "# T U P P E R W A R E ' 9 5"
   ]
  },
  {
   "cell_type": "code",
   "execution_count": null,
   "metadata": {
    "collapsed": false
   },
   "outputs": [],
   "source": [
    "vtimes,accs=sw.secularacceleration(t,phiv=phiv,thetav=thetav)"
   ]
  },
  {
   "cell_type": "code",
   "execution_count": null,
   "metadata": {
    "collapsed": false
   },
   "outputs": [],
   "source": [
    "pyplot.show(xyzfield.xyzcontour(thetav,phiv,accs[-1,0,:,:],accs[-1,1,:,:],accs[-1,2,:,:]))"
   ]
  },
  {
   "cell_type": "code",
   "execution_count": null,
   "metadata": {
    "collapsed": false
   },
   "outputs": [],
   "source": [
    "#secular[:,1,20,50]"
   ]
  },
  {
   "cell_type": "code",
   "execution_count": null,
   "metadata": {
    "collapsed": false
   },
   "outputs": [],
   "source": [
    "vtimes,secular=sw.secularvariation(t,interval=0.5,phiv=phiv,thetav=thetav)\n",
    "#pyplot.show(xyzplot(thetav,phiv,secular[2,0,:,:],secular[2,1,:,:],secular[2,2,:,:],vmin=40,vmax=60))\n",
    "pyplot.show(xyzfield.xyzcontour(thetav,phiv,secular[2,0,:,:],secular[2,1,:,:],secular[2,2,:,:], units=\"nT/yr\", string=\"d{0}/dt at {1}\",time=2014.3))"
   ]
  },
  {
   "cell_type": "code",
   "execution_count": null,
   "metadata": {
    "collapsed": true
   },
   "outputs": [],
   "source": [
    "pyplot.show(xyzplot(thetav,phiv,secular[2,0,:,:],secular[2,1,:,:],secular[2,2,:,:],vmin=-80,vmax=80))"
   ]
  },
  {
   "cell_type": "code",
   "execution_count": null,
   "metadata": {
    "collapsed": false
   },
   "outputs": [],
   "source": [
    "for i in range(secular.shape[0]):\n",
    "    f=xyzplot(thetav,phiv,secular[i,0,:,:],secular[i,1,:,:],secular[i,2,:,:],vmin=40,vmax=60)\n",
    "    f.savefig(\"sec_frame{0:03d}.png\".format(i), format=\"png\")\n",
    "    "
   ]
  },
  {
   "cell_type": "code",
   "execution_count": null,
   "metadata": {
    "collapsed": false,
    "scrolled": true
   },
   "outputs": [],
   "source": [
    "ll=numpy.array([geofield.locationfield(40.96,-0.333,secular[i,0,:,:],secular[i,1,:,:],secular[i,2,:,:],phiv,thetav) for i in range(len(vtimes))])\n",
    "pl=pyplot.plot(vtimes,ll[:,1],\"k\")\n",
    "pyplot.gca().get_xaxis().get_major_formatter().set_useOffset(False)\n",
    "pyplot.show()"
   ]
  },
  {
   "cell_type": "code",
   "execution_count": null,
   "metadata": {
    "collapsed": false
   },
   "outputs": [],
   "source": [
    "ll[:,1]"
   ]
  },
  {
   "cell_type": "code",
   "execution_count": null,
   "metadata": {
    "collapsed": false
   },
   "outputs": [],
   "source": [
    "geofield.locationfield(40.96,-0.333,secular[0,0,:,:],secular[0,1,:,:],secular[0,2,:,:],phiv,thetav)"
   ]
  },
  {
   "cell_type": "code",
   "execution_count": null,
   "metadata": {
    "collapsed": false,
    "scrolled": true
   },
   "outputs": [],
   "source": [
    "#secular.shape"
   ]
  },
  {
   "cell_type": "code",
   "execution_count": null,
   "metadata": {
    "collapsed": false
   },
   "outputs": [],
   "source": [
    "chaos.years[-1]"
   ]
  },
  {
   "cell_type": "code",
   "execution_count": null,
   "metadata": {
    "collapsed": false
   },
   "outputs": [],
   "source": [
    "#secular[4,0,:,:]-secular[1,0,:,:]\n"
   ]
  },
  {
   "cell_type": "code",
   "execution_count": null,
   "metadata": {
    "collapsed": true
   },
   "outputs": [],
   "source": [
    "phiv=scipy.linspace(scipy.deg2rad(-180),scipy.deg2rad(180),100)\n",
    "thetav=scipy.linspace(0.01,scipy.pi-0.01,100)"
   ]
  },
  {
   "cell_type": "code",
   "execution_count": 3,
   "metadata": {
    "collapsed": true
   },
   "outputs": [],
   "source": [
    "import fibonacci_sphere\n",
    "thetav,phiv = fibonacci_sphere.grid(40000)"
   ]
  },
  {
   "cell_type": "code",
   "execution_count": 4,
   "metadata": {
    "collapsed": false
   },
   "outputs": [],
   "source": [
    "x,y,z=xyzfieldv(chaos.g[-1,:,:],chaos.h[-1,:,:],phiv,thetav,rparam=(6371/(6371-2880)),regular=False)"
   ]
  },
  {
   "cell_type": "code",
   "execution_count": null,
   "metadata": {
    "collapsed": false
   },
   "outputs": [],
   "source": [
    "phi=scipy.linspace(scipy.deg2rad(-180),scipy.deg2rad(180),200)\n",
    "theta=scipy.linspace(0.01,scipy.pi-0.01,200)\n",
    "\n",
    "thetag,phig=scipy.meshgrid(theta,phi)\n",
    "\n",
    "x=scipy.interpolate.griddata((thetav,phiv),x,(thetag,phig),method=\"nearest\")\n",
    "y=scipy.interpolate.griddata((thetav,phiv),y,(thetag,phig),method=\"nearest\")\n",
    "z=scipy.interpolate.griddata((thetav,phiv),z,(thetag,phig),method=\"nearest\")\n"
   ]
  },
  {
   "cell_type": "code",
   "execution_count": 6,
   "metadata": {
    "collapsed": false
   },
   "outputs": [
    {
     "name": "stderr",
     "output_type": "stream",
     "text": [
      "/usr/lib/python3.5/site-packages/mpl_toolkits/basemap/__init__.py:3644: VisibleDeprecationWarning: using a non-integer number instead of an integer will result in an error in the future\n",
      "  xx = x[x.shape[0]/2,:]\n"
     ]
    }
   ],
   "source": [
    "pyplot.show(xyzfield.xyzcontour(thetav,phiv,x,y,z,regular=False))"
   ]
  },
  {
   "cell_type": "code",
   "execution_count": null,
   "metadata": {
    "collapsed": false
   },
   "outputs": [],
   "source": [
    "pyplot.show(xyzfield.xyzcontour(thetav,phiv,x,y,z,string=\"{0} at {1}\", time=2015.6))"
   ]
  },
  {
   "cell_type": "code",
   "execution_count": null,
   "metadata": {
    "collapsed": false
   },
   "outputs": [],
   "source": [
    "pyplot.show(xyzfield.xyzcontour(thetav,phiv,acc[0,0,:,:],acc[0,1,:,:],acc[0,2,:,:],string=\"{0} at {1}\", time=chaos.years[0]))"
   ]
  },
  {
   "cell_type": "code",
   "execution_count": null,
   "metadata": {
    "collapsed": false
   },
   "outputs": [],
   "source": [
    "geofield.locationfield(2.9,196.7,x,y,z,phiv,thetav)"
   ]
  }
 ],
 "metadata": {
  "kernelspec": {
   "display_name": "Python 3",
   "language": "python",
   "name": "python3"
  },
  "language_info": {
   "codemirror_mode": {
    "name": "ipython",
    "version": 3
   },
   "file_extension": ".py",
   "mimetype": "text/x-python",
   "name": "python",
   "nbconvert_exporter": "python",
   "pygments_lexer": "ipython3",
   "version": "3.5.1"
  }
 },
 "nbformat": 4,
 "nbformat_minor": 0
}
