{
 "cells": [
  {
   "cell_type": "code",
   "execution_count": 1,
   "metadata": {
    "collapsed": true
   },
   "outputs": [],
   "source": [
    "import numpy"
   ]
  },
  {
   "cell_type": "code",
   "execution_count": 2,
   "metadata": {
    "collapsed": true
   },
   "outputs": [],
   "source": [
    "a=numpy.linspace(0,100,100)"
   ]
  },
  {
   "cell_type": "code",
   "execution_count": 3,
   "metadata": {
    "collapsed": true
   },
   "outputs": [],
   "source": [
    "import geofield"
   ]
  },
  {
   "cell_type": "code",
   "execution_count": 4,
   "metadata": {
    "collapsed": false
   },
   "outputs": [
    {
     "data": {
      "text/plain": [
       "<module 'geofield' from '/home/josecper/Programs/python/geofield.py'>"
      ]
     },
     "execution_count": 4,
     "metadata": {},
     "output_type": "execute_result"
    }
   ],
   "source": [
    "geofield"
   ]
  },
  {
   "cell_type": "code",
   "execution_count": 5,
   "metadata": {
    "collapsed": true
   },
   "outputs": [],
   "source": [
    "sw=geofield.SwarmData(\"../data/SW_OPER_MCO_SHA_2F_20131107T000000_20150611T000000_0101.DBL\")"
   ]
  },
  {
   "cell_type": "code",
   "execution_count": 6,
   "metadata": {
    "collapsed": false
   },
   "outputs": [
    {
     "data": {
      "text/plain": [
       "<geofield.SwarmData at 0x7fdce069c860>"
      ]
     },
     "execution_count": 6,
     "metadata": {},
     "output_type": "execute_result"
    }
   ],
   "source": [
    "sw"
   ]
  },
  {
   "cell_type": "code",
   "execution_count": 7,
   "metadata": {
    "collapsed": false
   },
   "outputs": [
    {
     "data": {
      "text/plain": [
       "[2013.0,\n",
       " 2013.1,\n",
       " 2013.2,\n",
       " 2013.3,\n",
       " 2013.4,\n",
       " 2013.5,\n",
       " 2013.6,\n",
       " 2013.7,\n",
       " 2013.8,\n",
       " 2013.9,\n",
       " 2014.0,\n",
       " 2014.1,\n",
       " 2014.2,\n",
       " 2014.3,\n",
       " 2014.4,\n",
       " 2014.5,\n",
       " 2014.6,\n",
       " 2014.7,\n",
       " 2014.8,\n",
       " 2014.9,\n",
       " 2015.0,\n",
       " 2015.1,\n",
       " 2015.2,\n",
       " 2015.3,\n",
       " 2015.4,\n",
       " 2015.5,\n",
       " 2015.6,\n",
       " 2015.7,\n",
       " 2015.8,\n",
       " 2015.9,\n",
       " 2016.0]"
      ]
     },
     "execution_count": 7,
     "metadata": {},
     "output_type": "execute_result"
    }
   ],
   "source": [
    "sw.years"
   ]
  },
  {
   "cell_type": "code",
   "execution_count": 8,
   "metadata": {
    "collapsed": true
   },
   "outputs": [],
   "source": [
    "import scipy"
   ]
  },
  {
   "cell_type": "code",
   "execution_count": 9,
   "metadata": {
    "collapsed": true
   },
   "outputs": [],
   "source": [
    "t=scipy.linspace(2013.8,2015.1,5)"
   ]
  },
  {
   "cell_type": "code",
   "execution_count": 10,
   "metadata": {
    "collapsed": false
   },
   "outputs": [
    {
     "data": {
      "text/plain": [
       "array([ 2013.8  ,  2014.125,  2014.45 ,  2014.775,  2015.1  ])"
      ]
     },
     "execution_count": 10,
     "metadata": {},
     "output_type": "execute_result"
    }
   ],
   "source": [
    "t"
   ]
  },
  {
   "cell_type": "code",
   "execution_count": 11,
   "metadata": {
    "collapsed": true
   },
   "outputs": [],
   "source": [
    "phiv=scipy.linspace(0,scipy.pi*2,200);thetav=scipy.linspace(0.01,scipy.pi-0.01,200)"
   ]
  },
  {
   "cell_type": "code",
   "execution_count": 12,
   "metadata": {
    "collapsed": false
   },
   "outputs": [],
   "source": [
    "secular=sw.secularvariation(t,interval=0.5,phiv=phiv,thetav=thetav)"
   ]
  },
  {
   "cell_type": "code",
   "execution_count": 13,
   "metadata": {
    "collapsed": false
   },
   "outputs": [
    {
     "data": {
      "text/plain": [
       "(5, 3, 200, 200)"
      ]
     },
     "execution_count": 13,
     "metadata": {},
     "output_type": "execute_result"
    }
   ],
   "source": [
    "secular.shape"
   ]
  },
  {
   "cell_type": "code",
   "execution_count": 14,
   "metadata": {
    "collapsed": false
   },
   "outputs": [
    {
     "data": {
      "text/plain": [
       "array([-63.33131352, -63.3144982 , -63.29612164, -63.27529077, -63.25215355])"
      ]
     },
     "execution_count": 14,
     "metadata": {},
     "output_type": "execute_result"
    }
   ],
   "source": [
    "secular[:,1,20,50]"
   ]
  },
  {
   "cell_type": "code",
   "execution_count": 15,
   "metadata": {
    "collapsed": false
   },
   "outputs": [],
   "source": [
    "from matplotlib import pyplot"
   ]
  },
  {
   "cell_type": "code",
   "execution_count": 16,
   "metadata": {
    "collapsed": true
   },
   "outputs": [],
   "source": [
    "from xyzfield import xyzplot"
   ]
  },
  {
   "cell_type": "code",
   "execution_count": 17,
   "metadata": {
    "collapsed": false
   },
   "outputs": [],
   "source": [
    "#pyplot.show(xyzplot(thetav,phiv,secular[2,0,:,:],secular[2,1,:,:],secular[2,2,:,:],vmin=-80,vmax=80))"
   ]
  },
  {
   "cell_type": "code",
   "execution_count": 18,
   "metadata": {
    "collapsed": false
   },
   "outputs": [],
   "source": [
    "for i in range(secular.shape[0]):\n",
    "    f=xyzplot(thetav,phiv,secular[i,0,:,:],secular[i,1,:,:],secular[i,2,:,:],vmin=-80,vmax=80)\n",
    "    f.savefig(\"sec_frame{0:03d}.png\".format(i), format=\"png\")\n",
    "    "
   ]
  },
  {
   "cell_type": "code",
   "execution_count": 25,
   "metadata": {
    "collapsed": false,
    "scrolled": false
   },
   "outputs": [
    {
     "data": {
      "text/plain": [
       "array([[-12.20398976],\n",
       "       [ 18.0524319 ],\n",
       "       [  4.84882417]])"
      ]
     },
     "execution_count": 25,
     "metadata": {},
     "output_type": "execute_result"
    }
   ],
   "source": [
    "geofield.locationfield(40.96,-0.333,secular[2,0,:,:],secular[2,1,:,:],secular[2,2,:,:],phiv,thetav)"
   ]
  },
  {
   "cell_type": "code",
   "execution_count": 20,
   "metadata": {
    "collapsed": false,
    "scrolled": true
   },
   "outputs": [
    {
     "data": {
      "text/plain": [
       "(5, 3, 200, 200)"
      ]
     },
     "execution_count": 20,
     "metadata": {},
     "output_type": "execute_result"
    }
   ],
   "source": [
    "secular.shape"
   ]
  },
  {
   "cell_type": "code",
   "execution_count": 21,
   "metadata": {
    "collapsed": false
   },
   "outputs": [
    {
     "data": {
      "text/plain": [
       "array([[ 0.90805393,  0.92811058,  0.94783047, ..., -0.2676281 ,\n",
       "        -0.2675886 , -0.26795785],\n",
       "       [ 0.93178488,  0.95160569,  0.97109245, ..., -0.28569311,\n",
       "        -0.28608842, -0.28690543],\n",
       "       [ 0.95459702,  0.97417757,  0.99342665, ..., -0.3035127 ,\n",
       "        -0.30432809, -0.30557697],\n",
       "       ..., \n",
       "       [ 0.85792937,  0.87844104,  0.89861056, ..., -0.23082104,\n",
       "        -0.22987397, -0.22930696],\n",
       "       [ 0.88342738,  0.9037146 ,  0.92366232, ..., -0.24933244,\n",
       "        -0.24884494, -0.24875228],\n",
       "       [ 0.90805393,  0.92811058,  0.94783047, ..., -0.2676281 ,\n",
       "        -0.2675886 , -0.26795785]])"
      ]
     },
     "execution_count": 21,
     "metadata": {},
     "output_type": "execute_result"
    }
   ],
   "source": [
    "secular[4,0,:,:]-secular[1,0,:,:]"
   ]
  },
  {
   "cell_type": "code",
   "execution_count": 22,
   "metadata": {
    "collapsed": true
   },
   "outputs": [],
   "source": [
    "from xyzfield import xyzfieldv"
   ]
  },
  {
   "cell_type": "code",
   "execution_count": 23,
   "metadata": {
    "collapsed": false
   },
   "outputs": [],
   "source": [
    "x,y,z=xyzfieldv(sw.g[1,:,:],sw.h[1,:,:],phiv,thetav)"
   ]
  },
  {
   "cell_type": "code",
   "execution_count": 24,
   "metadata": {
    "collapsed": false
   },
   "outputs": [
    {
     "data": {
      "text/plain": [
       "array([[ 33725.42263358],\n",
       "       [  5647.9318155 ],\n",
       "       [ -3206.36227347]])"
      ]
     },
     "execution_count": 24,
     "metadata": {},
     "output_type": "execute_result"
    }
   ],
   "source": [
    "geofield.locationfield(40.96,0.333,x,y,z,phiv,thetav)"
   ]
  },
  {
   "cell_type": "code",
   "execution_count": null,
   "metadata": {
    "collapsed": true
   },
   "outputs": [],
   "source": []
  }
 ],
 "metadata": {
  "kernelspec": {
   "display_name": "Python 3",
   "language": "python",
   "name": "python3"
  },
  "language_info": {
   "codemirror_mode": {
    "name": "ipython",
    "version": 3
   },
   "file_extension": ".py",
   "mimetype": "text/x-python",
   "name": "python",
   "nbconvert_exporter": "python",
   "pygments_lexer": "ipython3",
   "version": "3.5.1"
  }
 },
 "nbformat": 4,
 "nbformat_minor": 0
}
