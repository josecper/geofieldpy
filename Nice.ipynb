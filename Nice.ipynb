{
 "cells": [
  {
   "cell_type": "code",
   "execution_count": 1,
   "metadata": {
    "collapsed": true
   },
   "outputs": [],
   "source": [
    "import numpy\n",
    "import scipy\n",
    "import geofield\n",
    "import xyzfield\n",
    "from xyzfield import xyzfieldv,xyzplot\n",
    "from matplotlib import pyplot"
   ]
  },
  {
   "cell_type": "code",
   "execution_count": 2,
   "metadata": {
    "collapsed": true
   },
   "outputs": [],
   "source": [
    "sw=geofield.SwarmData(\"../data/SW_OPER_MCO_SHA_2F_20131107T000000_20150611T000000_0101.DBL\")"
   ]
  },
  {
   "cell_type": "code",
   "execution_count": 3,
   "metadata": {
    "collapsed": true
   },
   "outputs": [],
   "source": [
    "t=scipy.linspace(2013.0,2016.0,10)"
   ]
  },
  {
   "cell_type": "code",
   "execution_count": 4,
   "metadata": {
    "collapsed": false
   },
   "outputs": [],
   "source": [
    "phiv=scipy.linspace(-scipy.pi,scipy.pi,100);thetav=scipy.linspace(0.01,scipy.pi-0.01,200)"
   ]
  },
  {
   "cell_type": "code",
   "execution_count": 5,
   "metadata": {
    "collapsed": false
   },
   "outputs": [],
   "source": [
    "vtimes,secular=sw.secularvariation(t,interval=0.1,phiv=phiv,thetav=thetav)"
   ]
  },
  {
   "cell_type": "code",
   "execution_count": 7,
   "metadata": {
    "collapsed": false
   },
   "outputs": [
    {
     "data": {
      "text/plain": [
       "[2013.6666666666667,\n",
       " 2014.0,\n",
       " 2014.3333333333333,\n",
       " 2014.6666666666667,\n",
       " 2015.0,\n",
       " 2015.3333333333333]"
      ]
     },
     "execution_count": 7,
     "metadata": {},
     "output_type": "execute_result"
    }
   ],
   "source": [
    "vtimes"
   ]
  },
  {
   "cell_type": "code",
   "execution_count": 5,
   "metadata": {
    "collapsed": true
   },
   "outputs": [],
   "source": [
    "vtimes,accs=sw.secularacceleration(t,phiv=phiv,thetav=thetav)"
   ]
  },
  {
   "cell_type": "code",
   "execution_count": null,
   "metadata": {
    "collapsed": false
   },
   "outputs": [],
   "source": [
    "pyplot.show(xyzfield.xyzcontour(thetav,phiv,accs[-1,0,:,:],accs[-1,1,:,:],accs[-1,2,:,:]))"
   ]
  },
  {
   "cell_type": "code",
   "execution_count": 14,
   "metadata": {
    "collapsed": false
   },
   "outputs": [],
   "source": [
    "#secular[:,1,20,50]"
   ]
  },
  {
   "cell_type": "code",
   "execution_count": 9,
   "metadata": {
    "collapsed": false
   },
   "outputs": [],
   "source": [
    "vtimes,secular=sw.secularvariation(t,interval=0.5,phiv=phiv,thetav=thetav)\n",
    "#pyplot.show(xyzplot(thetav,phiv,secular[2,0,:,:],secular[2,1,:,:],secular[2,2,:,:],vmin=40,vmax=60))\n",
    "pyplot.show(xyzfield.xyzcontour(thetav,phiv,secular[2,0,:,:],secular[2,1,:,:],secular[2,2,:,:], units=\"nT/yr\", string=\"d{0}/dt at {1}\",time=2014.3))"
   ]
  },
  {
   "cell_type": "code",
   "execution_count": 19,
   "metadata": {
    "collapsed": true
   },
   "outputs": [],
   "source": [
    "pyplot.show(xyzplot(thetav,phiv,secular[2,0,:,:],secular[2,1,:,:],secular[2,2,:,:],vmin=-80,vmax=80))"
   ]
  },
  {
   "cell_type": "code",
   "execution_count": 27,
   "metadata": {
    "collapsed": false
   },
   "outputs": [],
   "source": [
    "for i in range(secular.shape[0]):\n",
    "    f=xyzplot(thetav,phiv,secular[i,0,:,:],secular[i,1,:,:],secular[i,2,:,:],vmin=40,vmax=60)\n",
    "    f.savefig(\"sec_frame{0:03d}.png\".format(i), format=\"png\")\n",
    "    "
   ]
  },
  {
   "cell_type": "code",
   "execution_count": 14,
   "metadata": {
    "collapsed": false,
    "scrolled": true
   },
   "outputs": [],
   "source": [
    "ll=numpy.array([geofield.locationfield(40.96,-0.333,secular[i,0,:,:],secular[i,1,:,:],secular[i,2,:,:],phiv,thetav) for i in range(len(vtimes))])\n",
    "pl=pyplot.plot(vtimes,ll[:,1],\"k\")\n",
    "pyplot.gca().get_xaxis().get_major_formatter().set_useOffset(False)\n",
    "pyplot.show()"
   ]
  },
  {
   "cell_type": "code",
   "execution_count": 13,
   "metadata": {
    "collapsed": false
   },
   "outputs": [
    {
     "data": {
      "text/plain": [
       "array([[ 53.21537328],\n",
       "       [ 53.57667375],\n",
       "       [ 53.94957263],\n",
       "       [ 54.33330409],\n",
       "       [ 54.72295714],\n",
       "       [ 55.10912979],\n",
       "       [ 55.48585669],\n",
       "       [ 55.85150011]])"
      ]
     },
     "execution_count": 13,
     "metadata": {},
     "output_type": "execute_result"
    }
   ],
   "source": [
    "ll[:,1]"
   ]
  },
  {
   "cell_type": "code",
   "execution_count": 35,
   "metadata": {
    "collapsed": false
   },
   "outputs": [
    {
     "data": {
      "text/plain": [
       "array([[ 24.32065891],\n",
       "       [ 53.21789262],\n",
       "       [ 10.16761307]])"
      ]
     },
     "execution_count": 35,
     "metadata": {},
     "output_type": "execute_result"
    }
   ],
   "source": [
    "geofield.locationfield(40.96,-0.333,secular[0,0,:,:],secular[0,1,:,:],secular[0,2,:,:],phiv,thetav)"
   ]
  },
  {
   "cell_type": "code",
   "execution_count": 22,
   "metadata": {
    "collapsed": false,
    "scrolled": true
   },
   "outputs": [],
   "source": [
    "#secular.shape"
   ]
  },
  {
   "cell_type": "code",
   "execution_count": 23,
   "metadata": {
    "collapsed": false
   },
   "outputs": [],
   "source": [
    "#secular[4,0,:,:]-secular[1,0,:,:]"
   ]
  },
  {
   "cell_type": "code",
   "execution_count": 3,
   "metadata": {
    "collapsed": true
   },
   "outputs": [],
   "source": [
    "phiv=scipy.linspace(scipy.deg2rad(-180),scipy.deg2rad(180),150)\n",
    "thetav=scipy.linspace(0.01,scipy.pi-0.01,150)"
   ]
  },
  {
   "cell_type": "code",
   "execution_count": 4,
   "metadata": {
    "collapsed": false
   },
   "outputs": [],
   "source": [
    "x,y,z=xyzfieldv(sw.g[1,:,:],sw.h[1,:,:],phiv,thetav)"
   ]
  },
  {
   "cell_type": "code",
   "execution_count": 6,
   "metadata": {
    "collapsed": false
   },
   "outputs": [],
   "source": [
    "pyplot.show(xyzfield.xyzcontour(thetav,phiv,x,y,z))"
   ]
  },
  {
   "cell_type": "code",
   "execution_count": null,
   "metadata": {
    "collapsed": false
   },
   "outputs": [],
   "source": [
    "pyplot.show(xyzfield.xyzcontour(thetav,phiv,*xyzfield.xyz2dif(x,y,z,units=\"degrees\")))"
   ]
  },
  {
   "cell_type": "code",
   "execution_count": 27,
   "metadata": {
    "collapsed": false
   },
   "outputs": [
    {
     "data": {
      "text/plain": [
       "array([[ 26442.92804172],\n",
       "       [  2981.72332657],\n",
       "       [ 27358.00994828]])"
      ]
     },
     "execution_count": 27,
     "metadata": {},
     "output_type": "execute_result"
    }
   ],
   "source": [
    "geofield.locationfield(2.9,196.7,x,y,z,phiv,thetav)"
   ]
  }
 ],
 "metadata": {
  "kernelspec": {
   "display_name": "Python 3",
   "language": "python",
   "name": "python3"
  },
  "language_info": {
   "codemirror_mode": {
    "name": "ipython",
    "version": 3
   },
   "file_extension": ".py",
   "mimetype": "text/x-python",
   "name": "python",
   "nbconvert_exporter": "python",
   "pygments_lexer": "ipython3",
   "version": "3.5.1"
  }
 },
 "nbformat": 4,
 "nbformat_minor": 0
}
