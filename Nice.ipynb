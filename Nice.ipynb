{
 "cells": [
  {
   "cell_type": "code",
   "execution_count": 1,
   "metadata": {
    "collapsed": true
   },
   "outputs": [],
   "source": [
    "import numpy\n",
    "import scipy\n",
    "import geofield\n",
    "import xyzfield\n",
    "from xyzfield import xyzfieldv,xyzplot\n",
    "from matplotlib import pyplot"
   ]
  },
  {
   "cell_type": "code",
   "execution_count": 2,
   "metadata": {
    "collapsed": true
   },
   "outputs": [],
   "source": [
    "sw=geofield.SwarmData(\"../data/SW_OPER_MCO_SHA_2F_20131107T000000_20150611T000000_0101.DBL\")"
   ]
  },
  {
   "cell_type": "code",
   "execution_count": 7,
   "metadata": {
    "collapsed": true
   },
   "outputs": [],
   "source": [
    "t=scipy.linspace(2013.0,2016.0,10)"
   ]
  },
  {
   "cell_type": "code",
   "execution_count": 9,
   "metadata": {
    "collapsed": false
   },
   "outputs": [],
   "source": [
    "phiv=scipy.linspace(-scipy.pi,scipy.pi,100);thetav=scipy.linspace(0.01,scipy.pi-0.01,200)"
   ]
  },
  {
   "cell_type": "code",
   "execution_count": 10,
   "metadata": {
    "collapsed": false
   },
   "outputs": [],
   "source": [
    "vtimes,secular=sw.secularvariation(t,interval=0.5,phiv=phiv,thetav=thetav)"
   ]
  },
  {
   "cell_type": "code",
   "execution_count": 13,
   "metadata": {
    "collapsed": false
   },
   "outputs": [],
   "source": [
    "#secular.shape"
   ]
  },
  {
   "cell_type": "code",
   "execution_count": 14,
   "metadata": {
    "collapsed": false
   },
   "outputs": [],
   "source": [
    "#secular[:,1,20,50]"
   ]
  },
  {
   "cell_type": "code",
   "execution_count": 26,
   "metadata": {
    "collapsed": false
   },
   "outputs": [],
   "source": [
    "vtimes,secular=sw.secularvariation(t,interval=1.0/12.0,phiv=phiv,thetav=thetav)\n",
    "pyplot.show(xyzplot(thetav,phiv,secular[2,0,:,:],secular[2,1,:,:],secular[2,2,:,:],vmin=40,vmax=60))\n",
    "pyplot.show(xyzfield.xyzcontour(thetav,phiv,secular[2,0,:,:],secular[2,1,:,:],secular[2,2,:,:]))"
   ]
  },
  {
   "cell_type": "code",
   "execution_count": 19,
   "metadata": {
    "collapsed": true
   },
   "outputs": [],
   "source": [
    "pyplot.show(xyzplot(thetav,phiv,secular[2,0,:,:],secular[2,1,:,:],secular[2,2,:,:],vmin=-80,vmax=80))"
   ]
  },
  {
   "cell_type": "code",
   "execution_count": 27,
   "metadata": {
    "collapsed": false
   },
   "outputs": [],
   "source": [
    "for i in range(secular.shape[0]):\n",
    "    f=xyzplot(thetav,phiv,secular[i,0,:,:],secular[i,1,:,:],secular[i,2,:,:],vmin=40,vmax=60)\n",
    "    f.savefig(\"sec_frame{0:03d}.png\".format(i), format=\"png\")\n",
    "    "
   ]
  },
  {
   "cell_type": "code",
   "execution_count": 29,
   "metadata": {
    "collapsed": false,
    "scrolled": true
   },
   "outputs": [],
   "source": [
    "ll=[]\n",
    "for i in range(secular.shape[0]):\n",
    "    ll.append(geofield.locationfield(40.96,-0.333,secular[i,0,:,:],secular[i,1,:,:],secular[i,2,:,:],phiv,thetav)[1])"
   ]
  },
  {
   "cell_type": "code",
   "execution_count": 36,
   "metadata": {
    "collapsed": false
   },
   "outputs": [],
   "source": [
    "pl=pyplot.plot(vtimes,ll)\n",
    "pyplot.gca().get_xaxis().get_major_formatter().set_useOffset(False)\n",
    "pyplot.show()"
   ]
  },
  {
   "cell_type": "code",
   "execution_count": 35,
   "metadata": {
    "collapsed": false
   },
   "outputs": [
    {
     "data": {
      "text/plain": [
       "array([[ 24.32065891],\n",
       "       [ 53.21789262],\n",
       "       [ 10.16761307]])"
      ]
     },
     "execution_count": 35,
     "metadata": {},
     "output_type": "execute_result"
    }
   ],
   "source": [
    "geofield.locationfield(40.96,-0.333,secular[0,0,:,:],secular[0,1,:,:],secular[0,2,:,:],phiv,thetav)"
   ]
  },
  {
   "cell_type": "code",
   "execution_count": 22,
   "metadata": {
    "collapsed": false,
    "scrolled": true
   },
   "outputs": [],
   "source": [
    "#secular.shape"
   ]
  },
  {
   "cell_type": "code",
   "execution_count": 23,
   "metadata": {
    "collapsed": false
   },
   "outputs": [],
   "source": [
    "#secular[4,0,:,:]-secular[1,0,:,:]"
   ]
  },
  {
   "cell_type": "code",
   "execution_count": 32,
   "metadata": {
    "collapsed": true
   },
   "outputs": [],
   "source": [
    "phiv=scipy.linspace(scipy.deg2rad(-180),scipy.deg2rad(180),150)\n",
    "thetav=scipy.linspace(0.01,scipy.pi-0.01,150)"
   ]
  },
  {
   "cell_type": "code",
   "execution_count": 33,
   "metadata": {
    "collapsed": false
   },
   "outputs": [],
   "source": [
    "x,y,z=xyzfieldv(sw.g[1,:,:],sw.h[1,:,:],phiv,thetav)"
   ]
  },
  {
   "cell_type": "code",
   "execution_count": 34,
   "metadata": {
    "collapsed": false
   },
   "outputs": [],
   "source": [
    "pyplot.show(xyzfield.xyzcontour(thetav,phiv,x,y,z))"
   ]
  },
  {
   "cell_type": "code",
   "execution_count": 27,
   "metadata": {
    "collapsed": false
   },
   "outputs": [
    {
     "data": {
      "text/plain": [
       "array([[ 26442.92804172],\n",
       "       [  2981.72332657],\n",
       "       [ 27358.00994828]])"
      ]
     },
     "execution_count": 27,
     "metadata": {},
     "output_type": "execute_result"
    }
   ],
   "source": [
    "geofield.locationfield(2.9,196.7,x,y,z,phiv,thetav)"
   ]
  },
  {
   "cell_type": "code",
   "execution_count": 29,
   "metadata": {
    "collapsed": false
   },
   "outputs": [
    {
     "data": {
      "text/plain": [
       "6.0414640000000004"
      ]
     },
     "execution_count": 29,
     "metadata": {},
     "output_type": "execute_result"
    }
   ],
   "source": [
    "sw.h[0,3,7]"
   ]
  },
  {
   "cell_type": "code",
   "execution_count": 62,
   "metadata": {
    "collapsed": false
   },
   "outputs": [],
   "source": [
    "from mpl_toolkits.basemap import Basemap"
   ]
  },
  {
   "cell_type": "code",
   "execution_count": 83,
   "metadata": {
    "collapsed": false
   },
   "outputs": [],
   "source": [
    "base=Basemap(projection=\"robin\",resolution=\"l\",lon_0=0)\n",
    "xtrans=numpy.rad2deg(phiv)\n",
    "ytrans=90-numpy.rad2deg(thetav)\n",
    "xx,yy=numpy.meshgrid(xtrans,ytrans)\n",
    "base.contourf(xx,yy,z.transpose(),16,latlon=True)\n",
    "base.drawcoastlines()\n",
    "pyplot.show()"
   ]
  },
  {
   "cell_type": "code",
   "execution_count": 70,
   "metadata": {
    "collapsed": false
   },
   "outputs": [
    {
     "data": {
      "text/plain": [
       "(150,)"
      ]
     },
     "execution_count": 70,
     "metadata": {},
     "output_type": "execute_result"
    }
   ],
   "source": [
    "ytrans.shape"
   ]
  },
  {
   "cell_type": "code",
   "execution_count": 11,
   "metadata": {
    "collapsed": false
   },
   "outputs": [
    {
     "data": {
      "text/plain": [
       "41746.926695453541"
      ]
     },
     "execution_count": 11,
     "metadata": {},
     "output_type": "execute_result"
    }
   ],
   "source": [
    "numpy.max(numpy.abs(x))"
   ]
  },
  {
   "cell_type": "code",
   "execution_count": null,
   "metadata": {
    "collapsed": true
   },
   "outputs": [],
   "source": []
  }
 ],
 "metadata": {
  "kernelspec": {
   "display_name": "Python 3",
   "language": "python",
   "name": "python3"
  },
  "language_info": {
   "codemirror_mode": {
    "name": "ipython",
    "version": 3
   },
   "file_extension": ".py",
   "mimetype": "text/x-python",
   "name": "python",
   "nbconvert_exporter": "python",
   "pygments_lexer": "ipython3",
   "version": "3.5.1"
  }
 },
 "nbformat": 4,
 "nbformat_minor": 0
}
