{
 "cells": [
  {
   "cell_type": "code",
   "execution_count": 2,
   "metadata": {
    "collapsed": false
   },
   "outputs": [],
   "source": [
    "import numpy\n",
    "import scipy\n",
    "import geofield\n",
    "import xyzfield\n",
    "from xyzfield import xyzfieldv,xyzplot\n",
    "from matplotlib import pyplot"
   ]
  },
  {
   "cell_type": "code",
   "execution_count": 3,
   "metadata": {
    "collapsed": false
   },
   "outputs": [],
   "source": [
    "chaos=geofield.ChaosData(\"../data/CHAOS5X/gauss_coeff_chaos5x.dat\")"
   ]
  },
  {
   "cell_type": "code",
   "execution_count": 3,
   "metadata": {
    "collapsed": false
   },
   "outputs": [],
   "source": [
    "sw=geofield.SwarmData(\"../data/SW_OPER_MCO_SHA_2F_20131107T000000_20150611T000000_0101.DBL\")"
   ]
  },
  {
   "cell_type": "code",
   "execution_count": 7,
   "metadata": {
    "collapsed": false
   },
   "outputs": [
    {
     "data": {
      "text/plain": [
       "(21, 21)"
      ]
     },
     "execution_count": 7,
     "metadata": {},
     "output_type": "execute_result"
    }
   ],
   "source": [
    "sw.g[0,:,:].shape"
   ]
  },
  {
   "cell_type": "code",
   "execution_count": 5,
   "metadata": {
    "collapsed": true
   },
   "outputs": [],
   "source": [
    "t=scipy.linspace(1997.0,2016.0,250)"
   ]
  },
  {
   "cell_type": "code",
   "execution_count": 17,
   "metadata": {
    "collapsed": false
   },
   "outputs": [],
   "source": [
    "phiv=scipy.linspace(-scipy.pi,scipy.pi,150);thetav=scipy.linspace(0.01,scipy.pi-0.01,150)"
   ]
  },
  {
   "cell_type": "code",
   "execution_count": 41,
   "metadata": {
    "collapsed": true
   },
   "outputs": [],
   "source": [
    "pyplot.close(\"all\")"
   ]
  },
  {
   "cell_type": "code",
   "execution_count": 56,
   "metadata": {
    "collapsed": false
   },
   "outputs": [],
   "source": [
    "vtimes,secular=chaos.secularvariation(t,interval=0.5,phiv=phiv,thetav=thetav,rparam=1.0)"
   ]
  },
  {
   "cell_type": "code",
   "execution_count": 50,
   "metadata": {
    "collapsed": false
   },
   "outputs": [
    {
     "data": {
      "text/plain": [
       "(110, 3, 150, 150)"
      ]
     },
     "execution_count": 50,
     "metadata": {},
     "output_type": "execute_result"
    }
   ],
   "source": [
    "secular.shape"
   ]
  },
  {
   "cell_type": "code",
   "execution_count": 57,
   "metadata": {
    "collapsed": false
   },
   "outputs": [],
   "source": [
    "#todo lo rede sosiale\n",
    "for time,i in zip(vtimes,range(secular.shape[0])):\n",
    "    f=xyzfield.xyzcontour(thetav, phiv,\n",
    "                          secular[i,0,:,:],secular[i,1,:,:],secular[i,2,:,:],\n",
    "                          vmin=-150,vmax=150,\n",
    "                          time=time,\n",
    "                          string=\"d{0}/dt at {1} (Earth Surface)\")\n",
    "    f.savefig(\"sec_frame{0:03d}.png\".format(i), format=\"png\")\n",
    "    pyplot.close(f)"
   ]
  },
  {
   "cell_type": "code",
   "execution_count": 58,
   "metadata": {
    "collapsed": false
   },
   "outputs": [],
   "source": [
    "vtimes,acc=chaos.secularacceleration(t,interval=0.5,phiv=phiv,thetav=thetav,rparam=1.0)"
   ]
  },
  {
   "cell_type": "code",
   "execution_count": 59,
   "metadata": {
    "collapsed": false
   },
   "outputs": [],
   "source": [
    "#todo lo rede sosiale\n",
    "for time,i in zip(vtimes,range(acc.shape[0])):\n",
    "    f=xyzfield.xyzcontour(thetav, phiv,\n",
    "                          acc[i,0,:,:],acc[i,1,:,:],acc[i,2,:,:],\n",
    "                          vmin=-15,vmax=15,\n",
    "                          time=time,\n",
    "                          string=\"d²{0}/dt² at {1} (Earth Surface)\")\n",
    "    f.savefig(\"acc_frame{0:03d}.png\".format(i), format=\"png\")\n",
    "    pyplot.close(f)"
   ]
  },
  {
   "cell_type": "code",
   "execution_count": 10,
   "metadata": {
    "collapsed": false
   },
   "outputs": [],
   "source": [
    "i=1; f=xyzfield.xyzcontour(thetav, phiv,\n",
    "                          secular[i,0,:,:],secular[i,1,:,:],secular[i,2,:,:],\n",
    "                          vmin=-100,vmax=100,\n",
    "                          time=t[1],\n",
    "                          string=\"d{0}/dt at {1}\")\n",
    "pyplot.show(f)"
   ]
  },
  {
   "cell_type": "code",
   "execution_count": 6,
   "metadata": {
    "collapsed": false
   },
   "outputs": [],
   "source": [
    "# j e r k 2 0 1 4\n",
    "thetav=numpy.array([numpy.deg2rad(90-40.96)])\n",
    "phiv=numpy.array([numpy.deg2rad(-0.333)])\n",
    "\n",
    "vtimes,secular=chaos.secularvariation(t,interval=0.5,phiv=phiv,thetav=thetav)\n",
    "\n",
    "pl=pyplot.plot(vtimes,secular[:,1],\"k\")\n",
    "\n",
    "pyplot.gca().get_xaxis().get_major_formatter().set_useOffset(False)\n",
    "pyplot.ylabel(\"dY/dt (nT/yr)\")\n",
    "pyplot.show()"
   ]
  },
  {
   "cell_type": "code",
   "execution_count": 4,
   "metadata": {
    "collapsed": true
   },
   "outputs": [],
   "source": [
    "# j e r k 2 0 1 4 a c c e l e r a t i o n\n",
    "thetav=numpy.array([numpy.deg2rad(90-40.96)])\n",
    "phiv=numpy.array([numpy.deg2rad(-0.333)])\n",
    "\n",
    "vtimes,acc=chaos.secularacceleration(t,interval=0.5,phiv=phiv,thetav=thetav)\n",
    "\n",
    "pl=pyplot.plot(vtimes,acc[:,1],\"r\")\n",
    "pyplot.gca().get_xaxis().get_major_formatter().set_useOffset(False)\n",
    "pyplot.ylabel(\"dY/dt (nT/yr)\")\n",
    "pyplot.show()"
   ]
  },
  {
   "cell_type": "code",
   "execution_count": 44,
   "metadata": {
    "collapsed": false
   },
   "outputs": [],
   "source": [
    "# j e r k ~ ~ p l o t\n",
    "\n",
    "thetav=numpy.array([numpy.deg2rad(90-40.96)])\n",
    "phiv=numpy.array([numpy.deg2rad(-0.333)])\n",
    "\n",
    "vtimes,secular=chaos.secularvariation(t,interval=0.5,phiv=phiv,thetav=thetav)\n",
    "vtimes,acc=chaos.secularacceleration(t,interval=0.5,phiv=phiv,thetav=thetav)\n",
    "\n",
    "fig, ax1 = pyplot.subplots()\n",
    "ax1.plot(vtimes,secular[:,1],\"k\")\n",
    "ax1.get_xaxis().get_major_formatter().set_useOffset(False)\n",
    "ax1.set_ylabel(\"Secular Variation (nT/yr)\")\n",
    "ax1.set_xbound(lower=vtimes[0],upper=vtimes[-1])\n",
    "\n",
    "ax2=ax1.twinx()\n",
    "ax2.plot(vtimes,acc[:,1],\"r\")\n",
    "ax2.hold(True)\n",
    "ax2.plot((2014.0, 2014.0), (10, -10), 'g--')\n",
    "ax2.hold(False)\n",
    "ax2.set_ylabel('Secular Acceleration (nT/yr²)', color='r')\n",
    "ax2.set_xbound(lower=vtimes[0],upper=vtimes[-1])\n",
    "ymax=numpy.max(numpy.abs(acc[:,1]))*1.25\n",
    "ax2.set_ybound(lower=-ymax, upper=ymax)\n",
    "\n",
    "pyplot.show(fig)\n",
    "pyplot.close(fig)\n"
   ]
  },
  {
   "cell_type": "code",
   "execution_count": 25,
   "metadata": {
    "collapsed": false
   },
   "outputs": [],
   "source": [
    "# T U P P E R W A R E ' 9 5"
   ]
  },
  {
   "cell_type": "code",
   "execution_count": 5,
   "metadata": {
    "collapsed": true
   },
   "outputs": [],
   "source": [
    "vtimes,accs=sw.secularacceleration(t,phiv=phiv,thetav=thetav)"
   ]
  },
  {
   "cell_type": "code",
   "execution_count": null,
   "metadata": {
    "collapsed": false
   },
   "outputs": [],
   "source": [
    "pyplot.show(xyzfield.xyzcontour(thetav,phiv,accs[-1,0,:,:],accs[-1,1,:,:],accs[-1,2,:,:]))"
   ]
  },
  {
   "cell_type": "code",
   "execution_count": 14,
   "metadata": {
    "collapsed": false
   },
   "outputs": [],
   "source": [
    "#secular[:,1,20,50]"
   ]
  },
  {
   "cell_type": "code",
   "execution_count": 9,
   "metadata": {
    "collapsed": false
   },
   "outputs": [],
   "source": [
    "vtimes,secular=sw.secularvariation(t,interval=0.5,phiv=phiv,thetav=thetav)\n",
    "#pyplot.show(xyzplot(thetav,phiv,secular[2,0,:,:],secular[2,1,:,:],secular[2,2,:,:],vmin=40,vmax=60))\n",
    "pyplot.show(xyzfield.xyzcontour(thetav,phiv,secular[2,0,:,:],secular[2,1,:,:],secular[2,2,:,:], units=\"nT/yr\", string=\"d{0}/dt at {1}\",time=2014.3))"
   ]
  },
  {
   "cell_type": "code",
   "execution_count": 19,
   "metadata": {
    "collapsed": true
   },
   "outputs": [],
   "source": [
    "pyplot.show(xyzplot(thetav,phiv,secular[2,0,:,:],secular[2,1,:,:],secular[2,2,:,:],vmin=-80,vmax=80))"
   ]
  },
  {
   "cell_type": "code",
   "execution_count": 27,
   "metadata": {
    "collapsed": false
   },
   "outputs": [],
   "source": [
    "for i in range(secular.shape[0]):\n",
    "    f=xyzplot(thetav,phiv,secular[i,0,:,:],secular[i,1,:,:],secular[i,2,:,:],vmin=40,vmax=60)\n",
    "    f.savefig(\"sec_frame{0:03d}.png\".format(i), format=\"png\")\n",
    "    "
   ]
  },
  {
   "cell_type": "code",
   "execution_count": 13,
   "metadata": {
    "collapsed": false,
    "scrolled": true
   },
   "outputs": [],
   "source": [
    "ll=numpy.array([geofield.locationfield(40.96,-0.333,secular[i,0,:,:],secular[i,1,:,:],secular[i,2,:,:],phiv,thetav) for i in range(len(vtimes))])\n",
    "pl=pyplot.plot(vtimes,ll[:,1],\"k\")\n",
    "pyplot.gca().get_xaxis().get_major_formatter().set_useOffset(False)\n",
    "pyplot.show()"
   ]
  },
  {
   "cell_type": "code",
   "execution_count": 13,
   "metadata": {
    "collapsed": false
   },
   "outputs": [
    {
     "data": {
      "text/plain": [
       "array([[ 53.21537328],\n",
       "       [ 53.57667375],\n",
       "       [ 53.94957263],\n",
       "       [ 54.33330409],\n",
       "       [ 54.72295714],\n",
       "       [ 55.10912979],\n",
       "       [ 55.48585669],\n",
       "       [ 55.85150011]])"
      ]
     },
     "execution_count": 13,
     "metadata": {},
     "output_type": "execute_result"
    }
   ],
   "source": [
    "ll[:,1]"
   ]
  },
  {
   "cell_type": "code",
   "execution_count": 35,
   "metadata": {
    "collapsed": false
   },
   "outputs": [
    {
     "data": {
      "text/plain": [
       "array([[ 24.32065891],\n",
       "       [ 53.21789262],\n",
       "       [ 10.16761307]])"
      ]
     },
     "execution_count": 35,
     "metadata": {},
     "output_type": "execute_result"
    }
   ],
   "source": [
    "geofield.locationfield(40.96,-0.333,secular[0,0,:,:],secular[0,1,:,:],secular[0,2,:,:],phiv,thetav)"
   ]
  },
  {
   "cell_type": "code",
   "execution_count": 22,
   "metadata": {
    "collapsed": false,
    "scrolled": true
   },
   "outputs": [],
   "source": [
    "#secular.shape"
   ]
  },
  {
   "cell_type": "code",
   "execution_count": 33,
   "metadata": {
    "collapsed": false
   },
   "outputs": [
    {
     "data": {
      "text/plain": [
       "2015.6192"
      ]
     },
     "execution_count": 33,
     "metadata": {},
     "output_type": "execute_result"
    }
   ],
   "source": [
    "chaos.years[-1]"
   ]
  },
  {
   "cell_type": "code",
   "execution_count": 26,
   "metadata": {
    "collapsed": false
   },
   "outputs": [],
   "source": [
    "#secular[4,0,:,:]-secular[1,0,:,:]\n"
   ]
  },
  {
   "cell_type": "code",
   "execution_count": 5,
   "metadata": {
    "collapsed": true
   },
   "outputs": [],
   "source": [
    "phiv=scipy.linspace(scipy.deg2rad(-180),scipy.deg2rad(180),150)\n",
    "thetav=scipy.linspace(0.01,scipy.pi-0.01,150)"
   ]
  },
  {
   "cell_type": "code",
   "execution_count": 34,
   "metadata": {
    "collapsed": false
   },
   "outputs": [],
   "source": [
    "x,y,z=xyzfieldv(chaos.g[-1,:,:],chaos.h[-1,:,:],phiv,thetav,rparam=(6371/(6371-2880)))"
   ]
  },
  {
   "cell_type": "code",
   "execution_count": 22,
   "metadata": {
    "collapsed": false
   },
   "outputs": [],
   "source": [
    "pyplot.show(xyzfield.xyzcontour(thetav,phiv,x,y,z))"
   ]
  },
  {
   "cell_type": "code",
   "execution_count": 35,
   "metadata": {
    "collapsed": false
   },
   "outputs": [],
   "source": [
    "pyplot.show(xyzfield.xyzcontour(thetav,phiv,x,y,z,string=\"{0} at {1}\", time=2015.6))"
   ]
  },
  {
   "cell_type": "code",
   "execution_count": 45,
   "metadata": {
    "collapsed": false
   },
   "outputs": [],
   "source": [
    "pyplot.show(xyzfield.xyzcontour(thetav,phiv,acc[0,0,:,:],acc[0,1,:,:],acc[0,2,:,:],string=\"{0} at {1}\", time=chaos.years[0]))"
   ]
  },
  {
   "cell_type": "code",
   "execution_count": 27,
   "metadata": {
    "collapsed": false
   },
   "outputs": [
    {
     "data": {
      "text/plain": [
       "array([[ 26442.92804172],\n",
       "       [  2981.72332657],\n",
       "       [ 27358.00994828]])"
      ]
     },
     "execution_count": 27,
     "metadata": {},
     "output_type": "execute_result"
    }
   ],
   "source": [
    "geofield.locationfield(2.9,196.7,x,y,z,phiv,thetav)"
   ]
  }
 ],
 "metadata": {
  "kernelspec": {
   "display_name": "Python 3",
   "language": "python",
   "name": "python3"
  },
  "language_info": {
   "codemirror_mode": {
    "name": "ipython",
    "version": 3
   },
   "file_extension": ".py",
   "mimetype": "text/x-python",
   "name": "python",
   "nbconvert_exporter": "python",
   "pygments_lexer": "ipython3",
   "version": "3.5.1"
  }
 },
 "nbformat": 4,
 "nbformat_minor": 0
}
