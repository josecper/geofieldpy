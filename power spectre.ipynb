{
 "cells": [
  {
   "cell_type": "code",
   "execution_count": 45,
   "metadata": {
    "collapsed": true
   },
   "outputs": [],
   "source": [
    "import numpy\n",
    "import scipy\n",
    "import geofield\n",
    "import xyzfield\n",
    "from xyzfield import xyzfieldv,xyzplot\n",
    "from matplotlib import pyplot"
   ]
  },
  {
   "cell_type": "code",
   "execution_count": 46,
   "metadata": {
    "collapsed": false
   },
   "outputs": [
    {
     "data": {
      "text/plain": [
       "<module 'geofield' from '/home/josecper/Programs/python/geofield.py'>"
      ]
     },
     "execution_count": 46,
     "metadata": {},
     "output_type": "execute_result"
    }
   ],
   "source": [
    "import importlib\n",
    "importlib.reload(geofield)"
   ]
  },
  {
   "cell_type": "code",
   "execution_count": 47,
   "metadata": {
    "collapsed": true
   },
   "outputs": [],
   "source": [
    "chaos=geofield.ChaosData(\"../data/CHAOS5X/gauss_coeff_chaos5x.dat\")"
   ]
  },
  {
   "cell_type": "code",
   "execution_count": 48,
   "metadata": {
    "collapsed": true
   },
   "outputs": [],
   "source": [
    "t=scipy.linspace(1997.0,2016.0,250)"
   ]
  },
  {
   "cell_type": "code",
   "execution_count": 49,
   "metadata": {
    "collapsed": false
   },
   "outputs": [],
   "source": [
    "vtimes,a=chaos.secular_power(t,interval=10/12,rparam=(6371/(6371-2880)))"
   ]
  },
  {
   "cell_type": "code",
   "execution_count": 32,
   "metadata": {
    "collapsed": false
   },
   "outputs": [
    {
     "data": {
      "text/plain": [
       "(222, 21)"
      ]
     },
     "execution_count": 32,
     "metadata": {},
     "output_type": "execute_result"
    }
   ],
   "source": [
    "a.shape"
   ]
  },
  {
   "cell_type": "code",
   "execution_count": 50,
   "metadata": {
    "collapsed": false
   },
   "outputs": [],
   "source": [
    "fig, ax= pyplot.subplots()\n",
    "\n",
    "ax.plot(vtimes,a[:,1],\"b\", label=\"n = 1\")\n",
    "ax.plot(vtimes,a[:,2],\"r\", label=\"n = 2\")\n",
    "ax.plot(vtimes,a[:,3],\"y\", label=\"n = 3\")\n",
    "ax.plot(vtimes,a[:,4],\"g\", label=\"n = 4\")\n",
    "ax.plot(vtimes,a[:,5],\"b--\", label=\"n = 5\")\n",
    "ax.plot(vtimes,a[:,6],\"r--\", label=\"n = 6\")\n",
    "ax.plot(vtimes,a[:,7],\"y--\", label=\"n = 7\")\n",
    "ax.plot(vtimes,a[:,8],\"g--\", label=\"n = 8\")\n",
    "\n",
    "#ax.plot((2014.0, 2014.0), (0, 10**6), 'k:')\n",
    "#ax.plot((2011.0, 2011.0), (0, 10**6), 'k:')\n",
    "#ax.plot((2007.0, 2007.0), (0, 10**6), 'k:')\n",
    "#ax.plot((2003.0, 2003.0), (0, 10**6), 'k:')\n",
    "#ax.plot((1999.0, 1999.0), (0, 10**6), 'k:')\n",
    "\n",
    "ax.get_xaxis().get_major_formatter().set_useOffset(False)\n",
    "xticks=numpy.arange(int(vtimes[0]),int(vtimes[-1]+1))\n",
    "ax.get_xaxis().set_ticks(xticks)\n",
    "ax.set_xbound(lower=vtimes[0],upper=vtimes[-1])\n",
    "#ax.set_ybound(lower=0, upper=11000)\n",
    "pyplot.ylabel(\"Secular Acceleration Power (nT/yr²)²\")\n",
    "pyplot.legend(loc=\"upper left\")\n",
    "pyplot.show(fig)"
   ]
  },
  {
   "cell_type": "code",
   "execution_count": 37,
   "metadata": {
    "collapsed": false
   },
   "outputs": [],
   "source": [
    "fig, ax= pyplot.subplots()\n",
    "\n",
    "ax.plot(vtimes,a[:,1],\"b\", label=\"n = 1\")\n",
    "ax.plot(vtimes,a[:,2],\"r\", label=\"n = 2\")\n",
    "ax.plot(vtimes,a[:,3],\"y\", label=\"n = 3\")\n",
    "ax.plot(vtimes,a[:,4],\"g\", label=\"n = 4\")\n",
    "ax.plot(vtimes,a[:,5],\"b--\", label=\"n = 5\")\n",
    "ax.plot(vtimes,a[:,6],\"r--\", label=\"n = 6\")\n",
    "ax.plot(vtimes,a[:,7],\"y--\", label=\"n = 7\")\n",
    "ax.plot(vtimes,a[:,8],\"g--\", label=\"n = 8\")\n",
    "\n",
    "#ax.plot((2014.0, 2014.0), (0, 10**6), 'k:')\n",
    "#ax.plot((2011.0, 2011.0), (0, 10**6), 'k:')\n",
    "#ax.plot((2007.0, 2007.0), (0, 10**6), 'k:')\n",
    "#ax.plot((2003.0, 2003.0), (0, 10**6), 'k:')\n",
    "#ax.plot((1999.0, 1999.0), (0, 10**6), 'k:')\n",
    "\n",
    "ax.get_xaxis().get_major_formatter().set_useOffset(False)\n",
    "xticks=numpy.arange(int(vtimes[0]),int(vtimes[-1]+1))\n",
    "ax.get_xaxis().set_ticks(xticks)\n",
    "ax.set_xbound(lower=vtimes[0],upper=vtimes[-1])\n",
    "pyplot.yscale(\"log\")\n",
    "#ax.set_ybound(lower=10, upper=10**5)\n",
    "pyplot.ylabel(\"Secular Acceleration Power (nT/yr²)²\")\n",
    "pyplot.legend(loc=\"upper left\")\n",
    "pyplot.show(fig)"
   ]
  },
  {
   "cell_type": "code",
   "execution_count": 28,
   "metadata": {
    "collapsed": false
   },
   "outputs": [
    {
     "data": {
      "text/plain": [
       "array([1997, 1998, 1999, 2000, 2001, 2002, 2003, 2004, 2005, 2006, 2007,\n",
       "       2008, 2009, 2010, 2011, 2012, 2013])"
      ]
     },
     "execution_count": 28,
     "metadata": {},
     "output_type": "execute_result"
    }
   ],
   "source": [
    "numpy.arange(int(vtimes[0]),int(vtimes[-1]))"
   ]
  }
 ],
 "metadata": {
  "kernelspec": {
   "display_name": "Python 3",
   "language": "python",
   "name": "python3"
  },
  "language_info": {
   "codemirror_mode": {
    "name": "ipython",
    "version": 3
   },
   "file_extension": ".py",
   "mimetype": "text/x-python",
   "name": "python",
   "nbconvert_exporter": "python",
   "pygments_lexer": "ipython3",
   "version": "3.5.1"
  }
 },
 "nbformat": 4,
 "nbformat_minor": 0
}
