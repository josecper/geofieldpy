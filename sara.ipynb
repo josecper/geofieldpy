{
 "cells": [
  {
   "cell_type": "code",
   "execution_count": 8,
   "metadata": {
    "collapsed": true
   },
   "outputs": [],
   "source": [
    "import numpy\n",
    "from matplotlib import pyplot, rcParams\n",
    "import matplotlib\n",
    "import sys\n",
    "rcParams.update({'font.family': \"Source Sans Pro\"})\n",
    "rcParams.update({'font.size': 14})"
   ]
  },
  {
   "cell_type": "code",
   "execution_count": 2,
   "metadata": {
    "collapsed": false
   },
   "outputs": [],
   "source": [
    "loops_1A = numpy.loadtxt(\"/home/josecper/Programs/data/sara/1A-minor-loops-1.4T-77\", delimiter=\",\")\n",
    "xmax = abs(max(loops_1A[:,0]))\n",
    "ymax = max(loops_1A[:,1])\n",
    "ymin = min(loops_1A[:,1])"
   ]
  },
  {
   "cell_type": "code",
   "execution_count": 3,
   "metadata": {
    "collapsed": false
   },
   "outputs": [],
   "source": [
    "fig, ax = pyplot.subplots()\n",
    "\n",
    "for k,i in enumerate(range(1, loops_1A.shape[0], 4)):\n",
    "    ax.clear()\n",
    "    ax.plot(loops_1A[:i, 0], loops_1A[:i, 1], \"r\")\n",
    "    ax.plot(loops_1A[i, 0], loops_1A[i, 1], \"k\", marker=\"o\", markersize=4)\n",
    "    ax.set_xbound(-xmax*1.1, xmax*1.1)\n",
    "    ax.set_ybound(ymin*0.9, ymax*1.1)\n",
    "    ax.get_yaxis().get_major_formatter().set_powerlimits((-1, 1))\n",
    "    ax.set_xlabel(\"H(T)\")\n",
    "    ax.set_ylabel(\"M(Am$^{2}$)\")\n",
    "    ax.set_title(\"1A\")\n",
    "    pyplot.savefig(\"/home/josecper/Programs/data/sara/ml_1A_{0:0>5}.png\".format(k))\n"
   ]
  },
  {
   "cell_type": "code",
   "execution_count": 10,
   "metadata": {
    "collapsed": true
   },
   "outputs": [],
   "source": [
    "loops_17B = numpy.loadtxt(\"/home/josecper/Programs/data/sara/17B-minor-loops-1.5T-77\", delimiter=\",\")\n",
    "xmax = abs(max(loops_17B[:,0]))\n",
    "ymax = max(loops_17B[:,1])\n",
    "ymin = min(loops_17B[:,1])"
   ]
  },
  {
   "cell_type": "code",
   "execution_count": 21,
   "metadata": {
    "collapsed": false
   },
   "outputs": [
    {
     "name": "stdout",
     "output_type": "stream",
     "text": [
      " dibujando frame 2524 de 2525 ♥"
     ]
    }
   ],
   "source": [
    "fig, ax = pyplot.subplots()\n",
    "\n",
    "for k,i in enumerate(range(1, loops_17B.shape[0], 4)):\n",
    "    ax.clear()\n",
    "    ax.plot(loops_17B[:i, 0], loops_17B[:i, 1], \"r\")\n",
    "    ax.plot(loops_17B[i, 0], loops_17B[i, 1], \"k\", marker=\"o\", markersize=4)\n",
    "    ax.set_xbound(-xmax*1.1, xmax*1.1)\n",
    "    ax.set_ybound(ymin, ymax)\n",
    "    ax.get_yaxis().get_major_formatter().set_powerlimits((-1, 1))\n",
    "    ax.set_xlabel(\"H(T)\")\n",
    "    ax.set_ylabel(\"M(Am$^{2}$)\")\n",
    "    ax.set_title(\"17B\")\n",
    "    pyplot.savefig(\"/home/josecper/Programs/data/sara/ml_17B_{0:0>5}.png\".format(k))\n",
    "    sys.stdout.write(\"\\r dibujando frame {0} de {1} ♥\".format(k, loops_17B.shape[0]//4))"
   ]
  },
  {
   "cell_type": "code",
   "execution_count": 20,
   "metadata": {
    "collapsed": false
   },
   "outputs": [],
   "source": [
    "fig, ax = pyplot.subplots()\n",
    "ax.plot(loops_17B[:, 0], loops_17B[:, 1], \"r\")\n",
    "ax.set_xbound(-xmax*1.1, xmax*1.1)\n",
    "ax.set_ybound(ymin, ymax)\n",
    "pyplot.show(fig)"
   ]
  },
  {
   "cell_type": "code",
   "execution_count": null,
   "metadata": {
    "collapsed": true
   },
   "outputs": [],
   "source": []
  }
 ],
 "metadata": {
  "kernelspec": {
   "display_name": "Python 3",
   "language": "python",
   "name": "python3"
  },
  "language_info": {
   "codemirror_mode": {
    "name": "ipython",
    "version": 3
   },
   "file_extension": ".py",
   "mimetype": "text/x-python",
   "name": "python",
   "nbconvert_exporter": "python",
   "pygments_lexer": "ipython3",
   "version": "3.5.2"
  }
 },
 "nbformat": 4,
 "nbformat_minor": 0
}
