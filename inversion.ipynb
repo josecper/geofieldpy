{
 "cells": [
  {
   "cell_type": "code",
   "execution_count": 1,
   "metadata": {
    "collapsed": false
   },
   "outputs": [],
   "source": [
    "import numpy\n",
    "import scipy\n",
    "import geofield\n",
    "import xyzfield\n",
    "import inverse\n",
    "from xyzfield import xyzfieldv,xyzplot\n",
    "from matplotlib import pyplot"
   ]
  },
  {
   "cell_type": "code",
   "execution_count": 2,
   "metadata": {
    "collapsed": false
   },
   "outputs": [
    {
     "data": {
      "text/plain": [
       "<module 'inverse' from '/home/josecper/Programs/python/inverse.py'>"
      ]
     },
     "execution_count": 2,
     "metadata": {},
     "output_type": "execute_result"
    }
   ],
   "source": [
    "import importlib\n",
    "importlib.reload(inverse)"
   ]
  },
  {
   "cell_type": "code",
   "execution_count": 3,
   "metadata": {
    "collapsed": true
   },
   "outputs": [],
   "source": [
    "chaos=geofield.ChaosData(\"../data/CHAOS5X/gauss_coeff_chaos5x.dat\")"
   ]
  },
  {
   "cell_type": "code",
   "execution_count": 4,
   "metadata": {
    "collapsed": true
   },
   "outputs": [],
   "source": [
    "import fibonacci_sphere\n",
    "thetav,phiv = fibonacci_sphere.grid(40000)"
   ]
  },
  {
   "cell_type": "code",
   "execution_count": 5,
   "metadata": {
    "collapsed": true
   },
   "outputs": [],
   "source": [
    "x,y,z=xyzfieldv(chaos.g[-1,:,:],chaos.h[-1,:,:],phiv,thetav,rparam=1.0,regular=False)"
   ]
  },
  {
   "cell_type": "code",
   "execution_count": 6,
   "metadata": {
    "collapsed": false
   },
   "outputs": [],
   "source": [
    "g,h=inverse.invert((thetav,phiv),(x,y,z))"
   ]
  },
  {
   "cell_type": "code",
   "execution_count": null,
   "metadata": {
    "collapsed": false
   },
   "outputs": [],
   "source": [
    "a[0][0].shape"
   ]
  },
  {
   "cell_type": "code",
   "execution_count": 58,
   "metadata": {
    "collapsed": false
   },
   "outputs": [
    {
     "data": {
      "text/plain": [
       "(array([  0.00000000e+00,  -1.49178630e+03,   3.00924510e+03,\n",
       "         -2.35575710e+03,   8.13487940e+02,   3.60552000e+02,\n",
       "          6.73039560e+01,  -7.60999210e+01,   8.93565610e+00,\n",
       "         -2.56683563e-13,   1.06581410e-13,   4.01234601e-13,\n",
       "          5.45341550e-13,  -7.49539320e-14]),\n",
       " array([  0.00000000e+00,   4.77894730e+03,  -2.86271950e+03,\n",
       "         -1.10497960e+02,   2.83122340e+02,   4.69183170e+01,\n",
       "         -2.02045630e+01,  -5.38396260e+01,   9.86106900e+00,\n",
       "          1.44828594e-13,  -1.59872116e-13,   1.80133686e-14,\n",
       "          3.58379992e-13,  -9.30436284e-14]),\n",
       " array([    0.       , -1491.7863   ,  3009.2451   , -2355.7571   ,\n",
       "          813.48794  ,   360.552    ,    67.303956 ,   -76.099921 ,\n",
       "            8.9356561,     0.       ,     0.       ,     0.       ,\n",
       "            0.       ,     0.       ,     0.       ,     0.       ,\n",
       "            0.       ,     0.       ,     0.       ,     0.       ,     0.       ]),\n",
       " array([    0.      ,  4778.9473  , -2862.7195  ,  -110.49796 ,\n",
       "          283.12234 ,    46.918317,   -20.204563,   -53.839626,\n",
       "            9.861069,     0.      ,     0.      ,     0.      ,\n",
       "            0.      ,     0.      ,     0.      ,     0.      ,\n",
       "            0.      ,     0.      ,     0.      ,     0.      ,     0.      ]))"
      ]
     },
     "execution_count": 58,
     "metadata": {},
     "output_type": "execute_result"
    }
   ],
   "source": [
    "g[1], h[1], chaos.g[-1,1], chaos.h[-1,1]"
   ]
  },
  {
   "cell_type": "code",
   "execution_count": 7,
   "metadata": {
    "collapsed": true
   },
   "outputs": [],
   "source": [
    "xp,yp,zp=xyzfieldv(g,h,phiv,thetav,rparam=1.0,regular=False)"
   ]
  },
  {
   "cell_type": "code",
   "execution_count": 68,
   "metadata": {
    "collapsed": false
   },
   "outputs": [
    {
     "name": "stderr",
     "output_type": "stream",
     "text": [
      "/usr/lib/python3.5/site-packages/mpl_toolkits/basemap/__init__.py:3644: VisibleDeprecationWarning: using a non-integer number instead of an integer will result in an error in the future\n",
      "  xx = x[x.shape[0]/2,:]\n"
     ]
    }
   ],
   "source": [
    "pyplot.show(xyzfield.xyzcontour(thetav,phiv,x,y,z,regular=False))"
   ]
  },
  {
   "cell_type": "code",
   "execution_count": 8,
   "metadata": {
    "collapsed": false
   },
   "outputs": [
    {
     "name": "stderr",
     "output_type": "stream",
     "text": [
      "/usr/lib/python3.5/site-packages/mpl_toolkits/basemap/__init__.py:3644: VisibleDeprecationWarning: using a non-integer number instead of an integer will result in an error in the future\n",
      "  xx = x[x.shape[0]/2,:]\n"
     ]
    }
   ],
   "source": [
    "pyplot.show(xyzfield.xyzcontour(thetav,phiv,xp,yp,zp,regular=False))"
   ]
  },
  {
   "cell_type": "code",
   "execution_count": null,
   "metadata": {
    "collapsed": true
   },
   "outputs": [],
   "source": []
  }
 ],
 "metadata": {
  "kernelspec": {
   "display_name": "Python 3",
   "language": "python",
   "name": "python3"
  },
  "language_info": {
   "codemirror_mode": {
    "name": "ipython",
    "version": 3
   },
   "file_extension": ".py",
   "mimetype": "text/x-python",
   "name": "python",
   "nbconvert_exporter": "python",
   "pygments_lexer": "ipython3",
   "version": "3.5.2"
  }
 },
 "nbformat": 4,
 "nbformat_minor": 0
}
