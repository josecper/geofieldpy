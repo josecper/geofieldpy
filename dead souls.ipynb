{
 "cells": [
  {
   "cell_type": "code",
   "execution_count": null,
   "metadata": {
    "collapsed": true
   },
   "outputs": [],
   "source": [
    "import numpy\n",
    "import PIL.Image\n",
    "import sys"
   ]
  },
  {
   "cell_type": "code",
   "execution_count": null,
   "metadata": {
    "collapsed": true
   },
   "outputs": [],
   "source": [
    "supa_grid=numpy.empty((100,100,3), dtype=bool)"
   ]
  },
  {
   "cell_type": "code",
   "execution_count": null,
   "metadata": {
    "collapsed": false
   },
   "outputs": [],
   "source": [
    "supa_grid=numpy.random.rand(100,100,3) > 0.8"
   ]
  },
  {
   "cell_type": "code",
   "execution_count": null,
   "metadata": {
    "collapsed": false
   },
   "outputs": [],
   "source": [
    "img=PIL.Image.fromarray(supa_grid*1.0, mode=\"RGB\")\n",
    "img.resize((800,800), resample=0)"
   ]
  },
  {
   "cell_type": "code",
   "execution_count": null,
   "metadata": {
    "collapsed": true
   },
   "outputs": [],
   "source": []
  },
  {
   "cell_type": "code",
   "execution_count": 24,
   "metadata": {
    "collapsed": false
   },
   "outputs": [],
   "source": [
    "#supa_grid=numpy.random.rand(400,400,3) > 0.8\n",
    "#past_grid = supa_grid.copy()\n",
    "\n",
    "#black = numpy.array((False,False,False))\n",
    "#red = numpy.array((True, False, False))\n",
    "#green = numpy.array((False, True, False))\n",
    "#blue = numpy.array((False, False, True))\n",
    "\n",
    "#def left(a): return numpy.roll(a, 1, axis=1)\n",
    "#def right(a): return numpy.roll(a,-1, axis=1)\n",
    "#def up(a): return numpy.roll(a, -1, axis=0)\n",
    "#def down(a): return numpy.roll(a, 1, axis=0)\n",
    "#def anywhere(a): return left(a) | right(a) | up(a) | down(a)\n",
    "\n",
    "def step(past_grid):\n",
    "    \n",
    "    k=numpy.all(past_grid == False, axis=2)\n",
    "    w=numpy.all(past_grid == True, axis=2)\n",
    "    r=past_grid[:,:,0]\n",
    "    g=past_grid[:,:,1]\n",
    "    b=past_grid[:,:,2]\n",
    "\n",
    "    next_grid = past_grid.copy()\n",
    "    #next_grid[g & numpy.roll(r, 1, axis=1)] = black\n",
    "    \n",
    "    next_grid[anywhere(r) & k] += red\n",
    "    next_grid[left(g) & ~right(g)] += green\n",
    "    #next_grid[anywhere(anywhere(g)) & r] +=green\n",
    "    next_grid[up(g)] += green\n",
    "    next_grid[down(b)] += blue\n",
    "    #next_grid[down(b) | (up(r))] += blue\n",
    "    next_grid[anywhere(k) & ~anywhere(b)] = black\n",
    "    #next_grid[r & g & b] = black\n",
    "    next_grid[up(r & b)] = black\n",
    "    \n",
    "    past_grid = next_grid.copy()\n",
    "    \n",
    "    return next_grid\n",
    "    \n",
    "    #img=PIL.Image.fromarray(numpy.uint8(next_grid*255), mode=\"RGB\")\n",
    "    #img.save(\"souls/souls{0:04d}.png\".format(n))"
   ]
  },
  {
   "cell_type": "code",
   "execution_count": null,
   "metadata": {
    "collapsed": true
   },
   "outputs": [],
   "source": [
    "\n",
    "pix=numpy.array(img)\n",
    "\n",
    "!convert \"souls/souls*.png\" souls.gif"
   ]
  },
  {
   "cell_type": "code",
   "execution_count": 8,
   "metadata": {
    "collapsed": true
   },
   "outputs": [],
   "source": [
    "import re"
   ]
  },
  {
   "cell_type": "code",
   "execution_count": 9,
   "metadata": {
    "collapsed": false
   },
   "outputs": [
    {
     "data": {
      "text/plain": [
       "'up(r)&up(b)'"
      ]
     },
     "execution_count": 9,
     "metadata": {},
     "output_type": "execute_result"
    }
   ],
   "source": [
    "s1=\"^r&^b\"\n",
    "\n",
    "dirs={\"^\": \"up\", \"v\": \"down\", \">\": \"right\", \"<\": \"left\", \"*\": \"anywhere\"}\n",
    "re.sub(r\"([\\^\\*\\<\\>v])([rgbkw])\", \"{\\g<1>}(\\g<2>)\", s1).format(**dirs)\n",
    "\n"
   ]
  },
  {
   "cell_type": "code",
   "execution_count": 15,
   "metadata": {
    "collapsed": false
   },
   "outputs": [],
   "source": [
    "def parse(command):\n",
    "    \n",
    "    condition,operator,assigned=re.split(\"([+=-])\",command,maxsplit=1)\n",
    "    \n",
    "    dirs={\"^\": \"up\", \"v\": \"down\", \">\": \"right\", \"<\": \"left\", \"*\": \"anywhere\"}\n",
    "    colors={\"r\": \"red\", \"g\": \"green\", \"b\": \"blue\", \"k\": \"black\", \"w\": \"white\"}\n",
    "    s1=re.sub(r\"([\\^\\*\\<\\>v])([rgbkw])\", \"{\\g<1>}(\\g<2>)\", condition).format(**dirs)\n",
    "    s1=\"next_grid[\"+s1+\"]\"\n",
    "    s2=re.sub(r\"([rgbkw])\",\"{\\g<1>}\",assigned).format(**colors)\n",
    "    if(operator != \"=\"): operator=operator+\"=\"\n",
    "    \n",
    "    return \"\".join([s1,operator,s2])\n",
    "    "
   ]
  },
  {
   "cell_type": "code",
   "execution_count": null,
   "metadata": {
    "collapsed": false
   },
   "outputs": [],
   "source": [
    "import pyglet\n",
    "import pyglet.image\n",
    "import pyglet.clock\n",
    "import sys\n",
    "\n",
    "grid=numpy.random.rand(400,400,3) > 0.8\n",
    "\n",
    "black = numpy.array((False,False,False))\n",
    "red = numpy.array((True, False, False))\n",
    "green = numpy.array((False, True, False))\n",
    "blue = numpy.array((False, False, True))\n",
    "white = numpy.array((True,True,True))\n",
    "\n",
    "def left(a): return numpy.roll(a, 1, axis=1)\n",
    "def right(a): return numpy.roll(a,-1, axis=1)\n",
    "def up(a): return numpy.roll(a, -1, axis=0)\n",
    "def down(a): return numpy.roll(a, 1, axis=0)\n",
    "def anywhere(a): return left(a) | right(a) | up(a) | down(a)\n",
    "\n",
    "window = pyglet.window.Window(400,400)\n",
    "\n",
    "def update(dt):\n",
    "    global grid\n",
    "    grid = step(grid)\n",
    "    grid8=numpy.uint8(grid)\n",
    "    im = pyglet.image.ImageData(400,400,\"RGB\",grid8.data.__str__())\n",
    "    im.blit(0,0,0)\n",
    "\n",
    "pyglet.clock.schedule_interval(update,0.4)\n",
    "pyglet.app.run()"
   ]
  },
  {
   "cell_type": "code",
   "execution_count": null,
   "metadata": {
    "collapsed": false
   },
   "outputs": [],
   "source": [
    "len(bytes(supa_grid.data))"
   ]
  },
  {
   "cell_type": "code",
   "execution_count": null,
   "metadata": {
    "collapsed": false
   },
   "outputs": [],
   "source": [
    "400*400*3/16"
   ]
  },
  {
   "cell_type": "code",
   "execution_count": 1,
   "metadata": {
    "collapsed": true
   },
   "outputs": [],
   "source": [
    "import souls"
   ]
  },
  {
   "cell_type": "code",
   "execution_count": 3,
   "metadata": {
    "collapsed": false
   },
   "outputs": [
    {
     "ename": "AttributeError",
     "evalue": "module 'souls' has no attribute 'go'",
     "output_type": "error",
     "traceback": [
      "\u001b[1;31m---------------------------------------------------------------------------\u001b[0m",
      "\u001b[1;31mAttributeError\u001b[0m                            Traceback (most recent call last)",
      "\u001b[1;32m<ipython-input-3-66a0c7eee03e>\u001b[0m in \u001b[0;36m<module>\u001b[1;34m()\u001b[0m\n\u001b[1;32m----> 1\u001b[1;33m \u001b[0msouls\u001b[0m\u001b[1;33m.\u001b[0m\u001b[0mgo\u001b[0m\u001b[1;33m(\u001b[0m\u001b[1;33m)\u001b[0m\u001b[1;33m\u001b[0m\u001b[0m\n\u001b[0m",
      "\u001b[1;31mAttributeError\u001b[0m: module 'souls' has no attribute 'go'"
     ]
    }
   ],
   "source": [
    "souls.go()"
   ]
  },
  {
   "cell_type": "code",
   "execution_count": 17,
   "metadata": {
    "collapsed": false
   },
   "outputs": [
    {
     "data": {
      "text/plain": [
       "'next_grid[anywhere(r)&k]+=red'"
      ]
     },
     "execution_count": 17,
     "metadata": {},
     "output_type": "execute_result"
    }
   ],
   "source": [
    "parse(\"*r&k+r\")"
   ]
  },
  {
   "cell_type": "code",
   "execution_count": 19,
   "metadata": {
    "collapsed": true
   },
   "outputs": [],
   "source": [
    "f=open(\"souls/rules.txt\")"
   ]
  },
  {
   "cell_type": "code",
   "execution_count": 20,
   "metadata": {
    "collapsed": true
   },
   "outputs": [],
   "source": [
    "ev=\"\"\n",
    "for line in f:\n",
    "    ev += parse(line)"
   ]
  }
 ],
 "metadata": {
  "kernelspec": {
   "display_name": "Python 3",
   "language": "python",
   "name": "python3"
  },
  "language_info": {
   "codemirror_mode": {
    "name": "ipython",
    "version": 3
   },
   "file_extension": ".py",
   "mimetype": "text/x-python",
   "name": "python",
   "nbconvert_exporter": "python",
   "pygments_lexer": "ipython3",
   "version": "3.5.1"
  }
 },
 "nbformat": 4,
 "nbformat_minor": 0
}
