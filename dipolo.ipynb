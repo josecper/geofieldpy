{
 "cells": [
  {
   "cell_type": "code",
   "execution_count": 1,
   "metadata": {
    "collapsed": false
   },
   "outputs": [
    {
     "data": {
      "text/html": [
       "<style>.container { width:95% !important; }</style>"
      ],
      "text/plain": [
       "<IPython.core.display.HTML object>"
      ]
     },
     "metadata": {},
     "output_type": "display_data"
    }
   ],
   "source": [
    "#%matplotlib nbagg\n",
    "\n",
    "import geofield\n",
    "import dipole\n",
    "import scipy, numpy\n",
    "import newleg\n",
    "import xyzfield\n",
    "from matplotlib import pyplot, rcParams\n",
    "import matplotlib\n",
    "rcParams.update({'font.family': \"Source Sans Pro\"})\n",
    "rcParams.update({'font.size': 14})\n",
    "\n",
    "from IPython.core.display import display, HTML\n",
    "display(HTML(\"<style>.container { width:95% !important; }</style>\"))"
   ]
  },
  {
   "cell_type": "code",
   "execution_count": 2,
   "metadata": {
    "collapsed": false
   },
   "outputs": [
    {
     "data": {
      "text/plain": [
       "<module 'newleg' from '/home/josecper/Programs/python/newleg.py'>"
      ]
     },
     "execution_count": 2,
     "metadata": {},
     "output_type": "execute_result"
    }
   ],
   "source": [
    "import importlib\n",
    "importlib.reload(dipole); importlib.reload(geofield); importlib.reload(xyzfield); importlib.reload(newleg)"
   ]
  },
  {
   "cell_type": "code",
   "execution_count": 3,
   "metadata": {
    "collapsed": false
   },
   "outputs": [],
   "source": [
    "sha=geofield.SHADIFData(\"../data/sha.dif.14k/coef_EPSL_tnmgh.dat\", \"../data/sha.dif.14k/error_coef_EPSL_tnmgh.dat\")"
   ]
  },
  {
   "cell_type": "markdown",
   "metadata": {},
   "source": [
    "__Bootstrap__"
   ]
  },
  {
   "cell_type": "code",
   "execution_count": 5,
   "metadata": {
    "collapsed": false
   },
   "outputs": [],
   "source": [
    "iterations = 10000\n",
    "\n",
    "xs = numpy.zeros((iterations,len(sha.years)))\n",
    "ys = xs.copy()\n",
    "zs = xs.copy()\n",
    "\n",
    "gshort = sha.gcomp[..., :8]\n",
    "gshort_err = sha.gcomp_err[..., :8] #doesn't exist yet\n",
    "\n",
    "for i in range(iterations):\n",
    "    gi = gshort+numpy.random.randn(*gshort.shape)*gshort_err\n",
    "    xs[i,:], ys[i,:], zs[i,:] = dipole.ecc_dipole(gi)\n",
    "    \n",
    "x = xs.sum(axis=0)/iterations\n",
    "y = ys.sum(axis=0)/iterations\n",
    "z = zs.sum(axis=0)/iterations\n",
    "\n",
    "ss, zs, phis = dipole.xyz2cyl(xs,ys,zs)\n",
    "phis = phis % (2*numpy.pi)\n",
    "rs = numpy.sqrt(xs**2+ys**2+zs**2)\n",
    "s, z, phi = dipole.xyz2cyl(x,y,z)\n",
    "phi = phi % (2*numpy.pi)\n",
    "r = numpy.sqrt(x**2+y**2+z**2)\n",
    "\n",
    "s_dev = numpy.sqrt(((ss-s)**2).sum(axis=0)/iterations)\n",
    "z_dev = numpy.sqrt(((zs-z)**2).sum(axis=0)/iterations)\n",
    "r_dev = numpy.sqrt(((rs-r)**2).sum(axis=0)/iterations)\n",
    "phi_dev = numpy.sqrt(((phis-phi)**2).sum(axis=0)/iterations)\n",
    "\n",
    "del xs, ys, zs, phis, rs, ss\n",
    "\n",
    "numpy.savetxt(\"../data/pole_drift/szrphi.txt\",\n",
    "              numpy.array((s,z,r, phi, s_dev, z_dev, r_dev, phi_dev)).T,\n",
    "              header=\"#Coordinates of eccentric dipole in km (s, z, r, phi, <errors>)\")"
   ]
  },
  {
   "cell_type": "code",
   "execution_count": null,
   "metadata": {
    "collapsed": false,
    "scrolled": false
   },
   "outputs": [],
   "source": [
    "fig, ax = pyplot.subplots(figsize=(20,10))\n",
    "\n",
    "ax.plot(sha.years, s, color=\"green\", label=\"s\")\n",
    "ax.plot(sha.years, z, \"m-\", label=\"z\")\n",
    "ax.plot(sha.years, r, \"b-\", label=\"r\")\n",
    "\n",
    "ax.fill_between(sha.years, r-r_dev, r+r_dev, color=\"blue\", lw=0, alpha=0.07)\n",
    "ax.fill_between(sha.years, z-z_dev, z+z_dev, color=\"magenta\", lw=0, alpha=0.07)\n",
    "ax.fill_between(sha.years, s-s_dev, s+s_dev, color=\"green\", lw=0, alpha=0.07)\n",
    "\n",
    "ax.set_xlabel(\"Years AD\")\n",
    "ax.set_ylabel(\"s,z,r (km)\")\n",
    "ax.legend()\n",
    "\n",
    "ax.set_xbound(-1000,sha.years[-1])\n",
    "\n",
    "pyplot.show(fig)"
   ]
  },
  {
   "cell_type": "code",
   "execution_count": null,
   "metadata": {
    "collapsed": false
   },
   "outputs": [],
   "source": [
    "fig, ax = pyplot.subplots(figsize=(20,10))\n",
    "\n",
    "ax.plot(sha.years, scipy.rad2deg(phi), \"b-\")\n",
    "ax.fill_between(sha.years, scipy.rad2deg(phi-phi_dev), scipy.rad2deg(phi+phi_dev), lw=0, alpha=0.2)\n",
    "\n",
    "ax.set_xlabel(\"Years AD\")\n",
    "ax.set_ylabel(\"Longitude (°)\")\n",
    "\n",
    "ax.set_xbound(-1000, sha.years[-1])\n",
    "\n",
    "pyplot.show(fig)"
   ]
  },
  {
   "cell_type": "code",
   "execution_count": 10,
   "metadata": {
    "collapsed": false
   },
   "outputs": [],
   "source": [
    "p_dip=dipole.power(sha.gcomp, lmin=1, lmax=1)\n",
    "p_quad=dipole.power(sha.gcomp, lmin=2, lmax=2)"
   ]
  },
  {
   "cell_type": "code",
   "execution_count": 11,
   "metadata": {
    "collapsed": false
   },
   "outputs": [],
   "source": [
    "power=dipole.power(sha.gcomp, lmin=1, lmax=2, separated=True)\n",
    "p_sym=power[:,0]+power[:,3]\n",
    "p_asym=power[:,1:3].sum(axis=1)+power[:,4:8].sum(axis=1)"
   ]
  },
  {
   "cell_type": "code",
   "execution_count": null,
   "metadata": {
    "collapsed": false,
    "scrolled": false
   },
   "outputs": [],
   "source": [
    "fig, ax = pyplot.subplots(figsize=(20,10))\n",
    "\n",
    "#ax.plot(sha.years, p_dip)\n",
    "#ax.plot(sha.years, p_quad)\n",
    "\n",
    "ax.plot(sha.years, p_quad/p_dip)\n",
    "\n",
    "ax.set_xbound(-1000, sha.years[-1])\n",
    "ax.set_xlabel(\"Years AD\")\n",
    "ax.set_ylabel(\"PQ/PD\")\n",
    "pyplot.show(fig)"
   ]
  },
  {
   "cell_type": "code",
   "execution_count": null,
   "metadata": {
    "collapsed": false
   },
   "outputs": [],
   "source": [
    "fig, ax = pyplot.subplots(figsize=(20,10))\n",
    "\n",
    "#ax.plot(sha.years, p_dip)\n",
    "#ax.plot(sha.years, p_quad)\n",
    "\n",
    "ax.plot(sha.years, p_asym/p_sym)\n",
    "\n",
    "ax.set_xbound(-1000, sha.years[-1])\n",
    "ax.set_xlabel(\"Years AD\")\n",
    "ax.set_ylabel(\"Pasym/Psym\")\n",
    "pyplot.show(fig)"
   ]
  },
  {
   "cell_type": "code",
   "execution_count": null,
   "metadata": {
    "collapsed": false
   },
   "outputs": [],
   "source": [
    "from mpl_toolkits import mplot3d"
   ]
  },
  {
   "cell_type": "code",
   "execution_count": null,
   "metadata": {
    "collapsed": false
   },
   "outputs": [],
   "source": [
    "fig = pyplot.figure(figsize=(16,16))\n",
    "ax = fig.add_subplot(111, projection='3d')\n",
    "\n",
    "years = numpy.array(sha.years)\n",
    "\n",
    "ax.plot(x[years >= -1000],y[years >= -1000],z[years >= -1000], alpha=0.6, color=\"black\")\n",
    "ax.plot(x[years <= -1000],y[years <= -1000],z[years <= -1000], alpha=0.3, color=\"black\", ls=\"--\")\n",
    "\n",
    "ax.w_xaxis.set_pane_color((1.0, 1.0, 1.0, 1.0))\n",
    "ax.w_yaxis.set_pane_color((1.0, 1.0, 1.0, 1.0))\n",
    "ax.w_zaxis.set_pane_color((1.0, 1.0, 1.0, 1.0))\n",
    "\n",
    "xs = x[years >= -1000]; ys=y[years >= -1000]; zs=z[years >= -1000]; ts=years[years >= -1000]\n",
    "\n",
    "for xi,yi,zi,ti in zip(xs,ys,zs,ts):\n",
    "    ax.text(xi,yi,zi,str(int(ti)), fontsize=12, horizontalalignment=\"center\")\n",
    "       \n",
    "c=ax.scatter(xs,ys,zs,\n",
    "           #s=(30000*p_quad/p_dip)[years >= -1000],\n",
    "           #c=\"b\",\n",
    "           c=(p_quad/p_dip)[years >= -1000],\n",
    "           s=100,\n",
    "           lw=0, alpha=0.8,\n",
    "           cmap=\"cool\")\n",
    "\n",
    "ax.set_xbound(-max(abs(r))*1.05, max(abs(r))*1.05)\n",
    "ax.set_ybound(-max(abs(r))*1.05, max(abs(r))*1.05)\n",
    "ax.set_zbound(-max(abs(r))*1.05, max(abs(r))*1.05)\n",
    "\n",
    "pyplot.colorbar(mappable=c, ax=ax, label=\"PQ/PD\", orientation=\"horizontal\", shrink=0.8)\n",
    "\n",
    "ax.set_xlabel(\"X (km)\")\n",
    "ax.set_ylabel(\"Y (km)\")\n",
    "ax.set_zlabel(\"Z (km)\")"
   ]
  },
  {
   "cell_type": "code",
   "execution_count": null,
   "metadata": {
    "collapsed": false
   },
   "outputs": [],
   "source": [
    "fig = pyplot.figure()\n",
    "ax = fig.add_subplot(111, projection='3d')\n",
    "\n",
    "years = numpy.array(sha.years)\n",
    "\n",
    "ax.plot(x[years >= -1000],y[years >= -1000],z[years >= -1000])\n",
    "ax.plot(x[years <= -1000],y[years <= -1000],z[years <= -1000], alpha=0.4, color=\"blue\")\n",
    "\n",
    "\n",
    "u = numpy.linspace(0, 2 * numpy.pi, 100)\n",
    "v = numpy.linspace(0, numpy.pi, 100)\n",
    "\n",
    "xn = 3520 * numpy.outer(numpy.cos(u), numpy.sin(v))\n",
    "yn = 3520 * numpy.outer(numpy.sin(u), numpy.sin(v))\n",
    "zn = 3520 * numpy.outer(numpy.ones(numpy.size(u)), numpy.cos(v))\n",
    "ax.plot_surface(xn, yn, zn, rstride=4, cstride=4, color='k', linewidth=0, shade=False, alpha=0.1)\n",
    "xn = 1220 * numpy.outer(numpy.cos(u), numpy.sin(v))\n",
    "yn = 1220 * numpy.outer(numpy.sin(u), numpy.sin(v))\n",
    "zn = 1220 * numpy.outer(numpy.ones(numpy.size(u)), numpy.cos(v))\n",
    "ax.plot_surface(xn, yn, zn, rstride=4, cstride=4, color='w', linewidth=0, shade=False, alpha=1.0)\n",
    "\n",
    "ax.scatter(x[-1],y[-1],z[-1])"
   ]
  },
  {
   "cell_type": "code",
   "execution_count": 12,
   "metadata": {
    "collapsed": false
   },
   "outputs": [],
   "source": [
    "dip_theta, dip_phi = dipole.coords(sha.gcomp)"
   ]
  },
  {
   "cell_type": "code",
   "execution_count": null,
   "metadata": {
    "collapsed": false
   },
   "outputs": [],
   "source": [
    "fig, axes = pyplot.subplots(5,1,figsize=(8,14))\n",
    "\n",
    "axes[0].plot(sha.years, numpy.rad2deg(dip_theta),\n",
    "        #sha.years, numpy.rad2deg(dip_phi), \"+\"\n",
    "       )\n",
    "axes[0].set_xbound(-1000, sha.years[-1])\n",
    "axes[0].set_xlabel(\"Years AD\")\n",
    "axes[0].set_ylabel(\"Dip. colatitude (º)\")\n",
    "\n",
    "axes[1].plot(sha.years, s, color=\"green\", label=\"s\")\n",
    "axes[1].plot(sha.years, z, \"m-\", label=\"z\")\n",
    "axes[1].plot(sha.years, r, \"b-\", label=\"r\")\n",
    "\n",
    "axes[1].fill_between(sha.years, r-r_dev, r+r_dev, color=\"blue\", lw=0, alpha=0.07)\n",
    "axes[1].fill_between(sha.years, z-z_dev, z+z_dev, color=\"magenta\", lw=0, alpha=0.07)\n",
    "axes[1].fill_between(sha.years, s-s_dev, s+s_dev, color=\"green\", lw=0, alpha=0.07)\n",
    "\n",
    "axes[1].set_xlabel(\"Years AD\")\n",
    "axes[1].set_ylabel(\"s,z,r (km)\")\n",
    "axes[1].legend()\n",
    "\n",
    "axes[1].set_xbound(-1000,sha.years[-1])\n",
    "\n",
    "axes[2].plot(sha.years, scipy.rad2deg(phi), \"b-\")\n",
    "axes[2].fill_between(sha.years, scipy.rad2deg(phi-phi_dev), scipy.rad2deg(phi+phi_dev), lw=0, alpha=0.2)\n",
    "\n",
    "axes[2].set_xlabel(\"Years AD\")\n",
    "axes[2].set_ylabel(\"Longitude (°)\")\n",
    "\n",
    "axes[2].set_xbound(-1000, sha.years[-1])\n",
    "\n",
    "axes[3].plot(sha.years, p_quad/p_dip)\n",
    "\n",
    "axes[3].set_xbound(-1000, sha.years[-1])\n",
    "axes[3].set_xlabel(\"Years AD\")\n",
    "axes[3].set_ylabel(\"PQ/PD\")\n",
    "\n",
    "pyplot.tight_layout()\n",
    "pyplot.show(fig)"
   ]
  },
  {
   "cell_type": "code",
   "execution_count": 13,
   "metadata": {
    "collapsed": true
   },
   "outputs": [],
   "source": [
    "import xyzfield; import newleg; import fibonacci_sphere\n",
    "theta,phi=fibonacci_sphere.grid(10000)"
   ]
  },
  {
   "cell_type": "code",
   "execution_count": 14,
   "metadata": {
    "collapsed": true
   },
   "outputs": [],
   "source": [
    "from mpl_toolkits.basemap import Basemap"
   ]
  },
  {
   "cell_type": "markdown",
   "metadata": {
    "collapsed": true
   },
   "source": [
    "__Entropy__"
   ]
  },
  {
   "cell_type": "code",
   "execution_count": 15,
   "metadata": {
    "collapsed": true
   },
   "outputs": [],
   "source": [
    "order = 10\n",
    "prob = numpy.zeros((len(sha.years),order))"
   ]
  },
  {
   "cell_type": "code",
   "execution_count": 16,
   "metadata": {
    "collapsed": false
   },
   "outputs": [],
   "source": [
    "pow_total = numpy.zeros_like(sha.years)\n",
    "\n",
    "for l in range(order):\n",
    "    power = dipole.power(sha.gcomp, l+1, l+1)\n",
    "    prob[:,l] = power\n",
    "    pow_total += power\n",
    "    \n",
    "prob = prob / pow_total[:, numpy.newaxis]\n",
    "\n",
    "info = numpy.zeros_like(prob)\n",
    "info[prob != 0] = prob[prob != 0] * numpy.log(prob[prob != 0])\n",
    "\n",
    "info = info.sum(axis=1)\n",
    "\n",
    "k_entropy = -numpy.gradient(info, 50)\n",
    "d_k_entropy = numpy.gradient(k_entropy,50)"
   ]
  },
  {
   "cell_type": "code",
   "execution_count": null,
   "metadata": {
    "collapsed": false,
    "scrolled": false
   },
   "outputs": [],
   "source": [
    "fig, (ax1,ax4,ax3,ax5,ax2) = pyplot.subplots(5,1, figsize=(25,25))\n",
    "\n",
    "years = numpy.array(sha.years)\n",
    "\n",
    "ax1.plot(years, info)\n",
    "ax2.plot(years, k_entropy)\n",
    "\n",
    "ax2.set_xlabel(\"Years AD\")\n",
    "ax1.set_ylabel(\"Information content\")\n",
    "ax2.set_ylabel(\"Entropy (Years$^{-1}$)\")\n",
    "#ax.plot(years, numpy.polyval(poly, years))\n",
    "\n",
    "ax3.plot(sha.years, s, color=\"green\", label=\"s\")\n",
    "ax3.plot(sha.years, z, \"m-\", label=\"z\")\n",
    "ax3.plot(sha.years, r, \"b-\", label=\"r\")\n",
    "\n",
    "ax3.fill_between(sha.years, r-r_dev, r+r_dev, color=\"blue\", lw=0, alpha=0.07)\n",
    "ax3.fill_between(sha.years, z-z_dev, z+z_dev, color=\"magenta\", lw=0, alpha=0.07)\n",
    "ax3.fill_between(sha.years, s-s_dev, s+s_dev, color=\"green\", lw=0, alpha=0.07)\n",
    "\n",
    "ax3.set_xlabel(\"Years AD\")\n",
    "ax3.set_ylabel(\"s,z,r (km)\")\n",
    "ax3.legend(loc=\"upper left\")\n",
    "\n",
    "#ax3.set_xbound(-2000,sha.years[-1])\n",
    "\n",
    "ax4.plot(sha.years, p_quad/p_dip)\n",
    "\n",
    "#ax4.set_xbound(-2000, sha.years[-1])\n",
    "ax4.set_xlabel(\"Years AD\")\n",
    "ax4.set_ylabel(\"PQ/PD\")\n",
    "\n",
    "ax5.plot(years, d_k_entropy, \"k\")\n",
    "ax5.set_ylabel(\"dK/dt\")\n",
    "\n",
    "def onclick(event):\n",
    "    for ax in (ax1, ax2, ax3, ax4, ax5):\n",
    "        if event.inaxes is ax3:\n",
    "            ax.plot([event.xdata, event.xdata], [-1000,1000], \"r--\", scaley=False)\n",
    "        else:\n",
    "            ax.plot([event.xdata, event.xdata], [-1000,1000], \"k--\", scaley=False)\n",
    "        \n",
    "cid = fig.canvas.mpl_connect('button_press_event', onclick)\n",
    "\n",
    "pyplot.tight_layout()\n",
    "pyplot.show(fig)"
   ]
  },
  {
   "cell_type": "markdown",
   "metadata": {},
   "source": [
    "Notas:\n",
    "\n",
    "- Picos de PQ/PD coinciden con picos de baja información (obvio porque el dipolo es la mayoría de la energía, el aumento relativo de otras componentes siempre conlleva mayor \"reparto\" o menor información.\n",
    "- Picos de info == entropía cero"
   ]
  },
  {
   "cell_type": "markdown",
   "metadata": {},
   "source": [
    "__Ahora con lmax = 4__"
   ]
  },
  {
   "cell_type": "code",
   "execution_count": 31,
   "metadata": {
    "collapsed": false
   },
   "outputs": [],
   "source": [
    "northlons_1, northlats_1 = xyzfield.magnetic_north(sha.gcomp, 1, south=False)\n",
    "northlons_2, northlats_2 = xyzfield.magnetic_north(sha.gcomp, 2, south=False)\n",
    "northlons_4, northlats_4 = xyzfield.magnetic_north(sha.gcomp, 4, south=False)\n",
    "northlons_10, northlats_10 = xyzfield.magnetic_north(sha.gcomp, 10, south=False)"
   ]
  },
  {
   "cell_type": "code",
   "execution_count": 17,
   "metadata": {
    "collapsed": true
   },
   "outputs": [],
   "source": [
    "northlons_1, northlats_1 = xyzfield.magnetic_north(sha.gcomp, 1, south=False)"
   ]
  },
  {
   "cell_type": "code",
   "execution_count": 20,
   "metadata": {
    "collapsed": false
   },
   "outputs": [],
   "source": [
    "nlatest_1=90-abs(90-numpy.array(northlats_1))[numpy.array(sha.years) >= starting_time]\n",
    "nlontest_1=(numpy.array(northlons_1) % 360)[numpy.array(sha.years) >= starting_time]"
   ]
  },
  {
   "cell_type": "code",
   "execution_count": 26,
   "metadata": {
    "collapsed": true
   },
   "outputs": [],
   "source": [
    "fig, (ax1, ax2) = pyplot.subplots(2,1)\n",
    "\n",
    "ax1.plot(sha.years, northlons_1, \"b-\")\n",
    "ax2.plot(sha.years, northlats_1, \"b-\")\n",
    "\n",
    "pyplot.show(fig)"
   ]
  },
  {
   "cell_type": "code",
   "execution_count": null,
   "metadata": {
    "collapsed": false
   },
   "outputs": [],
   "source": [
    "northlon_max=[]\n",
    "northlat_max=[]\n",
    "\n",
    "theta, phi = fibonacci_sphere.grid(40000)\n",
    "\n",
    "for i,year in enumerate(sha.years):\n",
    "    x,y,z = xyzfield.xyzfieldv2(sha.gcomp[i], phi, theta)\n",
    "    inc = numpy.arctan2(z,numpy.sqrt(x**2+y**2))\n",
    "    northlon_max.append(numpy.rad2deg(phi[inc == numpy.max(inc)]))\n",
    "    northlat_max.append(90-numpy.rad2deg(theta[inc == numpy.max(inc)]))\n",
    "    \n",
    "    #print(\"year: {0:<25} {1}\".format(int(year), (northlon_max[-1], northlat_max[-1])))"
   ]
  },
  {
   "cell_type": "code",
   "execution_count": 19,
   "metadata": {
    "collapsed": true
   },
   "outputs": [],
   "source": [
    "starting_time = -2000"
   ]
  },
  {
   "cell_type": "code",
   "execution_count": 38,
   "metadata": {
    "collapsed": false
   },
   "outputs": [],
   "source": [
    "magnetic_north_data = numpy.loadtxt(\"../data/sha.dif.14k/magnetic_north.csv\",delimiter=\",\")\n",
    "\n",
    "magnetic_north_data = magnetic_north_data[magnetic_north_data[:,0] > starting_time]\n",
    "\n",
    "magnetic_north_years = magnetic_north_data[:, 0]\n",
    "magnetic_north_lat = magnetic_north_data[:, 1]\n",
    "magnetic_north_lon = magnetic_north_data[:, 2]"
   ]
  },
  {
   "cell_type": "code",
   "execution_count": 21,
   "metadata": {
    "collapsed": true
   },
   "outputs": [],
   "source": [
    "from mpl_toolkits.basemap import Basemap"
   ]
  },
  {
   "cell_type": "code",
   "execution_count": 32,
   "metadata": {
    "collapsed": false
   },
   "outputs": [
    {
     "name": "stderr",
     "output_type": "stream",
     "text": [
      "/usr/lib/python3.5/site-packages/ipykernel/__main__.py:28: VisibleDeprecationWarning: boolean index did not match indexed array along dimension 0; dimension is 79 but corresponding boolean dimension is 279\n",
      "/usr/lib/python3.5/site-packages/ipykernel/__main__.py:29: VisibleDeprecationWarning: boolean index did not match indexed array along dimension 0; dimension is 79 but corresponding boolean dimension is 279\n"
     ]
    }
   ],
   "source": [
    "base = Basemap(projection='npstere',boundinglat=69,lon_0=0,resolution='l')\n",
    "\n",
    "fig, (ax,ax1,ax4,ax3,ax2) = pyplot.subplots(5,1,figsize=(20,55), gridspec_kw={\"height_ratios\" : [4,1,1,1,1]})\n",
    "base.drawcoastlines(ax=ax, linewidth=0.2)\n",
    "base.drawparallels(numpy.arange(-60.,90.,10.),ax=ax, linewidth=0.3)\n",
    "base.drawmeridians(numpy.arange(0.,420.,30.),labels=[0,0,0,1],fontsize=10,ax=ax, linewidth=0.3)\n",
    "base.drawmapboundary(ax=ax)\n",
    "\n",
    "years_post=numpy.array(sha.years)[numpy.array(sha.years) >= starting_time]\n",
    "\n",
    "nlatest_1=90-abs(90-numpy.array(northlats_1))[numpy.array(sha.years) >= starting_time]\n",
    "nlontest_1=(numpy.array(northlons_1) % 360)[numpy.array(sha.years) >= starting_time]\n",
    "\n",
    "nlatest_2=90-abs(90-numpy.array(northlats_2))[numpy.array(sha.years) >= starting_time]\n",
    "nlontest_2=(numpy.array(northlons_2) % 360)[numpy.array(sha.years) >= starting_time]\n",
    "\n",
    "nlatest_4=90-abs(90-numpy.array(northlats_4))[numpy.array(sha.years) >= starting_time]\n",
    "nlontest_4=(numpy.array(northlons_4) % 360)[numpy.array(sha.years) >= starting_time]\n",
    "\n",
    "nlatest_10=90-abs(90-numpy.array(northlats_10))[numpy.array(sha.years) >= starting_time]\n",
    "nlontest_10=(numpy.array(northlons_10) % 360)[numpy.array(sha.years) >= starting_time]\n",
    "\n",
    "years=[-1400.0, -800.0, -400.0, -100.0, 200.0, 800.0, 1400.0]\n",
    "okyears=[]\n",
    "\n",
    "x_all, y_all = base(nlontest_2, nlatest_2)\n",
    "\n",
    "x_dots=x_all[numpy.in1d(sha.years, okyears)]\n",
    "y_dots=y_all[numpy.in1d(sha.years, okyears)]\n",
    "\n",
    "#base.plot(magnetic_north_lon, magnetic_north_lat, latlon=True, ax=ax,\n",
    "#          c=\"#AA5CD1\", marker=\"o\", markeredgecolor=\"None\", linewidth=0.2, label=\"Magnetic north (Pavón et al. 2014)\")\n",
    "\n",
    "#base.plot(nlontest, nlatest, latlon=True, ax=ax,\n",
    "#          c=\"#026060\", marker=\"o\", markeredgecolor=\"None\", linewidth=0.2, label=\"Magnetic north (optimized)\")\n",
    "\n",
    "base.plot(nlontest_1, nlatest_1, latlon=True, ax=ax,\n",
    "          c=\"#3172EB\", marker=\"o\", markersize=2.5, markeredgecolor=\"None\", linewidth=0.3, label=\"Geomagnetic north ($l_{max} = 1$)\")\n",
    "\n",
    "base.plot(nlontest_2, nlatest_2, latlon=True, ax=ax,\n",
    "          c=\"#D11B5B\", marker=\"o\", markersize=2.5, markeredgecolor=\"None\", linewidth=0.3, label=\"Magnetic north ($l_{max} = 2$)\")\n",
    "\n",
    "base.plot(nlontest_4, nlatest_4, latlon=True, ax=ax,\n",
    "          c=\"#D6BC13\", marker=\"o\", markersize=2.5, markeredgecolor=\"None\", linewidth=0.3, label=\"Magnetic north ($l_{max} = 4$)\")\n",
    "\n",
    "base.plot(nlontest_10, nlatest_10, latlon=True, ax=ax,\n",
    "          c=\"#23BA97\", marker=\"o\", markersize=2.5, markeredgecolor=\"None\", linewidth=0.3, label=\"Magnetic north ($l_{max} = 10$)\")\n",
    "\n",
    "for xi, yi, year in list(zip(x_dots, y_dots, okyears)):\n",
    "    ax.text(xi,yi,str(year), fontsize=16)\n",
    "\n",
    "ax.legend(loc=\"upper right\")\n",
    "    \n",
    "def set_year(event):\n",
    "    \n",
    "    if event.inaxes is ax:  \n",
    "        distance = (x_all - event.xdata)**2 + (y_all - event.ydata)**2\n",
    "        year = numpy.array(years_post)[distance == numpy.min(distance)][0]\n",
    "        x = x_all[distance == numpy.min(distance)]\n",
    "        y = y_all[distance == numpy.min(distance)]\n",
    "        #ax.text(x,y,str(year), fontsize=16, color=\"#026060\")\n",
    "        ax.annotate(str(year),(x,y), fontsize=16, color=\"#026060\", xytext=(-40,30), textcoords=\"offset points\", arrowprops={\"color\":\"#026060\", \"arrowstyle\":\"->\", \"connectionstyle\":\"arc3\"})\n",
    "    elif event.inaxes is ax3:\n",
    "        closest_i= numpy.abs(numpy.array(years_post)-event.xdata).argmin()\n",
    "        year=years_post[closest_i]\n",
    "        ax.annotate(str(year), (x_all[closest_i], y_all[closest_i]), fontsize=16, color=\"red\", xytext=(-50,0), textcoords=\"offset points\", arrowprops={\"color\":\"red\", \"arrowstyle\":\"->\", \"connectionstyle\":\"arc3\"})\n",
    "    else:\n",
    "        closest_i= numpy.abs(numpy.array(years_post)-event.xdata).argmin()\n",
    "        year=years_post[closest_i]\n",
    "        ax.annotate(str(year), (x_all[closest_i], y_all[closest_i]), fontsize=16, color=\"black\", xytext=(-40,-30), textcoords=\"offset points\", arrowprops={\"color\":\"black\", \"arrowstyle\":\"->\", \"connectionstyle\":\"arc3\"})    \n",
    "    \n",
    "    for axi in (ax1, ax2, ax3, ax4):        \n",
    "        if event.inaxes is ax3:\n",
    "            axi.plot([event.xdata, event.xdata], [-1000,1000], \"r--\", scaley=False)\n",
    "            axi.xaxis.set_ticks(numpy.append(axi.xaxis.get_ticklocs(), event.xdata))\n",
    "        elif event.inaxes is ax:\n",
    "            axi.plot([year, year], [-1000,1000], ls=\"--\", color=\"#026060\", scaley=False)\n",
    "            axi.xaxis.set_ticks(numpy.append(axi.xaxis.get_ticklocs(), year))\n",
    "        else:\n",
    "            axi.plot([event.xdata, event.xdata], [-1000,1000], \"k--\", scaley=False)\n",
    "            axi.xaxis.set_ticks(numpy.append(axi.xaxis.get_ticklocs(), event.xdata))\n",
    "        axi.set_xbound(starting_time, 1900)\n",
    "    \n",
    "#base.scatter(southlons, southlats, latlon=True, ax=ax,c=\"#FFFFFF\", marker=\"o\", edgecolor=\"blue\")\n",
    "\n",
    "#base.fillcontinents(color='coral',lake_color='aqua', zorder=0)\n",
    "#base.bluemarble(scale=0.25, zorder=0)\n",
    "#base.warpimage(image=\"../../Pictures/Captura de pantalla_2016-06-09_12-41-41.png\")\n",
    "\n",
    "years = numpy.array(sha.years)\n",
    "\n",
    "ax1.plot(years, info)\n",
    "ax2.plot(years, k_entropy)\n",
    "\n",
    "ax2.set_xlabel(\"Years AD\")\n",
    "ax1.set_ylabel(\"Information content\")\n",
    "ax2.set_ylabel(\"Entropy (Years$^{-1}$)\")\n",
    "#ax.plot(years, numpy.polyval(poly, years))\n",
    "\n",
    "ax3.plot(sha.years, s, color=\"green\", label=\"s\")\n",
    "ax3.plot(sha.years, z, \"m-\", label=\"z\")\n",
    "ax3.plot(sha.years, r, \"b-\", label=\"r\")\n",
    "\n",
    "ax3.fill_between(sha.years, r-r_dev, r+r_dev, color=\"blue\", lw=0, alpha=0.07)\n",
    "ax3.fill_between(sha.years, z-z_dev, z+z_dev, color=\"magenta\", lw=0, alpha=0.07)\n",
    "ax3.fill_between(sha.years, s-s_dev, s+s_dev, color=\"green\", lw=0, alpha=0.07)\n",
    "\n",
    "ax3.set_xlabel(\"Years AD\")\n",
    "ax3.set_ylabel(\"s,z,r (km)\")\n",
    "ax3.legend(loc=\"upper left\")\n",
    "\n",
    "#ax3.set_xbound(-2000,sha.years[-1])\n",
    "\n",
    "ax4.plot(sha.years, p_quad/p_dip)\n",
    "\n",
    "#ax4.set_xbound(-2000, sha.years[-1])\n",
    "ax4.set_xlabel(\"Years AD\")\n",
    "ax4.set_ylabel(\"PQ/PD\")\n",
    "\n",
    "for axi in (ax1, ax2, ax3, ax4):\n",
    "    axi.set_xbound(starting_time, 1900)\n",
    "    axi.xaxis.set_tick_params(labelsize=12)\n",
    "\n",
    "#ax5.plot(years, d_k_entropy, \"k\")\n",
    "#ax5.set_ylabel(\"dK/dt\")\n",
    "\n",
    "cid=fig.canvas.mpl_connect(\"button_press_event\", set_year)\n",
    "\n",
    "fig.tight_layout()\n",
    "pyplot.show(fig)"
   ]
  },
  {
   "cell_type": "markdown",
   "metadata": {},
   "source": [
    "__Yes i had idea good__"
   ]
  },
  {
   "cell_type": "code",
   "execution_count": null,
   "metadata": {
    "collapsed": false
   },
   "outputs": [],
   "source": [
    "def arc_dist(lat1, lon1, lat2, lon2, units=\"rad\"):\n",
    "    if units == \"deg\":\n",
    "        lat1, lon1, lat2, lon2 = numpy.deg2rad((lat1, lon1, lat2, lon2))\n",
    "    \n",
    "    return numpy.arctan2(numpy.sqrt((numpy.cos(lat2)*numpy.sin(numpy.abs(lon2-lon1)))**2 + (numpy.cos(lat1)*numpy.sin(lat2) - numpy.sin(lat1)*numpy.cos(lat2)*numpy.cos(numpy.abs(lon2-lon1)))**2),numpy.sin(lat1)*numpy.sin(lat2) + numpy.cos(lat1)*numpy.cos(lat2)*numpy.cos(numpy.abs(lat2-lat1)))\n",
    "    #return numpy.arccos(numpy.sin(lat1)*numpy.sin(lat2) + numpy.cos(lat1)*numpy.cos(lat2)*numpy.cos(lon2-lon1))\n",
    "    \n",
    "def avg_dist(lats, lons):\n",
    "    \n",
    "    dist = numpy.empty_like(lats)\n",
    "    dist[0] = arc_dist(lats[0], lons[0], lats[1], lons[1])\n",
    "    dist[-1] = arc_dist(lats[-1], lons[-1], lats[-2], lons[-2])\n",
    "    dist[1:-1] = (arc_dist(lats[0:-2], lons[0:-2], lats[1:-1], lons[1:-1])+arc_dist(lats[1:-1], lons[1:-1], lats[2:], lons[2:]))/2\n",
    "    return dist\n",
    "\n",
    "\n",
    "angularv_2 = numpy.sqrt(numpy.rad2deg(arc_dist(numpy.deg2rad(nlatest_2[1:]),\n",
    "                                 numpy.deg2rad(nlontest_2[1:]),\n",
    "                                 numpy.deg2rad(nlatest_2[:-1]),\n",
    "                                 numpy.deg2rad(nlontest_2[:-1]))**2/(50**2)))"
   ]
  },
  {
   "cell_type": "code",
   "execution_count": 62,
   "metadata": {
    "collapsed": false
   },
   "outputs": [
    {
     "name": "stderr",
     "output_type": "stream",
     "text": [
      "/usr/lib/python3.5/site-packages/ipykernel/__main__.py:28: VisibleDeprecationWarning: boolean index did not match indexed array along dimension 0; dimension is 79 but corresponding boolean dimension is 279\n",
      "/usr/lib/python3.5/site-packages/ipykernel/__main__.py:29: VisibleDeprecationWarning: boolean index did not match indexed array along dimension 0; dimension is 79 but corresponding boolean dimension is 279\n"
     ]
    }
   ],
   "source": [
    "from matplotlib import gridspec\n",
    "\n",
    "base = Basemap(projection='npstere',\n",
    "               boundinglat=70,\n",
    "               lon_0=0,\n",
    "               resolution='l')\n",
    "\n",
    "fig = pyplot.figure(figsize=(22,10))\n",
    "\n",
    "gs = gridspec.GridSpec(4, 2, wspace=0.05)\n",
    "\n",
    "ax = pyplot.subplot(gs[:, 1])\n",
    "ax1 = pyplot.subplot(gs[0, 0])\n",
    "ax2 = pyplot.subplot(gs[1, 0])\n",
    "ax3 = pyplot.subplot(gs[2, 0])\n",
    "ax4 = pyplot.subplot(gs[3, 0])\n",
    "\n",
    "for axi in (ax, ax1, ax2, ax3, ax4): fig.add_axes(axi)\n",
    "    \n",
    "base.drawcoastlines(ax=ax, linewidth=0.2)\n",
    "base.drawparallels(numpy.arange(-60.,90.,5.),ax=ax, linewidth=0.3)\n",
    "base.drawmeridians(numpy.arange(0.,420.,10.),labels=[0,0,0,1],fontsize=10,ax=ax, linewidth=0.3, latmax=85)\n",
    "base.drawmapboundary(ax=ax)\n",
    "\n",
    "x_all, y_all = base(nlontest_10, nlatest_10)\n",
    "\n",
    "okyears=[]\n",
    "x_dots=x_all[numpy.in1d(sha.years, okyears)]\n",
    "y_dots=y_all[numpy.in1d(sha.years, okyears)]\n",
    "\n",
    "base.plot(nlontest_1, nlatest_1, latlon=True, ax=ax,\n",
    "          c=\"#3172EB\", marker=\"o\", markersize=2.5, markeredgecolor=\"None\", linewidth=0.3, label=\"Geomagnetic north ($l_{max} = 1$)\")\n",
    "\n",
    "base.plot(nlontest_2, nlatest_2, latlon=True, ax=ax,\n",
    "          c=\"#D11B5B\", marker=\"o\", markeredgecolor=\"None\", linewidth=0.3, label=\"Magnetic north ($l_{max} = 2$)\",\n",
    "          markersize=2.5)\n",
    "\n",
    "#x_tan, y_tan = numpy.array(base(nlontest_2 + tan_lon, nlatest_2 + tan_lat)) - base(nlontest_2, nlatest_2)\n",
    "#base.quiver(nlontest_2, nlatest_2, x_tan, y_tan, latlon=True, ax=ax, width=0.0005)\n",
    "\n",
    "#base.plot(nlontest_4, nlatest_4, latlon=True, ax=ax,\n",
    "#          c=\"#D6BC13\", marker=\"o\", markersize=2.5, markeredgecolor=\"None\", linewidth=0.3, label=\"Magnetic north ($l_{max} = 4$)\")\n",
    "\n",
    "base.plot(nlontest_10, nlatest_10, latlon=True, ax=ax,\n",
    "          c=\"#139A67\", marker=\"o\", markersize=4.5, markeredgecolor=\"None\", linewidth=0.7, label=\"Magnetic north ($l_{max} = 10$)\")\n",
    "\n",
    "#base.plot(magnetic_north_lon, magnetic_north_lat, latlon=True, ax=ax,\n",
    "#          c=\"#777777\", marker=\"o\", markersize=2.5, markeredgecolor=\"None\", linewidth=0.3, label=\"Magnetic north (Pavón et al. 2014)\")\n",
    "\n",
    "for xi, yi, year in list(zip(x_dots, y_dots, okyears)):\n",
    "    ax.text(xi,yi,str(year), fontsize=16)\n",
    "\n",
    "ax.legend(loc=\"upper right\", fontsize=\"small\")\n",
    "    \n",
    "def set_year(event):\n",
    "    \n",
    "    if event.inaxes is ax:  \n",
    "        distance = (x_all - event.xdata)**2 + (y_all - event.ydata)**2\n",
    "        year = numpy.array(years_post)[distance == numpy.min(distance)][0]\n",
    "        x = x_all[distance == numpy.min(distance)]\n",
    "        y = y_all[distance == numpy.min(distance)]\n",
    "        #ax.text(x,y,str(year), fontsize=16, color=\"#026060\")\n",
    "        ax.annotate(str(year),(x,y), fontsize=9, color=\"#D11B5B\", xytext=(-40,30), textcoords=\"offset points\", arrowprops={\"color\":\"#D11B5B\", \"arrowstyle\":\"->\", \"connectionstyle\":\"arc3\"})\n",
    "    elif event.inaxes is ax1:\n",
    "        closest_i= numpy.abs(numpy.array(years_post)-event.xdata).argmin()\n",
    "        year=years_post[closest_i]\n",
    "        ax.annotate(str(year), (x_all[closest_i], y_all[closest_i]), fontsize=9, color=\"#9B14DE\", xytext=(0,20), textcoords=\"offset points\", arrowprops={\"color\":\"#9B14DE\", \"arrowstyle\":\"->\", \"connectionstyle\":\"arc3\"})\n",
    "    elif event.inaxes is ax3:\n",
    "        closest_i= numpy.abs(numpy.array(years_post)-event.xdata).argmin()\n",
    "        year=years_post[closest_i]\n",
    "        ax.annotate(str(year), (x_all[closest_i], y_all[closest_i]), fontsize=9, color=\"red\", xytext=(-50,0), textcoords=\"offset points\", arrowprops={\"color\":\"red\", \"arrowstyle\":\"->\", \"connectionstyle\":\"arc3\"})\n",
    "    elif event.inaxes is ax2:\n",
    "        closest_i= numpy.abs(numpy.array(years_post)-event.xdata).argmin()\n",
    "        year=years_post[closest_i]\n",
    "        ax.annotate(str(year), (x_all[closest_i], y_all[closest_i]), fontsize=9, color=\"#CB19E3\", xytext=(20,0), textcoords=\"offset points\", arrowprops={\"color\":\"#CB19E3\", \"arrowstyle\":\"->\", \"connectionstyle\":\"arc3\"})\n",
    "    else:\n",
    "        closest_i= numpy.abs(numpy.array(years_post)-event.xdata).argmin()\n",
    "        year=years_post[closest_i]\n",
    "        ax.annotate(str(year), (x_all[closest_i], y_all[closest_i]), fontsize=9, color=\"black\", xytext=(-40,-30), textcoords=\"offset points\", arrowprops={\"color\":\"black\", \"arrowstyle\":\"->\", \"connectionstyle\":\"arc3\"})    \n",
    "    \n",
    "    for axi in (ax1, ax2, ax3, ax4):        \n",
    "        if event.inaxes is ax3:\n",
    "            axi.plot([event.xdata, event.xdata], [-1000,1000], \"r--\", scaley=False)\n",
    "            axi.xaxis.set_ticks(numpy.append(axi.xaxis.get_ticklocs(), event.xdata))\n",
    "        elif event.inaxes is ax:\n",
    "            axi.plot([year, year], [-1000,1000], ls=\"--\", color=\"#D11B5B\", scaley=False)\n",
    "            axi.xaxis.set_ticks(numpy.append(axi.xaxis.get_ticklocs(), year))\n",
    "        elif event.inaxes is ax2:\n",
    "            axi.plot([year, year], [-1000,1000], ls=\"--\", color=\"#CB19E3\", scaley=False)\n",
    "            axi.xaxis.set_ticks(numpy.append(axi.xaxis.get_ticklocs(), year))\n",
    "        elif event.inaxes is ax1:\n",
    "            axi.plot([event.xdata, event.xdata], [-1000,1000], ls=\"--\", color=\"#9B14DE\", scaley=False)\n",
    "            axi.xaxis.set_ticks(numpy.append(axi.xaxis.get_ticklocs(), event.xdata))\n",
    "        else:\n",
    "            axi.plot([event.xdata, event.xdata], [-1000,1000], \"k--\", scaley=False)\n",
    "            axi.xaxis.set_ticks(numpy.append(axi.xaxis.get_ticklocs(), event.xdata))\n",
    "        axi.set_xbound(starting_time, 1900)\n",
    "        \n",
    "    event.canvas.draw()\n",
    "    \n",
    "#base.scatter(southlons, southlats, latlon=True, ax=ax,c=\"#FFFFFF\", marker=\"o\", edgecolor=\"blue\")\n",
    "\n",
    "#base.fillcontinents(color='coral',lake_color='aqua', zorder=0)\n",
    "#base.bluemarble(scale=0.25, zorder=0)\n",
    "#base.warpimage(image=\"../../Pictures/Captura de pantalla_2016-06-09_12-41-41.png\")\n",
    "\n",
    "years = numpy.array(sha.years)\n",
    "\n",
    "#ax1.plot(years, info)\n",
    "#ax2.plot(years[years >= starting_time][:-1], angularv_2)\n",
    "\n",
    "#ax1.set_ylabel(\"Information content\")\n",
    "#ax2.set_ylabel(\"Pole velocity (º Years$^{-1}$) \")\n",
    "#ax.plot(years, numpy.polyval(poly, years))\n",
    "\n",
    "ax1.plot(years[years >= starting_time][:-1], curvature[:-1], color=\"#9B14DE\")\n",
    "ax1.plot(years[years >= starting_time][:-2], curv_filtered[2:], color=\"#9B14DE\", ls=\"--\")\n",
    "ax1.set_ylabel(\"Pole drift curvature (º Years$^{-2}$)\")\n",
    "\n",
    "ax2.plot(years[years >= starting_time], intensities[years >= starting_time])\n",
    "ax2.set_ylabel(\"Average field intensity ($\\mu$T)\")\n",
    "\n",
    "\n",
    "ax3.plot(sha.years, s, color=\"green\", label=\"s\")\n",
    "ax3.plot(sha.years, z, \"m-\", label=\"z\")\n",
    "ax3.plot(sha.years, r, \"b-\", label=\"r\")\n",
    "\n",
    "ax3.fill_between(sha.years, r-r_dev, r+r_dev, color=\"blue\", lw=0, alpha=0.07)\n",
    "ax3.fill_between(sha.years, z-z_dev, z+z_dev, color=\"magenta\", lw=0, alpha=0.07)\n",
    "ax3.fill_between(sha.years, s-s_dev, s+s_dev, color=\"green\", lw=0, alpha=0.07)\n",
    "\n",
    "ax3.set_ylabel(\"s,z,r (km)\")\n",
    "ax3.legend(loc=\"lower center\", fontsize=\"x-small\", ncol=3)\n",
    "\n",
    "#ax3.set_xbound(-2000,sha.years[-1])\n",
    "\n",
    "ax4.plot(sha.years, p_quad/p_dip)\n",
    "\n",
    "#ax4.set_xbound(-2000, sha.years[-1])\n",
    "ax4.set_xlabel(\"Years AD\")\n",
    "ax4.set_ylabel(\"PQ/PD\")\n",
    "\n",
    "for axi in (ax1, ax2, ax3, ax4):\n",
    "    axi.set_xbound(starting_time, 1900)\n",
    "    axi.xaxis.set_tick_params(labelsize=9)\n",
    "\n",
    "#ax5.plot(years, d_k_entropy, \"k\")\n",
    "#ax5.set_ylabel(\"dK/dt\")\n",
    "\n",
    "cid=fig.canvas.mpl_connect(\"button_press_event\", set_year)\n",
    "\n",
    "pyplot.show(fig)"
   ]
  },
  {
   "cell_type": "code",
   "execution_count": 44,
   "metadata": {
    "collapsed": false
   },
   "outputs": [],
   "source": [
    "intensities = numpy.empty_like(sha.years)\n",
    "npoints = len(phi)\n",
    "\n",
    "for i, year in enumerate(sha.years):\n",
    "    x,y,z = xyzfield.xyzfieldv2(sha.gcomp[i, :], phi, theta)\n",
    "    dec,inc,f,h = xyzfield.xyz2difh(x,y,z)\n",
    "    intensities[i]=(f.sum(axis=0)/npoints)"
   ]
  },
  {
   "cell_type": "code",
   "execution_count": null,
   "metadata": {
    "collapsed": false
   },
   "outputs": [],
   "source": [
    "#curvature\n",
    "#tan_lat, tan_lon = numpy.diff((nlatest_2, nlontest_2), axis=1)/50\n",
    "#curvature = numpy.sqrt(numpy.diff(tan_lat)**2 + numpy.diff(tan_lon)**2)/numpy.rad2deg(arc_dist(nlatest_2[2:], nlontest_2[2:], nlatest_2[:-2], nlontest_2[:-2], units=\"deg\"))\n",
    "\n",
    "#tan_lon = (nlontest_2[1:] - nlontest_2[:-1])/50\n",
    "\n",
    "nlontest_2r, nlatest_2r = numpy.deg2rad(northlons_2)[years >= starting_time], numpy.pi-numpy.deg2rad(northlats_2)[years >= starting_time]\n",
    "\n",
    "#tan_lon = numpy.rad2deg(numpy.arctan2(numpy.sin(nlontest_2r[1:] - nlontest_2r[:-1]), numpy.cos(nlontest_2r[1:] - nlontest_2r[:-1]))/50)\n",
    "tan_lon = numpy.sin(numpy.pi/2-nlatest_2r)*numpy.rad2deg(numpy.arctan2(numpy.sin(numpy.ediff1d(nlontest_2r, to_begin=0)), numpy.cos(numpy.ediff1d(nlontest_2r, to_begin=0)))/50)\n",
    "\n",
    "#tan_lat = numpy.rad2deg(numpy.arctan2(numpy.sin(nlatest_2r[1:] - nlatest_2r[:-1]), numpy.cos(nlatest_2r[1:] - nlatest_2r[:-1]))/50)\n",
    "tan_lat = numpy.rad2deg(numpy.arctan2(numpy.sin(numpy.ediff1d(nlatest_2r, to_begin=0)), numpy.cos(numpy.ediff1d(nlatest_2r, to_begin=0)))/50)\n",
    "\n",
    "#curvature = numpy.sqrt(numpy.gradient(tan_lat)**2 + numpy.gradient(tan_lon)**2)/numpy.rad2deg(arc_dist(nlatest_2r[1:], nlontest_2r[1:], nlatest_2r[:-1], nlontest_2r[:-1]))\n",
    "curvature = numpy.sqrt(numpy.gradient(tan_lat)**2 + numpy.gradient(tan_lon)**2)/numpy.rad2deg(avg_dist(nlatest_2r, nlontest_2r))"
   ]
  },
  {
   "cell_type": "code",
   "execution_count": 45,
   "metadata": {
    "collapsed": true
   },
   "outputs": [],
   "source": [
    "import scipy.interpolate"
   ]
  },
  {
   "cell_type": "code",
   "execution_count": null,
   "metadata": {
    "collapsed": false
   },
   "outputs": [],
   "source": [
    "years_post=years[years >= starting_time]\n",
    "\n",
    "years_post_smoothed=numpy.linspace(years_post[0], years_post[-1], 3000)\n",
    "\n",
    "slon=scipy.interpolate.UnivariateSpline(years_post, nlontest_2, s=0.1)(years_post_smoothed)\n",
    "slat=scipy.interpolate.UnivariateSpline(years_post, nlatest_2, s=0.1)(years_post_smoothed)\n",
    "\n",
    "tan_lon = numpy.sin(numpy.pi-slat)*numpy.rad2deg(numpy.arctan2(numpy.sin(numpy.gradient(slon)), numpy.cos(numpy.gradient(slon)))/50)\n",
    "tan_lat = numpy.rad2deg(numpy.arctan2(numpy.sin(numpy.gradient(slat)), numpy.cos(numpy.gradient(slat)))/50)\n",
    "\n",
    "curvature = scipy.interpolate.InterpolatedUnivariateSpline(years_post_smoothed, numpy.sqrt(numpy.gradient(tan_lat)**2 + numpy.gradient(tan_lon)**2)/numpy.rad2deg(avg_dist(slat, slon)))(years_post)\n",
    "curvature = numpy.sqrt(numpy.gradient(tan_lat)**2 + numpy.gradient(tan_lon)**2)/numpy.rad2deg(avg_dist(slat, slon))\n"
   ]
  },
  {
   "cell_type": "code",
   "execution_count": null,
   "metadata": {
    "collapsed": false
   },
   "outputs": [],
   "source": [
    "fig, axes = pyplot.subplots(3,1)\n",
    "\n",
    "axes[0].plot(years_post, nlontest_2)\n",
    "axes[1].plot(years_post, nlatest_2)\n",
    "\n",
    "pyplot.show(fig)"
   ]
  },
  {
   "cell_type": "code",
   "execution_count": 60,
   "metadata": {
    "collapsed": true
   },
   "outputs": [],
   "source": [
    "slon=scipy.interpolate.UnivariateSpline(years_post, nlontest_10, s=1)(years_post)\n",
    "slat=scipy.interpolate.UnivariateSpline(years_post, nlatest_10, s=1)(years_post)\n",
    "\n",
    "#change this to use an equal-distance projection so tangent vector is accurate\n",
    "\n",
    "fake_map = Basemap(projection='npaeqd',boundinglat=0,lon_0=0,resolution='l')\n",
    "\n",
    "xx, yy = fake_map(slon, slat)\n",
    "difx, dify = numpy.gradient(xx)/6371000, numpy.gradient(yy)/6371000\n",
    "tan_len = numpy.sqrt(difx**2 + dify**2)/50\n",
    "\n",
    "curvature = (numpy.gradient(difx)**2 + numpy.gradient(dify)**2)/tan_len"
   ]
  },
  {
   "cell_type": "code",
   "execution_count": null,
   "metadata": {
    "collapsed": false
   },
   "outputs": [],
   "source": [
    "numpy.arctan2(numpy.sin(numpy.ediff1d(numpy.deg2rad(nlontest_2))), numpy.cos(numpy.ediff1d(numpy.deg2rad(nlontest_2)))).shape"
   ]
  },
  {
   "cell_type": "code",
   "execution_count": 47,
   "metadata": {
    "collapsed": false
   },
   "outputs": [],
   "source": [
    "import scipy.signal\n",
    "b, a=scipy.signal.butter(4, 1/2, btype=\"low\")\n",
    "curv_filtered = scipy.signal.lfilter(b, a, curvature)\n",
    "#curv_filtered = scipy.signal.medfilt(curvature, 3)"
   ]
  },
  {
   "cell_type": "code",
   "execution_count": null,
   "metadata": {
    "collapsed": true
   },
   "outputs": [],
   "source": [
    "#magic curv\n",
    "\n"
   ]
  },
  {
   "cell_type": "markdown",
   "metadata": {},
   "source": [
    "### curva de declinación"
   ]
  },
  {
   "cell_type": "code",
   "execution_count": null,
   "metadata": {
    "collapsed": true
   },
   "outputs": [],
   "source": [
    "paris_lat, paris_lon = 48.8566, 2.3522"
   ]
  },
  {
   "cell_type": "code",
   "execution_count": null,
   "metadata": {
    "collapsed": false
   },
   "outputs": [],
   "source": [
    "declinations = numpy.empty_like(sha.years)\n",
    "inclinations = numpy.empty_like(sha.years)\n",
    "\n",
    "starting_time = -2000\n",
    "years = numpy.array(sha.years)\n",
    "\n",
    "for i, y in enumerate(sha.years):\n",
    "    dec,inc,f,h = xyzfield.xyz2difh(*xyzfield.xyzfieldv2(sha.gcomp[i, :],\n",
    "                                                        numpy.deg2rad([paris_lon]),\n",
    "                                                        numpy.deg2rad([90-paris_lat])))\n",
    "    declinations[i] = dec\n",
    "    inclinations[i] = inc\n",
    "    \n",
    "dec_degrees = numpy.rad2deg(declinations[years >= starting_time])\n",
    "inc_degrees = numpy.rad2deg(inclinations[years >= starting_time])"
   ]
  },
  {
   "cell_type": "code",
   "execution_count": null,
   "metadata": {
    "collapsed": true
   },
   "outputs": [],
   "source": [
    "fig, axes = pyplot.subplots(2,1)\n",
    "\n",
    "axes[0].plot(years_post, numpy.rad2deg(declinations[years >= starting_time]))\n",
    "axes[1].plot(years_post, numpy.rad2deg(inclinations[years >= starting_time]))\n",
    "\n",
    "pyplot.show(fig)"
   ]
  },
  {
   "cell_type": "code",
   "execution_count": null,
   "metadata": {
    "collapsed": false
   },
   "outputs": [],
   "source": [
    "fig, ax = pyplot.subplots()\n",
    "\n",
    "base2 = Basemap(projection='npstere',\n",
    "                lat_0=90, boundinglat = 50,\n",
    "                lon_0=180,resolution='l')\n",
    "\n",
    "base2.drawparallels(numpy.arange(50,90,10.), ax=ax)\n",
    "base2.drawmeridians(numpy.arange(-30,35,5.), ax=ax)\n",
    "\n",
    "base2.plot(-dec_degrees,\n",
    "           inc_degrees,\n",
    "           latlon=True, ax=ax,\n",
    "           linewidth=1.0,\n",
    "           marker=\"o\", markeredgecolor=\"None\",\n",
    "           color=\"#D11B5B\")\n",
    "\n",
    "x_dots, y_dots = base2(-dec_degrees, inc_degrees)\n",
    "\n",
    "for xi, yi, year in list(zip(x_dots, y_dots, years[years >= starting_time]))[-1::-4]:\n",
    "    ax.text(xi,yi,int(year), fontsize=10)\n",
    "\n",
    "pyplot.show(fig)"
   ]
  },
  {
   "cell_type": "code",
   "execution_count": null,
   "metadata": {
    "collapsed": true
   },
   "outputs": [],
   "source": []
  }
 ],
 "metadata": {
  "kernelspec": {
   "display_name": "Python 3",
   "language": "python",
   "name": "python3"
  },
  "language_info": {
   "codemirror_mode": {
    "name": "ipython",
    "version": 3
   },
   "file_extension": ".py",
   "mimetype": "text/x-python",
   "name": "python",
   "nbconvert_exporter": "python",
   "pygments_lexer": "ipython3",
   "version": "3.5.1"
  }
 },
 "nbformat": 4,
 "nbformat_minor": 0
}
