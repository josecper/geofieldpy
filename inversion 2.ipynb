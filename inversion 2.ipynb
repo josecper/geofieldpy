{
 "cells": [
  {
   "cell_type": "code",
   "execution_count": 4,
   "metadata": {
    "collapsed": false
   },
   "outputs": [],
   "source": [
    "import newleg, inverse, xyzfield\n",
    "import geofield\n",
    "import numpy, scipy\n",
    "import fibonacci_sphere\n",
    "from matplotlib import pyplot"
   ]
  },
  {
   "cell_type": "code",
   "execution_count": 5,
   "metadata": {
    "collapsed": false
   },
   "outputs": [
    {
     "data": {
      "text/plain": [
       "<module 'fibonacci_sphere' from '/home/josecper/Programs/python/fibonacci_sphere.py'>"
      ]
     },
     "execution_count": 5,
     "metadata": {},
     "output_type": "execute_result"
    }
   ],
   "source": [
    "from importlib import reload\n",
    "reload(geofield); reload(newleg); reload(xyzfield); reload(inverse); reload(fibonacci_sphere)"
   ]
  },
  {
   "cell_type": "code",
   "execution_count": 3,
   "metadata": {
    "collapsed": true
   },
   "outputs": [],
   "source": [
    "chaos=geofield.ChaosData(\"../data/CHAOS5X/gauss_coeff_chaos5x.dat\")"
   ]
  },
  {
   "cell_type": "code",
   "execution_count": 5,
   "metadata": {
    "collapsed": false
   },
   "outputs": [],
   "source": [
    "theta,phi=fibonacci_sphere.grid(n=4000)"
   ]
  },
  {
   "cell_type": "code",
   "execution_count": 6,
   "metadata": {
    "collapsed": false
   },
   "outputs": [],
   "source": [
    "x,y,z=xyzfield.xyzfieldv2(chaos.gcomp[0,1:],phi,theta)\n",
    "dec, inc, intensity, horizontal = xyzfield.xyz2difh(x,y,z)"
   ]
  },
  {
   "cell_type": "code",
   "execution_count": 7,
   "metadata": {
    "collapsed": false
   },
   "outputs": [],
   "source": [
    "ggg=numpy.vstack((theta,phi,dec,inc,intensity)).transpose()\n",
    "numpy.savetxt(\"../data/dif_synth.txt\", ggg, delimiter=\"\\t\", newline=\"\\n\")\n"
   ]
  },
  {
   "cell_type": "code",
   "execution_count": 18,
   "metadata": {
    "collapsed": false
   },
   "outputs": [],
   "source": [
    "!python corrupt.py --filename ../data/dif_synth.txt --out ../data/dif_corrupt.txt --density 0.80\n",
    "\n",
    "corrupted=numpy.loadtxt(\"../data/dif_corrupt.txt\").transpose()\n",
    "thetaf,phif,decf,incf,intf=corrupted[0], corrupted[1], corrupted[2], corrupted[3], corrupted[4]"
   ]
  },
  {
   "cell_type": "code",
   "execution_count": 27,
   "metadata": {
    "collapsed": false
   },
   "outputs": [],
   "source": [
    "g_synthf=inverse.invert_dif(thetaf,phif,(decf,incf,intf), order=13, steps=10)"
   ]
  },
  {
   "cell_type": "code",
   "execution_count": 23,
   "metadata": {
    "collapsed": false
   },
   "outputs": [
    {
     "name": "stderr",
     "output_type": "stream",
     "text": [
      "/usr/lib/python3.5/site-packages/mpl_toolkits/basemap/__init__.py:3644: VisibleDeprecationWarning: using a non-integer number instead of an integer will result in an error in the future\n",
      "  xx = x[x.shape[0]/2,:]\n"
     ]
    }
   ],
   "source": [
    "xs,ys,zs=xyzfield.xyzfieldv2(g_synthf,phi,theta)\n",
    "pyplot.show(xyzfield.xyzcontour(theta,phi,xs,ys,zs,regular=False))"
   ]
  },
  {
   "cell_type": "code",
   "execution_count": 9,
   "metadata": {
    "collapsed": false
   },
   "outputs": [],
   "source": [
    "g_synth=inverse.invert_dif(theta,phi,(dec,inc,intensity), order=13, steps=10)"
   ]
  },
  {
   "cell_type": "code",
   "execution_count": 2,
   "metadata": {
    "collapsed": true
   },
   "outputs": [],
   "source": [
    "from mpl_toolkits.basemap import Basemap"
   ]
  },
  {
   "cell_type": "code",
   "execution_count": 3,
   "metadata": {
    "collapsed": false
   },
   "outputs": [
    {
     "ename": "NameError",
     "evalue": "name 'pyplot' is not defined",
     "output_type": "error",
     "traceback": [
      "\u001b[1;31m---------------------------------------------------------------------------\u001b[0m",
      "\u001b[1;31mNameError\u001b[0m                                 Traceback (most recent call last)",
      "\u001b[1;32m<ipython-input-3-228ae444e5c7>\u001b[0m in \u001b[0;36m<module>\u001b[1;34m()\u001b[0m\n\u001b[0;32m      1\u001b[0m \u001b[0mbase\u001b[0m\u001b[1;33m=\u001b[0m\u001b[0mBasemap\u001b[0m\u001b[1;33m(\u001b[0m\u001b[0mprojection\u001b[0m\u001b[1;33m=\u001b[0m\u001b[1;34m\"robin\"\u001b[0m\u001b[1;33m,\u001b[0m \u001b[0mlon_0\u001b[0m\u001b[1;33m=\u001b[0m\u001b[1;36m0.0\u001b[0m\u001b[1;33m,\u001b[0m \u001b[0mresolution\u001b[0m\u001b[1;33m=\u001b[0m\u001b[1;34m\"l\"\u001b[0m\u001b[1;33m)\u001b[0m\u001b[1;33m\u001b[0m\u001b[0m\n\u001b[0;32m      2\u001b[0m \u001b[1;33m\u001b[0m\u001b[0m\n\u001b[1;32m----> 3\u001b[1;33m \u001b[0mfig\u001b[0m\u001b[1;33m,\u001b[0m \u001b[0max\u001b[0m \u001b[1;33m=\u001b[0m \u001b[0mpyplot\u001b[0m\u001b[1;33m.\u001b[0m\u001b[0msubplots\u001b[0m\u001b[1;33m(\u001b[0m\u001b[1;33m)\u001b[0m\u001b[1;33m\u001b[0m\u001b[0m\n\u001b[0m\u001b[0;32m      4\u001b[0m \u001b[1;31m#base.drawcoastlines(ax=ax)\u001b[0m\u001b[1;33m\u001b[0m\u001b[1;33m\u001b[0m\u001b[0m\n\u001b[0;32m      5\u001b[0m \u001b[0mbase\u001b[0m\u001b[1;33m.\u001b[0m\u001b[0mfillcontinents\u001b[0m\u001b[1;33m(\u001b[0m\u001b[0mcolor\u001b[0m\u001b[1;33m=\u001b[0m\u001b[1;34m'coral'\u001b[0m\u001b[1;33m,\u001b[0m\u001b[0mlake_color\u001b[0m\u001b[1;33m=\u001b[0m\u001b[1;34m'aqua'\u001b[0m\u001b[1;33m)\u001b[0m\u001b[1;33m\u001b[0m\u001b[0m\n",
      "\u001b[1;31mNameError\u001b[0m: name 'pyplot' is not defined"
     ]
    }
   ],
   "source": [
    "base=Basemap(projection=\"robin\", lon_0=0.0, resolution=\"l\")\n",
    "\n",
    "fig, ax = pyplot.subplots()\n",
    "#base.drawcoastlines(ax=ax)\n",
    "base.fillcontinents(color='coral',lake_color='aqua')\n",
    "base.drawparallels(numpy.arange(-60.,90.,30.),ax=ax)\n",
    "base.drawmeridians(numpy.arange(0.,420.,60.),labels=[0,0,0,1],fontsize=10,ax=ax)\n",
    "base.drawmapboundary(ax=ax)\n",
    "\n",
    "theta_dec=theta[~numpy.isnan(decf)]\n",
    "phi_dec=phi[~numpy.isnan(decf)]\n",
    "\n",
    "theta_inc=theta[~numpy.isnan(incf)]\n",
    "phi_inc=phi[~numpy.isnan(incf)]\n",
    "\n",
    "theta_int=theta[~numpy.isnan(intf)]\n",
    "phi_int=phi[~numpy.isnan(intf)]\n",
    "\n",
    "base.scatter(numpy.rad2deg(phi_dec),90-numpy.rad2deg(theta_dec), latlon=True, ax=ax,\n",
    "             c=\"#B52020\", marker=\"o\", edgecolor=\"None\", label=\"Declination\", alpha=0.5)\n",
    "base.scatter(numpy.rad2deg(phi_inc),90-numpy.rad2deg(theta_inc), latlon=True, ax=ax,\n",
    "             c=\"#2020B5\", marker=\"o\", edgecolor=\"None\", label=\"Inclination\", alpha=0.5)\n",
    "base.scatter(numpy.rad2deg(phi_int),90-numpy.rad2deg(theta_int), latlon=True, ax=ax,\n",
    "             c=\"#20B520\", marker=\"o\", edgecolor=\"None\", label=\"Intensity\", alpha=0.5)\n",
    "\n",
    "pyplot.legend(loc=\"best\", fontsize=\"small\")\n",
    "pyplot.show(fig)"
   ]
  },
  {
   "cell_type": "code",
   "execution_count": null,
   "metadata": {
    "collapsed": true
   },
   "outputs": [],
   "source": []
  }
 ],
 "metadata": {
  "kernelspec": {
   "display_name": "Python 3",
   "language": "python",
   "name": "python3"
  },
  "language_info": {
   "codemirror_mode": {
    "name": "ipython",
    "version": 3
   },
   "file_extension": ".py",
   "mimetype": "text/x-python",
   "name": "python",
   "nbconvert_exporter": "python",
   "pygments_lexer": "ipython3",
   "version": "3.5.1"
  }
 },
 "nbformat": 4,
 "nbformat_minor": 0
}
