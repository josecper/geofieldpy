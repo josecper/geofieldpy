{
 "cells": [
  {
   "cell_type": "code",
   "execution_count": 189,
   "metadata": {
    "collapsed": false
   },
   "outputs": [],
   "source": [
    "import newleg, inverse, xyzfield\n",
    "import geofield\n",
    "import numpy, scipy\n",
    "import fibonacci_sphere\n",
    "from matplotlib import pyplot"
   ]
  },
  {
   "cell_type": "code",
   "execution_count": 193,
   "metadata": {
    "collapsed": false
   },
   "outputs": [
    {
     "data": {
      "text/plain": [
       "<module 'inverse' from '/home/josecper/Programs/python/inverse.py'>"
      ]
     },
     "execution_count": 193,
     "metadata": {},
     "output_type": "execute_result"
    }
   ],
   "source": [
    "from importlib import reload\n",
    "reload(geofield); reload(newleg); reload(xyzfield); reload(inverse)"
   ]
  },
  {
   "cell_type": "code",
   "execution_count": 182,
   "metadata": {
    "collapsed": true
   },
   "outputs": [],
   "source": [
    "chaos=geofield.ChaosData(\"../data/CHAOS5X/gauss_coeff_chaos5x.dat\")"
   ]
  },
  {
   "cell_type": "code",
   "execution_count": 197,
   "metadata": {
    "collapsed": true
   },
   "outputs": [],
   "source": [
    "theta,phi=fibonacci_sphere.grid(n=4000)"
   ]
  },
  {
   "cell_type": "code",
   "execution_count": 183,
   "metadata": {
    "collapsed": false
   },
   "outputs": [],
   "source": [
    "x,y,z=xyzfield.xyzfieldv2(chaos.gcomp[0,1:],phi,theta)\n",
    "dec, inc, intensity, horizontal = xyzfield.xyz2difh(x,y,z)"
   ]
  },
  {
   "cell_type": "code",
   "execution_count": 147,
   "metadata": {
    "collapsed": false,
    "scrolled": true
   },
   "outputs": [
    {
     "name": "stderr",
     "output_type": "stream",
     "text": [
      "/usr/lib/python3.5/site-packages/mpl_toolkits/basemap/__init__.py:3644: VisibleDeprecationWarning: using a non-integer number instead of an integer will result in an error in the future\n",
      "  xx = x[x.shape[0]/2,:]\n"
     ]
    }
   ],
   "source": [
    "pyplot.show(xyzfield.xyzcontour(theta,phi,x,y,z,regular=False))"
   ]
  },
  {
   "cell_type": "code",
   "execution_count": 198,
   "metadata": {
    "collapsed": false
   },
   "outputs": [
    {
     "name": "stdout",
     "output_type": "stream",
     "text": [
      "[-30491.39478329  -1847.11565169   5628.93539136  -1768.76972323\n",
      "   2930.08917611] 26905552.7557\n",
      "[-29758.29840465  -1857.78962101   4918.41522972  -2216.73887772\n",
      "   3036.00133304] 4704347.21465\n",
      "[-29686.53077546  -1751.42972298   5168.44499109  -2221.25184875\n",
      "   3065.6364922 ] 93986.8129798\n",
      "[-29659.77931399  -1757.70977721   5251.10360948  -2224.97604053\n",
      "   3072.63768176] 28561.2370589\n",
      "[-29658.14053271  -1761.01593664   5254.3032798   -2225.40589413\n",
      "   3072.78393921] 3447.18938261\n",
      "[-29658.13200026  -1761.04169914   5254.32109956  -2225.4088999\n",
      "   3072.78360003] 12.3345387932\n",
      "[-29658.132   -1761.0417   5254.3211  -2225.4089   3072.7836] 0.000517284299973\n",
      "[-29658.132   -1761.0417   5254.3211  -2225.4089   3072.7836] 5.61276279216e-08\n",
      "[-29658.132   -1761.0417   5254.3211  -2225.4089   3072.7836] 5.66330585588e-08\n",
      "[-29658.132   -1761.0417   5254.3211  -2225.4089   3072.7836] 5.6746922378e-08\n"
     ]
    }
   ],
   "source": [
    "g_synth=inverse.invert_dif(theta,phi,(dec,inc,intensity), order=13, steps=10)"
   ]
  },
  {
   "cell_type": "code",
   "execution_count": 195,
   "metadata": {
    "collapsed": false
   },
   "outputs": [],
   "source": [
    "xs,ys,zs=xyzfield.xyzfieldv2(g_synth,phi,theta)\n"
   ]
  },
  {
   "cell_type": "code",
   "execution_count": 196,
   "metadata": {
    "collapsed": false
   },
   "outputs": [
    {
     "name": "stderr",
     "output_type": "stream",
     "text": [
      "/usr/lib/python3.5/site-packages/mpl_toolkits/basemap/__init__.py:3644: VisibleDeprecationWarning: using a non-integer number instead of an integer will result in an error in the future\n",
      "  xx = x[x.shape[0]/2,:]\n"
     ]
    }
   ],
   "source": [
    "pyplot.show(xyzfield.xyzcontour(theta,phi,xs,ys,zs,regular=False))"
   ]
  },
  {
   "cell_type": "code",
   "execution_count": 91,
   "metadata": {
    "collapsed": false
   },
   "outputs": [
    {
     "data": {
      "text/plain": [
       "array([-29658.132 ,  -1761.0417,   5254.3211,  -2225.4089])"
      ]
     },
     "execution_count": 91,
     "metadata": {},
     "output_type": "execute_result"
    }
   ],
   "source": [
    "chaos.gcomp[0,1:5]"
   ]
  },
  {
   "cell_type": "code",
   "execution_count": 93,
   "metadata": {
    "collapsed": false
   },
   "outputs": [],
   "source": [
    "m,l=newleg.degrees(13,1)"
   ]
  },
  {
   "cell_type": "code",
   "execution_count": 95,
   "metadata": {
    "collapsed": false
   },
   "outputs": [
    {
     "data": {
      "text/plain": [
       "array([ 0,  1, -1,  0,  1, -1])"
      ]
     },
     "execution_count": 95,
     "metadata": {},
     "output_type": "execute_result"
    }
   ],
   "source": [
    "m[:6]"
   ]
  },
  {
   "cell_type": "code",
   "execution_count": 175,
   "metadata": {
    "collapsed": false
   },
   "outputs": [],
   "source": [
    "Ax,Ay,Az=inverse.condition_array_xyz(theta,phi,13)\n",
    "Axyz=numpy.concatenate((Ax,Ay,Az), axis=1)"
   ]
  },
  {
   "cell_type": "code",
   "execution_count": 176,
   "metadata": {
    "collapsed": false
   },
   "outputs": [
    {
     "data": {
      "text/plain": [
       "array([ -2.96581320e+04,  -1.76104170e+03,   5.25432110e+03,\n",
       "        -2.22540890e+03,   3.07278360e+03,  -2.41179710e+03,\n",
       "         1.67948410e+03,  -4.32977030e+02,   1.33874070e+03,\n",
       "        -2.27649650e+03,  -2.47207980e+02,   1.25225830e+03,\n",
       "         3.01756710e+02,   7.43779660e+02,  -4.53619650e+02,\n",
       "         9.38677630e+02,   7.82571140e+02,   2.65301130e+02,\n",
       "         2.73791430e+02,  -2.33456600e+02,   1.36424205e-12,\n",
       "        -5.40012479e-13,   3.51718654e-13,   1.20792265e-13,\n",
       "        -1.88293825e-13,   1.27897692e-13,   9.94759830e-14,\n",
       "        -5.89750471e-13,   1.13686838e-13,  -4.05453449e-13,\n",
       "         7.10542736e-14,  -1.60582658e-12,   1.10844667e-12,\n",
       "        -1.77635684e-13,   4.26325641e-14,   2.22044605e-15,\n",
       "        -1.13686838e-13,  -1.42108547e-13,   2.71782596e-13,\n",
       "        -1.20792265e-13,   1.42108547e-12,   6.11066753e-13,\n",
       "        -1.56319402e-13,  -3.33955086e-13,  -2.55795385e-13,\n",
       "        -1.25055521e-12,   7.81597009e-14,   8.52651283e-14,\n",
       "         1.30562228e-13,  -2.48689958e-13,  -1.98951966e-13,\n",
       "        -1.63424829e-13,   4.26325641e-13,  -2.32702746e-13,\n",
       "        -1.42108547e-14,   1.49213975e-13,   6.28830321e-13,\n",
       "        -9.23705556e-14,   9.23705556e-14,   7.81597009e-13,\n",
       "        -5.68434189e-14,  -3.55271368e-14,  -4.97379915e-14,\n",
       "         8.52651283e-14,   5.82645043e-13,  -8.52651283e-14,\n",
       "         3.55715457e-13,   1.95399252e-13,   2.70006240e-13,\n",
       "         5.18696197e-13,   2.13162821e-14,   1.10134124e-13,\n",
       "        -2.27373675e-13,   1.42108547e-13,  -1.04805054e-13,\n",
       "         7.10542736e-15,   1.70530257e-13,  -2.04281037e-13,\n",
       "        -1.59872116e-14,  -2.13606910e-13,   2.13162821e-14,\n",
       "         4.61852778e-14,   1.91846539e-13,  -2.18491891e-13,\n",
       "        -4.26325641e-13,  -3.48165941e-13,   5.68434189e-14,\n",
       "         6.85673740e-13,  -1.20792265e-13,  -2.13162821e-14,\n",
       "        -9.23705556e-14,   7.10542736e-14,   4.26325641e-13,\n",
       "        -2.48689958e-14,   9.23705556e-14,  -2.84217094e-14,\n",
       "        -2.27373675e-13,   4.97379915e-14,   5.32907052e-15,\n",
       "        -4.26325641e-14,   1.91846539e-13,   2.84217094e-14,\n",
       "         8.52651283e-14,   8.65973959e-15,   9.94759830e-14,\n",
       "         1.91846539e-13,   3.12638804e-13,  -1.77635684e-15,\n",
       "         3.55271368e-14,   1.56319402e-13,   2.04281037e-13,\n",
       "        -4.61852778e-14,   6.46593890e-13,   1.85629290e-13,\n",
       "        -1.91846539e-13,  -5.32907052e-15,  -7.99360578e-14,\n",
       "        -1.42108547e-13,   3.55271368e-14,  -1.42108547e-14,\n",
       "        -1.51878510e-13,  -9.05941988e-14,   2.13162821e-13,\n",
       "         3.90798505e-14,  -8.52651283e-14,   2.13162821e-14,\n",
       "        -7.63833441e-14,   3.01980663e-13,  -2.84217094e-14,\n",
       "        -1.03028697e-13,   1.98951966e-13,   6.39488462e-14,\n",
       "        -1.42108547e-13,  -6.39488462e-14,   1.84741111e-13,\n",
       "         2.70006240e-13,   4.26325641e-14,  -6.39488462e-14,\n",
       "         5.86197757e-14,  -1.27897692e-13,  -5.75539616e-13,\n",
       "        -9.41469125e-14,  -3.19744231e-14,  -2.48689958e-14,\n",
       "         2.13162821e-14,  -1.35003120e-13,   1.36779477e-13,\n",
       "        -1.03028697e-13,   1.06581410e-14,  -7.10542736e-14,\n",
       "         1.42108547e-14,  -2.52686760e-13,  -1.42108547e-14,\n",
       "        -1.42108547e-13,  -8.43769499e-15,  -7.63833441e-14,\n",
       "        -5.68434189e-14,   8.88178420e-14,   0.00000000e+00,\n",
       "        -1.10134124e-13,   5.32907052e-14,   7.10542736e-14,\n",
       "         4.24105195e-14,   5.86197757e-14,  -3.37507799e-14,\n",
       "         2.38031816e-13,   3.55271368e-14,  -5.86197757e-14,\n",
       "        -2.13162821e-14,  -1.84741111e-13,  -3.73034936e-14,\n",
       "        -1.35003120e-13,   7.10542736e-14,   8.28226376e-14,\n",
       "         1.42108547e-14,  -1.35003120e-13,   5.32907052e-14,\n",
       "         9.94759830e-14,  -2.27373675e-13,  -3.55271368e-14,\n",
       "        -3.69482223e-13,  -1.74082970e-13,  -1.42108547e-13,\n",
       "         2.89546165e-13,  -7.10542736e-15,   3.83693077e-13,\n",
       "         9.94759830e-14,  -2.06057393e-13,  -2.84217094e-14,\n",
       "        -2.93098879e-14,  -8.37108161e-14,   1.13686838e-13,\n",
       "        -6.67910172e-13,  -1.27897692e-13,   2.20268248e-13])"
      ]
     },
     "execution_count": 176,
     "metadata": {},
     "output_type": "execute_result"
    }
   ],
   "source": [
    "numpy.linalg.inv(Axyz @ Axyz.transpose()) @ Axyz @ numpy.concatenate((x,y,z))"
   ]
  },
  {
   "cell_type": "code",
   "execution_count": 163,
   "metadata": {
    "collapsed": false
   },
   "outputs": [],
   "source": [
    "Ad, Ai, Af = inverse.condition_array_dif(x,y,z,intensity,horizontal,Ax,Ay,Az)"
   ]
  },
  {
   "cell_type": "code",
   "execution_count": 143,
   "metadata": {
    "collapsed": false
   },
   "outputs": [
    {
     "data": {
      "text/plain": [
       "(195, 4000)"
      ]
     },
     "execution_count": 143,
     "metadata": {},
     "output_type": "execute_result"
    }
   ],
   "source": [
    "Ai.shape"
   ]
  },
  {
   "cell_type": "code",
   "execution_count": 164,
   "metadata": {
    "collapsed": false
   },
   "outputs": [
    {
     "data": {
      "text/plain": [
       "(195, 12000)"
      ]
     },
     "execution_count": 164,
     "metadata": {},
     "output_type": "execute_result"
    }
   ],
   "source": [
    "numpy.concatenate((Ad,Ai,Af), axis=1).shape"
   ]
  },
  {
   "cell_type": "code",
   "execution_count": 162,
   "metadata": {
    "collapsed": false
   },
   "outputs": [
    {
     "data": {
      "text/plain": [
       "(12000,)"
      ]
     },
     "execution_count": 162,
     "metadata": {},
     "output_type": "execute_result"
    }
   ],
   "source": [
    "numpy.concatenate((dec,inc,intensity)).shape"
   ]
  },
  {
   "cell_type": "code",
   "execution_count": 173,
   "metadata": {
    "collapsed": false
   },
   "outputs": [
    {
     "data": {
      "text/plain": [
       "array([[  0.00000000e+00,  -0.00000000e+00,  -0.00000000e+00, ...,\n",
       "          0.00000000e+00,   0.00000000e+00,  -0.00000000e+00],\n",
       "       [ -1.21578630e-03,  -2.30321715e-03,  -4.06271090e-03, ...,\n",
       "          3.39064527e-03,   1.63114816e-03,   5.43716267e-04],\n",
       "       [  9.99999261e-01,   9.99997348e-01,   9.99991747e-01, ...,\n",
       "          9.99994252e-01,   9.99998670e-01,   9.99999852e-01],\n",
       "       ..., \n",
       "       [ -4.51812792e+00,   2.71622854e-02,   1.65312479e+00, ...,\n",
       "         -4.25501616e+00,  -2.88940997e-04,   5.77275952e+00],\n",
       "       [ -3.06077588e-02,  -1.08227960e-04,  -3.76557395e-01, ...,\n",
       "          2.83586575e-01,   4.83172304e-07,   2.28915991e-02],\n",
       "       [  1.93639817e+00,   3.61352482e-03,   7.12306054e+00, ...,\n",
       "          6.42950790e+00,   2.27824264e-05,   3.23856933e+00]])"
      ]
     },
     "execution_count": 173,
     "metadata": {},
     "output_type": "execute_result"
    }
   ],
   "source": [
    "Ay"
   ]
  },
  {
   "cell_type": "code",
   "execution_count": null,
   "metadata": {
    "collapsed": true
   },
   "outputs": [],
   "source": []
  }
 ],
 "metadata": {
  "kernelspec": {
   "display_name": "Python 3",
   "language": "python",
   "name": "python3"
  },
  "language_info": {
   "codemirror_mode": {
    "name": "ipython",
    "version": 3
   },
   "file_extension": ".py",
   "mimetype": "text/x-python",
   "name": "python",
   "nbconvert_exporter": "python",
   "pygments_lexer": "ipython3",
   "version": "3.5.1"
  }
 },
 "nbformat": 4,
 "nbformat_minor": 0
}
