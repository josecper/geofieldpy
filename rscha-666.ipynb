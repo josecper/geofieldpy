{
 "cells": [
  {
   "cell_type": "markdown",
   "metadata": {},
   "source": [
    "#### ok"
   ]
  },
  {
   "cell_type": "code",
   "execution_count": 27,
   "metadata": {
    "collapsed": false
   },
   "outputs": [],
   "source": [
    "import numpy\n",
    "import scipy\n",
    "from matplotlib import pyplot\n",
    "from mpl_toolkits.basemap import Basemap\n",
    "import matplotlib.colors\n",
    "nicebwr = matplotlib.colors.LinearSegmentedColormap.from_list(\"nicebwr\",[\"#094da0\",\"#FFFFFF\",\"#ef1a2d\"])\n",
    "import scha, rscha\n",
    "import xyzfield, geofield, trig\n",
    "import constants\n",
    "matplotlib.rcParams.update({'font.size': 12})\n",
    "matplotlib.rcParams.update({'font.family': 'Fira Sans Book'})\n",
    "\n",
    "import importlib\n",
    "importlib.reload(scha)\n",
    "\n",
    "cos = numpy.cos; sin = numpy.sin\n",
    "\n",
    "#%matplotlib nbagg\n"
   ]
  },
  {
   "cell_type": "code",
   "execution_count": 2,
   "metadata": {
    "collapsed": true
   },
   "outputs": [],
   "source": [
    "datos = numpy.loadtxt(\"/home/josecper/Programs/data/scha/pruebas/output.dat\",\n",
    "                      usecols=(1, 2, 7, 8, 9)).T\n",
    "\n",
    "thetav = numpy.deg2rad(90 - datos[0])\n",
    "phiv = numpy.deg2rad(datos[1])\n",
    "\n",
    "theta_c, phi_c, theta_0d, theta_0 = numpy.deg2rad((90-45.0, 15.0, 20.0, 50.0))\n",
    "r_geo, theta_geo, phi_geo = trig.geo2sph(thetav, phiv)\n",
    "\n",
    "rot_mat = scha.rotation_matrix(theta_c, phi_c, invert=True)\n",
    "r_geo, theta_r, phi_r = scha.rotate_coords(r_geo, theta_geo, phi_geo, rot_mat)\n",
    "\n",
    "#datos originales, rotados por javi\n",
    "#Bx, By, Bz = datos[2:]\n",
    "\n",
    "Bx_o, By_o, Bz_o = numpy.loadtxt(\"/home/josecper/Programs/data/scha/pruebas/output.dat\",\n",
    "                      usecols=(4, 5, 6)).T\n",
    "\n",
    "Bx_r = numpy.empty_like(Bx_o); By_r = numpy.empty_like(By_o); Bz_r = numpy.empty_like(Bz_o)\n",
    "\n",
    "for i, (xx, yy, zz, th_i, phi_i, th_ri) in enumerate(zip(Bx_o,By_o,Bz_o,thetav,phiv,theta_r)):\n",
    "    #x_r[i], y_r[i], z_r[i] = scha.rotate_vector(xx, yy, zz, th_p, ph_p, th_i, phi_i, th_ri)\n",
    "    Bx_r[i], By_r[i], Bz_r[i] = scha.rotate_vector(xx, yy, zz, theta_c, phi_c,\n",
    "                                                   th_i, phi_i, th_ri)"
   ]
  },
  {
   "cell_type": "code",
   "execution_count": 3,
   "metadata": {
    "collapsed": false
   },
   "outputs": [],
   "source": [
    "import scha; importlib.reload(scha)\n",
    "k_dip, m_dip, n_dip = numpy.atleast_1d((1,), (0,), (1,))\n",
    "g_dipole=scha.invert_xyz(theta_geo, phi_geo, Bx_o, By_o, Bz_o, (k_dip, m_dip, n_dip))\n",
    "Bx_dip, By_dip, Bz_dip = scha.xyzfield(k_dip,m_dip,n_dip, g_dipole, theta_geo, phi_geo)\n",
    "Bx_dip_r = numpy.empty_like(Bx_o); By_dip_r = numpy.empty_like(By_o); Bz_dip_r = numpy.empty_like(Bz_o)\n",
    "\n",
    "for i, (xx, yy, zz, th_i, phi_i, th_ri) in enumerate(zip(Bx_dip,By_dip,Bz_dip,thetav,phiv,theta_r)):\n",
    "    Bx_dip_r[i], By_dip_r[i], Bz_dip_r[i] = scha.rotate_vector(xx, yy, zz, theta_c, phi_c,\n",
    "                                                               th_i, phi_i, th_ri)\n",
    "\n",
    "D_dip, I_dip, F_dip, H_dip = xyzfield.xyz2difh(Bx_dip, By_dip, Bz_dip)\n",
    "D_o, I_o, F_o, H_o = xyzfield.xyz2difh(Bx_o, By_o, Bz_o)\n",
    "D_r = scha.rotate_declination(D_o, theta_c, phi_c, thetav, phiv, theta_r)\n",
    "D_res = trig.mindiff(D_o, D_dip)\n",
    "I_res = trig.mindiff(I_o, I_dip)\n",
    "F_res = F_o - F_dip"
   ]
  },
  {
   "cell_type": "code",
   "execution_count": null,
   "metadata": {
    "collapsed": false
   },
   "outputs": [],
   "source": [
    "import field_plots\n",
    "field_plots.component_residual_plot(theta_r, phi_r, theta_0d, theta_c, phi_c,\n",
    "                                    (D_dip, I_dip, F_dip),\n",
    "                                    (D_res, I_res, F_res))"
   ]
  },
  {
   "cell_type": "markdown",
   "metadata": {},
   "source": [
    "parece okey a priori"
   ]
  },
  {
   "cell_type": "code",
   "execution_count": 4,
   "metadata": {
    "collapsed": false
   },
   "outputs": [
    {
     "name": "stdout",
     "output_type": "stream",
     "text": [
      "0.0        0.0        1.1643966587862824e-12\n",
      "1.0        0.0        4.84731789954003\n",
      "1.0        1.0        3.6884352103475817\n",
      "1.0        -1.0       3.6884352103475817\n",
      "2.0        0.0        8.04745142267155\n",
      "2.0        1.0        8.047451422671553\n",
      "2.0        -1.0       8.047451422671553\n",
      "2.0        2.0        6.437669525128309\n",
      "2.0        -2.0       6.437669525128309\n",
      "3.0        0.0        11.78892435975878\n",
      "3.0        1.0        11.397701824082487\n",
      "3.0        -1.0       11.397701824082487\n",
      "3.0        2.0        10.991667046142933\n",
      "3.0        -2.0       10.991667046142933\n",
      "3.0        3.0        9.050527164684814\n",
      "3.0        -3.0       9.050527164684814\n",
      "4.0        0.0        15.130732030231501\n",
      "4.0        1.0        15.130732030231501\n",
      "4.0        -1.0       15.130732030231501\n",
      "4.0        2.0        14.488366099980672\n",
      "4.0        -2.0       14.488366099980672\n",
      "4.0        3.0        13.811848523652548\n",
      "4.0        -3.0       13.811848523652548\n",
      "4.0        4.0        11.599762621378055\n",
      "4.0        -4.0       11.599762621378055\n",
      "5.0        0.0        18.76831874861567\n",
      "5.0        1.0        18.524726219976213\n",
      "5.0        -1.0       18.524726219976213\n",
      "5.0        2.0        18.277705921089396\n",
      "5.0        -2.0       18.277705921089396\n",
      "5.0        3.0        17.442594097808374\n",
      "5.0        -3.0       17.442594097808374\n",
      "5.0        4.0        16.555902182691206\n",
      "5.0        -4.0       16.555902182691206\n",
      "5.0        5.0        14.110772845364245\n",
      "5.0        -5.0       14.110772845364245\n",
      "6.0        0.0        22.1603281558174\n",
      "6.0        1.0        22.160328155817403\n",
      "6.0        -1.0       22.160328155817403\n",
      "6.0        2.0        21.736928027235848\n",
      "6.0        -2.0       21.736928027235848\n",
      "6.0        3.0        21.304342727565707\n",
      "6.0        -3.0       21.304342727565707\n",
      "6.0        4.0        20.309416245019353\n",
      "6.0        -4.0       20.309416245019353\n",
      "6.0        5.0        19.2474365313972\n",
      "6.0        -5.0       19.2474365313972\n",
      "6.0        6.0        16.59578218204079\n",
      "6.0        -6.0       16.59578218204079\n"
     ]
    }
   ],
   "source": [
    "theta_0p = theta_0d + 0.1\n",
    "\n",
    "ms = numpy.arange(0, 7);\n",
    "roots = scha.degree(ms, theta0 = theta_0p, max_k = 6)\n",
    "k, m, n = scha.join_roots(roots)\n",
    "\n",
    "k, m, n = numpy.array((k, m, n))\n",
    "km_even = ((k-numpy.abs(m)) % 2 == 0) & (k <= 6)\n",
    "k_even, m_even, n_even = k[km_even], m[km_even], n[km_even]\n",
    "m_mehler= numpy.array((0, 1, -1, 2, -2))\n",
    "\n",
    "for ki, mi, ni in zip(k,m,n):\n",
    "    print(f\"{ki:<10} {mi:<10} {ni:<10}\")"
   ]
  },
  {
   "cell_type": "markdown",
   "metadata": {},
   "source": [
    "#### vamos a probar scha"
   ]
  },
  {
   "cell_type": "code",
   "execution_count": null,
   "metadata": {
    "collapsed": true
   },
   "outputs": [],
   "source": [
    "Axyz = scha.condition_matrix_xyz(thetav, phiv, (k,m,n))\n",
    "Adif = scha.condition_matrix_dif(Bx_dip_r, By_dip_r, Bz_dip_r, F_dip, H_dip, *Axyz)"
   ]
  },
  {
   "cell_type": "code",
   "execution_count": null,
   "metadata": {
    "collapsed": false,
    "scrolled": true
   },
   "outputs": [],
   "source": [
    "importlib.reload(scha)"
   ]
  },
  {
   "cell_type": "code",
   "execution_count": null,
   "metadata": {
    "collapsed": false
   },
   "outputs": [],
   "source": [
    "gp = scha.invert_dif(theta_r, phi_r, D_r, I_o, F_o, (k,m,n), steps=20)\n",
    "Dm, Im, Fm, Hm = xyzfield.xyz2difh(*scha.xyzfield(k,m,n,gp,theta_r,phi_r))\n",
    "field_plots.component_residual_plot(theta_r, phi_r, theta_0p, theta_c, phi_c,\n",
    "                                    (Dm,Im,Fm),\n",
    "                                    (trig.mindiff(Dm,D_r), trig.mindiff(Im,I_o), Fm-F_o))"
   ]
  },
  {
   "cell_type": "code",
   "execution_count": null,
   "metadata": {
    "collapsed": false
   },
   "outputs": [],
   "source": [
    "F_dip_avg=numpy.average(F_dip)\n",
    "F_res_norm = F_res/F_dip_avg"
   ]
  },
  {
   "cell_type": "code",
   "execution_count": null,
   "metadata": {
    "collapsed": false
   },
   "outputs": [],
   "source": [
    "Bx_dip_r_norm = Bx_dip_r / F_dip_avg\n",
    "By_dip_r_norm = By_dip_r / F_dip_avg\n",
    "Bz_dip_r_norm = Bz_dip_r / F_dip_avg\n",
    "\n",
    "Adif_norm = scha.condition_matrix_dif(Bx_dip_r_norm, By_dip_r_norm, Bz_dip_r_norm, \n",
    "                                      F_dip/F_dip_avg, H_dip/F_dip_avg, *Axyz)"
   ]
  },
  {
   "cell_type": "code",
   "execution_count": null,
   "metadata": {
    "collapsed": true
   },
   "outputs": [],
   "source": [
    "gpls = numpy.linalg.lstsq(numpy.concatenate(Adif_norm), numpy.concatenate((D_res, I_res, F_res_norm)))[0]\n",
    "synth = numpy.concatenate(Adif_norm) @ gpls\n",
    "Ds, Is, Fs = numpy.split(synth, 3)"
   ]
  },
  {
   "cell_type": "code",
   "execution_count": null,
   "metadata": {
    "collapsed": false
   },
   "outputs": [],
   "source": [
    "gpls"
   ]
  },
  {
   "cell_type": "code",
   "execution_count": null,
   "metadata": {
    "collapsed": false,
    "scrolled": false
   },
   "outputs": [],
   "source": [
    "#gp = scha.invert_dif(theta_r, phi_r, D_res, I_res, F_res, (k,m,n), steps=20)\n",
    "#Dm, Im, Fm, Hm = xyzfield.xyz2difh(*scha.xyzfield(k,m,n,gpls,theta_r,phi_r))\n",
    "field_plots.component_residual_plot(theta_r, phi_r, theta_0, theta_c, phi_c,\n",
    "                                    (Ds,Is,Fs),\n",
    "                                    (trig.mindiff(Ds,D_res), trig.mindiff(Is,I_res), Fs-F_res_norm)\n",
    "                                   )\n",
    "\n",
    "field_plots.component_residual_plot(theta_r, phi_r, theta_0, theta_c, phi_c,\n",
    "                                    (D_res,I_res,F_res_norm),\n",
    "                                   )"
   ]
  },
  {
   "cell_type": "markdown",
   "metadata": {},
   "source": [
    "#### rscha2d"
   ]
  },
  {
   "cell_type": "code",
   "execution_count": 5,
   "metadata": {
    "collapsed": false
   },
   "outputs": [],
   "source": [
    "import rscha_r"
   ]
  },
  {
   "cell_type": "markdown",
   "metadata": {},
   "source": [
    "##### 1. matriz de condición"
   ]
  },
  {
   "cell_type": "code",
   "execution_count": null,
   "metadata": {
    "collapsed": false
   },
   "outputs": [],
   "source": [
    "Adif_rscha_test = numpy.concatenate(rscha_r.rscha_condition_matrix_dif((k_even, m_even, n_even),\n",
    "                                                     (k_even[1:], m_even[1:], n_even[1:]),\n",
    "                                                     m_mehler,\n",
    "                                                     r_geo, theta_r, phi_r, theta_0p,\n",
    "                                                     Bx_dip_r, By_dip_r, Bz_dip_r))"
   ]
  },
  {
   "cell_type": "markdown",
   "metadata": {},
   "source": [
    "##### 2. inversión por mínimos cuadrados"
   ]
  },
  {
   "cell_type": "code",
   "execution_count": null,
   "metadata": {
    "collapsed": false
   },
   "outputs": [],
   "source": [
    "gplsr = numpy.linalg.lstsq(Adif_rscha_test,\n",
    "                           numpy.concatenate((D_res, I_res, F_res/F_dip_avg)))[0]"
   ]
  },
  {
   "cell_type": "markdown",
   "metadata": {},
   "source": [
    "##### 3. síntesis (matriz de condición × solución)"
   ]
  },
  {
   "cell_type": "code",
   "execution_count": null,
   "metadata": {
    "collapsed": false
   },
   "outputs": [],
   "source": [
    "synth = Adif_rscha_test @ gplsr\n",
    "Ds, Is, Fs = numpy.split(synth, 3)"
   ]
  },
  {
   "cell_type": "code",
   "execution_count": null,
   "metadata": {
    "collapsed": false
   },
   "outputs": [],
   "source": [
    "field_plots.component_residual_plot(theta_r, phi_r, theta_0, theta_c, phi_c,\n",
    "                                    (Ds,Is,Fs),\n",
    "                                    (trig.mindiff(Ds,D_res), trig.mindiff(Is,I_res), Fs-F_res_norm)\n",
    "                                   )"
   ]
  },
  {
   "cell_type": "markdown",
   "metadata": {},
   "source": [
    "##### 4. vuelta al campo total"
   ]
  },
  {
   "cell_type": "code",
   "execution_count": null,
   "metadata": {
    "collapsed": true
   },
   "outputs": [],
   "source": [
    "#campos remodelados\n",
    "D_m = D_dip + Ds\n",
    "I_m = I_dip + Is\n",
    "F_m = Fs*F_dip_avg + F_dip"
   ]
  },
  {
   "cell_type": "code",
   "execution_count": null,
   "metadata": {
    "collapsed": false
   },
   "outputs": [],
   "source": [
    "field_plots.component_residual_plot(theta_r, phi_r, theta_0, theta_c, phi_c,\n",
    "                                    (D_m,I_m,F_m),\n",
    "                                    (trig.mindiff(D_m,D_o), trig.mindiff(I_m,I_o), F_m - F_o)\n",
    "                                   )"
   ]
  },
  {
   "cell_type": "code",
   "execution_count": null,
   "metadata": {
    "collapsed": false
   },
   "outputs": [],
   "source": [
    "fig, axes = pyplot.subplots(nrows=1, ncols=3, figsize=(8, 4))\n",
    "\n",
    "axes[0].hist(numpy.rad2deg(trig.mindiff(D_m,D_o)))\n",
    "axes[0].set_xlabel(\"$\\Delta D (°)$\")\n",
    "axes[1].hist(numpy.rad2deg(trig.mindiff(I_m,I_o)))\n",
    "axes[1].set_xlabel(\"$\\Delta I (°)$\")\n",
    "axes[2].hist(F_m-F_o)\n",
    "axes[2].set_xlabel(\"$\\Delta F (nT)$\")\n",
    "\n",
    "pyplot.show(fig)"
   ]
  },
  {
   "cell_type": "markdown",
   "metadata": {},
   "source": [
    "ok good nic$e^{1999}$"
   ]
  },
  {
   "cell_type": "markdown",
   "metadata": {
    "collapsed": true
   },
   "source": [
    "#### síntesis en otros puntos"
   ]
  },
  {
   "cell_type": "code",
   "execution_count": null,
   "metadata": {
    "collapsed": false
   },
   "outputs": [],
   "source": [
    "import fibonacci_sphere\n",
    "import trig\n",
    "theta_d, phi_d = fibonacci_sphere.grid(n=10000)\n",
    "in_cap = trig.angulardist(theta_d, phi_d, theta_c, phi_c) < theta_0d\n",
    "theta_d = theta_d[in_cap]\n",
    "phi_d = phi_d[in_cap]\n",
    "r_dg, theta_dg, phi_dg = trig.geo2sph(theta_d, phi_d)\n",
    "r_dgr, theta_dgr, phi_dgr = scha.rotate_coords(r_dg, theta_dg, phi_dg, rot_mat)\n",
    "Bx_dip_d, By_dip_d, Bz_dip_d = scha.xyzfield(k_dip,m_dip,n_dip, g_dipole, theta_dg, phi_dg)\n",
    "\n",
    "Bx_dip_dr = numpy.empty_like(Bx_dip_d); By_dip_dr = Bx_dip_dr.copy(); Bz_dip_dr = Bx_dip_dr.copy()\n",
    "\n",
    "for i, (xx, yy, zz, th_i, phi_i, th_ri) in enumerate(zip(Bx_dip_d,By_dip_d,Bz_dip_d,theta_dg,phi_dg,theta_dgr)):\n",
    "    Bx_dip_dr[i], By_dip_dr[i], Bz_dip_dr[i] = scha.rotate_vector(xx, yy, zz, theta_c, phi_c,\n",
    "                                                                  th_i, phi_i, th_ri)\n",
    "\n"
   ]
  },
  {
   "cell_type": "code",
   "execution_count": null,
   "metadata": {
    "collapsed": false
   },
   "outputs": [],
   "source": [
    "Adif_syn = numpy.concatenate(rscha_r.rscha_condition_matrix_dif((k_even, m_even, n_even),\n",
    "                                                     (k_even[1:], m_even[1:], n_even[1:]),\n",
    "                                                     m_mehler,\n",
    "                                                     r_dgr, theta_dgr, phi_dgr, theta_0p,\n",
    "                                                     Bx_dip_dr, By_dip_dr, Bz_dip_dr))"
   ]
  },
  {
   "cell_type": "code",
   "execution_count": null,
   "metadata": {
    "collapsed": true
   },
   "outputs": [],
   "source": [
    "synth_d = Adif_syn @ gplsr\n",
    "Ds_d, Is_d, Fs_d = numpy.split(synth_d, 3)"
   ]
  },
  {
   "cell_type": "code",
   "execution_count": null,
   "metadata": {
    "collapsed": false
   },
   "outputs": [],
   "source": [
    "field_plots.component_residual_plot(theta_dgr, phi_dgr, theta_0, theta_c, phi_c,\n",
    "                                    (Ds_d,Is_d,Fs_d),\n",
    "                                   )"
   ]
  },
  {
   "cell_type": "code",
   "execution_count": null,
   "metadata": {
    "collapsed": false
   },
   "outputs": [],
   "source": [
    "fig, axes = pyplot.subplots(1,3, figsize=(8,4))\n",
    "axes[0].hist((Ds_d, Ds, D_res), color=('C4', 'C0', 'C2'), normed=True); axes[0].set_xlabel(\"D\")\n",
    "axes[1].hist((Is_d, Is, I_res), color=('C4', 'C0', 'C2'), normed=True); axes[1].set_xlabel(\"I\")\n",
    "axes[2].hist((Fs_d, Fs, F_res_norm), color=('C4', 'C0', 'C2'), normed=True); axes[2].set_xlabel(\"F\")\n",
    "pyplot.show(fig)"
   ]
  },
  {
   "cell_type": "markdown",
   "metadata": {},
   "source": [
    "vale, se puede modelar, bien"
   ]
  },
  {
   "cell_type": "markdown",
   "metadata": {
    "collapsed": true
   },
   "source": [
    "#### el tiempo: una gran cosa\n",
    "vamos a usar los datos sintetizados con sha para poder hacer la magia. esto significa que cambiaremos los parametrororororos"
   ]
  },
  {
   "cell_type": "code",
   "execution_count": 6,
   "metadata": {
    "collapsed": false
   },
   "outputs": [],
   "source": [
    "#la data\n",
    "\n",
    "datos_t = numpy.loadtxt(\"../data/rscha2d/dato_synt_sha.dat\", skiprows=1).T\n",
    "\n",
    "tv = datos_t[0]\n",
    "thetav = numpy.deg2rad(90-datos_t[1])\n",
    "phiv = numpy.deg2rad(datos_t[2])\n",
    "D_o = numpy.deg2rad(datos_t[3])\n",
    "I_o = numpy.deg2rad(datos_t[4])\n",
    "F_o = datos_t[6]\n",
    "\n",
    "#conversión a esféricas\n",
    "r_geo, theta_geo, phi_geo = trig.geo2sph(thetav, phiv)\n",
    "\n",
    "theta_c, phi_c, theta_0d, theta_0 = numpy.deg2rad((90-42.0, 20.0, 26.0, 50.0))\n",
    "rot_mat = scha.rotation_matrix(theta_c, phi_c, invert=True)\n",
    "r_geo, theta_r, phi_r = scha.rotate_coords(r_geo, theta_geo, phi_geo, rot_mat)\n",
    "\n",
    "#en primera aproximación, a falta de algo más mejor\n",
    "g01_dip = -30.0\n",
    "\n",
    "#síntesis del dipolo en todos los datas\n",
    "Bx_dip, By_dip, Bz_dip = scha.xyzfield((1,), (0,), (1,), (g01_dip,), theta_geo, phi_geo)\n",
    "Bx_dip_r = numpy.empty_like(Bx_dip); By_dip_r = numpy.empty_like(By_dip); Bz_dip_r = numpy.empty_like(Bz_dip)\n",
    "for i, (xx, yy, zz, th_i, phi_i, th_ri) in enumerate(zip(Bx_dip,By_dip,Bz_dip,thetav,phiv,theta_r)):\n",
    "    Bx_dip_r[i], By_dip_r[i], Bz_dip_r[i] = scha.rotate_vector(xx, yy, zz, theta_c, phi_c,\n",
    "                                                               th_i, phi_i, th_ri)\n",
    "    \n",
    "D_dip, I_dip, F_dip, H_dip = xyzfield.xyz2difh(Bx_dip, By_dip, Bz_dip)\n",
    "\n",
    "D_res = trig.mindiff(D_o, D_dip)\n",
    "I_res = trig.mindiff(I_o, I_dip)\n",
    "F_res = F_o - F_dip"
   ]
  },
  {
   "cell_type": "code",
   "execution_count": 7,
   "metadata": {
    "collapsed": false
   },
   "outputs": [
    {
     "name": "stdout",
     "output_type": "stream",
     "text": [
      "20.0 42.0\n"
     ]
    },
    {
     "name": "stderr",
     "output_type": "stream",
     "text": [
      "/usr/lib/python3.6/site-packages/matplotlib/font_manager.py:1297: UserWarning: findfont: Font family ['Fira Sans'] not found. Falling back to DejaVu Sans\n",
      "  (prop.get_family(), self.defaultFamily[fontext]))\n",
      "/usr/lib/python3.6/site-packages/matplotlib/axis.py:1035: UserWarning: Unable to find pixel distance along axis for interval padding of ticks; assuming no interval padding needed.\n",
      "  warnings.warn(\"Unable to find pixel distance along axis \"\n",
      "/usr/lib/python3.6/site-packages/matplotlib/axis.py:1045: UserWarning: Unable to find pixel distance along axis for interval padding of ticks; assuming no interval padding needed.\n",
      "  warnings.warn(\"Unable to find pixel distance along axis \"\n"
     ]
    },
    {
     "ename": "ValueError",
     "evalue": "Both *x_transform* and *y_transform* must be 2D affine transforms.",
     "output_type": "error",
     "traceback": [
      "\u001b[0;31m---------------------------------------------------------------------------\u001b[0m",
      "\u001b[0;31mValueError\u001b[0m                                Traceback (most recent call last)",
      "\u001b[0;32m/usr/lib/python3.6/site-packages/IPython/core/formatters.py\u001b[0m in \u001b[0;36m__call__\u001b[0;34m(self, obj)\u001b[0m\n\u001b[1;32m    305\u001b[0m                 \u001b[0;32mpass\u001b[0m\u001b[0;34m\u001b[0m\u001b[0m\n\u001b[1;32m    306\u001b[0m             \u001b[0;32melse\u001b[0m\u001b[0;34m:\u001b[0m\u001b[0;34m\u001b[0m\u001b[0m\n\u001b[0;32m--> 307\u001b[0;31m                 \u001b[0;32mreturn\u001b[0m \u001b[0mprinter\u001b[0m\u001b[0;34m(\u001b[0m\u001b[0mobj\u001b[0m\u001b[0;34m)\u001b[0m\u001b[0;34m\u001b[0m\u001b[0m\n\u001b[0m\u001b[1;32m    308\u001b[0m             \u001b[0;31m# Finally look for special method names\u001b[0m\u001b[0;34m\u001b[0m\u001b[0;34m\u001b[0m\u001b[0m\n\u001b[1;32m    309\u001b[0m             \u001b[0mmethod\u001b[0m \u001b[0;34m=\u001b[0m \u001b[0mget_real_method\u001b[0m\u001b[0;34m(\u001b[0m\u001b[0mobj\u001b[0m\u001b[0;34m,\u001b[0m \u001b[0mself\u001b[0m\u001b[0;34m.\u001b[0m\u001b[0mprint_method\u001b[0m\u001b[0;34m)\u001b[0m\u001b[0;34m\u001b[0m\u001b[0m\n",
      "\u001b[0;32m/usr/lib/python3.6/site-packages/IPython/core/pylabtools.py\u001b[0m in \u001b[0;36m<lambda>\u001b[0;34m(fig)\u001b[0m\n\u001b[1;32m    225\u001b[0m \u001b[0;34m\u001b[0m\u001b[0m\n\u001b[1;32m    226\u001b[0m     \u001b[0;32mif\u001b[0m \u001b[0;34m'png'\u001b[0m \u001b[0;32min\u001b[0m \u001b[0mformats\u001b[0m\u001b[0;34m:\u001b[0m\u001b[0;34m\u001b[0m\u001b[0m\n\u001b[0;32m--> 227\u001b[0;31m         \u001b[0mpng_formatter\u001b[0m\u001b[0;34m.\u001b[0m\u001b[0mfor_type\u001b[0m\u001b[0;34m(\u001b[0m\u001b[0mFigure\u001b[0m\u001b[0;34m,\u001b[0m \u001b[0;32mlambda\u001b[0m \u001b[0mfig\u001b[0m\u001b[0;34m:\u001b[0m \u001b[0mprint_figure\u001b[0m\u001b[0;34m(\u001b[0m\u001b[0mfig\u001b[0m\u001b[0;34m,\u001b[0m \u001b[0;34m'png'\u001b[0m\u001b[0;34m,\u001b[0m \u001b[0;34m**\u001b[0m\u001b[0mkwargs\u001b[0m\u001b[0;34m)\u001b[0m\u001b[0;34m)\u001b[0m\u001b[0;34m\u001b[0m\u001b[0m\n\u001b[0m\u001b[1;32m    228\u001b[0m     \u001b[0;32mif\u001b[0m \u001b[0;34m'retina'\u001b[0m \u001b[0;32min\u001b[0m \u001b[0mformats\u001b[0m \u001b[0;32mor\u001b[0m \u001b[0;34m'png2x'\u001b[0m \u001b[0;32min\u001b[0m \u001b[0mformats\u001b[0m\u001b[0;34m:\u001b[0m\u001b[0;34m\u001b[0m\u001b[0m\n\u001b[1;32m    229\u001b[0m         \u001b[0mpng_formatter\u001b[0m\u001b[0;34m.\u001b[0m\u001b[0mfor_type\u001b[0m\u001b[0;34m(\u001b[0m\u001b[0mFigure\u001b[0m\u001b[0;34m,\u001b[0m \u001b[0;32mlambda\u001b[0m \u001b[0mfig\u001b[0m\u001b[0;34m:\u001b[0m \u001b[0mretina_figure\u001b[0m\u001b[0;34m(\u001b[0m\u001b[0mfig\u001b[0m\u001b[0;34m,\u001b[0m \u001b[0;34m**\u001b[0m\u001b[0mkwargs\u001b[0m\u001b[0;34m)\u001b[0m\u001b[0;34m)\u001b[0m\u001b[0;34m\u001b[0m\u001b[0m\n",
      "\u001b[0;32m/usr/lib/python3.6/site-packages/IPython/core/pylabtools.py\u001b[0m in \u001b[0;36mprint_figure\u001b[0;34m(fig, fmt, bbox_inches, **kwargs)\u001b[0m\n\u001b[1;32m    117\u001b[0m \u001b[0;34m\u001b[0m\u001b[0m\n\u001b[1;32m    118\u001b[0m     \u001b[0mbytes_io\u001b[0m \u001b[0;34m=\u001b[0m \u001b[0mBytesIO\u001b[0m\u001b[0;34m(\u001b[0m\u001b[0;34m)\u001b[0m\u001b[0;34m\u001b[0m\u001b[0m\n\u001b[0;32m--> 119\u001b[0;31m     \u001b[0mfig\u001b[0m\u001b[0;34m.\u001b[0m\u001b[0mcanvas\u001b[0m\u001b[0;34m.\u001b[0m\u001b[0mprint_figure\u001b[0m\u001b[0;34m(\u001b[0m\u001b[0mbytes_io\u001b[0m\u001b[0;34m,\u001b[0m \u001b[0;34m**\u001b[0m\u001b[0mkw\u001b[0m\u001b[0;34m)\u001b[0m\u001b[0;34m\u001b[0m\u001b[0m\n\u001b[0m\u001b[1;32m    120\u001b[0m     \u001b[0mdata\u001b[0m \u001b[0;34m=\u001b[0m \u001b[0mbytes_io\u001b[0m\u001b[0;34m.\u001b[0m\u001b[0mgetvalue\u001b[0m\u001b[0;34m(\u001b[0m\u001b[0;34m)\u001b[0m\u001b[0;34m\u001b[0m\u001b[0m\n\u001b[1;32m    121\u001b[0m     \u001b[0;32mif\u001b[0m \u001b[0mfmt\u001b[0m \u001b[0;34m==\u001b[0m \u001b[0;34m'svg'\u001b[0m\u001b[0;34m:\u001b[0m\u001b[0;34m\u001b[0m\u001b[0m\n",
      "\u001b[0;32m/usr/lib/python3.6/site-packages/matplotlib/backend_bases.py\u001b[0m in \u001b[0;36mprint_figure\u001b[0;34m(self, filename, dpi, facecolor, edgecolor, orientation, format, **kwargs)\u001b[0m\n\u001b[1;32m   2200\u001b[0m                 \u001b[0mbbox_filtered\u001b[0m \u001b[0;34m=\u001b[0m \u001b[0;34m[\u001b[0m\u001b[0;34m]\u001b[0m\u001b[0;34m\u001b[0m\u001b[0m\n\u001b[1;32m   2201\u001b[0m                 \u001b[0;32mfor\u001b[0m \u001b[0ma\u001b[0m \u001b[0;32min\u001b[0m \u001b[0mbbox_artists\u001b[0m\u001b[0;34m:\u001b[0m\u001b[0;34m\u001b[0m\u001b[0m\n\u001b[0;32m-> 2202\u001b[0;31m                     \u001b[0mbbox\u001b[0m \u001b[0;34m=\u001b[0m \u001b[0ma\u001b[0m\u001b[0;34m.\u001b[0m\u001b[0mget_window_extent\u001b[0m\u001b[0;34m(\u001b[0m\u001b[0mrenderer\u001b[0m\u001b[0;34m)\u001b[0m\u001b[0;34m\u001b[0m\u001b[0m\n\u001b[0m\u001b[1;32m   2203\u001b[0m                     \u001b[0;32mif\u001b[0m \u001b[0ma\u001b[0m\u001b[0;34m.\u001b[0m\u001b[0mget_clip_on\u001b[0m\u001b[0;34m(\u001b[0m\u001b[0;34m)\u001b[0m\u001b[0;34m:\u001b[0m\u001b[0;34m\u001b[0m\u001b[0m\n\u001b[1;32m   2204\u001b[0m                         \u001b[0mclip_box\u001b[0m \u001b[0;34m=\u001b[0m \u001b[0ma\u001b[0m\u001b[0;34m.\u001b[0m\u001b[0mget_clip_box\u001b[0m\u001b[0;34m(\u001b[0m\u001b[0;34m)\u001b[0m\u001b[0;34m\u001b[0m\u001b[0m\n",
      "\u001b[0;32m/usr/lib/python3.6/site-packages/matplotlib/patches.py\u001b[0m in \u001b[0;36mget_window_extent\u001b[0;34m(self, renderer)\u001b[0m\n\u001b[1;32m    572\u001b[0m \u001b[0;34m\u001b[0m\u001b[0m\n\u001b[1;32m    573\u001b[0m     \u001b[0;32mdef\u001b[0m \u001b[0mget_window_extent\u001b[0m\u001b[0;34m(\u001b[0m\u001b[0mself\u001b[0m\u001b[0;34m,\u001b[0m \u001b[0mrenderer\u001b[0m\u001b[0;34m=\u001b[0m\u001b[0;32mNone\u001b[0m\u001b[0;34m)\u001b[0m\u001b[0;34m:\u001b[0m\u001b[0;34m\u001b[0m\u001b[0m\n\u001b[0;32m--> 574\u001b[0;31m         \u001b[0;32mreturn\u001b[0m \u001b[0mself\u001b[0m\u001b[0;34m.\u001b[0m\u001b[0mget_path\u001b[0m\u001b[0;34m(\u001b[0m\u001b[0;34m)\u001b[0m\u001b[0;34m.\u001b[0m\u001b[0mget_extents\u001b[0m\u001b[0;34m(\u001b[0m\u001b[0mself\u001b[0m\u001b[0;34m.\u001b[0m\u001b[0mget_transform\u001b[0m\u001b[0;34m(\u001b[0m\u001b[0;34m)\u001b[0m\u001b[0;34m)\u001b[0m\u001b[0;34m\u001b[0m\u001b[0m\n\u001b[0m\u001b[1;32m    575\u001b[0m \u001b[0;34m\u001b[0m\u001b[0m\n\u001b[1;32m    576\u001b[0m \u001b[0;34m\u001b[0m\u001b[0m\n",
      "\u001b[0;32m/usr/lib/python3.6/site-packages/matplotlib/path.py\u001b[0m in \u001b[0;36mget_extents\u001b[0;34m(self, transform)\u001b[0m\n\u001b[1;32m    540\u001b[0m         \u001b[0mpath\u001b[0m \u001b[0;34m=\u001b[0m \u001b[0mself\u001b[0m\u001b[0;34m\u001b[0m\u001b[0m\n\u001b[1;32m    541\u001b[0m         \u001b[0;32mif\u001b[0m \u001b[0mtransform\u001b[0m \u001b[0;32mis\u001b[0m \u001b[0;32mnot\u001b[0m \u001b[0;32mNone\u001b[0m\u001b[0;34m:\u001b[0m\u001b[0;34m\u001b[0m\u001b[0m\n\u001b[0;32m--> 542\u001b[0;31m             \u001b[0mtransform\u001b[0m \u001b[0;34m=\u001b[0m \u001b[0mtransform\u001b[0m\u001b[0;34m.\u001b[0m\u001b[0mfrozen\u001b[0m\u001b[0;34m(\u001b[0m\u001b[0;34m)\u001b[0m\u001b[0;34m\u001b[0m\u001b[0m\n\u001b[0m\u001b[1;32m    543\u001b[0m             \u001b[0;32mif\u001b[0m \u001b[0;32mnot\u001b[0m \u001b[0mtransform\u001b[0m\u001b[0;34m.\u001b[0m\u001b[0mis_affine\u001b[0m\u001b[0;34m:\u001b[0m\u001b[0;34m\u001b[0m\u001b[0m\n\u001b[1;32m    544\u001b[0m                 \u001b[0mpath\u001b[0m \u001b[0;34m=\u001b[0m \u001b[0mself\u001b[0m\u001b[0;34m.\u001b[0m\u001b[0mtransformed\u001b[0m\u001b[0;34m(\u001b[0m\u001b[0mtransform\u001b[0m\u001b[0;34m)\u001b[0m\u001b[0;34m\u001b[0m\u001b[0m\n",
      "\u001b[0;32m/usr/lib/python3.6/site-packages/matplotlib/transforms.py\u001b[0m in \u001b[0;36mfrozen\u001b[0;34m(self)\u001b[0m\n\u001b[1;32m   2137\u001b[0m \u001b[0;34m\u001b[0m\u001b[0m\n\u001b[1;32m   2138\u001b[0m     \u001b[0;32mdef\u001b[0m \u001b[0mfrozen\u001b[0m\u001b[0;34m(\u001b[0m\u001b[0mself\u001b[0m\u001b[0;34m)\u001b[0m\u001b[0;34m:\u001b[0m\u001b[0;34m\u001b[0m\u001b[0m\n\u001b[0;32m-> 2139\u001b[0;31m         \u001b[0;32mreturn\u001b[0m \u001b[0mblended_transform_factory\u001b[0m\u001b[0;34m(\u001b[0m\u001b[0mself\u001b[0m\u001b[0;34m.\u001b[0m\u001b[0m_x\u001b[0m\u001b[0;34m.\u001b[0m\u001b[0mfrozen\u001b[0m\u001b[0;34m(\u001b[0m\u001b[0;34m)\u001b[0m\u001b[0;34m,\u001b[0m \u001b[0mself\u001b[0m\u001b[0;34m.\u001b[0m\u001b[0m_y\u001b[0m\u001b[0;34m.\u001b[0m\u001b[0mfrozen\u001b[0m\u001b[0;34m(\u001b[0m\u001b[0;34m)\u001b[0m\u001b[0;34m)\u001b[0m\u001b[0;34m\u001b[0m\u001b[0m\n\u001b[0m\u001b[1;32m   2140\u001b[0m     \u001b[0mfrozen\u001b[0m\u001b[0;34m.\u001b[0m\u001b[0m__doc__\u001b[0m \u001b[0;34m=\u001b[0m \u001b[0mTransform\u001b[0m\u001b[0;34m.\u001b[0m\u001b[0mfrozen\u001b[0m\u001b[0;34m.\u001b[0m\u001b[0m__doc__\u001b[0m\u001b[0;34m\u001b[0m\u001b[0m\n\u001b[1;32m   2141\u001b[0m \u001b[0;34m\u001b[0m\u001b[0m\n",
      "\u001b[0;32m/usr/lib/python3.6/site-packages/matplotlib/transforms.py\u001b[0m in \u001b[0;36mblended_transform_factory\u001b[0;34m(x_transform, y_transform)\u001b[0m\n\u001b[1;32m   2274\u001b[0m     if (isinstance(x_transform, Affine2DBase)\n\u001b[1;32m   2275\u001b[0m         and isinstance(y_transform, Affine2DBase)):\n\u001b[0;32m-> 2276\u001b[0;31m         \u001b[0;32mreturn\u001b[0m \u001b[0mBlendedAffine2D\u001b[0m\u001b[0;34m(\u001b[0m\u001b[0mx_transform\u001b[0m\u001b[0;34m,\u001b[0m \u001b[0my_transform\u001b[0m\u001b[0;34m)\u001b[0m\u001b[0;34m\u001b[0m\u001b[0m\n\u001b[0m\u001b[1;32m   2277\u001b[0m     \u001b[0;32mreturn\u001b[0m \u001b[0mBlendedGenericTransform\u001b[0m\u001b[0;34m(\u001b[0m\u001b[0mx_transform\u001b[0m\u001b[0;34m,\u001b[0m \u001b[0my_transform\u001b[0m\u001b[0;34m)\u001b[0m\u001b[0;34m\u001b[0m\u001b[0m\n\u001b[1;32m   2278\u001b[0m \u001b[0;34m\u001b[0m\u001b[0m\n",
      "\u001b[0;32m/usr/lib/python3.6/site-packages/matplotlib/transforms.py\u001b[0m in \u001b[0;36m__init__\u001b[0;34m(self, x_transform, y_transform, **kwargs)\u001b[0m\n\u001b[1;32m   2221\u001b[0m             msg = (\"Both *x_transform* and *y_transform* must be 2D affine\"\n\u001b[1;32m   2222\u001b[0m                    \" transforms.\")\n\u001b[0;32m-> 2223\u001b[0;31m             \u001b[0;32mraise\u001b[0m \u001b[0mValueError\u001b[0m\u001b[0;34m(\u001b[0m\u001b[0mmsg\u001b[0m\u001b[0;34m)\u001b[0m\u001b[0;34m\u001b[0m\u001b[0m\n\u001b[0m\u001b[1;32m   2224\u001b[0m \u001b[0;34m\u001b[0m\u001b[0m\n\u001b[1;32m   2225\u001b[0m         \u001b[0mTransform\u001b[0m\u001b[0;34m.\u001b[0m\u001b[0m__init__\u001b[0m\u001b[0;34m(\u001b[0m\u001b[0mself\u001b[0m\u001b[0;34m,\u001b[0m \u001b[0;34m**\u001b[0m\u001b[0mkwargs\u001b[0m\u001b[0;34m)\u001b[0m\u001b[0;34m\u001b[0m\u001b[0m\n",
      "\u001b[0;31mValueError\u001b[0m: Both *x_transform* and *y_transform* must be 2D affine transforms."
     ]
    },
    {
     "data": {
      "text/plain": [
       "<matplotlib.figure.Figure at 0x7f4da43fe400>"
      ]
     },
     "metadata": {},
     "output_type": "display_data"
    }
   ],
   "source": [
    "import field_plots; importlib.reload(field_plots)\n",
    "pyplot.show(field_plots.component_residual_plot(theta_r, phi_r, theta_0d, theta_c, phi_c,\n",
    "                                    (D_dip, I_dip, F_dip),\n",
    "                                    (D_res, I_res, F_res)))"
   ]
  },
  {
   "cell_type": "markdown",
   "metadata": {},
   "source": [
    "**ok** _(tengamos en cuenta que los datos son de tiempos distintos, lo que justifica el jaleito)_"
   ]
  },
  {
   "cell_type": "code",
   "execution_count": 8,
   "metadata": {
    "collapsed": true
   },
   "outputs": [],
   "source": [
    "import bspline\n",
    "knots = numpy.arange(-2100, 2050, 50)\n",
    "\n",
    "At = bspline.condition_array(knots, tv)"
   ]
  },
  {
   "cell_type": "markdown",
   "metadata": {},
   "source": [
    "el poder de la sabiduría mágica te acompañará\n",
    "- posibilidad: 2 much splinge?\n",
    "- wow such density i thin k i just boom"
   ]
  },
  {
   "cell_type": "markdown",
   "metadata": {},
   "source": [
    "vamos a modelar"
   ]
  },
  {
   "cell_type": "code",
   "execution_count": 9,
   "metadata": {
    "collapsed": false
   },
   "outputs": [
    {
     "name": "stdout",
     "output_type": "stream",
     "text": [
      "0.0        0.0        1.1645544163875254e-12\n",
      "1.0        0.0        3.832784276992117\n",
      "1.0        1.0        2.933925280459704\n",
      "1.0        -1.0       2.933925280459704\n",
      "2.0        0.0        6.4375331855248525\n",
      "2.0        1.0        6.4375331855248525\n",
      "2.0        -1.0       6.4375331855248525\n",
      "2.0        2.0        5.18438704387763\n",
      "2.0        -2.0       5.18438704387763\n",
      "3.0        0.0        9.463634429388543\n",
      "3.0        1.0        9.15881506806791\n",
      "3.0        -1.0       9.15881506806791\n",
      "3.0        2.0        8.842537127766702\n",
      "3.0        -2.0       8.842537127766702\n",
      "3.0        3.0        7.328856948394158\n",
      "3.0        -3.0       7.328856948394158\n"
     ]
    }
   ],
   "source": [
    "theta_0p = theta_0d + 0.1\n",
    "\n",
    "ms = numpy.arange(0, 4);\n",
    "roots = scha.degree(ms, theta0 = theta_0p, max_k = 3)\n",
    "k, m, n = scha.join_roots(roots)\n",
    "\n",
    "k, m, n = numpy.array((k, m, n))\n",
    "km_even = ((k-numpy.abs(m)) % 2 == 0) & (k <= 3)\n",
    "k_even, m_even, n_even = k[km_even], m[km_even], n[km_even]\n",
    "m_mehler= numpy.array((0, 1, -1, 2, -2))\n",
    "\n",
    "for ki, mi, ni in zip(k,m,n):\n",
    "    print(f\"{ki:<10} {mi:<10} {ni:<10}\")"
   ]
  },
  {
   "cell_type": "code",
   "execution_count": 10,
   "metadata": {
    "collapsed": false
   },
   "outputs": [],
   "source": [
    "#super mega ultra condition matrix:\n",
    "Adif_rscha_test = numpy.concatenate(rscha_r.rscha_condition_matrix_dif((k_even, m_even, n_even),\n",
    "                                                     (k_even[1:], m_even[1:], n_even[1:]),\n",
    "                                                     m_mehler,\n",
    "                                                     r_geo, theta_r, phi_r, theta_0p,\n",
    "                                                     Bx_dip_r, By_dip_r, Bz_dip_r))\n",
    "\n",
    "At3 = numpy.vstack((At, At, At))\n",
    "Adift = numpy.concatenate([Adif_rscha_test*At3[:, i:i+1] for i in range(len(knots))], axis=1)\n",
    "#puede ser correcto bien"
   ]
  },
  {
   "cell_type": "code",
   "execution_count": 11,
   "metadata": {
    "collapsed": true
   },
   "outputs": [],
   "source": [
    "F_dip_avg=numpy.average(F_dip)\n",
    "F_res_norm = F_res/F_dip_avg"
   ]
  },
  {
   "cell_type": "code",
   "execution_count": 12,
   "metadata": {
    "collapsed": true
   },
   "outputs": [],
   "source": [
    "gptlsr = numpy.linalg.lstsq(Adift, numpy.concatenate((D_res, I_res, F_res/F_dip_avg)))[0]"
   ]
  },
  {
   "cell_type": "code",
   "execution_count": 13,
   "metadata": {
    "collapsed": false
   },
   "outputs": [],
   "source": [
    "synth = Adift @ gptlsr\n",
    "Ds, Is, Fs = numpy.split(synth, 3)"
   ]
  },
  {
   "cell_type": "code",
   "execution_count": 14,
   "metadata": {
    "collapsed": false
   },
   "outputs": [],
   "source": [
    "#campos remodelados\n",
    "D_m = D_dip + Ds\n",
    "I_m = I_dip + Is\n",
    "F_m = Fs*F_dip_avg + F_dip"
   ]
  },
  {
   "cell_type": "code",
   "execution_count": 15,
   "metadata": {
    "collapsed": false
   },
   "outputs": [
    {
     "name": "stderr",
     "output_type": "stream",
     "text": [
      "/usr/lib/python3.6/site-packages/matplotlib/font_manager.py:1297: UserWarning: findfont: Font family ['Fira Sans'] not found. Falling back to DejaVu Sans\n",
      "  (prop.get_family(), self.defaultFamily[fontext]))\n"
     ]
    },
    {
     "data": {
      "image/png": "[encoded data removed]",
      "text/plain": [
       "<matplotlib.figure.Figure at 0x7f4d7ac67208>"
      ]
     },
     "metadata": {},
     "output_type": "display_data"
    }
   ],
   "source": [
    "fig, axes = pyplot.subplots(nrows=1, ncols=3, figsize=(8, 4))\n",
    "\n",
    "axes[0].hist(numpy.rad2deg(trig.mindiff(D_m,D_o)))\n",
    "axes[0].set_xlabel(\"$\\Delta D (°)$\")\n",
    "axes[1].hist(numpy.rad2deg(trig.mindiff(I_m,I_o)))\n",
    "axes[1].set_xlabel(\"$\\Delta I (°)$\")\n",
    "axes[2].hist(F_m-F_o)\n",
    "axes[2].set_xlabel(\"$\\Delta F (\\mu T)$\")\n",
    "\n",
    "pyplot.show(fig)"
   ]
  },
  {
   "cell_type": "markdown",
   "metadata": {},
   "source": [
    "- wow funciona sin regularizar! (mira esos residuos ridículos, oh my god)\n",
    "- pero _**claro**_\n",
    " - seguramente la síntesis en otros puntos y tiempos sea horrible"
   ]
  },
  {
   "cell_type": "code",
   "execution_count": 16,
   "metadata": {
    "collapsed": false
   },
   "outputs": [
    {
     "name": "stderr",
     "output_type": "stream",
     "text": [
      "/usr/lib/python3.6/site-packages/matplotlib/font_manager.py:1297: UserWarning: findfont: Font family ['Fira Sans'] not found. Falling back to DejaVu Sans\n",
      "  (prop.get_family(), self.defaultFamily[fontext]))\n"
     ]
    },
    {
     "data": {
      "image/png": "[encoded data removed]",
      "text/plain": [
       "<matplotlib.figure.Figure at 0x7f4d7a3c7860>"
      ]
     },
     "metadata": {},
     "output_type": "display_data"
    }
   ],
   "source": [
    "fig, axes = pyplot.subplots(nrows=1, ncols=3, figsize=(9, 4))\n",
    "\n",
    "axes[0].hist((numpy.rad2deg(D_m), numpy.rad2deg(D_o)), color=(\"C6\", \"C3\"), label=(\"modelo\", \"datos\"), normed=True)\n",
    "axes[0].set_xlabel(\"D(°)\")\n",
    "axes[1].hist((numpy.rad2deg(I_m), numpy.rad2deg(I_o)), color=(\"C6\", \"C3\"), normed=True)\n",
    "axes[1].set_xlabel(\"I(°)\")\n",
    "axes[2].hist((F_m, F_o), color=(\"C6\", \"C3\"), normed=True)\n",
    "axes[2].set_xlabel(\"F(μT)\")\n",
    "\n",
    "fig.legend(*axes[0].get_legend_handles_labels(), 'upper center', ncol=2)\n",
    "\n",
    "pyplot.show(fig)"
   ]
  },
  {
   "cell_type": "markdown",
   "metadata": {},
   "source": [
    "#### las grandes aventuras de la síntesis"
   ]
  },
  {
   "cell_type": "code",
   "execution_count": 17,
   "metadata": {
    "collapsed": true
   },
   "outputs": [],
   "source": [
    "import field_plots"
   ]
  },
  {
   "cell_type": "code",
   "execution_count": null,
   "metadata": {
    "collapsed": false
   },
   "outputs": [],
   "source": [
    "import fibonacci_sphere\n",
    "import trig\n",
    "theta_d, phi_d = fibonacci_sphere.grid(n=7500)\n",
    "in_cap = trig.angulardist(theta_d, phi_d, theta_c, phi_c) < theta_0p\n",
    "theta_d = theta_d[in_cap]\n",
    "phi_d = phi_d[in_cap]\n",
    "\n",
    "#t_d = knots\n",
    "t_d = [1940,]\n",
    "nd = len(theta_d)\n",
    "theta_d = numpy.tile(theta_d, len(t_d))\n",
    "phi_d = numpy.tile(phi_d, len(t_d))\n",
    "times_d = numpy.repeat(t_d, nd)\n",
    "\n",
    "r_dg, theta_dg, phi_dg = trig.geo2sph(theta_d, phi_d)\n",
    "r_dgr, theta_dgr, phi_dgr = scha.rotate_coords(r_dg, theta_dg, phi_dg, rot_mat)\n",
    "Bx_dip_d, By_dip_d, Bz_dip_d = scha.xyzfield(k_dip,m_dip,n_dip, (g01_dip,), theta_dg, phi_dg)\n",
    "\n",
    "Bx_dip_dr = numpy.empty_like(Bx_dip_d); By_dip_dr = Bx_dip_dr.copy(); Bz_dip_dr = Bx_dip_dr.copy()\n",
    "\n",
    "for i, (xx, yy, zz, th_i, phi_i, th_ri) in enumerate(zip(Bx_dip_d,By_dip_d,Bz_dip_d,theta_dg,phi_dg,theta_dgr)):\n",
    "    Bx_dip_dr[i], By_dip_dr[i], Bz_dip_dr[i] = scha.rotate_vector(xx, yy, zz, theta_c, phi_c,\n",
    "                                                                  th_i, phi_i, th_ri)    \n",
    "\n",
    "Adif_syn = numpy.concatenate(rscha_r.rscha_condition_matrix_dif((k_even, m_even, n_even),\n",
    "                                                     (k_even[1:], m_even[1:], n_even[1:]),\n",
    "                                                     m_mehler,\n",
    "                                                     r_dgr, theta_dgr, phi_dgr, theta_0p,\n",
    "                                                     Bx_dip_dr, By_dip_dr, Bz_dip_dr))\n",
    "\n",
    "A3t_syn = numpy.vstack([bspline.condition_array(knots, times_d)]*3)\n",
    "Adift_syn = numpy.concatenate([Adif_syn*A3t_syn[:, i:i+1] for i in range(len(knots))], axis=1)\n"
   ]
  },
  {
   "cell_type": "code",
   "execution_count": null,
   "metadata": {
    "collapsed": false
   },
   "outputs": [],
   "source": [
    "del Adif_syn, A3t_syn"
   ]
  },
  {
   "cell_type": "code",
   "execution_count": null,
   "metadata": {
    "collapsed": false
   },
   "outputs": [],
   "source": [
    "synth_d = Adift_syn @ gptlsr\n",
    "Ds_d, Is_d, Fs_d = numpy.split(synth_d, 3)\n",
    "\n",
    "D_dip_d, I_dip_d, F_dip_d, H_dip_d = xyzfield.xyz2difh(Bx_dip_d, By_dip_d, Bz_dip_d)\n",
    "\n",
    "D_m = D_dip_d + Ds_d\n",
    "I_m = I_dip_d + Is_d\n",
    "F_m = Fs_d*F_dip_avg + F_dip_d"
   ]
  },
  {
   "cell_type": "code",
   "execution_count": null,
   "metadata": {
    "collapsed": false,
    "scrolled": true
   },
   "outputs": [],
   "source": [
    "importlib.reload(field_plots); importlib.reload(scha)\n",
    "field_plots.component_residual_plot(theta_dgr, phi_dgr, theta_0p, theta_c, phi_c,\n",
    "                                    (numpy.rad2deg(D_m), numpy.rad2deg(I_m), F_m),\n",
    "                                    scales=(\"symmetric\", \"positive\", \"positive\"),\n",
    "                                    cmaps=(\"Spectral\", \"Spectral\", \"Spectral\"),\n",
    "                                    lines=True)"
   ]
  },
  {
   "cell_type": "markdown",
   "metadata": {},
   "source": [
    " - pues así a priori parece que no lo es\n",
    " - do a big heck yes"
   ]
  },
  {
   "cell_type": "code",
   "execution_count": 18,
   "metadata": {
    "collapsed": false
   },
   "outputs": [
    {
     "data": {
      "text/plain": [
       "<module 'coords' from '/home/josecper/Programs/python/coords.py'>"
      ]
     },
     "execution_count": 18,
     "metadata": {},
     "output_type": "execute_result"
    }
   ],
   "source": [
    "import coords; importlib.reload(coords)"
   ]
  },
  {
   "cell_type": "code",
   "execution_count": 19,
   "metadata": {
    "collapsed": false
   },
   "outputs": [],
   "source": [
    "#madrid\n",
    "#theta_at, phi_at = numpy.deg2rad((90 - 40.423, -3.7))\n",
    "\n",
    "#viena\n",
    "theta_at, phi_at = numpy.deg2rad((90-48.221717, 16.397197))\n",
    "\n",
    "#estambul\n",
    "#theta_at, phi_at = numpy.deg2rad((90-41.025258, 28.992250))\n",
    "\n",
    "times = numpy.linspace(-2000, 1900, 300)\n",
    "times_d, r_d, theta_d, phi_d = coords.curve_at(times, constants.a_r, theta_at, phi_at)\n",
    "\n",
    "r_dg, theta_dg, phi_dg = trig.geo2sph(theta_d, phi_d)\n",
    "r_dgr, theta_dgr, phi_dgr = scha.rotate_coords(r_dg, theta_dg, phi_dg, rot_mat)\n",
    "Bx_dip_d, By_dip_d, Bz_dip_d = scha.xyzfield(k_dip,m_dip,n_dip, (g01_dip,), theta_dg, phi_dg)\n",
    "\n",
    "Bx_dip_dr = numpy.empty_like(Bx_dip_d); By_dip_dr = Bx_dip_dr.copy(); Bz_dip_dr = Bx_dip_dr.copy()\n",
    "\n",
    "for i, (xx, yy, zz, th_i, phi_i, th_ri) in enumerate(zip(Bx_dip_d,By_dip_d,Bz_dip_d,theta_dg,phi_dg,theta_dgr)):\n",
    "    Bx_dip_dr[i], By_dip_dr[i], Bz_dip_dr[i] = scha.rotate_vector(xx, yy, zz, theta_c, phi_c,\n",
    "                                                                  th_i, phi_i, th_ri)    \n",
    "\n",
    "Adif_syn = numpy.concatenate(rscha_r.rscha_condition_matrix_dif((k_even, m_even, n_even),\n",
    "                                                     (k_even[1:], m_even[1:], n_even[1:]),\n",
    "                                                     m_mehler,\n",
    "                                                     r_dgr, theta_dgr, phi_dgr, theta_0p,\n",
    "                                                     Bx_dip_dr, By_dip_dr, Bz_dip_dr))\n",
    "\n",
    "A3t_syn = numpy.vstack([bspline.condition_array(knots, times_d)]*3)\n",
    "Adift_syn = numpy.concatenate([Adif_syn*A3t_syn[:, i:i+1] for i in range(len(knots))], axis=1)\n"
   ]
  },
  {
   "cell_type": "code",
   "execution_count": 20,
   "metadata": {
    "collapsed": true
   },
   "outputs": [],
   "source": [
    "del Adif_syn, A3t_syn"
   ]
  },
  {
   "cell_type": "code",
   "execution_count": 21,
   "metadata": {
    "collapsed": false
   },
   "outputs": [],
   "source": [
    "synth_d = Adift_syn @ gptlsr\n",
    "Ds_d, Is_d, Fs_d = numpy.split(synth_d, 3)\n",
    "\n",
    "D_dip_d, I_dip_d, F_dip_d, H_dip_d = xyzfield.xyz2difh(Bx_dip_d, By_dip_d, Bz_dip_d)\n",
    "\n",
    "D_m = D_dip_d + Ds_d\n",
    "I_m = I_dip_d + Is_d\n",
    "F_m = Fs_d*F_dip_avg + F_dip_d"
   ]
  },
  {
   "cell_type": "code",
   "execution_count": 22,
   "metadata": {
    "collapsed": false
   },
   "outputs": [
    {
     "name": "stderr",
     "output_type": "stream",
     "text": [
      "/usr/lib/python3.6/site-packages/matplotlib/font_manager.py:1297: UserWarning: findfont: Font family ['Fira Sans'] not found. Falling back to DejaVu Sans\n",
      "  (prop.get_family(), self.defaultFamily[fontext]))\n"
     ]
    },
    {
     "data": {
      "image/png": "[encoded data removed]",
      "text/plain": [
       "<matplotlib.figure.Figure at 0x7f4d77038ef0>"
      ]
     },
     "metadata": {},
     "output_type": "display_data"
    }
   ],
   "source": [
    "fig, axes = pyplot.subplots(3, 1, figsize=(9,8))\n",
    "\n",
    "axes[0].set_title(\"@Madrid (base de datos sintética)\")\n",
    "\n",
    "axes[0].plot(times_d, numpy.rad2deg(D_m), color=\"C2\")\n",
    "axes[0].set_ylabel(\"$D (°)$\")\n",
    "\n",
    "axes[1].plot(times_d, numpy.rad2deg(I_m), color=\"C3\")\n",
    "axes[1].set_ylabel(\"$I (°)$\")\n",
    "\n",
    "axes[2].plot(times_d, F_m, color=\"C4\")\n",
    "axes[2].set_ylabel(\"$F (\\mu T)$\")\n",
    "\n",
    "axes[2].set_xlabel(\"Time (y)\")\n",
    "\n",
    "\n",
    "for ax in axes:\n",
    "    ax.set_xbound(-2000, 1900)\n",
    "    \n",
    "pyplot.show(fig)"
   ]
  },
  {
   "cell_type": "code",
   "execution_count": 28,
   "metadata": {
    "collapsed": false,
    "scrolled": true
   },
   "outputs": [
    {
     "name": "stdout",
     "output_type": "stream",
     "text": [
      "20.0 42.0\n"
     ]
    },
    {
     "name": "stderr",
     "output_type": "stream",
     "text": [
      "/usr/lib/python3.6/site-packages/matplotlib/font_manager.py:1297: UserWarning: findfont: Font family ['Fira Sans Book'] not found. Falling back to DejaVu Sans\n",
      "  (prop.get_family(), self.defaultFamily[fontext]))\n"
     ]
    },
    {
     "name": "stdout",
     "output_type": "stream",
     "text": [
      "20.0 42.0\n",
      "20.0 42.0\n",
      "20.0 42.0\n",
      "20.0 42.0\n",
      "20.0 42.0\n",
      "20.0 42.0\n",
      "20.0 42.0\n",
      "20.0 42.0\n",
      "20.0 42.0\n",
      "20.0 42.0\n",
      "20.0 42.0\n",
      "20.0 42.0\n",
      "20.0 42.0\n",
      "20.0 42.0\n",
      "20.0 42.0\n",
      "20.0 42.0\n",
      "20.0 42.0\n",
      "20.0 42.0\n",
      "20.0 42.0\n",
      "20.0 42.0\n",
      "20.0 42.0\n",
      "20.0 42.0\n",
      "20.0 42.0\n",
      "20.0 42.0\n",
      "20.0 42.0\n",
      "20.0 42.0\n",
      "20.0 42.0\n",
      "20.0 42.0\n",
      "20.0 42.0\n",
      "20.0 42.0\n",
      "20.0 42.0\n",
      "20.0 42.0\n",
      "20.0 42.0\n",
      "20.0 42.0\n",
      "20.0 42.0\n",
      "20.0 42.0\n",
      "20.0 42.0\n",
      "20.0 42.0\n",
      "20.0 42.0\n"
     ]
    }
   ],
   "source": [
    "import coords; importlib.reload(field_plots)\n",
    "import fibonacci_sphere\n",
    "times_long = numpy.arange(-2000, 2000, 100)\n",
    "\n",
    "theta_in, phi_in = fibonacci_sphere.grid(n=7500)\n",
    "in_cap = trig.angulardist(theta_in, phi_in, theta_c, phi_c) < theta_0p\n",
    "theta_in = theta_in[in_cap]\n",
    "phi_in = phi_in[in_cap]\n",
    "\n",
    "lon_c, lat_c = numpy.rad2deg((phi_c, numpy.pi/2 - theta_c))\n",
    "base_cap = Basemap(projection=\"npaeqd\", lon_0 = 0, boundinglat=90-numpy.rad2deg(theta_0p))\n",
    "base_world = Basemap(projection=\"aeqd\", lon_0 = lon_c, lat_0 = lat_c, lat_ts=45.0,\n",
    "                    width=base_cap.xmax, height=base_cap.ymax, resolution=\"l\")\n",
    "\n",
    "for jj, time in enumerate(times_long):\n",
    "\n",
    "    timev = numpy.atleast_1d(time)\n",
    "    times_d, r_d, theta_d, phi_d = coords.anything(numpy.ones_like(theta_in)*constants.a_r,\n",
    "                                                   theta_in,\n",
    "                                                   phi_in,\n",
    "                                                   timev)\n",
    "\n",
    "    r_dg, theta_dg, phi_dg = trig.geo2sph(theta_d, phi_d)\n",
    "    r_dgr, theta_dgr, phi_dgr = scha.rotate_coords(r_dg, theta_dg, phi_dg, rot_mat)\n",
    "    Bx_dip_d, By_dip_d, Bz_dip_d = scha.xyzfield(k_dip,m_dip,n_dip, (g01_dip,), theta_dg, phi_dg)\n",
    "\n",
    "    Bx_dip_dr = numpy.empty_like(Bx_dip_d); By_dip_dr = Bx_dip_dr.copy(); Bz_dip_dr = Bx_dip_dr.copy()\n",
    "\n",
    "    for i, (xx, yy, zz, th_i, phi_i, th_ri) in enumerate(zip(Bx_dip_d,By_dip_d,Bz_dip_d,theta_dg,phi_dg,theta_dgr)):\n",
    "        Bx_dip_dr[i], By_dip_dr[i], Bz_dip_dr[i] = scha.rotate_vector(xx, yy, zz, theta_c, phi_c,\n",
    "                                                                      th_i, phi_i, th_ri)    \n",
    "\n",
    "    Adif_syn = numpy.concatenate(rscha_r.rscha_condition_matrix_dif((k_even, m_even, n_even),\n",
    "                                                         (k_even[1:], m_even[1:], n_even[1:]),\n",
    "                                                         m_mehler,\n",
    "                                                         r_dgr, theta_dgr, phi_dgr, theta_0p,\n",
    "                                                         Bx_dip_dr, By_dip_dr, Bz_dip_dr))\n",
    "\n",
    "    A3t_syn = numpy.vstack([bspline.condition_array(knots, times_d)]*3)\n",
    "    Adift_syn = numpy.concatenate([Adif_syn*A3t_syn[:, i:i+1] for i in range(len(knots))], axis=1)\n",
    "\n",
    "    del Adif_syn, A3t_syn\n",
    "\n",
    "    synth_d = Adift_syn @ gptlsr\n",
    "    Ds_d, Is_d, Fs_d = numpy.split(synth_d, 3)\n",
    "\n",
    "    D_dip_d, I_dip_d, F_dip_d, H_dip_d = xyzfield.xyz2difh(Bx_dip_d, By_dip_d, Bz_dip_d)\n",
    "\n",
    "    D_m = D_dip_d + Ds_d\n",
    "    I_m = I_dip_d + Is_d\n",
    "    F_m = Fs_d*F_dip_avg + F_dip_d\n",
    "    \n",
    "    # numpy.savetxt('../data/rscha2d/mapas/dif_{:04d}_({}).txt'.format(jj, time),\n",
    "    #              numpy.stack((theta_dgr, phi_dgr, D_m, I_m, F_m)).T)\n",
    "    \n",
    "    fig = field_plots.component_residual_plot(theta_dgr, phi_dgr, theta_0p, theta_c, phi_c,\n",
    "                    (numpy.rad2deg(D_m), numpy.rad2deg(I_m), F_m),\n",
    "                    scales=(\"symmetric\", \"positive\", \"positive\"),\n",
    "                    cmaps=(\"Spectral\", \"Spectral\", \"Spectral\"),\n",
    "                    titles=(\"D (°)\", \"I (°)\", \"F $(\\mu T)$\"),\n",
    "                    lines=True)\n",
    "    fig.suptitle('t = {} years AD'.format(time))\n",
    "    fig.savefig('../data/rscha2d/mapas/rscha2d_{jj:04d}_{time:d}.png'.format(jj=jj, time=int(time)),\n",
    "                frameon=True)\n",
    "    pyplot.close(fig)\n"
   ]
  },
  {
   "cell_type": "markdown",
   "metadata": {
    "collapsed": true
   },
   "source": [
    "#### debugin zone"
   ]
  },
  {
   "cell_type": "code",
   "execution_count": null,
   "metadata": {
    "collapsed": true
   },
   "outputs": [],
   "source": [
    "pyplot.close('all')"
   ]
  },
  {
   "cell_type": "code",
   "execution_count": null,
   "metadata": {
    "collapsed": true
   },
   "outputs": [],
   "source": []
  }
 ],
 "metadata": {
  "kernelspec": {
   "display_name": "Python 3",
   "language": "python",
   "name": "python3"
  },
  "language_info": {
   "codemirror_mode": {
    "name": "ipython",
    "version": 3
   },
   "file_extension": ".py",
   "mimetype": "text/x-python",
   "name": "python",
   "nbconvert_exporter": "python",
   "pygments_lexer": "ipython3",
   "version": "3.6.0"
  }
 },
 "nbformat": 4,
 "nbformat_minor": 2
}
