{
 "cells": [
  {
   "cell_type": "code",
   "execution_count": 1,
   "metadata": {
    "collapsed": false
   },
   "outputs": [
    {
     "data": {
      "text/html": [
       "<style>.container { width:95% !important; }</style>"
      ],
      "text/plain": [
       "<IPython.core.display.HTML object>"
      ]
     },
     "metadata": {},
     "output_type": "display_data"
    }
   ],
   "source": [
    "#%matplotlib nbagg\n",
    "\n",
    "import geofield\n",
    "import dipole\n",
    "import scipy, numpy\n",
    "import newleg\n",
    "import xyzfield\n",
    "from matplotlib import pyplot, rcParams\n",
    "import matplotlib\n",
    "rcParams.update({'font.family': \"Source Sans Pro\"})\n",
    "rcParams.update({'font.size': 14})\n",
    "\n",
    "from IPython.core.display import display, HTML\n",
    "display(HTML(\"<style>.container { width:95% !important; }</style>\"))"
   ]
  },
  {
   "cell_type": "code",
   "execution_count": 15,
   "metadata": {
    "collapsed": false
   },
   "outputs": [
    {
     "data": {
      "text/plain": [
       "<module 'bootstrap' from '/home/yo/Programs/python/geofieldpy/bootstrap.py'>"
      ]
     },
     "execution_count": 15,
     "metadata": {},
     "output_type": "execute_result"
    }
   ],
   "source": [
    "import bootstrap\n",
    "import importlib; importlib.reload(bootstrap)"
   ]
  },
  {
   "cell_type": "code",
   "execution_count": 16,
   "metadata": {
    "collapsed": true
   },
   "outputs": [],
   "source": [
    "sha=geofield.SHADIFData(\"../data/sha.dif.14k/coef_EPSL_tnmgh.dat\", \"../data/sha.dif.14k/error_coef_EPSL_tnmgh.dat\")"
   ]
  },
  {
   "cell_type": "code",
   "execution_count": 31,
   "metadata": {
    "collapsed": false
   },
   "outputs": [],
   "source": [
    "(x,y,z), (x_dev, y_dev, z_dev)=bootstrap.bootstrap(dipole.ecc_dipole, (sha.gcomp[... , :8],), errors=(sha.gcomp_err[..., :8],))"
   ]
  },
  {
   "cell_type": "code",
   "execution_count": 23,
   "metadata": {
    "collapsed": false
   },
   "outputs": [],
   "source": [
    "pyplot.show(pyplot.plot(sha.years, z,\n",
    "                        sha.years, z+z_dev,\n",
    "                        sha.years, z-z_dev))"
   ]
  },
  {
   "cell_type": "code",
   "execution_count": 33,
   "metadata": {
    "collapsed": true
   },
   "outputs": [],
   "source": [
    "def szrphi(x,y,z):\n",
    "    s, zz, phi = dipole.xyz2cyl(x,y,z)\n",
    "    r = numpy.sqrt(x**2 + y**2 + z**2)\n",
    "    return s, zz, r, phi\n",
    "\n",
    "#wow this is cool as heck\n",
    "bigfunc = lambda g: szrphi(*dipole.ecc_dipole(g))"
   ]
  },
  {
   "cell_type": "code",
   "execution_count": 42,
   "metadata": {
    "collapsed": false
   },
   "outputs": [],
   "source": [
    "(s,z,r, phi), (s_dev, z_dev, r_dev, phi_dev) = bootstrap.bootstrap(bigfunc, (sha.gcomp[..., :8],), errors=(sha.gcomp_err[..., :8],))"
   ]
  },
  {
   "cell_type": "code",
   "execution_count": 44,
   "metadata": {
    "collapsed": false
   },
   "outputs": [],
   "source": [
    "fig, ax = pyplot.subplots(figsize=(20,10))\n",
    "\n",
    "ax.plot(sha.years, s, color=\"green\", label=\"s\")\n",
    "ax.plot(sha.years, z, \"m-\", label=\"z\")\n",
    "ax.plot(sha.years, r, \"b-\", label=\"r\")\n",
    "\n",
    "ax.fill_between(sha.years, r-r_dev, r+r_dev, color=\"blue\", lw=0, alpha=0.07)\n",
    "ax.fill_between(sha.years, z-z_dev, z+z_dev, color=\"magenta\", lw=0, alpha=0.07)\n",
    "ax.fill_between(sha.years, s-s_dev, s+s_dev, color=\"green\", lw=0, alpha=0.07)\n",
    "\n",
    "ax.set_xlabel(\"Years AD\")\n",
    "ax.set_ylabel(\"s,z,r (km)\")\n",
    "ax.legend()\n",
    "\n",
    "ax.set_xbound(-1000,sha.years[-1])\n",
    "\n",
    "pyplot.show(fig)"
   ]
  },
  {
   "cell_type": "code",
   "execution_count": 50,
   "metadata": {
    "collapsed": false
   },
   "outputs": [],
   "source": [
    "#this is fuckingf expensive my dude, better run it on a BIG COMPUTE\n",
    "(nlon_1, nlat_1), (nlon_1_dev, nlat_1_dev) = bootstrap.bootstrap(xyzfield.magnetic_north, args=(sha.gcomp,), errors=(sha.gcomp_err,), iterations=100, order=1, south=False)\n",
    "#other things to bootstrap:\n",
    "# - the rest of the poles (potentially forever)\n",
    "# - average intensity (mildly expensive, just take less points)\n",
    "# - pqpd (not expensive)\n",
    "# - curvature (just re-bootstrap from the pole calculations)\n",
    "# - paris curve"
   ]
  },
  {
   "cell_type": "code",
   "execution_count": null,
   "metadata": {
    "collapsed": true
   },
   "outputs": [],
   "source": [
    "fig, (ax1, ax2) = pyplot.subplots(2,1)\n",
    "\n",
    "ax1.plot(sha.years, nlon_1, \"b-\")\n",
    "ax1.plot(sha.years, nlon_1+nlon_1_dev, \"b--\")\n",
    "ax1.plot(sha.years, nlon_1-nlon_1_dev, \"b--\")\n",
    "\n",
    "ax2.plot(sha.years, nlat_1, \"b-\")\n",
    "ax2.plot(sha.years, nlat_1+nlat_1_dev, \"b--\")\n",
    "ax2.plot(sha.years, nlat_1-nlat_1_dev, \"b--\")\n"
   ]
  }
 ],
 "metadata": {
  "kernelspec": {
   "display_name": "Python 3",
   "language": "python",
   "name": "python3"
  },
  "language_info": {
   "codemirror_mode": {
    "name": "ipython",
    "version": 3
   },
   "file_extension": ".py",
   "mimetype": "text/x-python",
   "name": "python",
   "nbconvert_exporter": "python",
   "pygments_lexer": "ipython3",
   "version": "3.5.1"
  }
 },
 "nbformat": 4,
 "nbformat_minor": 0
}
