{
 "cells": [
  {
   "cell_type": "code",
   "execution_count": 2,
   "metadata": {
    "collapsed": false
   },
   "outputs": [
    {
     "data": {
      "text/html": [
       "<style>.container { width:95% !important; }</style>"
      ],
      "text/plain": [
       "<IPython.core.display.HTML object>"
      ]
     },
     "metadata": {},
     "output_type": "display_data"
    }
   ],
   "source": [
    "#%matplotlib nbagg\n",
    "\n",
    "import geofield\n",
    "import dipole, fibonacci_sphere\n",
    "import scipy, numpy\n",
    "import newleg\n",
    "import xyzfield\n",
    "from matplotlib import pyplot, rcParams\n",
    "import matplotlib\n",
    "rcParams.update({'font.family': \"Source Sans Pro\"})\n",
    "rcParams.update({'font.size': 14})\n",
    "\n",
    "from IPython.core.display import display, HTML\n",
    "display(HTML(\"<style>.container { width:95% !important; }</style>\"))"
   ]
  },
  {
   "cell_type": "code",
   "execution_count": 3,
   "metadata": {
    "collapsed": false
   },
   "outputs": [
    {
     "data": {
      "text/plain": [
       "<module 'bootstrap' from '/home/yo/Programs/python/geofieldpy/bootstrap.py'>"
      ]
     },
     "execution_count": 3,
     "metadata": {},
     "output_type": "execute_result"
    }
   ],
   "source": [
    "import bootstrap\n",
    "import importlib; importlib.reload(bootstrap)"
   ]
  },
  {
   "cell_type": "code",
   "execution_count": 4,
   "metadata": {
    "collapsed": true
   },
   "outputs": [],
   "source": [
    "sha=geofield.SHADIFData(\"../data/sha.dif.14k/coef_EPSL_tnmgh.dat\", \"../data/sha.dif.14k/error_coef_EPSL_tnmgh.dat\")"
   ]
  },
  {
   "cell_type": "code",
   "execution_count": 4,
   "metadata": {
    "collapsed": false
   },
   "outputs": [],
   "source": [
    "(x,y,z), (x_dev, y_dev, z_dev)=bootstrap.bootstrap(dipole.ecc_dipole, (sha.gcomp[... , :8],), errors=(sha.gcomp_err[..., :8],))"
   ]
  },
  {
   "cell_type": "code",
   "execution_count": 5,
   "metadata": {
    "collapsed": false
   },
   "outputs": [],
   "source": [
    "pyplot.show(pyplot.plot(sha.years, z,\n",
    "                        sha.years, z+z_dev,\n",
    "                        sha.years, z-z_dev))"
   ]
  },
  {
   "cell_type": "code",
   "execution_count": 4,
   "metadata": {
    "collapsed": true
   },
   "outputs": [],
   "source": [
    "def szrphi(x,y,z):\n",
    "    s, zz, phi = dipole.xyz2cyl(x,y,z)\n",
    "    r = numpy.sqrt(x**2 + y**2 + z**2)\n",
    "    return s, zz, r, phi\n",
    "\n",
    "#wow this is cool as heck\n",
    "bigfunc = lambda g: szrphi(*dipole.ecc_dipole(g))"
   ]
  },
  {
   "cell_type": "code",
   "execution_count": 42,
   "metadata": {
    "collapsed": false
   },
   "outputs": [],
   "source": [
    "(s,z,r, phi), (s_dev, z_dev, r_dev, phi_dev) = bootstrap.bootstrap(bigfunc, (sha.gcomp[..., :8],), errors=(sha.gcomp_err[..., :8],))"
   ]
  },
  {
   "cell_type": "code",
   "execution_count": 5,
   "metadata": {
    "collapsed": false
   },
   "outputs": [
    {
     "ename": "NameError",
     "evalue": "name 's' is not defined",
     "output_type": "error",
     "traceback": [
      "\u001b[1;31m---------------------------------------------------------------------------\u001b[0m",
      "\u001b[1;31mNameError\u001b[0m                                 Traceback (most recent call last)",
      "\u001b[1;32m<ipython-input-5-987238d76198>\u001b[0m in \u001b[0;36m<module>\u001b[1;34m()\u001b[0m\n\u001b[0;32m      1\u001b[0m \u001b[0mfig\u001b[0m\u001b[1;33m,\u001b[0m \u001b[0max\u001b[0m \u001b[1;33m=\u001b[0m \u001b[0mpyplot\u001b[0m\u001b[1;33m.\u001b[0m\u001b[0msubplots\u001b[0m\u001b[1;33m(\u001b[0m\u001b[0mfigsize\u001b[0m\u001b[1;33m=\u001b[0m\u001b[1;33m(\u001b[0m\u001b[1;36m20\u001b[0m\u001b[1;33m,\u001b[0m\u001b[1;36m10\u001b[0m\u001b[1;33m)\u001b[0m\u001b[1;33m)\u001b[0m\u001b[1;33m\u001b[0m\u001b[0m\n\u001b[0;32m      2\u001b[0m \u001b[1;33m\u001b[0m\u001b[0m\n\u001b[1;32m----> 3\u001b[1;33m \u001b[0max\u001b[0m\u001b[1;33m.\u001b[0m\u001b[0mplot\u001b[0m\u001b[1;33m(\u001b[0m\u001b[0msha\u001b[0m\u001b[1;33m.\u001b[0m\u001b[0myears\u001b[0m\u001b[1;33m,\u001b[0m \u001b[0ms\u001b[0m\u001b[1;33m,\u001b[0m \u001b[0mcolor\u001b[0m\u001b[1;33m=\u001b[0m\u001b[1;34m\"green\"\u001b[0m\u001b[1;33m,\u001b[0m \u001b[0mlabel\u001b[0m\u001b[1;33m=\u001b[0m\u001b[1;34m\"s\"\u001b[0m\u001b[1;33m)\u001b[0m\u001b[1;33m\u001b[0m\u001b[0m\n\u001b[0m\u001b[0;32m      4\u001b[0m \u001b[0max\u001b[0m\u001b[1;33m.\u001b[0m\u001b[0mplot\u001b[0m\u001b[1;33m(\u001b[0m\u001b[0msha\u001b[0m\u001b[1;33m.\u001b[0m\u001b[0myears\u001b[0m\u001b[1;33m,\u001b[0m \u001b[0mz\u001b[0m\u001b[1;33m,\u001b[0m \u001b[1;34m\"m-\"\u001b[0m\u001b[1;33m,\u001b[0m \u001b[0mlabel\u001b[0m\u001b[1;33m=\u001b[0m\u001b[1;34m\"z\"\u001b[0m\u001b[1;33m)\u001b[0m\u001b[1;33m\u001b[0m\u001b[0m\n\u001b[0;32m      5\u001b[0m \u001b[0max\u001b[0m\u001b[1;33m.\u001b[0m\u001b[0mplot\u001b[0m\u001b[1;33m(\u001b[0m\u001b[0msha\u001b[0m\u001b[1;33m.\u001b[0m\u001b[0myears\u001b[0m\u001b[1;33m,\u001b[0m \u001b[0mr\u001b[0m\u001b[1;33m,\u001b[0m \u001b[1;34m\"b-\"\u001b[0m\u001b[1;33m,\u001b[0m \u001b[0mlabel\u001b[0m\u001b[1;33m=\u001b[0m\u001b[1;34m\"r\"\u001b[0m\u001b[1;33m)\u001b[0m\u001b[1;33m\u001b[0m\u001b[0m\n",
      "\u001b[1;31mNameError\u001b[0m: name 's' is not defined"
     ]
    }
   ],
   "source": [
    "fig, ax = pyplot.subplots(figsize=(20,10))\n",
    "\n",
    "ax.plot(sha.years, s, color=\"green\", label=\"s\")\n",
    "ax.plot(sha.years, z, \"m-\", label=\"z\")\n",
    "ax.plot(sha.years, r, \"b-\", label=\"r\")\n",
    "\n",
    "ax.fill_between(sha.years, r-r_dev, r+r_dev, color=\"blue\", lw=0, alpha=0.07)\n",
    "ax.fill_between(sha.years, z-z_dev, z+z_dev, color=\"magenta\", lw=0, alpha=0.07)\n",
    "ax.fill_between(sha.years, s-s_dev, s+s_dev, color=\"green\", lw=0, alpha=0.07)\n",
    "\n",
    "ax.set_xlabel(\"Years AD\")\n",
    "ax.set_ylabel(\"s,z,r (km)\")\n",
    "ax.legend()\n",
    "\n",
    "ax.set_xbound(-1000,sha.years[-1])\n",
    "\n",
    "pyplot.show(fig)"
   ]
  },
  {
   "cell_type": "code",
   "execution_count": 174,
   "metadata": {
    "collapsed": false
   },
   "outputs": [],
   "source": [
    "fig, (ax1, ax2) = pyplot.subplots(2,1)\n",
    "\n",
    "\n",
    "ax1.plot(sha.years, nlon_1, \"b-\", label=\"Geomagnetic pole $(l=1)$\")\n",
    "ax1.plot(sha.years, (nlon_1+nlon_1_dev), \"b--\")\n",
    "ax1.plot(sha.years, (nlon_1-nlon_1_dev), \"b--\")\n",
    "\n",
    "ax2.plot(sha.years, nlat_1, \"b-\")\n",
    "ax2.plot(sha.years, nlat_1+nlat_1_dev, \"b--\")\n",
    "ax2.plot(sha.years, nlat_1-nlat_1_dev, \"b--\")\n",
    "\n",
    "ax1.plot(sha.years, nlon_2, \"r-\", label=\"Magnetic pole $(l=2)$\")\n",
    "ax1.plot(sha.years, (nlon_2+nlon_2_dev), \"r--\")\n",
    "ax1.plot(sha.years, (nlon_2-nlon_2_dev), \"r--\")\n",
    "\n",
    "ax2.plot(sha.years, nlat_2, \"r-\")\n",
    "ax2.plot(sha.years, nlat_2+nlat_2_dev, \"r--\")\n",
    "ax2.plot(sha.years, nlat_2-nlat_2_dev, \"r--\")\n",
    "\n",
    "ax1.plot(sha.years, nlon_4, \"g-\", label=\"Magnetic pole $(l=4)$\")\n",
    "ax1.plot(sha.years, (nlon_4+nlon_4_dev), \"g--\")\n",
    "ax1.plot(sha.years, (nlon_4-nlon_4_dev), \"g--\")\n",
    "\n",
    "ax2.plot(sha.years, nlat_4, \"g-\")\n",
    "ax2.plot(sha.years, nlat_4+nlat_4_dev, \"g--\")\n",
    "ax2.plot(sha.years, nlat_4-nlat_4_dev, \"g--\")\n",
    "\n",
    "ax1.plot(sha.years, nlon_10, \"k-\", label=\"Magnetic pole $(l=10)$\")\n",
    "ax1.plot(sha.years, (nlon_10+nlon_10_dev), \"k--\")\n",
    "ax1.plot(sha.years, (nlon_10-nlon_10_dev), \"k--\")\n",
    "\n",
    "ax2.plot(sha.years, nlat_10, \"k-\")\n",
    "ax2.plot(sha.years, nlat_10+nlat_10_dev, \"k--\")\n",
    "ax2.plot(sha.years, nlat_10-nlat_10_dev, \"k--\")\n",
    "\n",
    "ax1.legend(loc=\"upper left\")\n",
    "\n",
    "ax1.set_ylabel(\"Pole longitude (º)\")\n",
    "ax2.set_ylabel(\"Pole latitude (º)\")\n",
    "ax2.set_xlabel(\"Years AD\")\n",
    "\n",
    "pyplot.show(fig)"
   ]
  },
  {
   "cell_type": "code",
   "execution_count": null,
   "metadata": {
    "collapsed": false
   },
   "outputs": [],
   "source": [
    "from joblib import Parallel, delayed\n",
    "\n",
    "#be carfeful my man\n",
    "def boot_it(order):\n",
    "    return bootstrap.bootstrap(xyzfield.magnetic_north, args=(sha.gcomp,), errors=(sha.gcomp_err,), iterations=1, order=order, south=False)\n",
    "\n",
    "orders = (1, 2, 4, 10)\n",
    "(((nlon_1, nlat_1), (nlon_1_dev, nlat_1_dev)),\n",
    " ((nlon_2, nlat_2), (nlon_2_dev, nlat_2_dev)),\n",
    " ((nlon_4, nlat_4), (nlon_4_dev, nlat_4_dev)),\n",
    " ((nlon_10, nlat_10), (nlon_10_dev, nlat_10_dev))) = Parallel(n_jobs=4)(delayed(boot_it)(o) for o in orders)"
   ]
  },
  {
   "cell_type": "markdown",
   "metadata": {},
   "source": [
    "### get urself 2400 coffees before hitting shift+enter my dude"
   ]
  },
  {
   "cell_type": "code",
   "execution_count": 66,
   "metadata": {
    "collapsed": false
   },
   "outputs": [
    {
     "name": "stdout",
     "output_type": "stream",
     "text": [
      "2:09:29.133388 | done! (300 iterations)\n",
      "0:37:31.599668 | iterations: 64 / 300"
     ]
    },
    {
     "name": "stderr",
     "output_type": "stream",
     "text": [
      "/home/josecper/Programs/python/xyzfield.py:389: RuntimeWarning: invalid value encountered in add\n",
      "  x += rparamexp*(g*cossin)*dleg*(-scipy.sin(theta))\n"
     ]
    },
    {
     "name": "stdout",
     "output_type": "stream",
     "text": [
      "2:56:07.382940 | done! (300 iterations)\n",
      "0:37:55.198103 | iterations: 56 / 300"
     ]
    },
    {
     "name": "stderr",
     "output_type": "stream",
     "text": [
      "/home/josecper/Programs/python/xyzfield.py:389: RuntimeWarning: invalid value encountered in add\n",
      "  x += rparamexp*(g*cossin)*dleg*(-scipy.sin(theta))\n"
     ]
    },
    {
     "name": "stdout",
     "output_type": "stream",
     "text": [
      "\r",
      "0:40:33.911831 | iterations: 60 / 300"
     ]
    },
    {
     "name": "stderr",
     "output_type": "stream",
     "text": [
      "/home/josecper/Programs/python/xyzfield.py:389: RuntimeWarning: invalid value encountered in add\n",
      "  x += rparamexp*(g*cossin)*dleg*(-scipy.sin(theta))\n"
     ]
    },
    {
     "name": "stdout",
     "output_type": "stream",
     "text": [
      "0:51:17.876631 | iterations: 76 / 300"
     ]
    },
    {
     "name": "stderr",
     "output_type": "stream",
     "text": [
      "/home/josecper/Programs/python/xyzfield.py:389: RuntimeWarning: invalid value encountered in add\n",
      "  x += rparamexp*(g*cossin)*dleg*(-scipy.sin(theta))\n"
     ]
    },
    {
     "name": "stdout",
     "output_type": "stream",
     "text": [
      "1:45:40.842560 | iterations: 156 / 300"
     ]
    },
    {
     "name": "stderr",
     "output_type": "stream",
     "text": [
      "/home/josecper/Programs/python/xyzfield.py:389: RuntimeWarning: invalid value encountered in add\n",
      "  x += rparamexp*(g*cossin)*dleg*(-scipy.sin(theta))\n"
     ]
    },
    {
     "name": "stdout",
     "output_type": "stream",
     "text": [
      "3:23:20.133993 | done! (300 iterations)\n",
      "0:59:04.455305 | iterations: 64 / 300"
     ]
    },
    {
     "name": "stderr",
     "output_type": "stream",
     "text": [
      "/home/josecper/Programs/python/xyzfield.py:389: RuntimeWarning: invalid value encountered in add\n",
      "  x += rparamexp*(g*cossin)*dleg*(-scipy.sin(theta))\n"
     ]
    },
    {
     "name": "stdout",
     "output_type": "stream",
     "text": [
      "1:21:20.053181 | iterations: 88 / 300"
     ]
    },
    {
     "name": "stderr",
     "output_type": "stream",
     "text": [
      "/home/josecper/Programs/python/xyzfield.py:389: RuntimeWarning: invalid value encountered in add\n",
      "  x += rparamexp*(g*cossin)*dleg*(-scipy.sin(theta))\n"
     ]
    },
    {
     "name": "stdout",
     "output_type": "stream",
     "text": [
      "1:54:28.672451 | iterations: 124 / 300"
     ]
    },
    {
     "name": "stderr",
     "output_type": "stream",
     "text": [
      "/home/josecper/Programs/python/xyzfield.py:389: RuntimeWarning: invalid value encountered in add\n",
      "  x += rparamexp*(g*cossin)*dleg*(-scipy.sin(theta))\n"
     ]
    },
    {
     "name": "stdout",
     "output_type": "stream",
     "text": [
      "2:01:45.652519 | iterations: 132 / 300"
     ]
    },
    {
     "name": "stderr",
     "output_type": "stream",
     "text": [
      "/home/josecper/Programs/python/xyzfield.py:389: RuntimeWarning: invalid value encountered in add\n",
      "  x += rparamexp*(g*cossin)*dleg*(-scipy.sin(theta))\n"
     ]
    },
    {
     "name": "stdout",
     "output_type": "stream",
     "text": [
      "2:09:10.849084 | iterations: 140 / 300"
     ]
    },
    {
     "name": "stderr",
     "output_type": "stream",
     "text": [
      "/home/josecper/Programs/python/xyzfield.py:389: RuntimeWarning: invalid value encountered in add\n",
      "  x += rparamexp*(g*cossin)*dleg*(-scipy.sin(theta))\n"
     ]
    },
    {
     "name": "stdout",
     "output_type": "stream",
     "text": [
      "2:20:11.480041 | iterations: 152 / 300"
     ]
    },
    {
     "name": "stderr",
     "output_type": "stream",
     "text": [
      "/home/josecper/Programs/python/xyzfield.py:389: RuntimeWarning: invalid value encountered in add\n",
      "  x += rparamexp*(g*cossin)*dleg*(-scipy.sin(theta))\n"
     ]
    },
    {
     "name": "stdout",
     "output_type": "stream",
     "text": [
      "2:46:06.681363 | iterations: 180 / 300"
     ]
    },
    {
     "name": "stderr",
     "output_type": "stream",
     "text": [
      "/home/josecper/Programs/python/xyzfield.py:389: RuntimeWarning: invalid value encountered in add\n",
      "  x += rparamexp*(g*cossin)*dleg*(-scipy.sin(theta))\n"
     ]
    },
    {
     "name": "stdout",
     "output_type": "stream",
     "text": [
      "2:57:13.089636 | iterations: 192 / 300"
     ]
    },
    {
     "name": "stderr",
     "output_type": "stream",
     "text": [
      "/home/josecper/Programs/python/xyzfield.py:389: RuntimeWarning: invalid value encountered in add\n",
      "  x += rparamexp*(g*cossin)*dleg*(-scipy.sin(theta))\n"
     ]
    },
    {
     "name": "stdout",
     "output_type": "stream",
     "text": [
      "3:27:02.405857 | iterations: 224 / 300"
     ]
    },
    {
     "name": "stderr",
     "output_type": "stream",
     "text": [
      "/home/josecper/Programs/python/xyzfield.py:389: RuntimeWarning: invalid value encountered in add\n",
      "  x += rparamexp*(g*cossin)*dleg*(-scipy.sin(theta))\n"
     ]
    },
    {
     "name": "stdout",
     "output_type": "stream",
     "text": [
      "4:11:15.803964 | iterations: 272 / 300"
     ]
    },
    {
     "name": "stderr",
     "output_type": "stream",
     "text": [
      "/home/josecper/Programs/python/xyzfield.py:389: RuntimeWarning: invalid value encountered in add\n",
      "  x += rparamexp*(g*cossin)*dleg*(-scipy.sin(theta))\n"
     ]
    },
    {
     "name": "stdout",
     "output_type": "stream",
     "text": [
      "4:36:56.320569 | done! (300 iterations)\n"
     ]
    }
   ],
   "source": [
    "#hack bootstrap to use minimal differences on the stdev calculation? done \n",
    "\n",
    "((nlon_1, nlat_1), (nlon_1_dev, nlat_1_dev)) = bootstrap.parallelize(xyzfield.magnetic_north, args=(sha.gcomp,), stdev_func=bootstrap.stdev_cyclic, errors=(sha.gcomp_err,), iterations=300, n_jobs=4, order=1, south=False, debug=True)\n",
    "numpy.savetxt(\"../data/pole_drift/deg_1.txt\", numpy.array((nlon_1, nlat_1, nlon_1_dev, nlat_1_dev)).T, header=\"#Magnetic pole drift data (SHA.DIF.14k) (lon, lat, lon_dev, lat_dev) in degrees\")\n",
    "((nlon_2, nlat_2), (nlon_2_dev, nlat_2_dev)) = bootstrap.parallelize(xyzfield.magnetic_north, args=(sha.gcomp,), stdev_func=bootstrap.stdev_cyclic, errors=(sha.gcomp_err,), iterations=300, n_jobs=4, order=2, south=False, debug=True)\n",
    "numpy.savetxt(\"../data/pole_drift/deg_2.txt\", numpy.array((nlon_2, nlat_2, nlon_2_dev, nlat_2_dev)).T, header=\"#Magnetic pole drift data (SHA.DIF.14k) (lon, lat, lon_dev, lat_dev) in degrees\")\n",
    "((nlon_4, nlat_4), (nlon_4_dev, nlat_4_dev)) = bootstrap.parallelize(xyzfield.magnetic_north, args=(sha.gcomp,), stdev_func=bootstrap.stdev_cyclic, errors=(sha.gcomp_err,), iterations=300, n_jobs=4, order=4, south=False, debug=True)\n",
    "numpy.savetxt(\"../data/pole_drift/deg_4.txt\", numpy.array((nlon_4, nlat_4, nlon_4_dev, nlat_4_dev)).T, header=\"#Magnetic pole drift data (SHA.DIF.14k) (lon, lat, lon_dev, lat_dev) in degrees\")\n",
    "((nlon_10, nlat_10), (nlon_10_dev, nlat_10_dev)) = bootstrap.parallelize(xyzfield.magnetic_north, args=(sha.gcomp,), stdev_func=bootstrap.stdev_cyclic, errors=(sha.gcomp_err,), iterations=300, n_jobs=4, order=10, south=False, debug=True)\n",
    "numpy.savetxt(\"../data/pole_drift/deg_10.txt\", numpy.array((nlon_10, nlat_10, nlon_10_dev, nlat_10_dev)).T, header=\"#Magnetic pole drift data (SHA.DIF.14k) (lon, lat, lon_dev, lat_dev) in degrees\")"
   ]
  },
  {
   "cell_type": "code",
   "execution_count": 4,
   "metadata": {
    "collapsed": true
   },
   "outputs": [],
   "source": [
    "theta, phi = fibonacci_sphere.grid(4000)\n",
    "\n",
    "def avg_intensity(gcomp):    \n",
    "    intensities = numpy.empty_like(sha.years)\n",
    "    npoints = len(phi)\n",
    "\n",
    "    for i, year in enumerate(sha.years):\n",
    "        x,y,z = xyzfield.xyzfieldv2(gcomp[i, :], phi, theta)\n",
    "        dec,inc,f,h = xyzfield.xyz2difh(x,y,z)\n",
    "        intensities[i]=(f.sum(axis=0)/npoints)\n",
    "        \n",
    "    return intensities"
   ]
  },
  {
   "cell_type": "code",
   "execution_count": 5,
   "metadata": {
    "collapsed": false
   },
   "outputs": [
    {
     "name": "stdout",
     "output_type": "stream",
     "text": [
      "0:45:21.142041 | iterations: 296 / 300"
     ]
    }
   ],
   "source": [
    "(intensities, intensities_dev) = bootstrap.parallelize(avg_intensity, args=(sha.gcomp,), errors=(sha.gcomp_err,), iterations=400, n_jobs=8, debug=True)"
   ]
  },
  {
   "cell_type": "code",
   "execution_count": 8,
   "metadata": {
    "collapsed": true
   },
   "outputs": [],
   "source": [
    "theta, phi = fibonacci_sphere.grid(4000)\n",
    "\n",
    "def avg_vdm(gcomp):    \n",
    "    avdm = numpy.empty_like(sha.years)\n",
    "    npoints = len(phi)\n",
    "\n",
    "    for i, year in enumerate(sha.years):\n",
    "        x,y,z = xyzfield.xyzfieldv2(gcomp[i, :], phi, theta)\n",
    "        dec,inc,f,h = xyzfield.xyz2difh(x,y,z)\n",
    "        vdm = 10**-6/10**-7 * 6371000**3 / numpy.sqrt(1+3*numpy.cos(theta)**2) * f\n",
    "        avdm[i]=(vdm.sum(axis=0)/npoints)\n",
    "        \n",
    "    return avdm"
   ]
  },
  {
   "cell_type": "code",
   "execution_count": 10,
   "metadata": {
    "collapsed": false
   },
   "outputs": [
    {
     "name": "stdout",
     "output_type": "stream",
     "text": [
      "0:28:13.113232 | done! (128 iterations)\n"
     ]
    }
   ],
   "source": [
    "(avdm, avdm_dev) = bootstrap.parallelize(avg_vdm, args=(sha.gcomp,), errors=(sha.gcomp_err,), iterations=128, n_jobs=8, debug=True)"
   ]
  },
  {
   "cell_type": "code",
   "execution_count": 11,
   "metadata": {
    "collapsed": false
   },
   "outputs": [
    {
     "name": "stdout",
     "output_type": "stream",
     "text": [
      "0:00:08.508606 | iterations: 320 / 4000"
     ]
    },
    {
     "name": "stderr",
     "output_type": "stream",
     "text": [
      "Exception ignored in: <function WeakValueDictionary.__init__.<locals>.remove at 0x7f48e2ad40d0>\n",
      "Traceback (most recent call last):\n",
      "  File \"/usr/lib/python3.5/weakref.py\", line 108, in remove\n",
      "    def remove(wr, selfref=ref(self)):\n",
      "KeyboardInterrupt\n"
     ]
    },
    {
     "name": "stdout",
     "output_type": "stream",
     "text": [
      "0:00:12.400288 | iterations: 464 / 4000"
     ]
    },
    {
     "name": "stderr",
     "output_type": "stream",
     "text": [
      "Process ForkPoolWorker-620:\n",
      "Process ForkPoolWorker-623:\n",
      "Process ForkPoolWorker-622:\n",
      "Process ForkPoolWorker-619:\n",
      "Process ForkPoolWorker-618:\n",
      "Process ForkPoolWorker-621:\n",
      "Process ForkPoolWorker-617:\n",
      "Process ForkPoolWorker-624:\n",
      "Traceback (most recent call last):\n",
      "Traceback (most recent call last):\n",
      "Traceback (most recent call last):\n",
      "Traceback (most recent call last):\n",
      "Traceback (most recent call last):\n",
      "Traceback (most recent call last):\n",
      "Traceback (most recent call last):\n",
      "  File \"/usr/lib/python3.5/multiprocessing/process.py\", line 254, in _bootstrap\n",
      "    self.run()\n",
      "Traceback (most recent call last):\n",
      "  File \"/usr/lib/python3.5/multiprocessing/process.py\", line 254, in _bootstrap\n",
      "    self.run()\n",
      "  File \"/usr/lib/python3.5/multiprocessing/process.py\", line 254, in _bootstrap\n",
      "    self.run()\n",
      "  File \"/usr/lib/python3.5/multiprocessing/process.py\", line 254, in _bootstrap\n",
      "    self.run()\n",
      "  File \"/usr/lib/python3.5/multiprocessing/process.py\", line 93, in run\n",
      "    self._target(*self._args, **self._kwargs)\n",
      "  File \"/usr/lib/python3.5/multiprocessing/process.py\", line 254, in _bootstrap\n",
      "    self.run()\n",
      "  File \"/usr/lib/python3.5/multiprocessing/process.py\", line 254, in _bootstrap\n",
      "    self.run()\n",
      "  File \"/usr/lib/python3.5/multiprocessing/process.py\", line 93, in run\n",
      "    self._target(*self._args, **self._kwargs)\n",
      "  File \"/usr/lib/python3.5/multiprocessing/process.py\", line 254, in _bootstrap\n",
      "    self.run()\n",
      "  File \"/usr/lib/python3.5/multiprocessing/process.py\", line 93, in run\n",
      "    self._target(*self._args, **self._kwargs)\n",
      "  File \"/usr/lib/python3.5/multiprocessing/process.py\", line 93, in run\n",
      "    self._target(*self._args, **self._kwargs)\n",
      "  File \"/usr/lib/python3.5/multiprocessing/process.py\", line 93, in run\n",
      "    self._target(*self._args, **self._kwargs)\n",
      "  File \"/usr/lib/python3.5/multiprocessing/process.py\", line 254, in _bootstrap\n",
      "    self.run()\n",
      "  File \"/usr/lib/python3.5/multiprocessing/pool.py\", line 108, in worker\n",
      "    task = get()\n",
      "  File \"/usr/lib/python3.5/multiprocessing/process.py\", line 93, in run\n",
      "    self._target(*self._args, **self._kwargs)\n",
      "  File \"/usr/lib/python3.5/multiprocessing/pool.py\", line 108, in worker\n",
      "    task = get()\n",
      "  File \"/usr/lib/python3.5/site-packages/joblib/pool.py\", line 357, in get\n",
      "    racquire()\n",
      "  File \"/usr/lib/python3.5/multiprocessing/pool.py\", line 108, in worker\n",
      "    task = get()\n",
      "  File \"/usr/lib/python3.5/multiprocessing/pool.py\", line 108, in worker\n",
      "    task = get()\n",
      "  File \"/usr/lib/python3.5/site-packages/joblib/pool.py\", line 357, in get\n",
      "    racquire()\n",
      "  File \"/usr/lib/python3.5/multiprocessing/process.py\", line 93, in run\n",
      "    self._target(*self._args, **self._kwargs)\n",
      "  File \"/usr/lib/python3.5/site-packages/joblib/pool.py\", line 357, in get\n",
      "    racquire()\n",
      "  File \"/usr/lib/python3.5/multiprocessing/pool.py\", line 108, in worker\n",
      "    task = get()\n",
      "  File \"/usr/lib/python3.5/site-packages/joblib/pool.py\", line 357, in get\n",
      "    racquire()\n",
      "  File \"/usr/lib/python3.5/multiprocessing/pool.py\", line 108, in worker\n",
      "    task = get()\n",
      "  File \"/usr/lib/python3.5/multiprocessing/pool.py\", line 108, in worker\n",
      "    task = get()\n",
      "KeyboardInterrupt\n",
      "KeyboardInterrupt\n",
      "KeyboardInterrupt\n",
      "  File \"/usr/lib/python3.5/multiprocessing/process.py\", line 93, in run\n",
      "    self._target(*self._args, **self._kwargs)\n"
     ]
    },
    {
     "ename": "KeyboardInterrupt",
     "evalue": "",
     "output_type": "error",
     "traceback": [
      "\u001b[1;31m---------------------------------------------------------------------------\u001b[0m",
      "\u001b[1;31mKeyboardInterrupt\u001b[0m                         Traceback (most recent call last)",
      "\u001b[1;32m<ipython-input-11-3a92673bb00a>\u001b[0m in \u001b[0;36m<module>\u001b[1;34m()\u001b[0m\n\u001b[0;32m      4\u001b[0m     \u001b[1;32mreturn\u001b[0m \u001b[0mp_quad\u001b[0m\u001b[1;33m/\u001b[0m\u001b[0mp_dip\u001b[0m\u001b[1;33m\u001b[0m\u001b[0m\n\u001b[0;32m      5\u001b[0m \u001b[1;33m\u001b[0m\u001b[0m\n\u001b[1;32m----> 6\u001b[1;33m \u001b[1;33m(\u001b[0m\u001b[0mpqpd\u001b[0m\u001b[1;33m,\u001b[0m \u001b[0mpqpd_dev\u001b[0m\u001b[1;33m)\u001b[0m \u001b[1;33m=\u001b[0m \u001b[0mbootstrap\u001b[0m\u001b[1;33m.\u001b[0m\u001b[0mparallelize\u001b[0m\u001b[1;33m(\u001b[0m\u001b[0mpower_ratio\u001b[0m\u001b[1;33m,\u001b[0m \u001b[0margs\u001b[0m\u001b[1;33m=\u001b[0m\u001b[1;33m(\u001b[0m\u001b[0msha\u001b[0m\u001b[1;33m.\u001b[0m\u001b[0mgcomp\u001b[0m\u001b[1;33m,\u001b[0m\u001b[1;33m)\u001b[0m\u001b[1;33m,\u001b[0m \u001b[0merrors\u001b[0m\u001b[1;33m=\u001b[0m\u001b[1;33m(\u001b[0m\u001b[0msha\u001b[0m\u001b[1;33m.\u001b[0m\u001b[0mgcomp_err\u001b[0m\u001b[1;33m,\u001b[0m\u001b[1;33m)\u001b[0m\u001b[1;33m,\u001b[0m \u001b[0miterations\u001b[0m\u001b[1;33m=\u001b[0m\u001b[1;36m4000\u001b[0m\u001b[1;33m,\u001b[0m \u001b[0mn_jobs\u001b[0m\u001b[1;33m=\u001b[0m\u001b[1;36m8\u001b[0m\u001b[1;33m,\u001b[0m \u001b[0mdebug\u001b[0m\u001b[1;33m=\u001b[0m\u001b[1;32mTrue\u001b[0m\u001b[1;33m)\u001b[0m\u001b[1;33m\u001b[0m\u001b[0m\n\u001b[0m",
      "\u001b[1;32m/home/yo/Programs/python/geofieldpy/bootstrap.py\u001b[0m in \u001b[0;36mparallelize\u001b[1;34m(func, args, errors, error_type, stdev_func, return_all, n_jobs, iterations, debug, *xargs, **kwargs)\u001b[0m\n\u001b[0;32m     47\u001b[0m         \u001b[0mboot_args\u001b[0m \u001b[1;33m=\u001b[0m \u001b[1;33m[\u001b[0m\u001b[1;33m[\u001b[0m\u001b[0marg\u001b[0m \u001b[1;33m+\u001b[0m \u001b[0merror\u001b[0m\u001b[1;33m*\u001b[0m\u001b[0mnumpy\u001b[0m\u001b[1;33m.\u001b[0m\u001b[0mrandom\u001b[0m\u001b[1;33m.\u001b[0m\u001b[0mrandn\u001b[0m\u001b[1;33m(\u001b[0m\u001b[1;33m*\u001b[0m\u001b[0marg\u001b[0m\u001b[1;33m.\u001b[0m\u001b[0mshape\u001b[0m\u001b[1;33m)\u001b[0m \u001b[1;32mfor\u001b[0m \u001b[0marg\u001b[0m\u001b[1;33m,\u001b[0m \u001b[0merror\u001b[0m \u001b[1;32min\u001b[0m \u001b[0mzip\u001b[0m\u001b[1;33m(\u001b[0m\u001b[0margs\u001b[0m\u001b[1;33m,\u001b[0m\u001b[0merrors\u001b[0m\u001b[1;33m)\u001b[0m\u001b[1;33m]\u001b[0m \u001b[1;32mfor\u001b[0m \u001b[0mj\u001b[0m \u001b[1;32min\u001b[0m \u001b[0mrange\u001b[0m\u001b[1;33m(\u001b[0m\u001b[0mn_jobs\u001b[0m\u001b[1;33m)\u001b[0m\u001b[1;33m]\u001b[0m\u001b[1;33m\u001b[0m\u001b[0m\n\u001b[0;32m     48\u001b[0m \u001b[1;33m\u001b[0m\u001b[0m\n\u001b[1;32m---> 49\u001b[1;33m         \u001b[0mouts\u001b[0m \u001b[1;33m=\u001b[0m \u001b[0mParallel\u001b[0m\u001b[1;33m(\u001b[0m\u001b[0mn_jobs\u001b[0m\u001b[1;33m=\u001b[0m\u001b[0mn_jobs\u001b[0m\u001b[1;33m)\u001b[0m\u001b[1;33m(\u001b[0m\u001b[0mdelayed\u001b[0m\u001b[1;33m(\u001b[0m\u001b[0mfunc\u001b[0m\u001b[1;33m)\u001b[0m\u001b[1;33m(\u001b[0m\u001b[1;33m*\u001b[0m\u001b[0mboot_arg\u001b[0m\u001b[1;33m,\u001b[0m \u001b[1;33m*\u001b[0m\u001b[0mxargs\u001b[0m\u001b[1;33m,\u001b[0m \u001b[1;33m**\u001b[0m\u001b[0mkwargs\u001b[0m\u001b[1;33m)\u001b[0m \u001b[1;32mfor\u001b[0m \u001b[0mboot_arg\u001b[0m \u001b[1;32min\u001b[0m \u001b[0mboot_args\u001b[0m\u001b[1;33m)\u001b[0m\u001b[1;33m\u001b[0m\u001b[0m\n\u001b[0m\u001b[0;32m     50\u001b[0m         \u001b[0moutputs\u001b[0m\u001b[1;33m.\u001b[0m\u001b[0mextend\u001b[0m\u001b[1;33m(\u001b[0m\u001b[0mouts\u001b[0m\u001b[1;33m)\u001b[0m\u001b[1;33m\u001b[0m\u001b[0m\n\u001b[0;32m     51\u001b[0m \u001b[1;33m\u001b[0m\u001b[0m\n",
      "\u001b[1;32m/usr/lib/python3.5/site-packages/joblib/parallel.py\u001b[0m in \u001b[0;36m__call__\u001b[1;34m(self, iterable)\u001b[0m\n\u001b[0;32m    816\u001b[0m         \u001b[1;32mfinally\u001b[0m\u001b[1;33m:\u001b[0m\u001b[1;33m\u001b[0m\u001b[0m\n\u001b[0;32m    817\u001b[0m             \u001b[1;32mif\u001b[0m \u001b[1;32mnot\u001b[0m \u001b[0mself\u001b[0m\u001b[1;33m.\u001b[0m\u001b[0m_managed_pool\u001b[0m\u001b[1;33m:\u001b[0m\u001b[1;33m\u001b[0m\u001b[0m\n\u001b[1;32m--> 818\u001b[1;33m                 \u001b[0mself\u001b[0m\u001b[1;33m.\u001b[0m\u001b[0m_terminate_pool\u001b[0m\u001b[1;33m(\u001b[0m\u001b[1;33m)\u001b[0m\u001b[1;33m\u001b[0m\u001b[0m\n\u001b[0m\u001b[0;32m    819\u001b[0m             \u001b[0mself\u001b[0m\u001b[1;33m.\u001b[0m\u001b[0m_jobs\u001b[0m \u001b[1;33m=\u001b[0m \u001b[0mlist\u001b[0m\u001b[1;33m(\u001b[0m\u001b[1;33m)\u001b[0m\u001b[1;33m\u001b[0m\u001b[0m\n\u001b[0;32m    820\u001b[0m         \u001b[0moutput\u001b[0m \u001b[1;33m=\u001b[0m \u001b[0mself\u001b[0m\u001b[1;33m.\u001b[0m\u001b[0m_output\u001b[0m\u001b[1;33m\u001b[0m\u001b[0m\n",
      "\u001b[1;32m/usr/lib/python3.5/site-packages/joblib/parallel.py\u001b[0m in \u001b[0;36m_terminate_pool\u001b[1;34m(self)\u001b[0m\n\u001b[0;32m    547\u001b[0m         \u001b[1;32mif\u001b[0m \u001b[0mself\u001b[0m\u001b[1;33m.\u001b[0m\u001b[0m_pool\u001b[0m \u001b[1;32mis\u001b[0m \u001b[1;32mnot\u001b[0m \u001b[1;32mNone\u001b[0m\u001b[1;33m:\u001b[0m\u001b[1;33m\u001b[0m\u001b[0m\n\u001b[0;32m    548\u001b[0m             \u001b[0mself\u001b[0m\u001b[1;33m.\u001b[0m\u001b[0m_pool\u001b[0m\u001b[1;33m.\u001b[0m\u001b[0mclose\u001b[0m\u001b[1;33m(\u001b[0m\u001b[1;33m)\u001b[0m\u001b[1;33m\u001b[0m\u001b[0m\n\u001b[1;32m--> 549\u001b[1;33m             \u001b[0mself\u001b[0m\u001b[1;33m.\u001b[0m\u001b[0m_pool\u001b[0m\u001b[1;33m.\u001b[0m\u001b[0mterminate\u001b[0m\u001b[1;33m(\u001b[0m\u001b[1;33m)\u001b[0m  \u001b[1;31m# terminate does a join()\u001b[0m\u001b[1;33m\u001b[0m\u001b[0m\n\u001b[0m\u001b[0;32m    550\u001b[0m             \u001b[0mself\u001b[0m\u001b[1;33m.\u001b[0m\u001b[0m_pool\u001b[0m \u001b[1;33m=\u001b[0m \u001b[1;32mNone\u001b[0m\u001b[1;33m\u001b[0m\u001b[0m\n\u001b[0;32m    551\u001b[0m             \u001b[1;32mif\u001b[0m \u001b[0mself\u001b[0m\u001b[1;33m.\u001b[0m\u001b[0mbackend\u001b[0m \u001b[1;33m==\u001b[0m \u001b[1;34m'multiprocessing'\u001b[0m\u001b[1;33m:\u001b[0m\u001b[1;33m\u001b[0m\u001b[0m\n",
      "\u001b[1;32m/usr/lib/python3.5/site-packages/joblib/pool.py\u001b[0m in \u001b[0;36mterminate\u001b[1;34m(self)\u001b[0m\n\u001b[0;32m    581\u001b[0m \u001b[1;33m\u001b[0m\u001b[0m\n\u001b[0;32m    582\u001b[0m     \u001b[1;32mdef\u001b[0m \u001b[0mterminate\u001b[0m\u001b[1;33m(\u001b[0m\u001b[0mself\u001b[0m\u001b[1;33m)\u001b[0m\u001b[1;33m:\u001b[0m\u001b[1;33m\u001b[0m\u001b[0m\n\u001b[1;32m--> 583\u001b[1;33m         \u001b[0msuper\u001b[0m\u001b[1;33m(\u001b[0m\u001b[0mMemmapingPool\u001b[0m\u001b[1;33m,\u001b[0m \u001b[0mself\u001b[0m\u001b[1;33m)\u001b[0m\u001b[1;33m.\u001b[0m\u001b[0mterminate\u001b[0m\u001b[1;33m(\u001b[0m\u001b[1;33m)\u001b[0m\u001b[1;33m\u001b[0m\u001b[0m\n\u001b[0m\u001b[0;32m    584\u001b[0m         \u001b[0mdelete_folder\u001b[0m\u001b[1;33m(\u001b[0m\u001b[0mself\u001b[0m\u001b[1;33m.\u001b[0m\u001b[0m_temp_folder\u001b[0m\u001b[1;33m)\u001b[0m\u001b[1;33m\u001b[0m\u001b[0m\n",
      "\u001b[1;32m/usr/lib/python3.5/multiprocessing/pool.py\u001b[0m in \u001b[0;36mterminate\u001b[1;34m(self)\u001b[0m\n\u001b[0;32m    503\u001b[0m         \u001b[0mself\u001b[0m\u001b[1;33m.\u001b[0m\u001b[0m_state\u001b[0m \u001b[1;33m=\u001b[0m \u001b[0mTERMINATE\u001b[0m\u001b[1;33m\u001b[0m\u001b[0m\n\u001b[0;32m    504\u001b[0m         \u001b[0mself\u001b[0m\u001b[1;33m.\u001b[0m\u001b[0m_worker_handler\u001b[0m\u001b[1;33m.\u001b[0m\u001b[0m_state\u001b[0m \u001b[1;33m=\u001b[0m \u001b[0mTERMINATE\u001b[0m\u001b[1;33m\u001b[0m\u001b[0m\n\u001b[1;32m--> 505\u001b[1;33m         \u001b[0mself\u001b[0m\u001b[1;33m.\u001b[0m\u001b[0m_terminate\u001b[0m\u001b[1;33m(\u001b[0m\u001b[1;33m)\u001b[0m\u001b[1;33m\u001b[0m\u001b[0m\n\u001b[0m\u001b[0;32m    506\u001b[0m \u001b[1;33m\u001b[0m\u001b[0m\n\u001b[0;32m    507\u001b[0m     \u001b[1;32mdef\u001b[0m \u001b[0mjoin\u001b[0m\u001b[1;33m(\u001b[0m\u001b[0mself\u001b[0m\u001b[1;33m)\u001b[0m\u001b[1;33m:\u001b[0m\u001b[1;33m\u001b[0m\u001b[0m\n",
      "\u001b[1;32m/usr/lib/python3.5/multiprocessing/util.py\u001b[0m in \u001b[0;36m__call__\u001b[1;34m(self, wr, _finalizer_registry, sub_debug, getpid)\u001b[0m\n\u001b[0;32m    183\u001b[0m                 sub_debug('finalizer calling %s with args %s and kwargs %s',\n\u001b[0;32m    184\u001b[0m                           self._callback, self._args, self._kwargs)\n\u001b[1;32m--> 185\u001b[1;33m                 \u001b[0mres\u001b[0m \u001b[1;33m=\u001b[0m \u001b[0mself\u001b[0m\u001b[1;33m.\u001b[0m\u001b[0m_callback\u001b[0m\u001b[1;33m(\u001b[0m\u001b[1;33m*\u001b[0m\u001b[0mself\u001b[0m\u001b[1;33m.\u001b[0m\u001b[0m_args\u001b[0m\u001b[1;33m,\u001b[0m \u001b[1;33m**\u001b[0m\u001b[0mself\u001b[0m\u001b[1;33m.\u001b[0m\u001b[0m_kwargs\u001b[0m\u001b[1;33m)\u001b[0m\u001b[1;33m\u001b[0m\u001b[0m\n\u001b[0m\u001b[0;32m    186\u001b[0m             \u001b[0mself\u001b[0m\u001b[1;33m.\u001b[0m\u001b[0m_weakref\u001b[0m \u001b[1;33m=\u001b[0m \u001b[0mself\u001b[0m\u001b[1;33m.\u001b[0m\u001b[0m_callback\u001b[0m \u001b[1;33m=\u001b[0m \u001b[0mself\u001b[0m\u001b[1;33m.\u001b[0m\u001b[0m_args\u001b[0m \u001b[1;33m=\u001b[0m\u001b[0;31m \u001b[0m\u001b[0;31m\\\u001b[0m\u001b[1;33m\u001b[0m\u001b[0m\n\u001b[0;32m    187\u001b[0m                             \u001b[0mself\u001b[0m\u001b[1;33m.\u001b[0m\u001b[0m_kwargs\u001b[0m \u001b[1;33m=\u001b[0m \u001b[0mself\u001b[0m\u001b[1;33m.\u001b[0m\u001b[0m_key\u001b[0m \u001b[1;33m=\u001b[0m \u001b[1;32mNone\u001b[0m\u001b[1;33m\u001b[0m\u001b[0m\n",
      "\u001b[1;32m/usr/lib/python3.5/multiprocessing/pool.py\u001b[0m in \u001b[0;36m_terminate_pool\u001b[1;34m(cls, taskqueue, inqueue, outqueue, pool, worker_handler, task_handler, result_handler, cache)\u001b[0m\n\u001b[0;32m    533\u001b[0m \u001b[1;33m\u001b[0m\u001b[0m\n\u001b[0;32m    534\u001b[0m         \u001b[0mutil\u001b[0m\u001b[1;33m.\u001b[0m\u001b[0mdebug\u001b[0m\u001b[1;33m(\u001b[0m\u001b[1;34m'helping task handler/workers to finish'\u001b[0m\u001b[1;33m)\u001b[0m\u001b[1;33m\u001b[0m\u001b[0m\n\u001b[1;32m--> 535\u001b[1;33m         \u001b[0mcls\u001b[0m\u001b[1;33m.\u001b[0m\u001b[0m_help_stuff_finish\u001b[0m\u001b[1;33m(\u001b[0m\u001b[0minqueue\u001b[0m\u001b[1;33m,\u001b[0m \u001b[0mtask_handler\u001b[0m\u001b[1;33m,\u001b[0m \u001b[0mlen\u001b[0m\u001b[1;33m(\u001b[0m\u001b[0mpool\u001b[0m\u001b[1;33m)\u001b[0m\u001b[1;33m)\u001b[0m\u001b[1;33m\u001b[0m\u001b[0m\n\u001b[0m\u001b[0;32m    536\u001b[0m \u001b[1;33m\u001b[0m\u001b[0m\n\u001b[0;32m    537\u001b[0m         \u001b[1;32massert\u001b[0m \u001b[0mresult_handler\u001b[0m\u001b[1;33m.\u001b[0m\u001b[0mis_alive\u001b[0m\u001b[1;33m(\u001b[0m\u001b[1;33m)\u001b[0m \u001b[1;32mor\u001b[0m \u001b[0mlen\u001b[0m\u001b[1;33m(\u001b[0m\u001b[0mcache\u001b[0m\u001b[1;33m)\u001b[0m \u001b[1;33m==\u001b[0m \u001b[1;36m0\u001b[0m\u001b[1;33m\u001b[0m\u001b[0m\n",
      "\u001b[1;32m/usr/lib/python3.5/multiprocessing/pool.py\u001b[0m in \u001b[0;36m_help_stuff_finish\u001b[1;34m(inqueue, task_handler, size)\u001b[0m\n\u001b[0;32m    518\u001b[0m         \u001b[1;31m# task_handler may be blocked trying to put items on inqueue\u001b[0m\u001b[1;33m\u001b[0m\u001b[1;33m\u001b[0m\u001b[0m\n\u001b[0;32m    519\u001b[0m         \u001b[0mutil\u001b[0m\u001b[1;33m.\u001b[0m\u001b[0mdebug\u001b[0m\u001b[1;33m(\u001b[0m\u001b[1;34m'removing tasks from inqueue until task handler finished'\u001b[0m\u001b[1;33m)\u001b[0m\u001b[1;33m\u001b[0m\u001b[0m\n\u001b[1;32m--> 520\u001b[1;33m         \u001b[0minqueue\u001b[0m\u001b[1;33m.\u001b[0m\u001b[0m_rlock\u001b[0m\u001b[1;33m.\u001b[0m\u001b[0macquire\u001b[0m\u001b[1;33m(\u001b[0m\u001b[1;33m)\u001b[0m\u001b[1;33m\u001b[0m\u001b[0m\n\u001b[0m\u001b[0;32m    521\u001b[0m         \u001b[1;32mwhile\u001b[0m \u001b[0mtask_handler\u001b[0m\u001b[1;33m.\u001b[0m\u001b[0mis_alive\u001b[0m\u001b[1;33m(\u001b[0m\u001b[1;33m)\u001b[0m \u001b[1;32mand\u001b[0m \u001b[0minqueue\u001b[0m\u001b[1;33m.\u001b[0m\u001b[0m_reader\u001b[0m\u001b[1;33m.\u001b[0m\u001b[0mpoll\u001b[0m\u001b[1;33m(\u001b[0m\u001b[1;33m)\u001b[0m\u001b[1;33m:\u001b[0m\u001b[1;33m\u001b[0m\u001b[0m\n\u001b[0;32m    522\u001b[0m             \u001b[0minqueue\u001b[0m\u001b[1;33m.\u001b[0m\u001b[0m_reader\u001b[0m\u001b[1;33m.\u001b[0m\u001b[0mrecv\u001b[0m\u001b[1;33m(\u001b[0m\u001b[1;33m)\u001b[0m\u001b[1;33m\u001b[0m\u001b[0m\n",
      "\u001b[1;31mKeyboardInterrupt\u001b[0m: "
     ]
    },
    {
     "name": "stderr",
     "output_type": "stream",
     "text": [
      "  File \"/usr/lib/python3.5/multiprocessing/pool.py\", line 108, in worker\n",
      "    task = get()\n",
      "  File \"/usr/lib/python3.5/site-packages/joblib/pool.py\", line 357, in get\n",
      "    racquire()\n",
      "  File \"/usr/lib/python3.5/site-packages/joblib/pool.py\", line 357, in get\n",
      "    racquire()\n",
      "KeyboardInterrupt\n",
      "  File \"/usr/lib/python3.5/site-packages/joblib/pool.py\", line 359, in get\n",
      "    return recv()\n",
      "  File \"/usr/lib/python3.5/multiprocessing/connection.py\", line 379, in _recv\n",
      "    chunk = read(handle, remaining)\n",
      "  File \"/usr/lib/python3.5/site-packages/joblib/pool.py\", line 357, in get\n",
      "    racquire()\n",
      "KeyboardInterrupt\n",
      "KeyboardInterrupt\n",
      "KeyboardInterrupt\n",
      "  File \"/usr/lib/python3.5/multiprocessing/connection.py\", line 250, in recv\n",
      "    buf = self._recv_bytes()\n",
      "KeyboardInterrupt\n",
      "  File \"/usr/lib/python3.5/multiprocessing/connection.py\", line 407, in _recv_bytes\n",
      "    buf = self._recv(4)\n"
     ]
    }
   ],
   "source": [
    "def power_ratio(gcomp):\n",
    "    p_dip=dipole.power(gcomp, lmin=1, lmax=1)\n",
    "    p_quad=dipole.power(gcomp, lmin=2, lmax=2)\n",
    "    return p_quad/p_dip\n",
    "\n",
    "(pqpd, pqpd_dev) = bootstrap.parallelize(power_ratio, args=(sha.gcomp,), errors=(sha.gcomp_err,), iterations=4000, n_jobs=8, debug=True)"
   ]
  },
  {
   "cell_type": "code",
   "execution_count": 11,
   "metadata": {
    "collapsed": false
   },
   "outputs": [],
   "source": [
    "fig, ax1 = pyplot.subplots()\n",
    "\n",
    "ax1.plot(sha.years, intensities, \"b-\")\n",
    "ax1.plot(sha.years, intensities+intensities_dev, \"b--\")\n",
    "ax1.plot(sha.years, intensities-intensities_dev, \"b--\")\n",
    "\n",
    "pyplot.show(fig)"
   ]
  },
  {
   "cell_type": "code",
   "execution_count": 9,
   "metadata": {
    "collapsed": true
   },
   "outputs": [],
   "source": [
    "numpy.savetxt(\"../data/pole_drift/pqpd.txt\", numpy.array((pqpd, pqpd_dev)).T, header=\"#Quadrupole/dipole power ratio (ratio, stdev), dimensionless\")"
   ]
  },
  {
   "cell_type": "code",
   "execution_count": 12,
   "metadata": {
    "collapsed": true
   },
   "outputs": [],
   "source": [
    "numpy.savetxt(\"../data/pole_drift/intensity.txt\", numpy.array((intensities, intensities_dev)).T, header=\"#Average field intensity over 4000 points (intensity, stdev), uT\")"
   ]
  },
  {
   "cell_type": "code",
   "execution_count": 64,
   "metadata": {
    "collapsed": false
   },
   "outputs": [
    {
     "name": "stdout",
     "output_type": "stream",
     "text": [
      "0:06:54.664227 | done! (16 iterations)\n"
     ]
    }
   ],
   "source": [
    "((nlon_1, nlat_1), (nlon_1_dev, nlat_1_dev)) = bootstrap.parallelize(xyzfield.magnetic_north, args=(sha.gcomp,), errors=(sha.gcomp_err,), stdev_func=bootstrap.stdev_cyclic, iterations=16, n_jobs=4, order=1, south=False, debug=True)"
   ]
  },
  {
   "cell_type": "code",
   "execution_count": 28,
   "metadata": {
    "collapsed": true
   },
   "outputs": [],
   "source": [
    "fig, ax1 = pyplot.subplots()\n",
    "\n",
    "ax1.plot(sha.years, intensities, \"b-\")\n",
    "ax1.plot(sha.years, intensities+intensities_dev, \"b--\")\n",
    "ax1.plot(sha.years, intensities-intensities_dev, \"b--\")\n",
    "\n",
    "pyplot.show(fig)"
   ]
  },
  {
   "cell_type": "code",
   "execution_count": 107,
   "metadata": {
    "collapsed": false
   },
   "outputs": [],
   "source": [
    "from mpl_toolkits.basemap import Basemap\n",
    "\n",
    "base = Basemap(projection=\"npstere\", lon_0 = 0, boundinglat=60)\n",
    "years = numpy.array(sha.years)"
   ]
  },
  {
   "cell_type": "code",
   "execution_count": 108,
   "metadata": {
    "collapsed": false
   },
   "outputs": [],
   "source": [
    "fig, ax = pyplot.subplots()\n",
    "\n",
    "base.drawcoastlines(ax=ax)\n",
    "base.plot((nlon_1 % 360)[years >= -2000],\n",
    "          (90-abs(90-nlat_1))[years >= -2000],\n",
    "          latlon=True)\n",
    "base.plot((nlon_1 % 360)[years >= -2000],\n",
    "          (90-abs(90-nlat_1))[years >= -2000],\n",
    "          latlon=True)\n",
    "\n",
    "pyplot.show(fig)"
   ]
  },
  {
   "cell_type": "code",
   "execution_count": 40,
   "metadata": {
    "collapsed": false
   },
   "outputs": [
    {
     "data": {
      "text/plain": [
       "(279,)"
      ]
     },
     "execution_count": 40,
     "metadata": {},
     "output_type": "execute_result"
    }
   ],
   "source": [
    "nlon_1.shape"
   ]
  },
  {
   "cell_type": "code",
   "execution_count": 106,
   "metadata": {
    "collapsed": false
   },
   "outputs": [],
   "source": [
    "fig, (ax1, ax2) = pyplot.subplots(2,1)\n",
    "\n",
    "nlon_disc = nlon_1.copy() % 360\n",
    "\n",
    "for slc in unlink_wrap(nlon_disc, thresh=0.60):\n",
    "    ax1.plot(years[slc], nlon_disc[slc], \"b-\")\n",
    "\n",
    "ax1.set_ybound(0, 360)\n",
    "\n",
    "pyplot.show(fig)"
   ]
  },
  {
   "cell_type": "code",
   "execution_count": 61,
   "metadata": {
    "collapsed": false
   },
   "outputs": [],
   "source": [
    "years = numpy.array(sha.years)\n",
    "\n",
    "nlon_10, nlat_10 = xyzfield.magnetic_north(sha.gcomp[years >= -2000], 10, south=False)\n",
    "nlon_10, nlat_10 = numpy.array((nlon_10, nlat_10))"
   ]
  },
  {
   "cell_type": "code",
   "execution_count": 77,
   "metadata": {
    "collapsed": true
   },
   "outputs": [],
   "source": [
    "nlon_1, nlat_1 = xyzfield.magnetic_north(sha.gcomp[years >= -2000], 1, south=False)\n",
    "nlon_1, nlat_1 = numpy.array((nlon_1, nlat_1))"
   ]
  },
  {
   "cell_type": "code",
   "execution_count": 63,
   "metadata": {
    "collapsed": false
   },
   "outputs": [],
   "source": [
    "from mpl_toolkits.basemap import Basemap\n",
    "theta, phi = fibonacci_sphere.grid(40000)\n",
    "maplat, maplon = 90 - numpy.rad2deg(theta), numpy.rad2deg(phi)\n",
    "base = Basemap(projection=\"npstere\", lon_0 = 0, boundinglat = 65)"
   ]
  },
  {
   "cell_type": "code",
   "execution_count": 45,
   "metadata": {
    "collapsed": false
   },
   "outputs": [],
   "source": [
    "for i, (year, gcomp) in enumerate(zip(years[years >= -2000], sha.gcomp[years >= -2000])):\n",
    "\n",
    "    theta_pole, phi_pole = (numpy.pi/2 - numpy.deg2rad(nlat_10 % 360)[i], numpy.deg2rad(nlon_10 % 360)[i])\n",
    "    xp,yp,zp=xyzfield.xyzfieldv2(gcomp, numpy.array([phi_pole]), numpy.array([theta_pole]), order=10, regular=False)\n",
    "\n",
    "    difp, incp, intp, horp = xyzfield.xyz2difh(xp,yp,zp)\n",
    "\n",
    "    threshold=0.92\n",
    "\n",
    "    x, y, z = xyzfield.xyzfieldv2(gcomp, phi, theta, order=10)\n",
    "    dif, inc, fnt, hor = xyzfield.xyz2difh(x,y,z)\n",
    "\n",
    "    polar_inc = inc.copy()\n",
    "    polar_inc[polar_inc < threshold*incp] = 0\n",
    "\n",
    "    fig, ax = pyplot.subplots(figsize=(10,10))\n",
    "\n",
    "    base.drawcoastlines(ax=ax)\n",
    "    base.drawmeridians(numpy.arange(0, 375, 15), ax=ax)\n",
    "    base.drawparallels(numpy.arange(-90, 100, 10), ax=ax)\n",
    "\n",
    "    #base.contourf(maplon, maplat, polar_inc, latlon=True, tri=True, cmap=\"RdPu\", vmin=threshold*incp, vmax=1.0*incp, levels=[0, *(numpy.linspace(threshold, 1.4, 100)*incp)])\n",
    "    base.contourf(maplon, maplat, polar_inc, 250, latlon=True, tri=True, cmap=\"RdPu\", vmin=threshold*incp)\n",
    "    \n",
    "    base.plot(nlon_10 % 360, 90 - numpy.abs(90 - nlat_10), latlon=True, color=\"black\", linewidth=0.9, marker=\"o\", markeredgewidth=0, markersize=5)\n",
    "    base.scatter(nlon_10[i] % 360, 90 - numpy.abs(90-nlat_10[i]), latlon=True, color=\"white\", linewidth=0, marker=\"o\",zorder=8)\n",
    "    \n",
    "    ax.set_title(\"Magnetic north pole at year {0:4.1f}\".format(year), fontdict={\"fontsize\" : \"large\"})\n",
    "    \n",
    "    fig.tight_layout()\n",
    "    fig.savefig(\"magpole_frames/frame_{0:04d}\".format(i))\n",
    "    pyplot.close(fig)"
   ]
  },
  {
   "cell_type": "code",
   "execution_count": 26,
   "metadata": {
    "collapsed": false
   },
   "outputs": [],
   "source": [
    "fig, axes = pyplot.subplots(4,1, figsize=(15.46,11.56))\n",
    "\n",
    "ax1, ax2, ax3, ax4 = axes\n",
    "\n",
    "years = numpy.array(sha.years)\n",
    "\n",
    "#intensity, intensity_dev = numpy.loadtxt(\"../data/pole_drift/intensity.txt\").T*(6371000**3/10**-7*10**-6)\n",
    "ax1.plot(years[years >= -2000], avdm[years >= -2000], color=\"blue\")\n",
    "ax1.fill_between(years[years >= -2000],\n",
    "                 avdm[years >= -2000]-avdm_dev[years >= -2000],\n",
    "                 avdm[years >= -2000]+avdm_dev[years >= -2000], color=\"blue\", alpha=0.07)\n",
    "\n",
    "ax1.set_xbound(-2000, 1900)\n",
    "ax1.set_ylabel(\"Average VDM (Am$^{2}$)\")\n",
    "\n",
    "gallet_jerks=[-800, 200, 800, 1400]\n",
    "pqpd_peaks=[-1450, -450, -150]\n",
    "\n",
    "for ax in axes:\n",
    "    for jerk in gallet_jerks:\n",
    "        ax.plot([jerk, jerk], [-9999, 10**25], \"r--\", scaley=False, scalex=False)\n",
    "    for jerk in pqpd_peaks:\n",
    "        ax.plot([jerk, jerk], [-9999, 10**25], \"b--\", scaley=False, scalex=False)\n",
    "\n",
    "pyplot.show(fig)"
   ]
  },
  {
   "cell_type": "code",
   "execution_count": null,
   "metadata": {
    "collapsed": true
   },
   "outputs": [],
   "source": [
    "s, z, r, phi, s_dev, z_dev, r_dev, phi_dev = numpy.loadtxt(\"../data/pole_drift/szrphi.txt\").T\n",
    "ax2.plot(years[years >= -2000], r[years >= -2000], color=\"blue\", label=\"r\")\n",
    "ax2.plot(years[years >= -2000], z[years >= -2000], color=\"magenta\", label=\"z\")\n",
    "ax2.plot(years[years >= -2000], s[years >= -2000], color=\"green\", label=\"s\")\n",
    "ax2.fill_between(years[years >= -2000],\n",
    "                 r[years >= -2000]-r_dev[years >= -2000],\n",
    "                 r[years >= -2000]+r_dev[years >= -2000], color=\"blue\", alpha=0.07)\n",
    "ax2.fill_between(years[years >= -2000],\n",
    "                 z[years >= -2000]-z_dev[years >= -2000],\n",
    "                 z[years >= -2000]+z_dev[years >= -2000], color=\"magenta\", alpha=0.07)\n",
    "ax2.fill_between(years[years >= -2000],\n",
    "                 s[years >= -2000]-s_dev[years >= -2000],\n",
    "                 s[years >= -2000]+s_dev[years >= -2000], color=\"green\", alpha=0.07)\n",
    "\n",
    "ax2.set_xbound(-2000, 1900)\n",
    "ax2.set_ylabel(\"Eccentric dipole location (km)\")\n",
    "ax2.legend(loc=\"lower center\", fontsize=\"small\", ncol=3)\n",
    "\n",
    "pqpd, pqpd_dev = numpy.loadtxt(\"../data/pole_drift/pqpd.txt\").T\n",
    "ax3.plot(years[years >= -2000], pqpd[years >= -2000], color=\"blue\")\n",
    "ax3.fill_between(years[years >= -2000],\n",
    "                 pqpd[years >= -2000]-pqpd_dev[years >= -2000],\n",
    "                 pqpd[years >= -2000]+pqpd_dev[years >= -2000], color=\"blue\", alpha=0.07)\n",
    "\n",
    "ax3.set_xbound(-2000, 1900)\n",
    "ax3.set_ylabel(\"$<Q>/<D>$\")\n",
    "\n",
    "curv_10 = curvature(nlon_10, nlat_10)\n",
    "curv_1 = curvature(nlon_1, nlat_1)\n",
    "ax4.plot(years[years >= -2000][:-1], curv_1[:-1], \"b-\", label=\"$l=1$\")\n",
    "ax4.plot(years[years >= -2000][:-1], curv_10[:-1], \"k-\", label=\"$l=10$\")\n",
    "ax4.set_ylabel(\"Pole drift curvature (º Years$^{-2})$\")\n",
    "ax4.set_xbound(-2000, 1900)\n",
    "ax4.set_xlabel(\"Years AD\")\n",
    "ax4.legend(loc=\"upper right\", fontsize=\"small\")\n",
    "\n",
    "gallet_jerks=[-800, 200, 800, 1400]\n",
    "pqpd_peaks=[-1450, -450, -150]\n",
    "\n",
    "for ax in axes:\n",
    "    for jerk in gallet_jerks:\n",
    "        ax.plot([jerk, jerk], [-9999, 10**25], \"r--\", scaley=False, scalex=False)\n",
    "    for jerk in pqpd_peaks:\n",
    "        ax.plot([jerk, jerk], [-9999, 10**25], \"b--\", scaley=False, scalex=False)"
   ]
  },
  {
   "cell_type": "code",
   "execution_count": 68,
   "metadata": {
    "collapsed": true
   },
   "outputs": [],
   "source": [
    "def curvature(lon, lat):\n",
    "    #change this to use an equal-distance projection so tangent vector is accurate\n",
    "    \n",
    "    slon = lon % 360\n",
    "    slat = 90 - numpy.abs(90-lat)\n",
    "\n",
    "    fake_map = Basemap(projection='npaeqd',boundinglat=0,lon_0=0,resolution='l')\n",
    "\n",
    "    xx, yy = fake_map(slon, slat)\n",
    "    difx, dify = numpy.gradient(xx)/6371000, numpy.gradient(yy)/6371000\n",
    "    tan_len = numpy.sqrt(difx**2 + dify**2)/50\n",
    "\n",
    "    curvature = (numpy.gradient(difx)**2 + numpy.gradient(dify)**2)/tan_len\n",
    "    return curvature"
   ]
  },
  {
   "cell_type": "code",
   "execution_count": 16,
   "metadata": {
    "collapsed": false
   },
   "outputs": [],
   "source": [
    "fig, ax = pyplot.subplots()\n",
    "\n",
    "years = numpy.array(sha.years)\n",
    "\n",
    "ax.plot(years[years >= -2000], avdm[years >= -2000]/10**22)\n",
    "\n",
    "pyplot.show(fig)"
   ]
  },
  {
   "cell_type": "code",
   "execution_count": null,
   "metadata": {
    "collapsed": true
   },
   "outputs": [],
   "source": []
  }
 ],
 "metadata": {
  "kernelspec": {
   "display_name": "Python 3",
   "language": "python",
   "name": "python3"
  },
  "language_info": {
   "codemirror_mode": {
    "name": "ipython",
    "version": 3
   },
   "file_extension": ".py",
   "mimetype": "text/x-python",
   "name": "python",
   "nbconvert_exporter": "python",
   "pygments_lexer": "ipython3",
   "version": "3.6.0"
  }
 },
 "nbformat": 4,
 "nbformat_minor": 0
}
