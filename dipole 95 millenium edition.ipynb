{
 "cells": [
  {
   "cell_type": "code",
   "execution_count": 1,
   "metadata": {
    "collapsed": false
   },
   "outputs": [
    {
     "data": {
      "text/html": [
       "<style>.container { width:95% !important; }</style>"
      ],
      "text/plain": [
       "<IPython.core.display.HTML object>"
      ]
     },
     "metadata": {},
     "output_type": "display_data"
    }
   ],
   "source": [
    "#%matplotlib nbagg\n",
    "\n",
    "import geofield\n",
    "import dipole, fibonacci_sphere\n",
    "import scipy, numpy\n",
    "import newleg\n",
    "import xyzfield\n",
    "from matplotlib import pyplot, rcParams\n",
    "import matplotlib\n",
    "rcParams.update({'font.family': \"Source Sans Pro\"})\n",
    "rcParams.update({'font.size': 14})\n",
    "\n",
    "from IPython.core.display import display, HTML\n",
    "display(HTML(\"<style>.container { width:95% !important; }</style>\"))"
   ]
  },
  {
   "cell_type": "code",
   "execution_count": 2,
   "metadata": {
    "collapsed": false
   },
   "outputs": [
    {
     "data": {
      "text/plain": [
       "<module 'bootstrap' from '/home/josecper/Programs/python/bootstrap.py'>"
      ]
     },
     "execution_count": 2,
     "metadata": {},
     "output_type": "execute_result"
    }
   ],
   "source": [
    "import bootstrap\n",
    "import importlib; importlib.reload(bootstrap)"
   ]
  },
  {
   "cell_type": "code",
   "execution_count": 3,
   "metadata": {
    "collapsed": true
   },
   "outputs": [],
   "source": [
    "sha=geofield.SHADIFData(\"../data/sha.dif.14k/coef_EPSL_tnmgh.dat\", \"../data/sha.dif.14k/error_coef_EPSL_tnmgh.dat\")"
   ]
  },
  {
   "cell_type": "code",
   "execution_count": 4,
   "metadata": {
    "collapsed": false
   },
   "outputs": [],
   "source": [
    "(x,y,z), (x_dev, y_dev, z_dev)=bootstrap.bootstrap(dipole.ecc_dipole, (sha.gcomp[... , :8],), errors=(sha.gcomp_err[..., :8],))"
   ]
  },
  {
   "cell_type": "code",
   "execution_count": 5,
   "metadata": {
    "collapsed": false
   },
   "outputs": [],
   "source": [
    "pyplot.show(pyplot.plot(sha.years, z,\n",
    "                        sha.years, z+z_dev,\n",
    "                        sha.years, z-z_dev))"
   ]
  },
  {
   "cell_type": "code",
   "execution_count": 4,
   "metadata": {
    "collapsed": true
   },
   "outputs": [],
   "source": [
    "def szrphi(x,y,z):\n",
    "    s, zz, phi = dipole.xyz2cyl(x,y,z)\n",
    "    r = numpy.sqrt(x**2 + y**2 + z**2)\n",
    "    return s, zz, r, phi\n",
    "\n",
    "#wow this is cool as heck\n",
    "bigfunc = lambda g: szrphi(*dipole.ecc_dipole(g))"
   ]
  },
  {
   "cell_type": "code",
   "execution_count": 42,
   "metadata": {
    "collapsed": false
   },
   "outputs": [],
   "source": [
    "(s,z,r, phi), (s_dev, z_dev, r_dev, phi_dev) = bootstrap.bootstrap(bigfunc, (sha.gcomp[..., :8],), errors=(sha.gcomp_err[..., :8],))"
   ]
  },
  {
   "cell_type": "code",
   "execution_count": 5,
   "metadata": {
    "collapsed": false
   },
   "outputs": [
    {
     "ename": "NameError",
     "evalue": "name 's' is not defined",
     "output_type": "error",
     "traceback": [
      "\u001b[1;31m---------------------------------------------------------------------------\u001b[0m",
      "\u001b[1;31mNameError\u001b[0m                                 Traceback (most recent call last)",
      "\u001b[1;32m<ipython-input-5-987238d76198>\u001b[0m in \u001b[0;36m<module>\u001b[1;34m()\u001b[0m\n\u001b[0;32m      1\u001b[0m \u001b[0mfig\u001b[0m\u001b[1;33m,\u001b[0m \u001b[0max\u001b[0m \u001b[1;33m=\u001b[0m \u001b[0mpyplot\u001b[0m\u001b[1;33m.\u001b[0m\u001b[0msubplots\u001b[0m\u001b[1;33m(\u001b[0m\u001b[0mfigsize\u001b[0m\u001b[1;33m=\u001b[0m\u001b[1;33m(\u001b[0m\u001b[1;36m20\u001b[0m\u001b[1;33m,\u001b[0m\u001b[1;36m10\u001b[0m\u001b[1;33m)\u001b[0m\u001b[1;33m)\u001b[0m\u001b[1;33m\u001b[0m\u001b[0m\n\u001b[0;32m      2\u001b[0m \u001b[1;33m\u001b[0m\u001b[0m\n\u001b[1;32m----> 3\u001b[1;33m \u001b[0max\u001b[0m\u001b[1;33m.\u001b[0m\u001b[0mplot\u001b[0m\u001b[1;33m(\u001b[0m\u001b[0msha\u001b[0m\u001b[1;33m.\u001b[0m\u001b[0myears\u001b[0m\u001b[1;33m,\u001b[0m \u001b[0ms\u001b[0m\u001b[1;33m,\u001b[0m \u001b[0mcolor\u001b[0m\u001b[1;33m=\u001b[0m\u001b[1;34m\"green\"\u001b[0m\u001b[1;33m,\u001b[0m \u001b[0mlabel\u001b[0m\u001b[1;33m=\u001b[0m\u001b[1;34m\"s\"\u001b[0m\u001b[1;33m)\u001b[0m\u001b[1;33m\u001b[0m\u001b[0m\n\u001b[0m\u001b[0;32m      4\u001b[0m \u001b[0max\u001b[0m\u001b[1;33m.\u001b[0m\u001b[0mplot\u001b[0m\u001b[1;33m(\u001b[0m\u001b[0msha\u001b[0m\u001b[1;33m.\u001b[0m\u001b[0myears\u001b[0m\u001b[1;33m,\u001b[0m \u001b[0mz\u001b[0m\u001b[1;33m,\u001b[0m \u001b[1;34m\"m-\"\u001b[0m\u001b[1;33m,\u001b[0m \u001b[0mlabel\u001b[0m\u001b[1;33m=\u001b[0m\u001b[1;34m\"z\"\u001b[0m\u001b[1;33m)\u001b[0m\u001b[1;33m\u001b[0m\u001b[0m\n\u001b[0;32m      5\u001b[0m \u001b[0max\u001b[0m\u001b[1;33m.\u001b[0m\u001b[0mplot\u001b[0m\u001b[1;33m(\u001b[0m\u001b[0msha\u001b[0m\u001b[1;33m.\u001b[0m\u001b[0myears\u001b[0m\u001b[1;33m,\u001b[0m \u001b[0mr\u001b[0m\u001b[1;33m,\u001b[0m \u001b[1;34m\"b-\"\u001b[0m\u001b[1;33m,\u001b[0m \u001b[0mlabel\u001b[0m\u001b[1;33m=\u001b[0m\u001b[1;34m\"r\"\u001b[0m\u001b[1;33m)\u001b[0m\u001b[1;33m\u001b[0m\u001b[0m\n",
      "\u001b[1;31mNameError\u001b[0m: name 's' is not defined"
     ]
    }
   ],
   "source": [
    "fig, ax = pyplot.subplots(figsize=(20,10))\n",
    "\n",
    "ax.plot(sha.years, s, color=\"green\", label=\"s\")\n",
    "ax.plot(sha.years, z, \"m-\", label=\"z\")\n",
    "ax.plot(sha.years, r, \"b-\", label=\"r\")\n",
    "\n",
    "ax.fill_between(sha.years, r-r_dev, r+r_dev, color=\"blue\", lw=0, alpha=0.07)\n",
    "ax.fill_between(sha.years, z-z_dev, z+z_dev, color=\"magenta\", lw=0, alpha=0.07)\n",
    "ax.fill_between(sha.years, s-s_dev, s+s_dev, color=\"green\", lw=0, alpha=0.07)\n",
    "\n",
    "ax.set_xlabel(\"Years AD\")\n",
    "ax.set_ylabel(\"s,z,r (km)\")\n",
    "ax.legend()\n",
    "\n",
    "ax.set_xbound(-1000,sha.years[-1])\n",
    "\n",
    "pyplot.show(fig)"
   ]
  },
  {
   "cell_type": "code",
   "execution_count": 21,
   "metadata": {
    "collapsed": false
   },
   "outputs": [
    {
     "name": "stdout",
     "output_type": "stream",
     "text": [
      "lun jun 20 13:33:11 CEST 2016\n",
      "Failed to save <class 'numpy.ndarray'> to .npy file:\n",
      "Traceback (most recent call last):\n",
      "  File \"/usr/lib/python3.5/site-packages/joblib/numpy_pickle.py\", line 271, in save\n",
      "    obj, filename = self._write_array(obj, filename)\n",
      "  File \"/usr/lib/python3.5/site-packages/joblib/numpy_pickle.py\", line 231, in _write_array\n",
      "    self.np.save(filename, array)\n",
      "  File \"/usr/lib/python3.5/site-packages/numpy/lib/npyio.py\", line 477, in save\n",
      "    fid = open(file, \"wb\")\n",
      "OSError: [Errno 28] No queda espacio en el dispositivo: '/tmp/joblib/joblib/newleg/legendre/fd97c87232f22c2f2a5d88a85edea521/output.pkl_02.npy'\n",
      "\n",
      "Failed to save <class 'numpy.ndarray'> to .npy file:\n",
      "Traceback (most recent call last):\n",
      "  File \"/usr/lib/python3.5/site-packages/joblib/numpy_pickle.py\", line 271, in save\n",
      "    obj, filename = self._write_array(obj, filename)\n",
      "  File \"/usr/lib/python3.5/site-packages/joblib/numpy_pickle.py\", line 231, in _write_array\n",
      "    self.np.save(filename, array)\n",
      "  File \"/usr/lib/python3.5/site-packages/numpy/lib/npyio.py\", line 477, in save\n",
      "    fid = open(file, \"wb\")\n",
      "OSError: [Errno 28] No queda espacio en el dispositivo: '/tmp/joblib/joblib/newleg/legendre/815386a752e0a4de692a45fdc3014b73/output.pkl_02.npy'\n",
      "\n",
      "lun jun 20 13:35:04 CEST 2016\n"
     ]
    }
   ],
   "source": [
    "#this is fuckingf expensive my dude, better run it on a BIG COMPUTE\n",
    "!date\n",
    "(nlon_1, nlat_1), (nlon_1_dev, nlat_1_dev) = bootstrap.bootstrap(xyzfield.magnetic_north, args=(sha.gcomp,), errors=(sha.gcomp_err,), iterations=1, order=1, south=False)\n",
    "!date\n",
    "#other things to bootstrap:\n",
    "# - the rest of the poles (potentially forever)\n",
    "# - average intensity (mildly expensive, just take less points)\n",
    "# - pqpd (not expensive)\n",
    "# - curvature (just re-bootstrap from the pole calculations)\n",
    "# - paris curve"
   ]
  },
  {
   "cell_type": "code",
   "execution_count": 24,
   "metadata": {
    "collapsed": false
   },
   "outputs": [],
   "source": [
    "fig, (ax1, ax2) = pyplot.subplots(2,1)\n",
    "\n",
    "ax1.plot(sha.years, nlon_1, \"b-\")\n",
    "ax1.plot(sha.years, nlon_1+nlon_1_dev, \"b--\")\n",
    "ax1.plot(sha.years, nlon_1-nlon_1_dev, \"b--\")\n",
    "\n",
    "ax2.plot(sha.years, nlat_1, \"b-\")\n",
    "ax2.plot(sha.years, nlat_1+nlat_1_dev, \"b--\")\n",
    "ax2.plot(sha.years, nlat_1-nlat_1_dev, \"b--\")\n",
    "\n",
    "pyplot.show(fig)"
   ]
  },
  {
   "cell_type": "code",
   "execution_count": 6,
   "metadata": {
    "collapsed": true
   },
   "outputs": [],
   "source": [
    "from joblib import Parallel, delayed\n",
    "\n",
    "#be carfeful my man\n",
    "def boot_it(order):\n",
    "    return bootstrap.bootstrap(xyzfield.magnetic_north, args=(sha.gcomp,), errors=(sha.gcomp_err,), iterations=1, order=order, south=False)\n",
    "\n",
    "orders = (1, 2, 4, 10)\n",
    "(((nlon_1, nlat_1), (nlon_1_dev, nlat_1_dev)),\n",
    " ((nlon_2, nlat_2), (nlon_2_dev, nlat_2_dev)),\n",
    " ((nlon_4, nlat_4), (nlon_4_dev, nlat_4_dev)),\n",
    " ((nlon_10, nlat_10), (nlon_10_dev, nlat_10_dev))) = Parallel(n_jobs=4)(delayed(boot_it)(o) for o in orders)"
   ]
  },
  {
   "cell_type": "markdown",
   "metadata": {},
   "source": [
    "### get urself 2400 coffees before hitting shift+enter my dude"
   ]
  },
  {
   "cell_type": "code",
   "execution_count": null,
   "metadata": {
    "collapsed": false
   },
   "outputs": [],
   "source": [
    "#hack bootstrap to use minimal differences on the stdev calculation?\n",
    "\n",
    "((nlon_1, nlat_1), (nlon_1_dev, nlat_1_dev)) = bootstrap.parallelize(xyzfield.magnetic_north, args=(sha.gcomp,), errors=(sha.gcomp_err,), iterations=300, n_jobs=4, order=1, south=False, debug=True)\n",
    "numpy.savetxt(\"../data/pole_drift/deg_1.txt\", numpy.array((nlon_1, nlat_1, nlon_1_dev, nlat_1_dev)).T, header=\"#Magnetic pole drift data (SHA.DIF.14k) (lon, lat, lon_dev, lat_dev) in degrees\")\n",
    "((nlon_2, nlat_2), (nlon_2_dev, nlat_2_dev)) = bootstrap.parallelize(xyzfield.magnetic_north, args=(sha.gcomp,), errors=(sha.gcomp_err,), iterations=300, n_jobs=4, order=2, south=False, debug=True)\n",
    "numpy.savetxt(\"../data/pole_drift/deg_2.txt\", numpy.array((nlon_2, nlat_2, nlon_2_dev, nlat_2_dev)).T, header=\"#Magnetic pole drift data (SHA.DIF.14k) (lon, lat, lon_dev, lat_dev) in degrees\")\n",
    "((nlon_4, nlat_4), (nlon_4_dev, nlat_4_dev)) = bootstrap.parallelize(xyzfield.magnetic_north, args=(sha.gcomp,), errors=(sha.gcomp_err,), iterations=400, n_jobs=4, order=4, south=False, debug=True)\n",
    "numpy.savetxt(\"../data/pole_drift/deg_4.txt\", numpy.array((nlon_4, nlat_4, nlon_4_dev, nlat_4_dev)).T, header=\"#Magnetic pole drift data (SHA.DIF.14k) (lon, lat, lon_dev, lat_dev) in degrees\")\n",
    "((nlon_10, nlat_10), (nlon_10_dev, nlat_10_dev)) = bootstrap.parallelize(xyzfield.magnetic_north, args=(sha.gcomp,), errors=(sha.gcomp_err,), iterations=400, n_jobs=4, order=10, south=False, debug=True)\n",
    "numpy.savetxt(\"../data/pole_drift/deg_10.txt\", numpy.array((nlon_10, nlat_10, nlon_10_dev, nlat_10_dev)).T, header=\"#Magnetic pole drift data (SHA.DIF.14k) (lon, lat, lon_dev, lat_dev) in degrees\")"
   ]
  },
  {
   "cell_type": "code",
   "execution_count": 4,
   "metadata": {
    "collapsed": true
   },
   "outputs": [],
   "source": [
    "theta, phi = fibonacci_sphere.grid(4000)\n",
    "\n",
    "def avg_intensity(gcomp):    \n",
    "    intensities = numpy.empty_like(sha.years)\n",
    "    npoints = len(phi)\n",
    "\n",
    "    for i, year in enumerate(sha.years):\n",
    "        x,y,z = xyzfield.xyzfieldv2(gcomp[i, :], phi, theta)\n",
    "        dec,inc,f,h = xyzfield.xyz2difh(x,y,z)\n",
    "        intensities[i]=(f.sum(axis=0)/npoints)\n",
    "        \n",
    "    return intensities"
   ]
  },
  {
   "cell_type": "code",
   "execution_count": null,
   "metadata": {
    "collapsed": false
   },
   "outputs": [
    {
     "name": "stdout",
     "output_type": "stream",
     "text": [
      "0:01:17.773983 | iterations: 8 / 300"
     ]
    }
   ],
   "source": [
    "(intensities, intensities_dev) = bootstrap.parallelize(avg_intensity, args=(sha.gcomp,), errors=(sha.gcomp_err,), iterations=300, n_jobs=4, debug=True)"
   ]
  },
  {
   "cell_type": "code",
   "execution_count": null,
   "metadata": {
    "collapsed": true
   },
   "outputs": [],
   "source": [
    "def \n",
    "\n",
    "p_dip=dipole.power(sha.gcomp, lmin=1, lmax=1)\n",
    "p_quad=dipole.power(sha.gcomp, lmin=2, lmax=2)"
   ]
  }
 ],
 "metadata": {
  "kernelspec": {
   "display_name": "Python 3",
   "language": "python",
   "name": "python3"
  },
  "language_info": {
   "codemirror_mode": {
    "name": "ipython",
    "version": 3
   },
   "file_extension": ".py",
   "mimetype": "text/x-python",
   "name": "python",
   "nbconvert_exporter": "python",
   "pygments_lexer": "ipython3",
   "version": "3.5.1"
  }
 },
 "nbformat": 4,
 "nbformat_minor": 0
}
