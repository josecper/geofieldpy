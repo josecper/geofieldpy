{
 "cells": [
  {
   "cell_type": "code",
   "execution_count": 1,
   "metadata": {},
   "outputs": [],
   "source": [
    "import numpy\n",
    "import scipy.interpolate\n",
    "from matplotlib import pyplot\n",
    "%matplotlib qt"
   ]
  },
  {
   "cell_type": "code",
   "execution_count": 24,
   "metadata": {},
   "outputs": [
    {
     "data": {
      "text/plain": [
       "Text(0.5,1,'iteration 75')"
      ]
     },
     "execution_count": 24,
     "metadata": {},
     "output_type": "execute_result"
    }
   ],
   "source": [
    "bigsize = 80\n",
    "smallsize = 8\n",
    "niters = 75\n",
    "\n",
    "field = numpy.zeros((bigsize, bigsize), dtype=bool)\n",
    "\n",
    "field[bigsize//2,bigsize//2] = True\n",
    "\n",
    "fig, (ax, ax2) = pyplot.subplots(2, 1, figsize=(7, 14), subplot_kw={\"aspect\" : \"equal\"})\n",
    "ax.imshow(field, cmap=\"gray\")\n",
    "fig.show()\n",
    "\n",
    "ls = numpy.linspace(0, 1, smallsize)\n",
    "hs = numpy.linspace(0, 1, bigsize)\n",
    "\n",
    "currents = scipy.interpolate.interp2d(ls, ls, numpy.random.random((smallsize,smallsize)),\n",
    "                                     kind = \"cubic\")(hs, hs)\n",
    "\n",
    "ax2.pcolorfast(currents, cmap=\"gray\")\n",
    "\n",
    "for i in range(niters):\n",
    "    fleft = numpy.roll(field, -1, 1)\n",
    "    fright = numpy.roll(field, 1, 1)\n",
    "    fup = numpy.roll(field, -1, 0)\n",
    "    fdown = numpy.roll(field, 1, 0)\n",
    "    \n",
    "    randmask = numpy.random.randint(0, 5, field.shape)\n",
    "    noise = numpy.random.random(field.shape)\n",
    "    \n",
    "    field = field + (\n",
    "             fleft*(randmask == 1) +\n",
    "             fright*(randmask == 2) +\n",
    "             fup*(randmask == 3) +\n",
    "             fdown*(randmask == 4)) * (noise * currents > 0.17)\n",
    "    \n",
    "    \n",
    "    #pyplot.pause(0.01)\n",
    "ax.pcolorfast(field, cmap=\"gray\")\n",
    "ax.set_title(f\"iteration {i+1}\")\n"
   ]
  },
  {
   "cell_type": "code",
   "execution_count": 52,
   "metadata": {},
   "outputs": [],
   "source": [
    "ls = numpy.linspace(0, 1, 4)\n",
    "hs = numpy.linspace(0, 1, 80)\n",
    "\n",
    "currents = scipy.interpolate.interp2d(ls, ls, numpy.random.random((4,4)))(hs, hs)"
   ]
  },
  {
   "cell_type": "code",
   "execution_count": 54,
   "metadata": {
    "collapsed": true
   },
   "outputs": [],
   "source": [
    "fig, ax = pyplot.subplots(subplot_kw={\"aspect\" : \"equal\"})\n",
    "ax.imshow(currents, cmap=\"gray\")\n",
    "fig.show()"
   ]
  },
  {
   "cell_type": "code",
   "execution_count": 58,
   "metadata": {},
   "outputs": [
    {
     "data": {
      "text/plain": [
       "array([[ 0.        ,  4.74488083,  4.59707341, ...,  2.80464525,\n",
       "         2.77124168,  2.73783811],\n",
       "       [ 4.78541921,  4.64193631,  4.49845341, ...,  0.        ,\n",
       "         2.68333217,  2.64809683],\n",
       "       [ 4.67815018,  0.        ,  0.        , ...,  0.        ,\n",
       "         2.59542266,  2.55835554],\n",
       "       ..., \n",
       "       [ 0.        ,  3.84806177,  3.81719381, ...,  0.71418972,\n",
       "         0.        ,  0.47566471],\n",
       "       [ 4.00636816,  3.96963472,  0.        , ...,  0.57197605,\n",
       "         0.44299366,  0.31401128],\n",
       "       [ 4.13380659,  0.        ,  4.04860875, ...,  0.        ,\n",
       "         0.29106011,  0.15235786]])"
      ]
     },
     "execution_count": 58,
     "metadata": {},
     "output_type": "execute_result"
    }
   ],
   "source": []
  },
  {
   "cell_type": "code",
   "execution_count": null,
   "metadata": {
    "collapsed": true
   },
   "outputs": [],
   "source": []
  }
 ],
 "metadata": {
  "kernelspec": {
   "display_name": "Python 3",
   "language": "python",
   "name": "python3"
  },
  "language_info": {
   "codemirror_mode": {
    "name": "ipython",
    "version": 3
   },
   "file_extension": ".py",
   "mimetype": "text/x-python",
   "name": "python",
   "nbconvert_exporter": "python",
   "pygments_lexer": "ipython3",
   "version": "3.6.3"
  }
 },
 "nbformat": 4,
 "nbformat_minor": 2
}
