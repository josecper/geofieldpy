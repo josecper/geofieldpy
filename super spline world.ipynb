{
 "cells": [
  {
   "cell_type": "code",
   "execution_count": 76,
   "metadata": {
    "collapsed": false
   },
   "outputs": [],
   "source": [
    "import numpy, bspline\n",
    "from matplotlib import pyplot, colors, rcParams"
   ]
  },
  {
   "cell_type": "code",
   "execution_count": 154,
   "metadata": {
    "collapsed": false
   },
   "outputs": [
    {
     "data": {
      "text/plain": [
       "<module 'bspline' from '/home/josecper/Programs/python/bspline.py'>"
      ]
     },
     "execution_count": 154,
     "metadata": {},
     "output_type": "execute_result"
    }
   ],
   "source": [
    "import importlib; importlib.reload(bspline)"
   ]
  },
  {
   "cell_type": "code",
   "execution_count": 2,
   "metadata": {
    "collapsed": false
   },
   "outputs": [],
   "source": [
    "data=numpy.fromfile(\"../data/inclination_database_iberia.dat\", sep=\" \")"
   ]
  },
  {
   "cell_type": "code",
   "execution_count": 140,
   "metadata": {
    "collapsed": false
   },
   "outputs": [],
   "source": [
    "t=data[0::4]; inc=data[2::4]; k=numpy.arange(t[0],t[-1],100); err=data[3::4]; terr=data[1::4]"
   ]
  },
  {
   "cell_type": "code",
   "execution_count": 133,
   "metadata": {
    "collapsed": false
   },
   "outputs": [],
   "source": [
    "t=data[0::4][:-1];\n",
    "inc=data[2::4][:-1]; \n",
    "k=numpy.arange(t[0],t[-1],100);\n",
    "err=data[3::4][:-1];\n",
    "terr=data[1::4][:-1]"
   ]
  },
  {
   "cell_type": "code",
   "execution_count": null,
   "metadata": {
    "collapsed": false
   },
   "outputs": [],
   "source": [
    "spl=bspline.solve(t,inc,k,l=10)"
   ]
  },
  {
   "cell_type": "code",
   "execution_count": null,
   "metadata": {
    "collapsed": false
   },
   "outputs": [],
   "source": [
    "tfine=numpy.linspace(t[0],t[-1],2000); y=bspline.spline_rep(tfine,spl,k)"
   ]
  },
  {
   "cell_type": "code",
   "execution_count": null,
   "metadata": {
    "collapsed": false
   },
   "outputs": [],
   "source": [
    "pyplot.plot(tfine,y,\"g\",t,inc,\"ko\")\n",
    "pyplot.xlabel(\"Years AD\")\n",
    "pyplot.ylabel(\"Inclination (°)\")\n",
    "pyplot.show()"
   ]
  },
  {
   "cell_type": "code",
   "execution_count": null,
   "metadata": {
    "collapsed": false,
    "scrolled": false
   },
   "outputs": [],
   "source": [
    "t=data[0::4]; inc=data[2::4]; k=numpy.arange(t[0]-50,t[-1]+50,50)\n",
    "ls=[10**i for i in range(-3,5)]\n",
    "nl=len(ls)\n",
    "#ls=[10**0]\n",
    "colors=[(i/nl,0.75,1-i/nl) for i in range(nl)]\n",
    "tfine=numpy.linspace(t[0],t[-1],2000)\n",
    "\n",
    "ys=[]\n",
    "for l in ls:\n",
    "    spl=bspline.solve(t,inc,k,l)\n",
    "    #spl=numpy.ones_like(k)\n",
    "    y=bspline.spline_rep(tfine,spl,k)\n",
    "    ys.append(y)\n",
    "    \n",
    "fig, ax = pyplot.subplots()\n",
    "\n",
    "for y, c, l in zip(ys,colors, ls):\n",
    "    ax.plot(tfine,y,color=c,label=\"L = {0:1.0e}\".format(l))\n",
    "\n",
    "ax.plot(t,inc,\"k+\")\n",
    "ax.set_axis_bgcolor(\"white\")\n",
    "ax.set_xbound(lower=tfine[0],upper=tfine[-1])\n",
    "ax.set_title(\"B-splines iguales (knot points cada 50 años)\")\n",
    "pyplot.legend(loc=\"upper center\", ncol=nl//2, fontsize=\"x-small\")\n",
    "pyplot.xlabel(\"Years AD\")\n",
    "pyplot.ylabel(\"Inclination (°)\")\n",
    "pyplot.show(fig)"
   ]
  },
  {
   "cell_type": "code",
   "execution_count": null,
   "metadata": {
    "collapsed": false
   },
   "outputs": [],
   "source": [
    "spl=numpy.ones_like(k)\n",
    "y=bspline.spline_rep(tfine,spl,k, summing=False)"
   ]
  },
  {
   "cell_type": "code",
   "execution_count": null,
   "metadata": {
    "collapsed": false
   },
   "outputs": [],
   "source": [
    "y.shape"
   ]
  },
  {
   "cell_type": "code",
   "execution_count": null,
   "metadata": {
    "collapsed": false
   },
   "outputs": [],
   "source": [
    "fig, ax = pyplot.subplots()\n",
    "for spline in y.transpose():\n",
    "    ax.plot(tfine,spline)\n",
    "    \n",
    "pyplot.show(fig)"
   ]
  },
  {
   "cell_type": "code",
   "execution_count": null,
   "metadata": {
    "collapsed": false
   },
   "outputs": [],
   "source": [
    "pyplot.pcolormesh(bspline.condition_array(k,t))"
   ]
  },
  {
   "cell_type": "code",
   "execution_count": null,
   "metadata": {
    "collapsed": true
   },
   "outputs": [],
   "source": [
    "pyplot.show()"
   ]
  },
  {
   "cell_type": "code",
   "execution_count": null,
   "metadata": {
    "collapsed": false
   },
   "outputs": [],
   "source": [
    "n=30; (-2*numpy.eye(n)+numpy.eye(n+1)[1:,:-1]+numpy.eye(n+1)[:-1,1:])[:3,:]"
   ]
  },
  {
   "cell_type": "code",
   "execution_count": null,
   "metadata": {
    "collapsed": false
   },
   "outputs": [],
   "source": [
    "d=(numpy.eye(n+2)-2*numpy.eye(n+3)[1:,:-1]+numpy.eye(n+4)[2:,:-2])"
   ]
  },
  {
   "cell_type": "code",
   "execution_count": null,
   "metadata": {
    "collapsed": false
   },
   "outputs": [],
   "source": [
    "d.shape"
   ]
  },
  {
   "cell_type": "code",
   "execution_count": null,
   "metadata": {
    "collapsed": true
   },
   "outputs": [],
   "source": [
    "spl=bspline.solve(t,inc,k,10**3); pyplot.show(spl)"
   ]
  },
  {
   "cell_type": "code",
   "execution_count": null,
   "metadata": {
    "collapsed": false
   },
   "outputs": [],
   "source": [
    "?numpy.diff"
   ]
  },
  {
   "cell_type": "code",
   "execution_count": null,
   "metadata": {
    "collapsed": false
   },
   "outputs": [],
   "source": [
    "pyplot.pcolormesh(numpy.matmul(d.transpose(),d));pyplot.show()"
   ]
  },
  {
   "cell_type": "code",
   "execution_count": null,
   "metadata": {
    "collapsed": true
   },
   "outputs": [],
   "source": [
    "pyplot.pcolormesh(d);pyplot.show()"
   ]
  },
  {
   "cell_type": "code",
   "execution_count": null,
   "metadata": {
    "collapsed": false
   },
   "outputs": [],
   "source": [
    "d.shape"
   ]
  },
  {
   "cell_type": "markdown",
   "metadata": {
    "collapsed": true
   },
   "source": [
    "pruebas"
   ]
  },
  {
   "cell_type": "code",
   "execution_count": null,
   "metadata": {
    "collapsed": false
   },
   "outputs": [],
   "source": [
    "times=numpy.linspace(-10,10,500)\n",
    "x1=numpy.zeros_like(times); x1[times>0]=times[times > 0]**2;\n",
    "x2=numpy.zeros_like(times); x2[times>1]=(times[times > 1]-1)**2;"
   ]
  },
  {
   "cell_type": "code",
   "execution_count": null,
   "metadata": {
    "collapsed": true
   },
   "outputs": [],
   "source": [
    "pyplot.plot(times,x1, times, x2, times, x2-x1); pyplot.show()"
   ]
  },
  {
   "cell_type": "code",
   "execution_count": null,
   "metadata": {
    "collapsed": true
   },
   "outputs": [],
   "source": [
    "k=numpy.array((0,0,0,*tuple(numpy.linspace(0,5,8)),5,5,5))"
   ]
  },
  {
   "cell_type": "code",
   "execution_count": null,
   "metadata": {
    "collapsed": true
   },
   "outputs": [],
   "source": [
    "t=numpy.linspace(0,5,4000)"
   ]
  },
  {
   "cell_type": "code",
   "execution_count": null,
   "metadata": {
    "collapsed": false
   },
   "outputs": [],
   "source": [
    "d=1\n",
    "k2=numpy.concatenate((numpy.repeat(k[0],d+1),k,numpy.repeat(k[-1],d+1)))\n",
    "tgrid, kgrid = numpy.meshgrid(t,k2,indexing=\"ij\")"
   ]
  },
  {
   "cell_type": "code",
   "execution_count": null,
   "metadata": {
    "collapsed": true
   },
   "outputs": [],
   "source": [
    "yy=bspline.deboor_base(t,k,3)"
   ]
  },
  {
   "cell_type": "code",
   "execution_count": null,
   "metadata": {
    "collapsed": false,
    "scrolled": false
   },
   "outputs": [],
   "source": [
    "nsplines=yy.shape[1]\n",
    "cols=[(0.25,i/(nsplines-1),1-i/(nsplines-1)) for i in range(nsplines)]\n",
    "       \n",
    "fig, ax = pyplot.subplots()\n",
    "for spline, color in zip(yy.transpose(),cols):\n",
    "    ax.plot(t[:-1],spline[:-1], color=color)\n",
    "    \n",
    "pyplot.show(fig)"
   ]
  },
  {
   "cell_type": "markdown",
   "metadata": {},
   "source": [
    "splines de *de boor*"
   ]
  },
  {
   "cell_type": "code",
   "execution_count": 43,
   "metadata": {
    "collapsed": true
   },
   "outputs": [],
   "source": [
    "t=data[0::4]; inc=data[2::4]; err=data[3::4]"
   ]
  },
  {
   "cell_type": "code",
   "execution_count": 161,
   "metadata": {
    "collapsed": false
   },
   "outputs": [],
   "source": [
    "min_t = t[0]\n",
    "max_t = t[-1]\n",
    "\n",
    "k=numpy.array((min_t,min_t,min_t, *tuple(numpy.arange(min_t,max_t,50)),max_t,max_t,max_t))\n",
    "\n",
    "#spline_coefs = bspline.solve(t,inc,k, l=1, spline_class=\"deboor\", degree=3)\n",
    "\n",
    "tfine=numpy.linspace(t[0],t[-1],4000)\n",
    "\n",
    "#yy=bspline.deboor_base(k,tfine,3)*spline_coefs\n",
    "\n",
    "fig, ax = pyplot.subplots()\n",
    "\n",
    "#ls=[10**i for i in range(-3,5)]\n",
    "ls=[260]\n",
    "nsplines=len(ls)\n",
    "#cols=colors.hsv_to_rgb([((i/(nsplines-1)) % 1.0,1.0,0.85) for i in range(nsplines)])\n",
    "cols=[(i/nsplines,0.75,1-i/nsplines) for i in range(nsplines)]\n",
    "       \n",
    "#for spline, color in zip(yy.transpose(),cols):\n",
    "#    ax.plot(tfine[:],spline[:], color=\"r\", ls=\":\")\n",
    "\n",
    "for l, col in zip(ls,cols):\n",
    "    spl=bspline.solve(t,inc,k,l, spline_class=\"deboor\", degree=3)\n",
    "    #spl=numpy.ones_like(k)\n",
    "    y=(bspline.deboor_base(k,tfine,3)*spl).sum(axis=1)\n",
    "    ax.plot(tfine, y, color=col, label=\"L = {0:1.0e}\".format(l))\n",
    "\n",
    "#ax.plot(tfine[:], yy[:,-4])\n",
    "    \n",
    "#ax.plot(tfine[:],yy.sum(axis=1)[:], \"k\")\n",
    "ax.plot(t,inc,\"k+\")\n",
    "ax.set_xbound(lower=tfine[0],upper=tfine[-1])\n",
    "\n",
    "ax.set_xlabel(\"Years AD\")\n",
    "ax.set_ylabel(\"Inclination (°)\")\n",
    "ax.set_title(\"B-splines de Cox-De Boor (knot points cada 50 años)\")\n",
    "\n",
    "pyplot.legend(loc=\"upper center\", ncol=nsplines//2, fontsize=\"x-small\")\n",
    "\n",
    "pyplot.show(fig)"
   ]
  },
  {
   "cell_type": "markdown",
   "metadata": {},
   "source": [
    "yes good"
   ]
  },
  {
   "cell_type": "code",
   "execution_count": null,
   "metadata": {
    "collapsed": false
   },
   "outputs": [],
   "source": [
    "import numpy.random\n",
    "t=numpy.sort(2900*numpy.random.rand(10000)-1000); inc=2*numpy.random.randn(t.shape[0])+40"
   ]
  },
  {
   "cell_type": "code",
   "execution_count": null,
   "metadata": {
    "collapsed": true
   },
   "outputs": [],
   "source": [
    "spline_coefs, base=bspline.solve(t,inc,k,1, spline_class=\"deboor\", degree=3, return_base=True)"
   ]
  },
  {
   "cell_type": "code",
   "execution_count": null,
   "metadata": {
    "collapsed": false
   },
   "outputs": [],
   "source": [
    "base"
   ]
  },
  {
   "cell_type": "code",
   "execution_count": null,
   "metadata": {
    "collapsed": false
   },
   "outputs": [],
   "source": [
    "pyplot.plot(t,(base*spline_coefs).sum(axis=1)); pyplot.show()"
   ]
  },
  {
   "cell_type": "code",
   "execution_count": 5,
   "metadata": {
    "collapsed": false
   },
   "outputs": [],
   "source": [
    "ls = numpy.logspace(-10,10,2000)\n",
    "rms = numpy.zeros_like(ls)\n",
    "nrms = rms.copy()\n",
    "ndata = inc.shape[0]\n",
    "\n",
    "min_t = t[0]; max_t = t[-1]\n",
    "k=numpy.array((min_t,min_t,min_t, *tuple(numpy.arange(min_t,max_t,50)),max_t,max_t,max_t))\n",
    "\n",
    "base = bspline.deboor_base(k,t,3)\n",
    "\n",
    "for i, l in enumerate(ls):\n",
    "    spline_coefs = bspline.solve(t, inc, k, l, spline_class=\"deboor\", base=base)\n",
    "    model = (base * spline_coefs).sum(axis=1)\n",
    "    \n",
    "    rms[i] = numpy.sqrt(((model-inc)**2).sum()/ndata)\n",
    "    nrms[i] = numpy.sqrt((((model-inc)/err)**2).sum()/ndata)\n",
    "    \n",
    "    "
   ]
  },
  {
   "cell_type": "code",
   "execution_count": 14,
   "metadata": {
    "collapsed": false
   },
   "outputs": [],
   "source": [
    "fig, ax = pyplot.subplots()\n",
    "\n",
    "ax.semilogx(ls[:-1], numpy.diff(nrms,n=1)*600, \"k--\", label=\"d(nRMS)/dl\")\n",
    "ax.semilogx(ls, nrms, \"k\", label=\"nRMS\")\n",
    "ax.semilogx(ls[:-1], numpy.diff(rms,n=1)*600, \"r--\", label=\"d(RMS)/dl\")\n",
    "ax.semilogx(ls, rms, \"r\", label=\"RMS\")\n",
    "ax.semilogx([260.74,260.74],[7,-2], \"g:\")\n",
    "\n",
    "pyplot.legend(loc=\"upper left\" ,fontsize=\"small\")\n",
    "pyplot.show(fig)"
   ]
  },
  {
   "cell_type": "code",
   "execution_count": 6,
   "metadata": {
    "collapsed": true
   },
   "outputs": [],
   "source": [
    "nrms_trend=numpy.diff(nrms, n=1)"
   ]
  },
  {
   "cell_type": "code",
   "execution_count": 7,
   "metadata": {
    "collapsed": false
   },
   "outputs": [],
   "source": [
    "l_optimal=ls[:-1][nrms_trend == max(nrms_trend)]"
   ]
  },
  {
   "cell_type": "markdown",
   "metadata": {},
   "source": [
    "*le boot stra pp pp pp p *"
   ]
  },
  {
   "cell_type": "code",
   "execution_count": 148,
   "metadata": {
    "collapsed": false
   },
   "outputs": [],
   "source": [
    "iterations = 1000\n",
    "ndata = inc.shape[0]\n",
    "l = 100\n",
    "min_t = t[0]; max_t = t[-1]\n",
    "k=numpy.array((min_t,min_t,min_t, *tuple(numpy.arange(min_t,max_t,50)),max_t,max_t,max_t))\n",
    "\n",
    "cs = numpy.zeros((iterations, ndata))\n",
    "ts = cs.copy()\n",
    "\n",
    "err_temp = err\n",
    "terr_temp = terr\n",
    "\n",
    "s0, base = bspline.solve(t, inc, k, l, spline_class=\"deboor\", return_base=True)\n",
    "cs[0, :] = (base * s0).sum(axis=1)\n",
    "ts[0, :] = t.copy()\n",
    "\n",
    "for i in range(1,iterations):\n",
    "    \n",
    "    c_rand = numpy.random.randn(ndata)*err+cs[i-1,:]\n",
    "    #c_rand = numpy.random.randn(ndata)*err+cs[0,:]\n",
    "    ts[i,:] = numpy.random.randn(ndata)*terr+ts[i-1,:]\n",
    "    #ts[i,:] = numpy.random.randn(ndata)*terr+ts[0,:]\n",
    "    \n",
    "    s = bspline.solve(ts[i,:], c_rand, k, l, spline_class=\"deboor\")\n",
    "    cs[i,:] = (base * s).sum(axis=1)\n",
    "    #cs[i,:] = c_rand"
   ]
  },
  {
   "cell_type": "code",
   "execution_count": 149,
   "metadata": {
    "collapsed": false
   },
   "outputs": [],
   "source": [
    "fig, ax = pyplot.subplots()\n",
    "\n",
    "for i in range(iterations):\n",
    "    ax.plot(ts[i,:],cs[i,:], \"m+\")\n",
    "\n",
    "ax.plot(ts[0, :], cs[0, :], \"k-\")\n",
    "ax.plot()\n",
    "ax.plot(t,inc, \"ko\")\n",
    "    \n",
    "pyplot.show(fig)"
   ]
  },
  {
   "cell_type": "markdown",
   "metadata": {},
   "source": [
    "test"
   ]
  },
  {
   "cell_type": "code",
   "execution_count": 145,
   "metadata": {
    "collapsed": false
   },
   "outputs": [],
   "source": [
    "c = numpy.zeros(iterations)"
   ]
  },
  {
   "cell_type": "code",
   "execution_count": 146,
   "metadata": {
    "collapsed": false
   },
   "outputs": [],
   "source": [
    "for i in range(1,iterations):\n",
    "    c[i]=c[i-1]+numpy.random.randn(1)"
   ]
  },
  {
   "cell_type": "code",
   "execution_count": 147,
   "metadata": {
    "collapsed": false
   },
   "outputs": [],
   "source": [
    "pyplot.plot(c);pyplot.show()"
   ]
  },
  {
   "cell_type": "markdown",
   "metadata": {},
   "source": [
    "bootstrap 02"
   ]
  },
  {
   "cell_type": "code",
   "execution_count": 152,
   "metadata": {
    "collapsed": false
   },
   "outputs": [],
   "source": [
    "iterations = 1000\n",
    "ndata = inc.shape[0]\n",
    "l = 260\n",
    "min_t = t[0]; max_t = t[-1]\n",
    "k=numpy.array((min_t,min_t,min_t, *tuple(numpy.linspace(min_t,max_t,60)),max_t,max_t,max_t))\n",
    "\n",
    "cs = numpy.zeros((iterations, ndata))\n",
    "ts = cs.copy()\n",
    "\n",
    "err_temp = err\n",
    "terr_temp = terr\n",
    "\n",
    "s0, base = bspline.solve(t, inc, k, l, spline_class=\"deboor\", return_base=True)\n",
    "cs[0, :] = (base * s0).sum(axis=1)\n",
    "ts[0, :] = t.copy()\n",
    "\n",
    "\n",
    "for i in range(1,iterations):\n",
    "    \n",
    "    #c_rand = numpy.random.randn(ndata)*err+cs[0,:] #what???\n",
    "    c_rand = numpy.random.randn(ndata)*err+inc\n",
    "    #ts[i,:] = numpy.random.randn(ndata)*terr+ts[0,:]\n",
    "    ts[i,:] = numpy.random.randn(ndata)*terr+t\n",
    "    \n",
    "    #min_t = min(ts[i,:]); max_t = max(ts[i,:])\n",
    "    #k=numpy.array((min_t,min_t,min_t, *tuple(numpy.linspace(min_t,max_t,60)),max_t,max_t,max_t))\n",
    "    \n",
    "    s = bspline.solve(ts[i,:], c_rand, k, l, spline_class=\"deboor\", return_base=False)\n",
    "    \n",
    "    #recalculate spline at t\n",
    "    cs[i,:] = (bspline.deboor_base(k,t,3) * s).sum(axis=1)\n",
    "    \n",
    "    #cs[i,:] = (base * s).sum(axis=1)\n",
    "\n",
    "    \n",
    "t_avg = ts.sum(axis=0)/iterations\n",
    "c_avg = cs.sum(axis=0)/iterations\n",
    "\n",
    "stdev = numpy.sqrt(((cs-c_avg)**2).sum(axis=0)/iterations)"
   ]
  },
  {
   "cell_type": "code",
   "execution_count": 208,
   "metadata": {
    "collapsed": false
   },
   "outputs": [
    {
     "ename": "ValueError",
     "evalue": "x and y must have same first dimension",
     "output_type": "error",
     "traceback": [
      "\u001b[1;31m---------------------------------------------------------------------------\u001b[0m",
      "\u001b[1;31mValueError\u001b[0m                                Traceback (most recent call last)",
      "\u001b[1;32m<ipython-input-208-151c29d926b4>\u001b[0m in \u001b[0;36m<module>\u001b[1;34m()\u001b[0m\n\u001b[0;32m      2\u001b[0m \u001b[1;33m\u001b[0m\u001b[0m\n\u001b[0;32m      3\u001b[0m \u001b[1;32mfor\u001b[0m \u001b[0mi\u001b[0m \u001b[1;32min\u001b[0m \u001b[0mrange\u001b[0m\u001b[1;33m(\u001b[0m\u001b[0miterations\u001b[0m\u001b[1;33m)\u001b[0m\u001b[1;33m:\u001b[0m\u001b[1;33m\u001b[0m\u001b[0m\n\u001b[1;32m----> 4\u001b[1;33m     \u001b[0max\u001b[0m\u001b[1;33m.\u001b[0m\u001b[0mplot\u001b[0m\u001b[1;33m(\u001b[0m\u001b[0mt\u001b[0m\u001b[1;33m,\u001b[0m\u001b[0mcs\u001b[0m\u001b[1;33m[\u001b[0m\u001b[0mi\u001b[0m\u001b[1;33m,\u001b[0m\u001b[1;33m:\u001b[0m\u001b[1;33m]\u001b[0m\u001b[1;33m,\u001b[0m \u001b[0mcolor\u001b[0m\u001b[1;33m=\u001b[0m\u001b[1;34m\"#00C0B8\"\u001b[0m\u001b[1;33m,\u001b[0m \u001b[0mls\u001b[0m\u001b[1;33m=\u001b[0m\u001b[1;34m\"-\"\u001b[0m\u001b[1;33m,\u001b[0m \u001b[0mlinewidth\u001b[0m\u001b[1;33m=\u001b[0m\u001b[1;36m0.05\u001b[0m\u001b[1;33m)\u001b[0m\u001b[1;33m\u001b[0m\u001b[0m\n\u001b[0m\u001b[0;32m      5\u001b[0m \u001b[1;33m\u001b[0m\u001b[0m\n\u001b[0;32m      6\u001b[0m \u001b[0max\u001b[0m\u001b[1;33m.\u001b[0m\u001b[0mplot\u001b[0m\u001b[1;33m(\u001b[0m\u001b[0mt\u001b[0m\u001b[1;33m,\u001b[0m \u001b[0mcs\u001b[0m\u001b[1;33m[\u001b[0m\u001b[1;36m0\u001b[0m\u001b[1;33m,\u001b[0m \u001b[1;33m:\u001b[0m\u001b[1;33m]\u001b[0m\u001b[1;33m,\u001b[0m \u001b[1;34m\"m-\"\u001b[0m\u001b[1;33m)\u001b[0m\u001b[1;33m\u001b[0m\u001b[0m\n",
      "\u001b[1;32m/usr/lib/python3.5/site-packages/matplotlib/__init__.py\u001b[0m in \u001b[0;36minner\u001b[1;34m(ax, *args, **kwargs)\u001b[0m\n\u001b[0;32m   1810\u001b[0m                     warnings.warn(msg % (label_namer, func.__name__),\n\u001b[0;32m   1811\u001b[0m                                   RuntimeWarning, stacklevel=2)\n\u001b[1;32m-> 1812\u001b[1;33m             \u001b[1;32mreturn\u001b[0m \u001b[0mfunc\u001b[0m\u001b[1;33m(\u001b[0m\u001b[0max\u001b[0m\u001b[1;33m,\u001b[0m \u001b[1;33m*\u001b[0m\u001b[0margs\u001b[0m\u001b[1;33m,\u001b[0m \u001b[1;33m**\u001b[0m\u001b[0mkwargs\u001b[0m\u001b[1;33m)\u001b[0m\u001b[1;33m\u001b[0m\u001b[0m\n\u001b[0m\u001b[0;32m   1813\u001b[0m         \u001b[0mpre_doc\u001b[0m \u001b[1;33m=\u001b[0m \u001b[0minner\u001b[0m\u001b[1;33m.\u001b[0m\u001b[0m__doc__\u001b[0m\u001b[1;33m\u001b[0m\u001b[0m\n\u001b[0;32m   1814\u001b[0m         \u001b[1;32mif\u001b[0m \u001b[0mpre_doc\u001b[0m \u001b[1;32mis\u001b[0m \u001b[1;32mNone\u001b[0m\u001b[1;33m:\u001b[0m\u001b[1;33m\u001b[0m\u001b[0m\n",
      "\u001b[1;32m/usr/lib/python3.5/site-packages/matplotlib/axes/_axes.py\u001b[0m in \u001b[0;36mplot\u001b[1;34m(self, *args, **kwargs)\u001b[0m\n\u001b[0;32m   1422\u001b[0m             \u001b[0mkwargs\u001b[0m\u001b[1;33m[\u001b[0m\u001b[1;34m'color'\u001b[0m\u001b[1;33m]\u001b[0m \u001b[1;33m=\u001b[0m \u001b[0mc\u001b[0m\u001b[1;33m\u001b[0m\u001b[0m\n\u001b[0;32m   1423\u001b[0m \u001b[1;33m\u001b[0m\u001b[0m\n\u001b[1;32m-> 1424\u001b[1;33m         \u001b[1;32mfor\u001b[0m \u001b[0mline\u001b[0m \u001b[1;32min\u001b[0m \u001b[0mself\u001b[0m\u001b[1;33m.\u001b[0m\u001b[0m_get_lines\u001b[0m\u001b[1;33m(\u001b[0m\u001b[1;33m*\u001b[0m\u001b[0margs\u001b[0m\u001b[1;33m,\u001b[0m \u001b[1;33m**\u001b[0m\u001b[0mkwargs\u001b[0m\u001b[1;33m)\u001b[0m\u001b[1;33m:\u001b[0m\u001b[1;33m\u001b[0m\u001b[0m\n\u001b[0m\u001b[0;32m   1425\u001b[0m             \u001b[0mself\u001b[0m\u001b[1;33m.\u001b[0m\u001b[0madd_line\u001b[0m\u001b[1;33m(\u001b[0m\u001b[0mline\u001b[0m\u001b[1;33m)\u001b[0m\u001b[1;33m\u001b[0m\u001b[0m\n\u001b[0;32m   1426\u001b[0m             \u001b[0mlines\u001b[0m\u001b[1;33m.\u001b[0m\u001b[0mappend\u001b[0m\u001b[1;33m(\u001b[0m\u001b[0mline\u001b[0m\u001b[1;33m)\u001b[0m\u001b[1;33m\u001b[0m\u001b[0m\n",
      "\u001b[1;32m/usr/lib/python3.5/site-packages/matplotlib/axes/_base.py\u001b[0m in \u001b[0;36m_grab_next_args\u001b[1;34m(self, *args, **kwargs)\u001b[0m\n\u001b[0;32m    384\u001b[0m                 \u001b[1;32mreturn\u001b[0m\u001b[1;33m\u001b[0m\u001b[0m\n\u001b[0;32m    385\u001b[0m             \u001b[1;32mif\u001b[0m \u001b[0mlen\u001b[0m\u001b[1;33m(\u001b[0m\u001b[0mremaining\u001b[0m\u001b[1;33m)\u001b[0m \u001b[1;33m<=\u001b[0m \u001b[1;36m3\u001b[0m\u001b[1;33m:\u001b[0m\u001b[1;33m\u001b[0m\u001b[0m\n\u001b[1;32m--> 386\u001b[1;33m                 \u001b[1;32mfor\u001b[0m \u001b[0mseg\u001b[0m \u001b[1;32min\u001b[0m \u001b[0mself\u001b[0m\u001b[1;33m.\u001b[0m\u001b[0m_plot_args\u001b[0m\u001b[1;33m(\u001b[0m\u001b[0mremaining\u001b[0m\u001b[1;33m,\u001b[0m \u001b[0mkwargs\u001b[0m\u001b[1;33m)\u001b[0m\u001b[1;33m:\u001b[0m\u001b[1;33m\u001b[0m\u001b[0m\n\u001b[0m\u001b[0;32m    387\u001b[0m                     \u001b[1;32myield\u001b[0m \u001b[0mseg\u001b[0m\u001b[1;33m\u001b[0m\u001b[0m\n\u001b[0;32m    388\u001b[0m                 \u001b[1;32mreturn\u001b[0m\u001b[1;33m\u001b[0m\u001b[0m\n",
      "\u001b[1;32m/usr/lib/python3.5/site-packages/matplotlib/axes/_base.py\u001b[0m in \u001b[0;36m_plot_args\u001b[1;34m(self, tup, kwargs)\u001b[0m\n\u001b[0;32m    362\u001b[0m             \u001b[0mx\u001b[0m\u001b[1;33m,\u001b[0m \u001b[0my\u001b[0m \u001b[1;33m=\u001b[0m \u001b[0mindex_of\u001b[0m\u001b[1;33m(\u001b[0m\u001b[0mtup\u001b[0m\u001b[1;33m[\u001b[0m\u001b[1;33m-\u001b[0m\u001b[1;36m1\u001b[0m\u001b[1;33m]\u001b[0m\u001b[1;33m)\u001b[0m\u001b[1;33m\u001b[0m\u001b[0m\n\u001b[0;32m    363\u001b[0m \u001b[1;33m\u001b[0m\u001b[0m\n\u001b[1;32m--> 364\u001b[1;33m         \u001b[0mx\u001b[0m\u001b[1;33m,\u001b[0m \u001b[0my\u001b[0m \u001b[1;33m=\u001b[0m \u001b[0mself\u001b[0m\u001b[1;33m.\u001b[0m\u001b[0m_xy_from_xy\u001b[0m\u001b[1;33m(\u001b[0m\u001b[0mx\u001b[0m\u001b[1;33m,\u001b[0m \u001b[0my\u001b[0m\u001b[1;33m)\u001b[0m\u001b[1;33m\u001b[0m\u001b[0m\n\u001b[0m\u001b[0;32m    365\u001b[0m \u001b[1;33m\u001b[0m\u001b[0m\n\u001b[0;32m    366\u001b[0m         \u001b[1;32mif\u001b[0m \u001b[0mself\u001b[0m\u001b[1;33m.\u001b[0m\u001b[0mcommand\u001b[0m \u001b[1;33m==\u001b[0m \u001b[1;34m'plot'\u001b[0m\u001b[1;33m:\u001b[0m\u001b[1;33m\u001b[0m\u001b[0m\n",
      "\u001b[1;32m/usr/lib/python3.5/site-packages/matplotlib/axes/_base.py\u001b[0m in \u001b[0;36m_xy_from_xy\u001b[1;34m(self, x, y)\u001b[0m\n\u001b[0;32m    221\u001b[0m         \u001b[0my\u001b[0m \u001b[1;33m=\u001b[0m \u001b[0m_check_1d\u001b[0m\u001b[1;33m(\u001b[0m\u001b[0my\u001b[0m\u001b[1;33m)\u001b[0m\u001b[1;33m\u001b[0m\u001b[0m\n\u001b[0;32m    222\u001b[0m         \u001b[1;32mif\u001b[0m \u001b[0mx\u001b[0m\u001b[1;33m.\u001b[0m\u001b[0mshape\u001b[0m\u001b[1;33m[\u001b[0m\u001b[1;36m0\u001b[0m\u001b[1;33m]\u001b[0m \u001b[1;33m!=\u001b[0m \u001b[0my\u001b[0m\u001b[1;33m.\u001b[0m\u001b[0mshape\u001b[0m\u001b[1;33m[\u001b[0m\u001b[1;36m0\u001b[0m\u001b[1;33m]\u001b[0m\u001b[1;33m:\u001b[0m\u001b[1;33m\u001b[0m\u001b[0m\n\u001b[1;32m--> 223\u001b[1;33m             \u001b[1;32mraise\u001b[0m \u001b[0mValueError\u001b[0m\u001b[1;33m(\u001b[0m\u001b[1;34m\"x and y must have same first dimension\"\u001b[0m\u001b[1;33m)\u001b[0m\u001b[1;33m\u001b[0m\u001b[0m\n\u001b[0m\u001b[0;32m    224\u001b[0m         \u001b[1;32mif\u001b[0m \u001b[0mx\u001b[0m\u001b[1;33m.\u001b[0m\u001b[0mndim\u001b[0m \u001b[1;33m>\u001b[0m \u001b[1;36m2\u001b[0m \u001b[1;32mor\u001b[0m \u001b[0my\u001b[0m\u001b[1;33m.\u001b[0m\u001b[0mndim\u001b[0m \u001b[1;33m>\u001b[0m \u001b[1;36m2\u001b[0m\u001b[1;33m:\u001b[0m\u001b[1;33m\u001b[0m\u001b[0m\n\u001b[0;32m    225\u001b[0m             \u001b[1;32mraise\u001b[0m \u001b[0mValueError\u001b[0m\u001b[1;33m(\u001b[0m\u001b[1;34m\"x and y can be no greater than 2-D\"\u001b[0m\u001b[1;33m)\u001b[0m\u001b[1;33m\u001b[0m\u001b[0m\n",
      "\u001b[1;31mValueError\u001b[0m: x and y must have same first dimension"
     ]
    }
   ],
   "source": [
    "fig, ax = pyplot.subplots()\n",
    "\n",
    "for i in range(iterations):\n",
    "    ax.plot(t,cs[i,:], color=\"#00C0B8\", ls=\"-\", linewidth=0.05)\n",
    "\n",
    "ax.plot(t, cs[0, :], \"m-\")\n",
    "ax.plot(t,inc, color=\"k\", marker=\"o\", markersize=2, ls=\" \")\n",
    "ax.plot(t,c_avg, \"k-\")\n",
    "\n",
    "ax.plot(t,c_avg+2*stdev,\"k--\")\n",
    "ax.plot(t,c_avg-2*stdev,\"k--\")\n",
    "#ax.plot(t, c_final, \"k-\")\n",
    "\n",
    "ax.set_xbound(t[0],t[-1])\n",
    "\n",
    "pyplot.show(fig)"
   ]
  },
  {
   "cell_type": "code",
   "execution_count": 16,
   "metadata": {
    "collapsed": false
   },
   "outputs": [
    {
     "data": {
      "text/plain": [
       "1959.0"
      ]
     },
     "execution_count": 16,
     "metadata": {},
     "output_type": "execute_result"
    }
   ],
   "source": [
    "max(ts[124,:])"
   ]
  },
  {
   "cell_type": "code",
   "execution_count": 28,
   "metadata": {
    "collapsed": false
   },
   "outputs": [
    {
     "data": {
      "text/plain": [
       "(134,)"
      ]
     },
     "execution_count": 28,
     "metadata": {},
     "output_type": "execute_result"
    }
   ],
   "source": [
    "stdev.shape"
   ]
  },
  {
   "cell_type": "code",
   "execution_count": 79,
   "metadata": {
    "collapsed": false
   },
   "outputs": [],
   "source": [
    "pyplot.plot(t,t_avg-t);pyplot.show()"
   ]
  },
  {
   "cell_type": "markdown",
   "metadata": {},
   "source": [
    "bootstrap 02 v 02"
   ]
  },
  {
   "cell_type": "code",
   "execution_count": 52,
   "metadata": {
    "collapsed": false
   },
   "outputs": [],
   "source": [
    "iterations = 1000\n",
    "ndata = inc.shape[0]\n",
    "l = 50\n",
    "\n",
    "#min/max reasonable times\n",
    "min_t = t[0]-3*terr[0]; max_t = t[-1]+3*terr[-1]\n",
    "k=numpy.array((min_t,min_t,min_t, *tuple(numpy.linspace(min_t,max_t,60)),max_t,max_t,max_t))\n",
    "\n",
    "##debug\n",
    "#tfine=numpy.linspace(min_t,max_t,2000)\n",
    "#cshd=numpy.zeros((iterations,len(tfine)))\n",
    "\n",
    "##\n",
    "cs = numpy.zeros((iterations, ndata))\n",
    "ts = cs.copy()\n",
    "\n",
    "err_temp = err\n",
    "terr_temp = terr\n",
    "\n",
    "s0, base = bspline.solve(t, inc, k, l, spline_class=\"deboor\", return_base=True)\n",
    "cs[0, :] = (base * s0).sum(axis=1)\n",
    "ts[0, :] = t.copy()\n",
    "\n",
    "\n",
    "for i in range(1,iterations):\n",
    "    \n",
    "    #c_rand = numpy.random.randn(ndata)*err+cs[0,:] #what???\n",
    "    c_rand = numpy.random.randn(ndata)*err+inc\n",
    "    #ts[i,:] = numpy.random.randn(ndata)*terr+ts[0,:]\n",
    "    ts[i,:] = numpy.clip(numpy.random.randn(ndata)*terr+t,min_t,max_t)\n",
    "    \n",
    "    #min_t = min(ts[i,:]); max_t = max(ts[i,:])\n",
    "    #k=numpy.array((min_t,min_t,min_t, *tuple(numpy.linspace(min_t,max_t,60)),max_t,max_t,max_t))\n",
    "    \n",
    "    s = bspline.solve(ts[i,:], c_rand, k, l, spline_class=\"deboor\", base=base)\n",
    "    \n",
    "    #debug: recalculate spline at tfine\n",
    "    #cshd[i,:] = (bspline.deboor_base(k,tfine,3) * s).sum(axis=1)\n",
    "    \n",
    "    cs[i,:] = (base * s).sum(axis=1)\n",
    "\n",
    "    \n",
    "t_avg = ts.sum(axis=0)/iterations\n",
    "c_avg = cs.sum(axis=0)/iterations\n",
    "\n",
    "stdev = numpy.sqrt(((cs-c_avg)**2).sum(axis=0)/iterations)"
   ]
  },
  {
   "cell_type": "code",
   "execution_count": 202,
   "metadata": {
    "collapsed": true
   },
   "outputs": [],
   "source": [
    "min_t = t[0]-150; max_t = t[-1]+150\n",
    "#min_t = t[0]; max_t = t[-1]\n",
    "k=numpy.array((min_t,min_t,min_t, *tuple(numpy.arange(min_t,max_t,50)),max_t,max_t,max_t)) #what the honk\n",
    "tfine = numpy.linspace(k[0],k[-1],2000)\n",
    "iterations=3000"
   ]
  },
  {
   "cell_type": "code",
   "execution_count": 205,
   "metadata": {
    "collapsed": false,
    "scrolled": true
   },
   "outputs": [],
   "source": [
    "c_slow, stdev_slow = bspline.bootstrap_fit(t,inc,terr,err,tfine,knot_points=k, iterations=iterations)"
   ]
  },
  {
   "cell_type": "code",
   "execution_count": 214,
   "metadata": {
    "collapsed": false,
    "scrolled": true
   },
   "outputs": [],
   "source": [
    "c_fast, stdev_fast, cs = bspline.bootstrap_fast(t,inc,terr,err,tfine,\n",
    "                                            knot_points=k, iterations=iterations,\n",
    "                                            randomness=(\"normal\",\"normal\"), return_all=True)\n",
    "c_fast_u, stdev_fast_u = bspline.bootstrap_fast(t,inc,terr,err,tfine,\n",
    "                                            knot_points=k, iterations=iterations,\n",
    "                                            randomness=(\"uniform\",\"normal\"))"
   ]
  },
  {
   "cell_type": "code",
   "execution_count": 209,
   "metadata": {
    "collapsed": false
   },
   "outputs": [],
   "source": [
    "t_zeros, c_zeros, err_zeros, terr_zeros = t[terr == 0], inc[terr == 0], err[terr == 0], terr[terr == 0]\n",
    "\n",
    "fig, ax = pyplot.subplots()\n",
    "\n",
    "ax.plot(tfine,c_fast, \"r-\",\n",
    "        tfine,c_fast+2*stdev_fast, \"r--\",\n",
    "        tfine,c_fast-2*stdev_fast, \"r--\")\n",
    "ax.plot(tfine,c_fast_u, \"m-\",\n",
    "        tfine,c_fast_u+2*stdev_fast_u, \"m--\",\n",
    "        tfine,c_fast_u-2*stdev_fast_u, \"m--\")\n",
    "ax.plot(tfine,c_slow, \"k-\",\n",
    "        tfine,c_slow+2*stdev_slow, \"k--\",\n",
    "        tfine,c_slow-2*stdev_slow, \"k--\")\n",
    "for kp in k:\n",
    "    ax.plot((kp,kp), (75,35), \"g--\", linewidth=0.25)\n",
    "ax.errorbar(t,inc,err,terr, ls=\" \", color=\"#00C0BA\", marker=\"s\",\n",
    "               markeredgewidth=0,elinewidth=0.4, ecolor=\"#707070\")\n",
    "ax.errorbar(t_zeros, c_zeros, err_zeros, terr_zeros,\n",
    "            marker=\"s\", markeredgewidth=0, markersize=5, color=\"#00504A\", ls=\" \", ecolor=\"#00504A\")\n",
    "\n",
    "ax.set_xbound(tfine[0], tfine[-1])\n",
    "ax.set_ybound(40,70)\n",
    "pyplot.show(fig)"
   ]
  },
  {
   "cell_type": "code",
   "execution_count": null,
   "metadata": {
    "collapsed": true
   },
   "outputs": [],
   "source": []
  },
  {
   "cell_type": "code",
   "execution_count": 213,
   "metadata": {
    "collapsed": false
   },
   "outputs": [],
   "source": [
    "fig, ax = pyplot.subplots()\n",
    "\n",
    "for i in range(iterations):\n",
    "    ax.plot(tfine,cs[i,:], color=\"#00C0B8\", ls=\"-\", linewidth=0.05)\n",
    "\n",
    "ax.plot(tfine, cs[0, :], \"m-\")\n",
    "ax.plot(t, inc, color=\"k\", marker=\"o\", markersize=2, ls=\" \")\n",
    "ax.plot(tfine, c_fast, \"k-\")\n",
    "\n",
    "ax.plot(tfine,c_fast+2*stdev_fast,\"k--\")\n",
    "ax.plot(tfine,c_fast-2*stdev_fast,\"k--\")\n",
    "#ax.plot(t, c_final, \"k-\")\n",
    "\n",
    "ax.set_xbound(t[0],t[-1])\n",
    "\n",
    "pyplot.show(fig)"
   ]
  },
  {
   "cell_type": "code",
   "execution_count": null,
   "metadata": {
    "collapsed": true
   },
   "outputs": [],
   "source": []
  }
 ],
 "metadata": {
  "kernelspec": {
   "display_name": "Python 3",
   "language": "python",
   "name": "python3"
  },
  "language_info": {
   "codemirror_mode": {
    "name": "ipython",
    "version": 3
   },
   "file_extension": ".py",
   "mimetype": "text/x-python",
   "name": "python",
   "nbconvert_exporter": "python",
   "pygments_lexer": "ipython3",
   "version": "3.5.1"
  }
 },
 "nbformat": 4,
 "nbformat_minor": 0
}
