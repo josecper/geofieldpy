{
 "cells": [
  {
   "cell_type": "code",
   "execution_count": 1,
   "metadata": {
    "collapsed": false
   },
   "outputs": [],
   "source": [
    "import numpy, bspline\n",
    "from matplotlib import pyplot, colors, rcParams"
   ]
  },
  {
   "cell_type": "code",
   "execution_count": null,
   "metadata": {
    "collapsed": false
   },
   "outputs": [],
   "source": [
    "import importlib; importlib.reload(bspline)"
   ]
  },
  {
   "cell_type": "code",
   "execution_count": 2,
   "metadata": {
    "collapsed": false
   },
   "outputs": [],
   "source": [
    "data=numpy.fromfile(\"../data/inclination_database_iberia.dat\", sep=\" \")"
   ]
  },
  {
   "cell_type": "code",
   "execution_count": 23,
   "metadata": {
    "collapsed": false
   },
   "outputs": [],
   "source": [
    "t=data[0::4]; inc=data[2::4]; k=numpy.arange(t[0],t[-1],100); err=data[3::4]; terr=data[1::4]"
   ]
  },
  {
   "cell_type": "code",
   "execution_count": null,
   "metadata": {
    "collapsed": false
   },
   "outputs": [],
   "source": [
    "spl=bspline.solve(t,inc,k,l=10)"
   ]
  },
  {
   "cell_type": "code",
   "execution_count": null,
   "metadata": {
    "collapsed": false
   },
   "outputs": [],
   "source": [
    "tfine=numpy.linspace(t[0],t[-1],2000); y=bspline.spline_rep(tfine,spl,k)"
   ]
  },
  {
   "cell_type": "code",
   "execution_count": null,
   "metadata": {
    "collapsed": false
   },
   "outputs": [],
   "source": [
    "pyplot.plot(tfine,y,\"g\",t,inc,\"ko\")\n",
    "pyplot.xlabel(\"Years AD\")\n",
    "pyplot.ylabel(\"Inclination (°)\")\n",
    "pyplot.show()"
   ]
  },
  {
   "cell_type": "code",
   "execution_count": null,
   "metadata": {
    "collapsed": false,
    "scrolled": false
   },
   "outputs": [],
   "source": [
    "t=data[0::4]; inc=data[2::4]; k=numpy.arange(t[0]-50,t[-1]+50,50)\n",
    "ls=[10**i for i in range(-3,5)]\n",
    "nl=len(ls)\n",
    "#ls=[10**0]\n",
    "colors=[(i/nl,0.75,1-i/nl) for i in range(nl)]\n",
    "tfine=numpy.linspace(t[0],t[-1],2000)\n",
    "\n",
    "ys=[]\n",
    "for l in ls:\n",
    "    spl=bspline.solve(t,inc,k,l)\n",
    "    #spl=numpy.ones_like(k)\n",
    "    y=bspline.spline_rep(tfine,spl,k)\n",
    "    ys.append(y)\n",
    "    \n",
    "fig, ax = pyplot.subplots()\n",
    "\n",
    "for y, c, l in zip(ys,colors, ls):\n",
    "    ax.plot(tfine,y,color=c,label=\"L = {0:1.0e}\".format(l))\n",
    "\n",
    "ax.plot(t,inc,\"k+\")\n",
    "ax.set_axis_bgcolor(\"white\")\n",
    "ax.set_xbound(lower=tfine[0],upper=tfine[-1])\n",
    "ax.set_title(\"B-splines iguales (knot points cada 50 años)\")\n",
    "pyplot.legend(loc=\"upper center\", ncol=nl//2, fontsize=\"x-small\")\n",
    "pyplot.xlabel(\"Years AD\")\n",
    "pyplot.ylabel(\"Inclination (°)\")\n",
    "pyplot.show(fig)"
   ]
  },
  {
   "cell_type": "code",
   "execution_count": null,
   "metadata": {
    "collapsed": false
   },
   "outputs": [],
   "source": [
    "spl=numpy.ones_like(k)\n",
    "y=bspline.spline_rep(tfine,spl,k, summing=False)"
   ]
  },
  {
   "cell_type": "code",
   "execution_count": null,
   "metadata": {
    "collapsed": false
   },
   "outputs": [],
   "source": [
    "y.shape"
   ]
  },
  {
   "cell_type": "code",
   "execution_count": null,
   "metadata": {
    "collapsed": false
   },
   "outputs": [],
   "source": [
    "fig, ax = pyplot.subplots()\n",
    "for spline in y.transpose():\n",
    "    ax.plot(tfine,spline)\n",
    "    \n",
    "pyplot.show(fig)"
   ]
  },
  {
   "cell_type": "code",
   "execution_count": null,
   "metadata": {
    "collapsed": false
   },
   "outputs": [],
   "source": [
    "pyplot.pcolormesh(bspline.condition_array(k,t))"
   ]
  },
  {
   "cell_type": "code",
   "execution_count": null,
   "metadata": {
    "collapsed": true
   },
   "outputs": [],
   "source": [
    "pyplot.show()"
   ]
  },
  {
   "cell_type": "code",
   "execution_count": null,
   "metadata": {
    "collapsed": false
   },
   "outputs": [],
   "source": [
    "n=30; (-2*numpy.eye(n)+numpy.eye(n+1)[1:,:-1]+numpy.eye(n+1)[:-1,1:])[:3,:]"
   ]
  },
  {
   "cell_type": "code",
   "execution_count": null,
   "metadata": {
    "collapsed": false
   },
   "outputs": [],
   "source": [
    "d=(numpy.eye(n+2)-2*numpy.eye(n+3)[1:,:-1]+numpy.eye(n+4)[2:,:-2])"
   ]
  },
  {
   "cell_type": "code",
   "execution_count": null,
   "metadata": {
    "collapsed": false
   },
   "outputs": [],
   "source": [
    "d.shape"
   ]
  },
  {
   "cell_type": "code",
   "execution_count": null,
   "metadata": {
    "collapsed": true
   },
   "outputs": [],
   "source": [
    "spl=bspline.solve(t,inc,k,10**3); pyplot.show(spl)"
   ]
  },
  {
   "cell_type": "code",
   "execution_count": null,
   "metadata": {
    "collapsed": false
   },
   "outputs": [],
   "source": [
    "?numpy.diff"
   ]
  },
  {
   "cell_type": "code",
   "execution_count": null,
   "metadata": {
    "collapsed": false
   },
   "outputs": [],
   "source": [
    "pyplot.pcolormesh(numpy.matmul(d.transpose(),d));pyplot.show()"
   ]
  },
  {
   "cell_type": "code",
   "execution_count": null,
   "metadata": {
    "collapsed": true
   },
   "outputs": [],
   "source": [
    "pyplot.pcolormesh(d);pyplot.show()"
   ]
  },
  {
   "cell_type": "code",
   "execution_count": null,
   "metadata": {
    "collapsed": false
   },
   "outputs": [],
   "source": [
    "d.shape"
   ]
  },
  {
   "cell_type": "markdown",
   "metadata": {
    "collapsed": true
   },
   "source": [
    "pruebas"
   ]
  },
  {
   "cell_type": "code",
   "execution_count": null,
   "metadata": {
    "collapsed": false
   },
   "outputs": [],
   "source": [
    "times=numpy.linspace(-10,10,500)\n",
    "x1=numpy.zeros_like(times); x1[times>0]=times[times > 0]**2;\n",
    "x2=numpy.zeros_like(times); x2[times>1]=(times[times > 1]-1)**2;"
   ]
  },
  {
   "cell_type": "code",
   "execution_count": null,
   "metadata": {
    "collapsed": true
   },
   "outputs": [],
   "source": [
    "pyplot.plot(times,x1, times, x2, times, x2-x1); pyplot.show()"
   ]
  },
  {
   "cell_type": "code",
   "execution_count": null,
   "metadata": {
    "collapsed": true
   },
   "outputs": [],
   "source": [
    "k=numpy.array((0,0,0,*tuple(numpy.linspace(0,5,8)),5,5,5))"
   ]
  },
  {
   "cell_type": "code",
   "execution_count": null,
   "metadata": {
    "collapsed": true
   },
   "outputs": [],
   "source": [
    "t=numpy.linspace(0,5,4000)"
   ]
  },
  {
   "cell_type": "code",
   "execution_count": null,
   "metadata": {
    "collapsed": false
   },
   "outputs": [],
   "source": [
    "d=1\n",
    "k2=numpy.concatenate((numpy.repeat(k[0],d+1),k,numpy.repeat(k[-1],d+1)))\n",
    "tgrid, kgrid = numpy.meshgrid(t,k2,indexing=\"ij\")"
   ]
  },
  {
   "cell_type": "code",
   "execution_count": null,
   "metadata": {
    "collapsed": true
   },
   "outputs": [],
   "source": [
    "yy=bspline.deboor_base(t,k,3)"
   ]
  },
  {
   "cell_type": "code",
   "execution_count": null,
   "metadata": {
    "collapsed": false,
    "scrolled": false
   },
   "outputs": [],
   "source": [
    "nsplines=yy.shape[1]\n",
    "cols=[(0.25,i/(nsplines-1),1-i/(nsplines-1)) for i in range(nsplines)]\n",
    "       \n",
    "fig, ax = pyplot.subplots()\n",
    "for spline, color in zip(yy.transpose(),cols):\n",
    "    ax.plot(t[:-1],spline[:-1], color=color)\n",
    "    \n",
    "pyplot.show(fig)"
   ]
  },
  {
   "cell_type": "markdown",
   "metadata": {},
   "source": [
    "splines de *de boor*"
   ]
  },
  {
   "cell_type": "code",
   "execution_count": 43,
   "metadata": {
    "collapsed": true
   },
   "outputs": [],
   "source": [
    "t=data[0::4]; inc=data[2::4]; err=data[3::4]"
   ]
  },
  {
   "cell_type": "code",
   "execution_count": 10,
   "metadata": {
    "collapsed": false
   },
   "outputs": [],
   "source": [
    "min_t = t[0]\n",
    "max_t = t[-1]\n",
    "\n",
    "k=numpy.array((min_t,min_t,min_t, *tuple(numpy.arange(min_t,max_t,50)),max_t,max_t,max_t))\n",
    "\n",
    "#spline_coefs = bspline.solve(t,inc,k, l=1, spline_class=\"deboor\", degree=3)\n",
    "\n",
    "tfine=numpy.linspace(t[0],t[-1],4000)\n",
    "\n",
    "#yy=bspline.deboor_base(k,tfine,3)*spline_coefs\n",
    "\n",
    "fig, ax = pyplot.subplots()\n",
    "\n",
    "#ls=[10**i for i in range(-3,5)]\n",
    "ls=[260]\n",
    "nsplines=len(ls)\n",
    "#cols=colors.hsv_to_rgb([((i/(nsplines-1)) % 1.0,1.0,0.85) for i in range(nsplines)])\n",
    "cols=[(i/nsplines,0.75,1-i/nsplines) for i in range(nsplines)]\n",
    "       \n",
    "#for spline, color in zip(yy.transpose(),cols):\n",
    "#    ax.plot(tfine[:],spline[:], color=\"r\", ls=\":\")\n",
    "\n",
    "for l, col in zip(ls,cols):\n",
    "    spl=bspline.solve(t,inc,k,l, spline_class=\"deboor\", degree=3)\n",
    "    #spl=numpy.ones_like(k)\n",
    "    y=(bspline.deboor_base(k,tfine,3)*spl).sum(axis=1)\n",
    "    ax.plot(tfine, y, color=col, label=\"L = {0:1.0e}\".format(l))\n",
    "\n",
    "#ax.plot(tfine[:], yy[:,-4])\n",
    "    \n",
    "#ax.plot(tfine[:],yy.sum(axis=1)[:], \"k\")\n",
    "ax.plot(t,inc,\"k+\")\n",
    "ax.set_xbound(lower=tfine[0],upper=tfine[-1])\n",
    "\n",
    "ax.set_xlabel(\"Years AD\")\n",
    "ax.set_ylabel(\"Inclination (°)\")\n",
    "ax.set_title(\"B-splines de Cox-De Boor (knot points cada 50 años)\")\n",
    "\n",
    "pyplot.legend(loc=\"upper center\", ncol=nsplines//2, fontsize=\"x-small\")\n",
    "\n",
    "pyplot.show(fig)"
   ]
  },
  {
   "cell_type": "markdown",
   "metadata": {},
   "source": [
    "yes good"
   ]
  },
  {
   "cell_type": "code",
   "execution_count": null,
   "metadata": {
    "collapsed": false
   },
   "outputs": [],
   "source": [
    "import numpy.random\n",
    "t=numpy.sort(2900*numpy.random.rand(10000)-1000); inc=2*numpy.random.randn(t.shape[0])+40"
   ]
  },
  {
   "cell_type": "code",
   "execution_count": null,
   "metadata": {
    "collapsed": true
   },
   "outputs": [],
   "source": [
    "spline_coefs, base=bspline.solve(t,inc,k,1, spline_class=\"deboor\", degree=3, return_base=True)"
   ]
  },
  {
   "cell_type": "code",
   "execution_count": null,
   "metadata": {
    "collapsed": false
   },
   "outputs": [],
   "source": [
    "base"
   ]
  },
  {
   "cell_type": "code",
   "execution_count": null,
   "metadata": {
    "collapsed": false
   },
   "outputs": [],
   "source": [
    "pyplot.plot(t,(base*spline_coefs).sum(axis=1)); pyplot.show()"
   ]
  },
  {
   "cell_type": "code",
   "execution_count": 12,
   "metadata": {
    "collapsed": false
   },
   "outputs": [],
   "source": [
    "ls = numpy.logspace(-10,10,2000)\n",
    "rms = numpy.zeros_like(ls)\n",
    "nrms = rms.copy()\n",
    "ndata = inc.shape[0]\n",
    "\n",
    "min_t = t[0]; max_t = t[-1]\n",
    "k=numpy.array((min_t,min_t,min_t, *tuple(numpy.arange(min_t,max_t,50)),max_t,max_t,max_t))\n",
    "\n",
    "base = bspline.deboor_base(k,t,3)\n",
    "\n",
    "for i, l in enumerate(ls):\n",
    "    spline_coefs = bspline.solve(t, inc, k, l, spline_class=\"deboor\", base=base)\n",
    "    model = (base * spline_coefs).sum(axis=1)\n",
    "    \n",
    "    rms[i] = numpy.sqrt(((model-inc)**2).sum()/ndata)\n",
    "    nrms[i] = numpy.sqrt((((model-inc)/err)**2).sum()/ndata)\n",
    "    \n",
    "    "
   ]
  },
  {
   "cell_type": "code",
   "execution_count": 14,
   "metadata": {
    "collapsed": false
   },
   "outputs": [],
   "source": [
    "fig, ax = pyplot.subplots()\n",
    "\n",
    "ax.semilogx(ls[:-1], numpy.diff(nrms,n=1)*600, \"k--\", label=\"d(nRMS)/dl\")\n",
    "ax.semilogx(ls, nrms, \"k\", label=\"nRMS\")\n",
    "ax.semilogx(ls[:-1], numpy.diff(rms,n=1)*600, \"r--\", label=\"d(RMS)/dl\")\n",
    "ax.semilogx(ls, rms, \"r\", label=\"RMS\")\n",
    "ax.semilogx([260.74,260.74],[7,-2], \"g:\")\n",
    "\n",
    "pyplot.legend(loc=\"upper left\" ,fontsize=\"small\")\n",
    "pyplot.show(fig)"
   ]
  },
  {
   "cell_type": "code",
   "execution_count": 16,
   "metadata": {
    "collapsed": true
   },
   "outputs": [],
   "source": [
    "nrms_trend=numpy.diff(nrms, n=1)"
   ]
  },
  {
   "cell_type": "code",
   "execution_count": 126,
   "metadata": {
    "collapsed": false
   },
   "outputs": [],
   "source": [
    "l_optimal=ls[:-1][nrms_trend == max(nrms_trend)]"
   ]
  },
  {
   "cell_type": "markdown",
   "metadata": {},
   "source": [
    "*le boot stra pp pp pp p *"
   ]
  },
  {
   "cell_type": "code",
   "execution_count": 148,
   "metadata": {
    "collapsed": false
   },
   "outputs": [],
   "source": [
    "iterations = 1000\n",
    "ndata = inc.shape[0]\n",
    "l = 100\n",
    "min_t = t[0]; max_t = t[-1]\n",
    "k=numpy.array((min_t,min_t,min_t, *tuple(numpy.arange(min_t,max_t,50)),max_t,max_t,max_t))\n",
    "\n",
    "cs = numpy.zeros((iterations, ndata))\n",
    "ts = cs.copy()\n",
    "\n",
    "err_temp = err\n",
    "terr_temp = terr\n",
    "\n",
    "s0, base = bspline.solve(t, inc, k, l, spline_class=\"deboor\", return_base=True)\n",
    "cs[0, :] = (base * s0).sum(axis=1)\n",
    "ts[0, :] = t.copy()\n",
    "\n",
    "for i in range(1,iterations):\n",
    "    \n",
    "    c_rand = numpy.random.randn(ndata)*err+cs[i-1,:]\n",
    "    #c_rand = numpy.random.randn(ndata)*err+cs[0,:]\n",
    "    ts[i,:] = numpy.random.randn(ndata)*terr+ts[i-1,:]\n",
    "    #ts[i,:] = numpy.random.randn(ndata)*terr+ts[0,:]\n",
    "    \n",
    "    s = bspline.solve(ts[i,:], c_rand, k, l, spline_class=\"deboor\")\n",
    "    cs[i,:] = (base * s).sum(axis=1)\n",
    "    #cs[i,:] = c_rand"
   ]
  },
  {
   "cell_type": "code",
   "execution_count": 149,
   "metadata": {
    "collapsed": false
   },
   "outputs": [],
   "source": [
    "fig, ax = pyplot.subplots()\n",
    "\n",
    "for i in range(iterations):\n",
    "    ax.plot(ts[i,:],cs[i,:], \"m+\")\n",
    "\n",
    "ax.plot(ts[0, :], cs[0, :], \"k-\")\n",
    "ax.plot()\n",
    "ax.plot(t,inc, \"ko\")\n",
    "    \n",
    "pyplot.show(fig)"
   ]
  },
  {
   "cell_type": "markdown",
   "metadata": {},
   "source": [
    "test"
   ]
  },
  {
   "cell_type": "code",
   "execution_count": 145,
   "metadata": {
    "collapsed": false
   },
   "outputs": [],
   "source": [
    "c = numpy.zeros(iterations)"
   ]
  },
  {
   "cell_type": "code",
   "execution_count": 146,
   "metadata": {
    "collapsed": false
   },
   "outputs": [],
   "source": [
    "for i in range(1,iterations):\n",
    "    c[i]=c[i-1]+numpy.random.randn(1)"
   ]
  },
  {
   "cell_type": "code",
   "execution_count": 147,
   "metadata": {
    "collapsed": false
   },
   "outputs": [],
   "source": [
    "pyplot.plot(c);pyplot.show()"
   ]
  },
  {
   "cell_type": "markdown",
   "metadata": {},
   "source": [
    "bootstrap 02"
   ]
  },
  {
   "cell_type": "code",
   "execution_count": 170,
   "metadata": {
    "collapsed": false
   },
   "outputs": [],
   "source": [
    "iterations = 1000\n",
    "ndata = inc.shape[0]\n",
    "l = 270\n",
    "min_t = t[0]; max_t = t[-1]\n",
    "k=numpy.array((min_t,min_t,min_t, *tuple(numpy.arange(min_t,max_t,50)),max_t,max_t,max_t))\n",
    "\n",
    "cs = numpy.zeros((iterations, ndata))\n",
    "ts = cs.copy()\n",
    "\n",
    "err_temp = err\n",
    "terr_temp = terr\n",
    "\n",
    "s0, base = bspline.solve(t, inc, k, l, spline_class=\"deboor\", return_base=True)\n",
    "cs[0, :] = (base * s0).sum(axis=1)\n",
    "ts[0, :] = t.copy()\n",
    "\n",
    "for i in range(1,iterations):\n",
    "    \n",
    "    c_rand = numpy.random.randn(ndata)*err+cs[0,:]\n",
    "    ts[i,:] = numpy.random.randn(ndata)*terr+ts[0,:]\n",
    "    \n",
    "    s = bspline.solve(ts[i,:], c_rand, k, l, spline_class=\"deboor\")\n",
    "    cs[i,:] = (base * s).sum(axis=1)\n",
    "    \n",
    "t_avg = ts.sum(axis=0)/iterations\n",
    "c_avg = cs.sum(axis=0)/iterations\n",
    "#time?\n",
    "#stdev = numpy.sqrt(((cs-c_avg)**2).sum()/iterations)"
   ]
  },
  {
   "cell_type": "code",
   "execution_count": null,
   "metadata": {
    "collapsed": false
   },
   "outputs": [],
   "source": [
    "fig, ax = pyplot.subplots()\n",
    "\n",
    "for i in range(iterations):\n",
    "    ax.plot(ts[i,:],cs[i,:], \"y+\")\n",
    "\n",
    "ax.plot(ts[0, :], cs[0, :], \"m-\")\n",
    "ax.plot()\n",
    "ax.plot(t,inc, \"kx\")\n",
    "ax.plot(t_avg,c_avg, \"k-\")\n",
    "ax.plot(t_avg,c_avg+stdev,\"k--\")\n",
    "ax.plot(t_avg,c_avg-stdev,\"k--\")\n",
    "\n",
    "    \n",
    "pyplot.show(fig)"
   ]
  },
  {
   "cell_type": "code",
   "execution_count": null,
   "metadata": {
    "collapsed": true
   },
   "outputs": [],
   "source": []
  }
 ],
 "metadata": {
  "kernelspec": {
   "display_name": "Python 3",
   "language": "python",
   "name": "python3"
  },
  "language_info": {
   "codemirror_mode": {
    "name": "ipython",
    "version": 3
   },
   "file_extension": ".py",
   "mimetype": "text/x-python",
   "name": "python",
   "nbconvert_exporter": "python",
   "pygments_lexer": "ipython3",
   "version": "3.5.1"
  }
 },
 "nbformat": 4,
 "nbformat_minor": 0
}
